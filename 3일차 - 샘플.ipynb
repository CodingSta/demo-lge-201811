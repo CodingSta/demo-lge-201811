{
 "cells": [
  {
   "cell_type": "code",
   "execution_count": 1,
   "metadata": {},
   "outputs": [],
   "source": [
    "%matplotlib inline\n",
    "from matplotlib import rc\n",
    "from matplotlib import pyplot as plt\n",
    "plt.rcParams['axes.unicode_minus'] = False\n",
    "\n",
    "rc('font', family='Malgun Gothic')  # Windows 일 경우\n",
    "# rc('font', family='AppleGothic')  # Mac 일 경우\n",
    "\n",
    "import numpy as np\n",
    "import pandas as pd"
   ]
  },
  {
   "cell_type": "code",
   "execution_count": null,
   "metadata": {},
   "outputs": [],
   "source": []
  },
  {
   "cell_type": "markdown",
   "metadata": {},
   "source": [
    "## 1/01_bigdata_python_for_student.ipynb"
   ]
  },
  {
   "cell_type": "markdown",
   "metadata": {},
   "source": [
    "실습: Naver 쇼핑 크롤러 (Crawler)\n",
    "\n",
    "+ https://shopping.naver.com/ 에서 인기있는 세탁기 모델 찾기"
   ]
  },
  {
   "cell_type": "code",
   "execution_count": null,
   "metadata": {},
   "outputs": [],
   "source": []
  },
  {
   "cell_type": "markdown",
   "metadata": {},
   "source": [
    "## 1/02_python_basic_for_student.ipynb"
   ]
  },
  {
   "cell_type": "markdown",
   "metadata": {},
   "source": [
    "### 주식 데이터"
   ]
  },
  {
   "cell_type": "code",
   "execution_count": 2,
   "metadata": {},
   "outputs": [
    {
     "name": "stdout",
     "output_type": "stream",
     "text": [
      "(152, 6)\n"
     ]
    },
    {
     "data": {
      "text/html": [
       "<div>\n",
       "<style scoped>\n",
       "    .dataframe tbody tr th:only-of-type {\n",
       "        vertical-align: middle;\n",
       "    }\n",
       "\n",
       "    .dataframe tbody tr th {\n",
       "        vertical-align: top;\n",
       "    }\n",
       "\n",
       "    .dataframe thead th {\n",
       "        text-align: right;\n",
       "    }\n",
       "</style>\n",
       "<table border=\"1\" class=\"dataframe\">\n",
       "  <thead>\n",
       "    <tr style=\"text-align: right;\">\n",
       "      <th></th>\n",
       "      <th>High</th>\n",
       "      <th>Low</th>\n",
       "      <th>Open</th>\n",
       "      <th>Close</th>\n",
       "      <th>Volume</th>\n",
       "      <th>Adj Close</th>\n",
       "    </tr>\n",
       "    <tr>\n",
       "      <th>Date</th>\n",
       "      <th></th>\n",
       "      <th></th>\n",
       "      <th></th>\n",
       "      <th></th>\n",
       "      <th></th>\n",
       "      <th></th>\n",
       "    </tr>\n",
       "  </thead>\n",
       "  <tbody>\n",
       "    <tr>\n",
       "      <th>2018-04-02</th>\n",
       "      <td>112500</td>\n",
       "      <td>110000</td>\n",
       "      <td>110000</td>\n",
       "      <td>110500</td>\n",
       "      <td>340315</td>\n",
       "      <td>110500</td>\n",
       "    </tr>\n",
       "    <tr>\n",
       "      <th>2018-04-03</th>\n",
       "      <td>112000</td>\n",
       "      <td>109000</td>\n",
       "      <td>109500</td>\n",
       "      <td>110500</td>\n",
       "      <td>377188</td>\n",
       "      <td>110500</td>\n",
       "    </tr>\n",
       "    <tr>\n",
       "      <th>2018-04-04</th>\n",
       "      <td>111000</td>\n",
       "      <td>104500</td>\n",
       "      <td>110500</td>\n",
       "      <td>104500</td>\n",
       "      <td>909945</td>\n",
       "      <td>104500</td>\n",
       "    </tr>\n",
       "    <tr>\n",
       "      <th>2018-04-05</th>\n",
       "      <td>107500</td>\n",
       "      <td>104500</td>\n",
       "      <td>106000</td>\n",
       "      <td>105000</td>\n",
       "      <td>644490</td>\n",
       "      <td>105000</td>\n",
       "    </tr>\n",
       "    <tr>\n",
       "      <th>2018-04-06</th>\n",
       "      <td>111500</td>\n",
       "      <td>105000</td>\n",
       "      <td>105500</td>\n",
       "      <td>111000</td>\n",
       "      <td>1519548</td>\n",
       "      <td>111000</td>\n",
       "    </tr>\n",
       "  </tbody>\n",
       "</table>\n",
       "</div>"
      ],
      "text/plain": [
       "              High     Low    Open   Close   Volume  Adj Close\n",
       "Date                                                          \n",
       "2018-04-02  112500  110000  110000  110500   340315     110500\n",
       "2018-04-03  112000  109000  109500  110500   377188     110500\n",
       "2018-04-04  111000  104500  110500  104500   909945     104500\n",
       "2018-04-05  107500  104500  106000  105000   644490     105000\n",
       "2018-04-06  111500  105000  105500  111000  1519548     111000"
      ]
     },
     "execution_count": 2,
     "metadata": {},
     "output_type": "execute_result"
    }
   ],
   "source": [
    "import pandas_datareader as pdr\n",
    "\n",
    "lge_df = pdr.get_data_yahoo('066570.KS', '2018-04-01')\n",
    "print(lge_df.shape)\n",
    "lge_df.head()"
   ]
  },
  {
   "cell_type": "code",
   "execution_count": 3,
   "metadata": {},
   "outputs": [
    {
     "data": {
      "text/plain": [
       "Date\n",
       "2018-04-02     340315\n",
       "2018-04-03     377188\n",
       "2018-04-04     909945\n",
       "2018-04-05     644490\n",
       "2018-04-06    1519548\n",
       "Name: Volume, dtype: int64"
      ]
     },
     "execution_count": 3,
     "metadata": {},
     "output_type": "execute_result"
    }
   ],
   "source": [
    "lge_df['Volume'].head()"
   ]
  },
  {
   "cell_type": "code",
   "execution_count": 4,
   "metadata": {},
   "outputs": [
    {
     "data": {
      "text/plain": [
       "Date\n",
       "2018-04-02         NaN\n",
       "2018-04-03     36873.0\n",
       "2018-04-04    532757.0\n",
       "2018-04-05   -265455.0\n",
       "2018-04-06    875058.0\n",
       "Name: Volume, dtype: float64"
      ]
     },
     "execution_count": 4,
     "metadata": {},
     "output_type": "execute_result"
    }
   ],
   "source": [
    "lge_df['Volume'].diff().head()"
   ]
  },
  {
   "cell_type": "code",
   "execution_count": 5,
   "metadata": {},
   "outputs": [
    {
     "data": {
      "text/html": [
       "<div>\n",
       "<style scoped>\n",
       "    .dataframe tbody tr th:only-of-type {\n",
       "        vertical-align: middle;\n",
       "    }\n",
       "\n",
       "    .dataframe tbody tr th {\n",
       "        vertical-align: top;\n",
       "    }\n",
       "\n",
       "    .dataframe thead th {\n",
       "        text-align: right;\n",
       "    }\n",
       "</style>\n",
       "<table border=\"1\" class=\"dataframe\">\n",
       "  <thead>\n",
       "    <tr style=\"text-align: right;\">\n",
       "      <th></th>\n",
       "      <th>High</th>\n",
       "      <th>Low</th>\n",
       "      <th>Open</th>\n",
       "      <th>Close</th>\n",
       "      <th>Volume</th>\n",
       "      <th>Adj Close</th>\n",
       "      <th>Volume_diff</th>\n",
       "      <th>Volume_diff_percent</th>\n",
       "    </tr>\n",
       "    <tr>\n",
       "      <th>Date</th>\n",
       "      <th></th>\n",
       "      <th></th>\n",
       "      <th></th>\n",
       "      <th></th>\n",
       "      <th></th>\n",
       "      <th></th>\n",
       "      <th></th>\n",
       "      <th></th>\n",
       "    </tr>\n",
       "  </thead>\n",
       "  <tbody>\n",
       "    <tr>\n",
       "      <th>2018-04-02</th>\n",
       "      <td>112500</td>\n",
       "      <td>110000</td>\n",
       "      <td>110000</td>\n",
       "      <td>110500</td>\n",
       "      <td>340315</td>\n",
       "      <td>110500</td>\n",
       "      <td>NaN</td>\n",
       "      <td>NaN</td>\n",
       "    </tr>\n",
       "    <tr>\n",
       "      <th>2018-04-03</th>\n",
       "      <td>112000</td>\n",
       "      <td>109000</td>\n",
       "      <td>109500</td>\n",
       "      <td>110500</td>\n",
       "      <td>377188</td>\n",
       "      <td>110500</td>\n",
       "      <td>36873.0</td>\n",
       "      <td>9.775762</td>\n",
       "    </tr>\n",
       "    <tr>\n",
       "      <th>2018-04-04</th>\n",
       "      <td>111000</td>\n",
       "      <td>104500</td>\n",
       "      <td>110500</td>\n",
       "      <td>104500</td>\n",
       "      <td>909945</td>\n",
       "      <td>104500</td>\n",
       "      <td>532757.0</td>\n",
       "      <td>58.548264</td>\n",
       "    </tr>\n",
       "    <tr>\n",
       "      <th>2018-04-05</th>\n",
       "      <td>107500</td>\n",
       "      <td>104500</td>\n",
       "      <td>106000</td>\n",
       "      <td>105000</td>\n",
       "      <td>644490</td>\n",
       "      <td>105000</td>\n",
       "      <td>-265455.0</td>\n",
       "      <td>-41.188382</td>\n",
       "    </tr>\n",
       "    <tr>\n",
       "      <th>2018-04-06</th>\n",
       "      <td>111500</td>\n",
       "      <td>105000</td>\n",
       "      <td>105500</td>\n",
       "      <td>111000</td>\n",
       "      <td>1519548</td>\n",
       "      <td>111000</td>\n",
       "      <td>875058.0</td>\n",
       "      <td>57.586730</td>\n",
       "    </tr>\n",
       "  </tbody>\n",
       "</table>\n",
       "</div>"
      ],
      "text/plain": [
       "              High     Low    Open   Close   Volume  Adj Close  Volume_diff  \\\n",
       "Date                                                                          \n",
       "2018-04-02  112500  110000  110000  110500   340315     110500          NaN   \n",
       "2018-04-03  112000  109000  109500  110500   377188     110500      36873.0   \n",
       "2018-04-04  111000  104500  110500  104500   909945     104500     532757.0   \n",
       "2018-04-05  107500  104500  106000  105000   644490     105000    -265455.0   \n",
       "2018-04-06  111500  105000  105500  111000  1519548     111000     875058.0   \n",
       "\n",
       "            Volume_diff_percent  \n",
       "Date                             \n",
       "2018-04-02                  NaN  \n",
       "2018-04-03             9.775762  \n",
       "2018-04-04            58.548264  \n",
       "2018-04-05           -41.188382  \n",
       "2018-04-06            57.586730  "
      ]
     },
     "execution_count": 5,
     "metadata": {},
     "output_type": "execute_result"
    }
   ],
   "source": [
    "lge_df['Volume_diff'] = lge_df['Volume'].diff()\n",
    "lge_df['Volume_diff_percent'] = 100 * lge_df['Volume_diff'] / lge_df['Volume']\n",
    "lge_df.head()"
   ]
  },
  {
   "cell_type": "code",
   "execution_count": 6,
   "metadata": {},
   "outputs": [
    {
     "data": {
      "text/html": [
       "<div>\n",
       "<style scoped>\n",
       "    .dataframe tbody tr th:only-of-type {\n",
       "        vertical-align: middle;\n",
       "    }\n",
       "\n",
       "    .dataframe tbody tr th {\n",
       "        vertical-align: top;\n",
       "    }\n",
       "\n",
       "    .dataframe thead th {\n",
       "        text-align: right;\n",
       "    }\n",
       "</style>\n",
       "<table border=\"1\" class=\"dataframe\">\n",
       "  <thead>\n",
       "    <tr style=\"text-align: right;\">\n",
       "      <th></th>\n",
       "      <th>High</th>\n",
       "      <th>Low</th>\n",
       "      <th>Open</th>\n",
       "      <th>Close</th>\n",
       "      <th>Volume</th>\n",
       "      <th>Adj Close</th>\n",
       "      <th>Volume_diff</th>\n",
       "      <th>Volume_diff_percent</th>\n",
       "    </tr>\n",
       "    <tr>\n",
       "      <th>Date</th>\n",
       "      <th></th>\n",
       "      <th></th>\n",
       "      <th></th>\n",
       "      <th></th>\n",
       "      <th></th>\n",
       "      <th></th>\n",
       "      <th></th>\n",
       "      <th></th>\n",
       "    </tr>\n",
       "  </thead>\n",
       "  <tbody>\n",
       "    <tr>\n",
       "      <th>2018-11-08</th>\n",
       "      <td>70700</td>\n",
       "      <td>68300</td>\n",
       "      <td>68800</td>\n",
       "      <td>69900</td>\n",
       "      <td>1080894</td>\n",
       "      <td>69900</td>\n",
       "      <td>342024.0</td>\n",
       "      <td>31.64</td>\n",
       "    </tr>\n",
       "    <tr>\n",
       "      <th>2018-11-09</th>\n",
       "      <td>72300</td>\n",
       "      <td>69700</td>\n",
       "      <td>70000</td>\n",
       "      <td>71400</td>\n",
       "      <td>1129981</td>\n",
       "      <td>71400</td>\n",
       "      <td>49087.0</td>\n",
       "      <td>4.34</td>\n",
       "    </tr>\n",
       "    <tr>\n",
       "      <th>2018-11-12</th>\n",
       "      <td>72200</td>\n",
       "      <td>70000</td>\n",
       "      <td>71000</td>\n",
       "      <td>71200</td>\n",
       "      <td>631830</td>\n",
       "      <td>71200</td>\n",
       "      <td>-498151.0</td>\n",
       "      <td>-78.84</td>\n",
       "    </tr>\n",
       "    <tr>\n",
       "      <th>2018-11-13</th>\n",
       "      <td>71400</td>\n",
       "      <td>68800</td>\n",
       "      <td>70200</td>\n",
       "      <td>70200</td>\n",
       "      <td>680494</td>\n",
       "      <td>70200</td>\n",
       "      <td>48664.0</td>\n",
       "      <td>7.15</td>\n",
       "    </tr>\n",
       "    <tr>\n",
       "      <th>2018-11-14</th>\n",
       "      <td>71000</td>\n",
       "      <td>68700</td>\n",
       "      <td>69600</td>\n",
       "      <td>69500</td>\n",
       "      <td>527813</td>\n",
       "      <td>69500</td>\n",
       "      <td>-152681.0</td>\n",
       "      <td>-28.93</td>\n",
       "    </tr>\n",
       "  </tbody>\n",
       "</table>\n",
       "</div>"
      ],
      "text/plain": [
       "             High    Low   Open  Close   Volume  Adj Close  Volume_diff  \\\n",
       "Date                                                                      \n",
       "2018-11-08  70700  68300  68800  69900  1080894      69900     342024.0   \n",
       "2018-11-09  72300  69700  70000  71400  1129981      71400      49087.0   \n",
       "2018-11-12  72200  70000  71000  71200   631830      71200    -498151.0   \n",
       "2018-11-13  71400  68800  70200  70200   680494      70200      48664.0   \n",
       "2018-11-14  71000  68700  69600  69500   527813      69500    -152681.0   \n",
       "\n",
       "            Volume_diff_percent  \n",
       "Date                             \n",
       "2018-11-08                31.64  \n",
       "2018-11-09                 4.34  \n",
       "2018-11-12               -78.84  \n",
       "2018-11-13                 7.15  \n",
       "2018-11-14               -28.93  "
      ]
     },
     "execution_count": 6,
     "metadata": {},
     "output_type": "execute_result"
    }
   ],
   "source": [
    "# 소수점 2자리로 정리\n",
    "lge_df['Volume_diff_percent'] = np.round(lge_df['Volume_diff_percent'], 2)\n",
    "lge_df.tail()"
   ]
  },
  {
   "cell_type": "markdown",
   "metadata": {},
   "source": [
    "<div class=\"alert alert-info\">\n",
    "지금까지 Feature Engineering 작업을 했습니다.\n",
    "    \n",
    "유의미하게 생각되는 데이터를 있는 데이터 안에서 새롭게 만들어내는 방법\n",
    "</div>"
   ]
  },
  {
   "cell_type": "code",
   "execution_count": 7,
   "metadata": {},
   "outputs": [
    {
     "data": {
      "text/html": [
       "<div>\n",
       "<style scoped>\n",
       "    .dataframe tbody tr th:only-of-type {\n",
       "        vertical-align: middle;\n",
       "    }\n",
       "\n",
       "    .dataframe tbody tr th {\n",
       "        vertical-align: top;\n",
       "    }\n",
       "\n",
       "    .dataframe thead th {\n",
       "        text-align: right;\n",
       "    }\n",
       "</style>\n",
       "<table border=\"1\" class=\"dataframe\">\n",
       "  <thead>\n",
       "    <tr style=\"text-align: right;\">\n",
       "      <th></th>\n",
       "      <th>High</th>\n",
       "      <th>Low</th>\n",
       "      <th>Open</th>\n",
       "      <th>Close</th>\n",
       "      <th>Volume</th>\n",
       "      <th>Adj Close</th>\n",
       "      <th>Volume_diff</th>\n",
       "      <th>Volume_diff_percent</th>\n",
       "      <th>Volume_diff_label</th>\n",
       "    </tr>\n",
       "    <tr>\n",
       "      <th>Date</th>\n",
       "      <th></th>\n",
       "      <th></th>\n",
       "      <th></th>\n",
       "      <th></th>\n",
       "      <th></th>\n",
       "      <th></th>\n",
       "      <th></th>\n",
       "      <th></th>\n",
       "      <th></th>\n",
       "    </tr>\n",
       "  </thead>\n",
       "  <tbody>\n",
       "    <tr>\n",
       "      <th>2018-04-02</th>\n",
       "      <td>112500</td>\n",
       "      <td>110000</td>\n",
       "      <td>110000</td>\n",
       "      <td>110500</td>\n",
       "      <td>340315</td>\n",
       "      <td>110500</td>\n",
       "      <td>NaN</td>\n",
       "      <td>NaN</td>\n",
       "      <td></td>\n",
       "    </tr>\n",
       "    <tr>\n",
       "      <th>2018-04-03</th>\n",
       "      <td>112000</td>\n",
       "      <td>109000</td>\n",
       "      <td>109500</td>\n",
       "      <td>110500</td>\n",
       "      <td>377188</td>\n",
       "      <td>110500</td>\n",
       "      <td>36873.0</td>\n",
       "      <td>9.78</td>\n",
       "      <td></td>\n",
       "    </tr>\n",
       "    <tr>\n",
       "      <th>2018-04-04</th>\n",
       "      <td>111000</td>\n",
       "      <td>104500</td>\n",
       "      <td>110500</td>\n",
       "      <td>104500</td>\n",
       "      <td>909945</td>\n",
       "      <td>104500</td>\n",
       "      <td>532757.0</td>\n",
       "      <td>58.55</td>\n",
       "      <td>Over</td>\n",
       "    </tr>\n",
       "    <tr>\n",
       "      <th>2018-04-05</th>\n",
       "      <td>107500</td>\n",
       "      <td>104500</td>\n",
       "      <td>106000</td>\n",
       "      <td>105000</td>\n",
       "      <td>644490</td>\n",
       "      <td>105000</td>\n",
       "      <td>-265455.0</td>\n",
       "      <td>-41.19</td>\n",
       "      <td></td>\n",
       "    </tr>\n",
       "    <tr>\n",
       "      <th>2018-04-06</th>\n",
       "      <td>111500</td>\n",
       "      <td>105000</td>\n",
       "      <td>105500</td>\n",
       "      <td>111000</td>\n",
       "      <td>1519548</td>\n",
       "      <td>111000</td>\n",
       "      <td>875058.0</td>\n",
       "      <td>57.59</td>\n",
       "      <td>Over</td>\n",
       "    </tr>\n",
       "  </tbody>\n",
       "</table>\n",
       "</div>"
      ],
      "text/plain": [
       "              High     Low    Open   Close   Volume  Adj Close  Volume_diff  \\\n",
       "Date                                                                          \n",
       "2018-04-02  112500  110000  110000  110500   340315     110500          NaN   \n",
       "2018-04-03  112000  109000  109500  110500   377188     110500      36873.0   \n",
       "2018-04-04  111000  104500  110500  104500   909945     104500     532757.0   \n",
       "2018-04-05  107500  104500  106000  105000   644490     105000    -265455.0   \n",
       "2018-04-06  111500  105000  105500  111000  1519548     111000     875058.0   \n",
       "\n",
       "            Volume_diff_percent Volume_diff_label  \n",
       "Date                                               \n",
       "2018-04-02                  NaN                    \n",
       "2018-04-03                 9.78                    \n",
       "2018-04-04                58.55              Over  \n",
       "2018-04-05               -41.19                    \n",
       "2018-04-06                57.59              Over  "
      ]
     },
     "execution_count": 7,
     "metadata": {},
     "output_type": "execute_result"
    }
   ],
   "source": [
    "def to_label(percent):\n",
    "    if percent >= 40:\n",
    "        return 'Over'\n",
    "    return ''\n",
    "\n",
    "lge_df['Volume_diff_label'] = lge_df['Volume_diff_percent'].apply(to_label)\n",
    "lge_df.head()"
   ]
  },
  {
   "cell_type": "code",
   "execution_count": 8,
   "metadata": {},
   "outputs": [
    {
     "data": {
      "text/plain": [
       "<matplotlib.axes._subplots.AxesSubplot at 0x11ba3d7b8>"
      ]
     },
     "execution_count": 8,
     "metadata": {},
     "output_type": "execute_result"
    },
    {
     "data": {
      "image/png": "[encoded data removed]",
      "text/plain": [
       "<Figure size 432x288 with 1 Axes>"
      ]
     },
     "metadata": {
      "needs_background": "light"
     },
     "output_type": "display_data"
    }
   ],
   "source": [
    "lge_df['Adj Close'].plot()"
   ]
  },
  {
   "cell_type": "code",
   "execution_count": 9,
   "metadata": {},
   "outputs": [
    {
     "data": {
      "text/plain": [
       "<matplotlib.axes._subplots.AxesSubplot at 0x11afc1358>"
      ]
     },
     "execution_count": 9,
     "metadata": {},
     "output_type": "execute_result"
    },
    {
     "data": {
      "image/png": "[encoded data removed]",
      "text/plain": [
       "<Figure size 720x360 with 1 Axes>"
      ]
     },
     "metadata": {
      "needs_background": "light"
     },
     "output_type": "display_data"
    }
   ],
   "source": [
    "lge_df['Adj Close'].plot(title='LG 전자, Adj Close 트렌드', figsize=(10, 5))"
   ]
  },
  {
   "cell_type": "markdown",
   "metadata": {},
   "source": [
    "### 공공 데이터"
   ]
  },
  {
   "cell_type": "markdown",
   "metadata": {},
   "source": [
    "[공공데이터 포털](https://www.data.go.kr)내 [대기오염정보 조회 서비스](https://www.data.go.kr/dataset/15000581/openapi.do?mypageFlag=Y) 중에서\n",
    "\n",
    "+ No 4. 대기질 예보통보 조회 : 통보코드와 통보시간으로 예보정보와 발생 원인 정보를 조회하는 대기질(미세먼지/오존) 예보통보 조회\n",
    "    - numOfRows : 한 페이지 결과 수 (조회 날짜로 검색 시 사용 안함)\n",
    "    - pageNo : 페이지 번호(조회 날짜로 검색 시 사용 안함)\n",
    "    - searchDate : 통보시간 검색 (조회 날짜 입력 없을 경우 한달동안 예보통보 발령 날짜의 리스트 정보를 확인)\n",
    "    - InformCode : 통보코드검색 (PM10 : 미세먼지 PM25 : 초미세먼지 O3 : 오존)"
   ]
  },
  {
   "cell_type": "code",
   "execution_count": 10,
   "metadata": {},
   "outputs": [],
   "source": [
    "import datetime\n",
    "import requests\n",
    "from urllib.parse import unquote"
   ]
  },
  {
   "cell_type": "code",
   "execution_count": 11,
   "metadata": {},
   "outputs": [],
   "source": [
    "# 위 API 페이지에서 신청 가능 => 발급 후, 1시간 후에 사용 가능\n",
    "\n",
    "# 아래는 강사의 인증키 => base64 인코딩의 문자열인데, 모양이 ???\n",
    "인증키 = \"19Vd8w1VF6MhraamtQDCGukzgHbTbDksZvFa3yYHrfdvdsmlCZ9TnKwG9DkHkLabLTxYBw3vgymDd4MR7bg9%2Bg%3D%3D\""
   ]
  },
  {
   "cell_type": "code",
   "execution_count": 12,
   "metadata": {},
   "outputs": [
    {
     "data": {
      "text/plain": [
       "'19Vd8w1VF6MhraamtQDCGukzgHbTbDksZvFa3yYHrfdvdsmlCZ9TnKwG9DkHkLabLTxYBw3vgymDd4MR7bg9+g=='"
      ]
     },
     "execution_count": 12,
     "metadata": {},
     "output_type": "execute_result"
    }
   ],
   "source": [
    "인증키 = unquote(인증키)\n",
    "인증키"
   ]
  },
  {
   "cell_type": "code",
   "execution_count": 13,
   "metadata": {},
   "outputs": [],
   "source": [
    "api_endpoint = 'http://openapi.airkorea.or.kr/openapi/services/rest/ArpltnInforInqireSvc/getMinuDustFrcstDspth'\n",
    "\n",
    "# today = datetime.datetime.now().strftime('%Y-%m-%d')\n",
    "today = '2018-11-14',\n",
    "\n",
    "params = {\n",
    "    'searchDate': today,\n",
    "    'ServiceKey': 인증키,\n",
    "    '_returnType': 'json',\n",
    "}"
   ]
  },
  {
   "cell_type": "code",
   "execution_count": 14,
   "metadata": {},
   "outputs": [
    {
     "data": {
      "text/plain": [
       "'{\"MinuDustFrcstDspthVo\":{\"_returnType\":\"json\",\"actionKnack\":\"\",\"dataTime\":\"\",\"f_data_time\":\"\",\"f_data_time1\":\"\",\"f_data_time2\":\"\",\"f_data_time3\":\"\",\"f_inform_data\":\"\",\"imageUrl1\":\"\",\"imageUrl2\":\"\",\"imageUrl3\":\"\",\"imageUrl4\":\"\",\"imageUrl5\":\"\",\"imageUrl6\":\"\",\"imageUrl7\":\"\",\"imageUrl8\":\"\",\"imageUrl9\":\"\",\"informCause\":\"\",\"informCode\":\"\",\"informData\":\"\",\"informGrade\":\"\",\"informOverall\":\"\",\"numOfRows\":\"10\",\"pageNo\":\"1\",\"resultCode\":\"\",\"resultMsg\":\"\",\"searchDate\":\"2018-11-14\",\"serviceKey\":\"19Vd8w1VF6MhraamtQDCGukzgHbTbDksZvFa3yYHrfdvdsmlCZ9TnKwG9DkHkLabLTxYBw3vgymDd4MR7bg9+g==\",\"totalCount\":\"\",\"ver\":\"\"},\"list\":[{\"_returnType\":\"json\",\"actionKnack\":\"\",\"dataTime\":\"2018-11-14 23시 발표\",\"f_data_time\":\"2018111423\",\"f_data_time1\":\"20181114\",\"f_data_time2\":\"20181115\",\"f_data_time3\":\"20181116\",\"f_inform_data\":\"20181114\",\"imageUrl1\":\"http://www.airkorea.or.kr/file/viewImage/?atch_id=99557\",\"imageUrl2\":\"http://www.airkorea.or.kr/file/viewImage/?atch_id=99558\",\"imageUrl3\":\"http://www.airkorea.or.kr/file/viewImage/?atch_id=99559\",\"imageUrl4\":\"http://www.airkorea.or.kr/file/viewImage/?atch_id=99560\",\"imageUrl5\":\"http://www.airkorea.or.kr/file/viewImage/?atch_id=99561\",\"imageUrl6\":\"http://www.airkorea.or.kr/file/viewImage/?atch_id=99562\",\"imageUrl7\":\"http://www.airkorea.or.kr/file/viewImage/?atch_id=99553\",\"imageUrl8\":\"http://www.airkorea.or.kr/file/viewImage/?atch_id=\",\"imageUrl9\":\"http://www.airkorea.or.kr/file/viewImage/?atch_id=\",\"informCause\":\"○ [미세먼지] 대부분 \\'보통\\' 수준이겠으나, 일부 서쪽 지역은 대기 정체로 국내 생성 미세먼지가 축적되어 농도가 높을 것으로 예상됨.\",\"informCode\":\"PM10\",\"informData\":\"2018-11-14\",\"informGrade\":\"서울 : 보통,제주 : 좋음,전남 : 보통,전북 : 보통,광주 : 보통,경남 : 좋음,경북 : 좋음,울산 : 좋음,대구 : 좋음,부산 : 좋음,충남 : 보통,충북 : 보통,세종 : 보통,대전 : 보통,영동 : 좋음,영서 : 보통,경기남부 : 보통,경기북부 : 보통,인천 : 보통\",\"informOverall\":\"○ [미세먼지] 광주·전북은 \\'나쁨\\', 그 밖의 권역은 \\'좋음\\'∼\\'보통\\'으로 예상됨.\",\"numOfRows\":\"10\",\"pageNo\":\"1\",\"resultCode\":\"\",\"resultMsg\":\"\",\"searchDate\":\"\",\"serviceKey\":\"\",\"totalCount\":\"\",\"ver\":\"\"},{\"_returnType\":\"json\",\"actionKnack\":\"\",\"dataTime\":\"2018-11-14 23시 발표\",\"f_data_time\":\"2018111423\",\"f_data_time1\":\"20181114\",\"f_data_time2\":\"20181115\",\"f_data_time3\":\"20181116\",\"f_inform_data\":\"20181115\",\"imageUrl1\":\"http://www.airkorea.or.kr/file/viewImage/?atch_id=99557\",\"imageUrl2\":\"http://www.airkorea.or.kr/file/viewImage/?atch_id=99558\",\"imageUrl3\":\"http://www.airkorea.or.kr/file/viewImage/?atch_id=99559\",\"imageUrl4\":\"http://www.airkorea.or.kr/file/viewImage/?atch_id=99560\",\"imageUrl5\":\"http://www.airkorea.or.kr/file/viewImage/?atch_id=99561\",\"imageUrl6\":\"http://www.airkorea.or.kr/file/viewImage/?atch_id=99562\",\"imageUrl7\":\"http://www.airkorea.or.kr/file/viewImage/?atch_id=99553\",\"imageUrl8\":\"http://www.airkorea.or.kr/file/viewImage/?atch_id=\",\"imageUrl9\":\"http://www.airkorea.or.kr/file/viewImage/?atch_id=\",\"informCause\":\"○ [미세먼지] 대부분 \\'보통\\' 수준이겠으나, 서쪽지역은 대기 정체로 국내 생성 미세먼지가 축적되어 농도가 높을 것으로 예상됨.\",\"informCode\":\"PM10\",\"informData\":\"2018-11-15\",\"informGrade\":\"서울 : 보통,제주 : 좋음,전남 : 보통,전북 : 보통,광주 : 보통,경남 : 보통,경북 : 보통,울산 : 보통,대구 : 보통,부산 : 보통,충남 : 보통,충북 : 보통,세종 : 보통,대전 : 보통,영동 : 좋음,영서 : 보통,경기남부 : 보통,경기북부 : 보통,인천 : 보통\",\"informOverall\":\"○ [미세먼지] 수도권·충남·광주·전북은 \\'나쁨\\', 그 밖의 권역은 \\'좋음\\'∼\\'보통\\'으로 예상됨.\",\"numOfRows\":\"10\",\"pageNo\":\"1\",\"resultCode\":\"\",\"resultMsg\":\"\",\"searchDate\":\"\",\"serviceKey\":\"\",\"totalCount\":\"\",\"ver\":\"\"},{\"_returnType\":\"json\",\"actionKnack\":\"\",\"dataTime\":\"2018-11-14 23시 발표\",\"f_data_time\":\"2018111423\",\"f_data_time1\":\"20181114\",\"f_data_time2\":\"20181115\",\"f_data_time3\":\"20181116\",\"f_inform_data\":\"20181116\",\"imageUrl1\":\"http://www.airkorea.or.kr/file/viewImage/?atch_id=99563\",\"imageUrl2\":\"http://www.airkorea.or.kr/file/viewImage/?atch_id=99564\",\"imageUrl3\":\"http://www.airkorea.or.kr/file/viewImage/?atch_id=99565\",\"imageUrl4\":\"http://www.airkorea.or.kr/file/viewImage/?atch_id=99566\",\"imageUrl5\":\"http://www.airkorea.or.kr/file/viewImage/?atch_id=99567\",\"imageUrl6\":\"http://www.airkorea.or.kr/file/viewImage/?atch_id=99568\",\"imageUrl7\":\"http://www.airkorea.or.kr/file/viewImage/?atch_id=99553\",\"imageUrl8\":\"http://www.airkorea.or.kr/file/viewImage/?atch_id=\",\"imageUrl9\":\"http://www.airkorea.or.kr/file/viewImage/?atch_id=\",\"informCause\":\"○ [미세먼지] 대부분 지역은 대기 정체로 축적된 국내 생성 미세먼지에 국외에서 유입되는 미세먼지가 더해져 농도가 높을 것으로 예상됨.\",\"informCode\":\"PM10\",\"informData\":\"2018-11-16\",\"informGrade\":\"서울 : 보통,제주 : 좋음,전남 : 보통,전북 : 보통,광주 : 보통,경남 : 보통,경북 : 보통,울산 : 보통,대구 : 보통,부산 : 보통,충남 : 나쁨,충북 : 보통,세종 : 보통,대전 : 보통,영동 : 보통,영서 : 보통,경기남부 : 나쁨,경기북부 : 보통,인천 : 보통\",\"informOverall\":\"○ [미세먼지] 수도권·강원권·충청권·광주·전북·대구·경북은 \\'나쁨\\', 그 밖의 권역은 \\'좋음\\'∼\\'보통\\'으로 예상됨.\",\"numOfRows\":\"10\",\"pageNo\":\"1\",\"resultCode\":\"\",\"resultMsg\":\"\",\"searchDate\":\"\",\"serviceKey\":\"\",\"totalCount\":\"\",\"ver\":\"\"},{\"_returnType\":\"json\",\"actionKnack\":\"\",\"dataTime\":\"2018-11-14 23시 발표\",\"f_data_time\":\"2018111423\",\"f_data_time1\":\"20181114\",\"f_data_time2\":\"20181115\",\"f_data_time3\":\"20181116\",\"f_inform_data\":\"20181114\",\"imageUrl1\":\"http://www.airkorea.or.kr/file/viewImage/?atch_id=99557\",\"imageUrl2\":\"http://www.airkorea.or.kr/file/viewImage/?atch_id=99558\",\"imageUrl3\":\"http://www.airkorea.or.kr/file/viewImage/?atch_id=99559\",\"imageUrl4\":\"http://www.airkorea.or.kr/file/viewImage/?atch_id=99560\",\"imageUrl5\":\"http://www.airkorea.or.kr/file/viewImage/?atch_id=99561\",\"imageUrl6\":\"http://www.airkorea.or.kr/file/viewImage/?atch_id=99562\",\"imageUrl7\":\"http://www.airkorea.or.kr/file/viewImage/?atch_id=\",\"imageUrl8\":\"http://www.airkorea.or.kr/file/viewImage/?atch_id=99554\",\"imageUrl9\":\"http://www.airkorea.or.kr/file/viewImage/?atch_id=\",\"informCause\":\"○ [미세먼지] 대부분 \\'보통\\' 수준이겠으나, 일부 서쪽 지역은 대기 정체로 국내 생성 미세먼지가 축적되어 농도가 높을 것으로 예상됨.\",\"informCode\":\"PM25\",\"informData\":\"2018-11-14\",\"informGrade\":\"서울 : 보통,제주 : 보통,전남 : 보통,전북 : 나쁨,광주 : 나쁨,경남 : 좋음,경북 : 보통,울산 : 좋음,대구 : 좋음,부산 : 좋음,충남 : 보통,충북 : 보통,세종 : 보통,대전 : 보통,영동 : 좋음,영서 : 보통,경기남부 : 보통,경기북부 : 보통,인천 : 보통\",\"informOverall\":\"○ [미세먼지] 광주·전북은 \\'나쁨\\', 그 밖의 권역은 \\'좋음\\'∼\\'보통\\'으로 예상됨.\",\"numOfRows\":\"10\",\"pageNo\":\"1\",\"resultCode\":\"\",\"resultMsg\":\"\",\"searchDate\":\"\",\"serviceKey\":\"\",\"totalCount\":\"\",\"ver\":\"\"},{\"_returnType\":\"json\",\"actionKnack\":\"\",\"dataTime\":\"2018-11-14 23시 발표\",\"f_data_time\":\"2018111423\",\"f_data_time1\":\"20181114\",\"f_data_time2\":\"20181115\",\"f_data_time3\":\"20181116\",\"f_inform_data\":\"20181115\",\"imageUrl1\":\"http://www.airkorea.or.kr/file/viewImage/?atch_id=99557\",\"imageUrl2\":\"http://www.airkorea.or.kr/file/viewImage/?atch_id=99558\",\"imageUrl3\":\"http://www.airkorea.or.kr/file/viewImage/?atch_id=99559\",\"imageUrl4\":\"http://www.airkorea.or.kr/file/viewImage/?atch_id=99560\",\"imageUrl5\":\"http://www.airkorea.or.kr/file/viewImage/?atch_id=99561\",\"imageUrl6\":\"http://www.airkorea.or.kr/file/viewImage/?atch_id=99562\",\"imageUrl7\":\"http://www.airkorea.or.kr/file/viewImage/?atch_id=\",\"imageUrl8\":\"http://www.airkorea.or.kr/file/viewImage/?atch_id=99554\",\"imageUrl9\":\"http://www.airkorea.or.kr/file/viewImage/?atch_id=\",\"informCause\":\"○ [미세먼지] 대부분 \\'보통\\' 수준이겠으나, 서쪽지역은 대기 정체로 국내 생성 미세먼지가 축적되어 농도가 높을 것으로 예상됨.\",\"informCode\":\"PM25\",\"informData\":\"2018-11-15\",\"informGrade\":\"서울 : 나쁨,제주 : 좋음,전남 : 보통,전북 : 나쁨,광주 : 나쁨,경남 : 보통,경북 : 보통,울산 : 보통,대구 : 보통,부산 : 보통,충남 : 나쁨,충북 : 보통,세종 : 보통,대전 : 보통,영동 : 좋음,영서 : 보통,경기남부 : 나쁨,경기북부 : 나쁨,인천 : 나쁨\",\"informOverall\":\"○ [미세먼지] 수도권·충남·광주·전북은 \\'나쁨\\', 그 밖의 권역은 \\'좋음\\'∼\\'보통\\'으로 예상됨.\",\"numOfRows\":\"10\",\"pageNo\":\"1\",\"resultCode\":\"\",\"resultMsg\":\"\",\"searchDate\":\"\",\"serviceKey\":\"\",\"totalCount\":\"\",\"ver\":\"\"},{\"_returnType\":\"json\",\"actionKnack\":\"\",\"dataTime\":\"2018-11-14 23시 발표\",\"f_data_time\":\"2018111423\",\"f_data_time1\":\"20181114\",\"f_data_time2\":\"20181115\",\"f_data_time3\":\"20181116\",\"f_inform_data\":\"20181116\",\"imageUrl1\":\"http://www.airkorea.or.kr/file/viewImage/?atch_id=99563\",\"imageUrl2\":\"http://www.airkorea.or.kr/file/viewImage/?atch_id=99564\",\"imageUrl3\":\"http://www.airkorea.or.kr/file/viewImage/?atch_id=99565\",\"imageUrl4\":\"http://www.airkorea.or.kr/file/viewImage/?atch_id=99566\",\"imageUrl5\":\"http://www.airkorea.or.kr/file/viewImage/?atch_id=99567\",\"imageUrl6\":\"http://www.airkorea.or.kr/file/viewImage/?atch_id=99568\",\"imageUrl7\":\"http://www.airkorea.or.kr/file/viewImage/?atch_id=\",\"imageUrl8\":\"http://www.airkorea.or.kr/file/viewImage/?atch_id=99554\",\"imageUrl9\":\"http://www.airkorea.or.kr/file/viewImage/?atch_id=\",\"informCause\":\"○ [미세먼지] 대부분 지역은 대기 정체로 축적된 국내 생성 미세먼지에 국외에서 유입되는 미세먼지가 더해져 농도가 높을 것으로 예상됨.\",\"informCode\":\"PM25\",\"informData\":\"2018-11-16\",\"informGrade\":\"서울 : 나쁨,제주 : 좋음,전남 : 보통,전북 : 나쁨,광주 : 나쁨,경남 : 보통,경북 : 나쁨,울산 : 보통,대구 : 나쁨,부산 : 보통,충남 : 나쁨,충북 : 나쁨,세종 : 나쁨,대전 : 나쁨,영동 : 나쁨,영서 : 나쁨,경기남부 : 나쁨,경기북부 : 나쁨,인천 : 나쁨\",\"informOverall\":\"○ [미세먼지] 수도권·강원권·충청권·광주·전북·대구·경북은 \\'나쁨\\', 그 밖의 권역은 \\'좋음\\'∼\\'보통\\'으로 예상됨.\",\"numOfRows\":\"10\",\"pageNo\":\"1\",\"resultCode\":\"\",\"resultMsg\":\"\",\"searchDate\":\"\",\"serviceKey\":\"\",\"totalCount\":\"\",\"ver\":\"\"},{\"_returnType\":\"json\",\"actionKnack\":\"\",\"dataTime\":\"2018-11-14 17시 발표\",\"f_data_time\":\"2018111417\",\"f_data_time1\":\"20181114\",\"f_data_time2\":\"20181115\",\"f_data_time3\":\"20181116\",\"f_inform_data\":\"20181114\",\"imageUrl1\":\"http://www.airkorea.or.kr/file/viewImage/?atch_id=99541\",\"imageUrl2\":\"http://www.airkorea.or.kr/file/viewImage/?atch_id=99542\",\"imageUrl3\":\"http://www.airkorea.or.kr/file/viewImage/?atch_id=99543\",\"imageUrl4\":\"http://www.airkorea.or.kr/file/viewImage/?atch_id=99544\",\"imageUrl5\":\"http://www.airkorea.or.kr/file/viewImage/?atch_id=99545\",\"imageUrl6\":\"http://www.airkorea.or.kr/file/viewImage/?atch_id=99546\",\"imageUrl7\":\"http://www.airkorea.or.kr/file/viewImage/?atch_id=99553\",\"imageUrl8\":\"http://www.airkorea.or.kr/file/viewImage/?atch_id=\",\"imageUrl9\":\"http://www.airkorea.or.kr/file/viewImage/?atch_id=\",\"informCause\":\"○ [미세먼지] 대부분 \\'보통\\' 수준이겠으나, 일부 남서부지역은 대기 정체로 국내 생성 미세먼지가 축적되어 농도가 높을 것으로 예상됨.\",\"informCode\":\"PM10\",\"informData\":\"2018-11-14\",\"informGrade\":\"서울 : 보통,제주 : 좋음,전남 : 보통,전북 : 보통,광주 : 보통,경남 : 좋음,경북 : 좋음,울산 : 좋음,대구 : 좋음,부산 : 좋음,충남 : 보통,충북 : 보통,세종 : 보통,대전 : 보통,영동 : 좋음,영서 : 보통,경기남부 : 보통,경기북부 : 보통,인천 : 보통\",\"informOverall\":\"○ [미세먼지] 광주·전북은 \\'나쁨\\', 그 밖의 권역은 \\'좋음\\'∼\\'보통\\'으로 예상됨.\",\"numOfRows\":\"10\",\"pageNo\":\"1\",\"resultCode\":\"\",\"resultMsg\":\"\",\"searchDate\":\"\",\"serviceKey\":\"\",\"totalCount\":\"\",\"ver\":\"\"},{\"_returnType\":\"json\",\"actionKnack\":\"\",\"dataTime\":\"2018-11-14 17시 발표\",\"f_data_time\":\"2018111417\",\"f_data_time1\":\"20181114\",\"f_data_time2\":\"20181115\",\"f_data_time3\":\"20181116\",\"f_inform_data\":\"20181115\",\"imageUrl1\":\"http://www.airkorea.or.kr/file/viewImage/?atch_id=99541\",\"imageUrl2\":\"http://www.airkorea.or.kr/file/viewImage/?atch_id=99542\",\"imageUrl3\":\"http://www.airkorea.or.kr/file/viewImage/?atch_id=99543\",\"imageUrl4\":\"http://www.airkorea.or.kr/file/viewImage/?atch_id=99544\",\"imageUrl5\":\"http://www.airkorea.or.kr/file/viewImage/?atch_id=99545\",\"imageUrl6\":\"http://www.airkorea.or.kr/file/viewImage/?atch_id=99546\",\"imageUrl7\":\"http://www.airkorea.or.kr/file/viewImage/?atch_id=99553\",\"imageUrl8\":\"http://www.airkorea.or.kr/file/viewImage/?atch_id=\",\"imageUrl9\":\"http://www.airkorea.or.kr/file/viewImage/?atch_id=\",\"informCause\":\"○ [미세먼지] 대부분 \\'보통\\' 수준이겠으나, 대부분 서쪽지역은 대기 정체로 국내 생성 미세먼지가 축적되어 농도가 높을 것으로 예상됨.\",\"informCode\":\"PM10\",\"informData\":\"2018-11-15\",\"informGrade\":\"서울 : 보통,제주 : 좋음,전남 : 보통,전북 : 보통,광주 : 보통,경남 : 보통,경북 : 보통,울산 : 보통,대구 : 보통,부산 : 보통,충남 : 보통,충북 : 보통,세종 : 보통,대전 : 보통,영동 : 좋음,영서 : 보통,경기남부 : 보통,경기북부 : 보통,인천 : 보통\",\"informOverall\":\"○ [미세먼지] 수도권·충남·광주·전북은 \\'나쁨\\', 그 밖의 권역은 \\'좋음\\'∼\\'보통\\'으로 예상됨.\",\"numOfRows\":\"10\",\"pageNo\":\"1\",\"resultCode\":\"\",\"resultMsg\":\"\",\"searchDate\":\"\",\"serviceKey\":\"\",\"totalCount\":\"\",\"ver\":\"\"},{\"_returnType\":\"json\",\"actionKnack\":\"\",\"dataTime\":\"2018-11-14 17시 발표\",\"f_data_time\":\"2018111417\",\"f_data_time1\":\"20181114\",\"f_data_time2\":\"20181115\",\"f_data_time3\":\"20181116\",\"f_inform_data\":\"20181116\",\"imageUrl1\":\"http://www.airkorea.or.kr/file/viewImage/?atch_id=99547\",\"imageUrl2\":\"http://www.airkorea.or.kr/file/viewImage/?atch_id=99548\",\"imageUrl3\":\"http://www.airkorea.or.kr/file/viewImage/?atch_id=99549\",\"imageUrl4\":\"http://www.airkorea.or.kr/file/viewImage/?atch_id=99550\",\"imageUrl5\":\"http://www.airkorea.or.kr/file/viewImage/?atch_id=99551\",\"imageUrl6\":\"http://www.airkorea.or.kr/file/viewImage/?atch_id=99552\",\"imageUrl7\":\"http://www.airkorea.or.kr/file/viewImage/?atch_id=99553\",\"imageUrl8\":\"http://www.airkorea.or.kr/file/viewImage/?atch_id=\",\"imageUrl9\":\"http://www.airkorea.or.kr/file/viewImage/?atch_id=\",\"informCause\":\"○ [미세먼지] 대부분 지역은 대기 정체로 축적된 국내 생성 미세먼지에 국외에서 유입되는 미세먼지가 더해져 농도가 높을 것으로 예상됨.\",\"informCode\":\"PM10\",\"informData\":\"2018-11-16\",\"informGrade\":\"서울 : 보통,제주 : 좋음,전남 : 보통,전북 : 보통,광주 : 보통,경남 : 보통,경북 : 보통,울산 : 보통,대구 : 보통,부산 : 보통,충남 : 나쁨,충북 : 보통,세종 : 보통,대전 : 보통,영동 : 보통,영서 : 보통,경기남부 : 나쁨,경기북부 : 보통,인천 : 보통\",\"informOverall\":\"○ [미세먼지] 수도권·강원권·충청권·광주·전북·대구·경북은 \\'나쁨\\', 그 밖의 권역은 \\'좋음\\'∼\\'보통\\'으로 예상됨.\",\"numOfRows\":\"10\",\"pageNo\":\"1\",\"resultCode\":\"\",\"resultMsg\":\"\",\"searchDate\":\"\",\"serviceKey\":\"\",\"totalCount\":\"\",\"ver\":\"\"},{\"_returnType\":\"json\",\"actionKnack\":\"\",\"dataTime\":\"2018-11-14 17시 발표\",\"f_data_time\":\"2018111417\",\"f_data_time1\":\"20181114\",\"f_data_time2\":\"20181115\",\"f_data_time3\":\"20181116\",\"f_inform_data\":\"20181114\",\"imageUrl1\":\"http://www.airkorea.or.kr/file/viewImage/?atch_id=99541\",\"imageUrl2\":\"http://www.airkorea.or.kr/file/viewImage/?atch_id=99542\",\"imageUrl3\":\"http://www.airkorea.or.kr/file/viewImage/?atch_id=99543\",\"imageUrl4\":\"http://www.airkorea.or.kr/file/viewImage/?atch_id=99544\",\"imageUrl5\":\"http://www.airkorea.or.kr/file/viewImage/?atch_id=99545\",\"imageUrl6\":\"http://www.airkorea.or.kr/file/viewImage/?atch_id=99546\",\"imageUrl7\":\"http://www.airkorea.or.kr/file/viewImage/?atch_id=\",\"imageUrl8\":\"http://www.airkorea.or.kr/file/viewImage/?atch_id=99554\",\"imageUrl9\":\"http://www.airkorea.or.kr/file/viewImage/?atch_id=\",\"informCause\":\"○ [미세먼지] 대부분 \\'보통\\' 수준이겠으나, 일부 남서부지역은 대기 정체로 국내 생성 미세먼지가 축적되어 농도가 높을 것으로 예상됨.\",\"informCode\":\"PM25\",\"informData\":\"2018-11-14\",\"informGrade\":\"서울 : 보통,제주 : 보통,전남 : 보통,전북 : 나쁨,광주 : 나쁨,경남 : 좋음,경북 : 보통,울산 : 좋음,대구 : 보통,부산 : 좋음,충남 : 보통,충북 : 보통,세종 : 보통,대전 : 보통,영동 : 좋음,영서 : 보통,경기남부 : 보통,경기북부 : 보통,인천 : 보통\",\"informOverall\":\"○ [미세먼지] 광주·전북은 \\'나쁨\\', 그 밖의 권역은 \\'좋음\\'∼\\'보통\\'으로 예상됨.\",\"numOfRows\":\"10\",\"pageNo\":\"1\",\"resultCode\":\"\",\"resultMsg\":\"\",\"searchDate\":\"\",\"serviceKey\":\"\",\"totalCount\":\"\",\"ver\":\"\"},{\"_returnType\":\"json\",\"actionKnack\":\"\",\"dataTime\":\"2018-11-14 17시 발표\",\"f_data_time\":\"2018111417\",\"f_data_time1\":\"20181114\",\"f_data_time2\":\"20181115\",\"f_data_time3\":\"20181116\",\"f_inform_data\":\"20181115\",\"imageUrl1\":\"http://www.airkorea.or.kr/file/viewImage/?atch_id=99541\",\"imageUrl2\":\"http://www.airkorea.or.kr/file/viewImage/?atch_id=99542\",\"imageUrl3\":\"http://www.airkorea.or.kr/file/viewImage/?atch_id=99543\",\"imageUrl4\":\"http://www.airkorea.or.kr/file/viewImage/?atch_id=99544\",\"imageUrl5\":\"http://www.airkorea.or.kr/file/viewImage/?atch_id=99545\",\"imageUrl6\":\"http://www.airkorea.or.kr/file/viewImage/?atch_id=99546\",\"imageUrl7\":\"http://www.airkorea.or.kr/file/viewImage/?atch_id=\",\"imageUrl8\":\"http://www.airkorea.or.kr/file/viewImage/?atch_id=99554\",\"imageUrl9\":\"http://www.airkorea.or.kr/file/viewImage/?atch_id=\",\"informCause\":\"○ [미세먼지] 대부분 \\'보통\\' 수준이겠으나, 대부분 서쪽지역은 대기 정체로 국내 생성 미세먼지가 축적되어 농도가 높을 것으로 예상됨.\",\"informCode\":\"PM25\",\"informData\":\"2018-11-15\",\"informGrade\":\"서울 : 나쁨,제주 : 좋음,전남 : 보통,전북 : 나쁨,광주 : 나쁨,경남 : 보통,경북 : 보통,울산 : 보통,대구 : 보통,부산 : 보통,충남 : 나쁨,충북 : 보통,세종 : 보통,대전 : 보통,영동 : 좋음,영서 : 보통,경기남부 : 나쁨,경기북부 : 나쁨,인천 : 나쁨\",\"informOverall\":\"○ [미세먼지] 수도권·충남·광주·전북은 \\'나쁨\\', 그 밖의 권역은 \\'좋음\\'∼\\'보통\\'으로 예상됨.\",\"numOfRows\":\"10\",\"pageNo\":\"1\",\"resultCode\":\"\",\"resultMsg\":\"\",\"searchDate\":\"\",\"serviceKey\":\"\",\"totalCount\":\"\",\"ver\":\"\"},{\"_returnType\":\"json\",\"actionKnack\":\"\",\"dataTime\":\"2018-11-14 17시 발표\",\"f_data_time\":\"2018111417\",\"f_data_time1\":\"20181114\",\"f_data_time2\":\"20181115\",\"f_data_time3\":\"20181116\",\"f_inform_data\":\"20181116\",\"imageUrl1\":\"http://www.airkorea.or.kr/file/viewImage/?atch_id=99547\",\"imageUrl2\":\"http://www.airkorea.or.kr/file/viewImage/?atch_id=99548\",\"imageUrl3\":\"http://www.airkorea.or.kr/file/viewImage/?atch_id=99549\",\"imageUrl4\":\"http://www.airkorea.or.kr/file/viewImage/?atch_id=99550\",\"imageUrl5\":\"http://www.airkorea.or.kr/file/viewImage/?atch_id=99551\",\"imageUrl6\":\"http://www.airkorea.or.kr/file/viewImage/?atch_id=99552\",\"imageUrl7\":\"http://www.airkorea.or.kr/file/viewImage/?atch_id=\",\"imageUrl8\":\"http://www.airkorea.or.kr/file/viewImage/?atch_id=99554\",\"imageUrl9\":\"http://www.airkorea.or.kr/file/viewImage/?atch_id=\",\"informCause\":\"○ [미세먼지] 대부분 지역은 대기 정체로 축적된 국내 생성 미세먼지에 국외에서 유입되는 미세먼지가 더해져 농도가 높을 것으로 예상됨.\",\"informCode\":\"PM25\",\"informData\":\"2018-11-16\",\"informGrade\":\"서울 : 나쁨,제주 : 좋음,전남 : 보통,전북 : 나쁨,광주 : 나쁨,경남 : 보통,경북 : 나쁨,울산 : 보통,대구 : 나쁨,부산 : 보통,충남 : 나쁨,충북 : 나쁨,세종 : 나쁨,대전 : 나쁨,영동 : 나쁨,영서 : 나쁨,경기남부 : 나쁨,경기북부 : 나쁨,인천 : 나쁨\",\"informOverall\":\"○ [미세먼지] 수도권·강원권·충청권·광주·전북·대구·경북은 \\'나쁨\\', 그 밖의 권역은 \\'좋음\\'∼\\'보통\\'으로 예상됨.\",\"numOfRows\":\"10\",\"pageNo\":\"1\",\"resultCode\":\"\",\"resultMsg\":\"\",\"searchDate\":\"\",\"serviceKey\":\"\",\"totalCount\":\"\",\"ver\":\"\"},{\"_returnType\":\"json\",\"actionKnack\":\"\",\"dataTime\":\"2018-11-14 11시 발표\",\"f_data_time\":\"2018111411\",\"f_data_time1\":\"20181114\",\"f_data_time2\":\"20181115\",\"f_data_time3\":\"20181116\",\"f_inform_data\":\"20181114\",\"imageUrl1\":\"http://www.airkorea.or.kr/file/viewImage/?atch_id=99525\",\"imageUrl2\":\"http://www.airkorea.or.kr/file/viewImage/?atch_id=99526\",\"imageUrl3\":\"http://www.airkorea.or.kr/file/viewImage/?atch_id=99527\",\"imageUrl4\":\"http://www.airkorea.or.kr/file/viewImage/?atch_id=99528\",\"imageUrl5\":\"http://www.airkorea.or.kr/file/viewImage/?atch_id=99529\",\"imageUrl6\":\"http://www.airkorea.or.kr/file/viewImage/?atch_id=99530\",\"imageUrl7\":\"http://www.airkorea.or.kr/file/viewImage/?atch_id=99489\",\"imageUrl8\":\"http://www.airkorea.or.kr/file/viewImage/?atch_id=\",\"imageUrl9\":\"http://www.airkorea.or.kr/file/viewImage/?atch_id=\",\"informCause\":\"○ [미세먼지] 대부분 \\'보통\\' 수준이겠으나, 일부 서쪽지역은 대기 정체로 국내 생성 미세먼지가 축적되어 농도가 높을 것으로 예상됨.\",\"informCode\":\"PM10\",\"informData\":\"2018-11-14\",\"informGrade\":\"서울 : 보통,제주 : 좋음,전남 : 보통,전북 : 보통,광주 : 보통,경남 : 좋음,경북 : 좋음,울산 : 좋음,대구 : 좋음,부산 : 좋음,충남 : 보통,충북 : 보통,세종 : 보통,대전 : 보통,영동 : 좋음,영서 : 보통,경기남부 : 보통,경기북부 : 보통,인천 : 보통\",\"informOverall\":\"○ [미세먼지] 충남·광주·전북은 \\'나쁨\\', 그 밖의 권역은 \\'좋음\\'∼\\'보통\\'으로 예상됨.\",\"numOfRows\":\"10\",\"pageNo\":\"1\",\"resultCode\":\"\",\"resultMsg\":\"\",\"searchDate\":\"\",\"serviceKey\":\"\",\"totalCount\":\"\",\"ver\":\"\"},{\"_returnType\":\"json\",\"actionKnack\":\"\",\"dataTime\":\"2018-11-14 11시 발표\",\"f_data_time\":\"2018111411\",\"f_data_time1\":\"20181114\",\"f_data_time2\":\"20181115\",\"f_data_time3\":\"20181116\",\"f_inform_data\":\"20181115\",\"imageUrl1\":\"\",\"imageUrl2\":\"\",\"imageUrl3\":\"\",\"imageUrl4\":\"\",\"imageUrl5\":\"\",\"imageUrl6\":\"\",\"imageUrl7\":\"http://www.airkorea.or.kr/file/viewImage/?atch_id=99489\",\"imageUrl8\":\"http://www.airkorea.or.kr/file/viewImage/?atch_id=\",\"imageUrl9\":\"http://www.airkorea.or.kr/file/viewImage/?atch_id=\",\"informCause\":\"○ [미세먼지] 대부분 \\'보통\\' 수준이겠으나, 일부 중서부지역은 대기 정체로 국내 생성 미세먼지가 축적되어 농도가 높을 것으로 예상됨.\",\"informCode\":\"PM10\",\"informData\":\"2018-11-15\",\"informGrade\":\"서울 : 보통,제주 : 좋음,전남 : 보통,전북 : 보통,광주 : 보통,경남 : 보통,경북 : 보통,울산 : 보통,대구 : 보통,부산 : 좋음,충남 : 보통,충북 : 보통,세종 : 보통,대전 : 보통,영동 : 좋음,영서 : 보통,경기남부 : 보통,경기북부 : 보통,인천 : 보통\",\"informOverall\":\"○ [미세먼지] 서울·인천·경기남부·충남은 \\'나쁨\\', 그 밖의 권역은 \\'좋음\\'∼\\'보통\\'으로 예상됨.\",\"numOfRows\":\"10\",\"pageNo\":\"1\",\"resultCode\":\"\",\"resultMsg\":\"\",\"searchDate\":\"\",\"serviceKey\":\"\",\"totalCount\":\"\",\"ver\":\"\"},{\"_returnType\":\"json\",\"actionKnack\":\"\",\"dataTime\":\"2018-11-14 11시 발표\",\"f_data_time\":\"2018111411\",\"f_data_time1\":\"20181114\",\"f_data_time2\":\"20181115\",\"f_data_time3\":\"20181116\",\"f_inform_data\":\"20181114\",\"imageUrl1\":\"http://www.airkorea.or.kr/file/viewImage/?atch_id=99525\",\"imageUrl2\":\"http://www.airkorea.or.kr/file/viewImage/?atch_id=99526\",\"imageUrl3\":\"http://www.airkorea.or.kr/file/viewImage/?atch_id=99527\",\"imageUrl4\":\"http://www.airkorea.or.kr/file/viewImage/?atch_id=99528\",\"imageUrl5\":\"http://www.airkorea.or.kr/file/viewImage/?atch_id=99529\",\"imageUrl6\":\"http://www.airkorea.or.kr/file/viewImage/?atch_id=99530\",\"imageUrl7\":\"http://www.airkorea.or.kr/file/viewImage/?atch_id=\",\"imageUrl8\":\"http://www.airkorea.or.kr/file/viewImage/?atch_id=99490\",\"imageUrl9\":\"http://www.airkorea.or.kr/file/viewImage/?atch_id=\",\"informCause\":\"○ [미세먼지] 대부분 \\'보통\\' 수준이겠으나, 일부 서쪽지역은 대기 정체로 국내 생성 미세먼지가 축적되어 농도가 높을 것으로 예상됨.\",\"informCode\":\"PM25\",\"informData\":\"2018-11-14\",\"informGrade\":\"서울 : 보통,제주 : 보통,전남 : 보통,전북 : 나쁨,광주 : 나쁨,경남 : 좋음,경북 : 보통,울산 : 좋음,대구 : 보통,부산 : 좋음,충남 : 나쁨,충북 : 보통,세종 : 보통,대전 : 보통,영동 : 좋음,영서 : 보통,경기남부 : 보통,경기북부 : 보통,인천 : 보통\",\"informOverall\":\"○ [미세먼지] 충남·광주·전북은 \\'나쁨\\', 그 밖의 권역은 \\'좋음\\'∼\\'보통\\'으로 예상됨.\",\"numOfRows\":\"10\",\"pageNo\":\"1\",\"resultCode\":\"\",\"resultMsg\":\"\",\"searchDate\":\"\",\"serviceKey\":\"\",\"totalCount\":\"\",\"ver\":\"\"},{\"_returnType\":\"json\",\"actionKnack\":\"\",\"dataTime\":\"2018-11-14 11시 발표\",\"f_data_time\":\"2018111411\",\"f_data_time1\":\"20181114\",\"f_data_time2\":\"20181115\",\"f_data_time3\":\"20181116\",\"f_inform_data\":\"20181115\",\"imageUrl1\":\"\",\"imageUrl2\":\"\",\"imageUrl3\":\"\",\"imageUrl4\":\"\",\"imageUrl5\":\"\",\"imageUrl6\":\"\",\"imageUrl7\":\"http://www.airkorea.or.kr/file/viewImage/?atch_id=\",\"imageUrl8\":\"http://www.airkorea.or.kr/file/viewImage/?atch_id=99490\",\"imageUrl9\":\"http://www.airkorea.or.kr/file/viewImage/?atch_id=\",\"informCause\":\"○ [미세먼지] 대부분 \\'보통\\' 수준이겠으나, 일부 중서부지역은 대기 정체로 국내 생성 미세먼지가 축적되어 농도가 높을 것으로 예상됨.\",\"informCode\":\"PM25\",\"informData\":\"2018-11-15\",\"informGrade\":\"서울 : 나쁨,제주 : 좋음,전남 : 보통,전북 : 보통,광주 : 보통,경남 : 보통,경북 : 보통,울산 : 보통,대구 : 보통,부산 : 좋음,충남 : 나쁨,충북 : 보통,세종 : 보통,대전 : 보통,영동 : 좋음,영서 : 보통,경기남부 : 나쁨,경기북부 : 보통,인천 : 나쁨\",\"informOverall\":\"○ [미세먼지] 서울·인천·경기남부·충남은 \\'나쁨\\', 그 밖의 권역은 \\'좋음\\'∼\\'보통\\'으로 예상됨.\",\"numOfRows\":\"10\",\"pageNo\":\"1\",\"resultCode\":\"\",\"resultMsg\":\"\",\"searchDate\":\"\",\"serviceKey\":\"\",\"totalCount\":\"\",\"ver\":\"\"},{\"_returnType\":\"json\",\"actionKnack\":\"\",\"dataTime\":\"2018-11-14 05시 발표\",\"f_data_time\":\"2018111405\",\"f_data_time1\":\"20181114\",\"f_data_time2\":\"20181115\",\"f_data_time3\":\"20181116\",\"f_inform_data\":\"20181114\",\"imageUrl1\":\"http://www.airkorea.or.kr/file/viewImage/?atch_id=99509\",\"imageUrl2\":\"http://www.airkorea.or.kr/file/viewImage/?atch_id=99510\",\"imageUrl3\":\"http://www.airkorea.or.kr/file/viewImage/?atch_id=99511\",\"imageUrl4\":\"http://www.airkorea.or.kr/file/viewImage/?atch_id=99512\",\"imageUrl5\":\"http://www.airkorea.or.kr/file/viewImage/?atch_id=99513\",\"imageUrl6\":\"http://www.airkorea.or.kr/file/viewImage/?atch_id=99514\",\"imageUrl7\":\"http://www.airkorea.or.kr/file/viewImage/?atch_id=99489\",\"imageUrl8\":\"http://www.airkorea.or.kr/file/viewImage/?atch_id=\",\"imageUrl9\":\"http://www.airkorea.or.kr/file/viewImage/?atch_id=\",\"informCause\":\"○ [미세먼지] 대부분 \\'보통\\' 수준이겠으나, 일부 중서부지역은 대기 정체로 국내 생성 미세먼지가 축적되어 농도가 높을 것으로 예상됨.\",\"informCode\":\"PM10\",\"informData\":\"2018-11-14\",\"informGrade\":\"서울 : 보통,제주 : 좋음,전남 : 보통,전북 : 보통,광주 : 보통,경남 : 좋음,경북 : 좋음,울산 : 좋음,대구 : 좋음,부산 : 좋음,충남 : 보통,충북 : 보통,세종 : 보통,대전 : 보통,영동 : 좋음,영서 : 보통,경기남부 : 보통,경기북부 : 보통,인천 : 보통\",\"informOverall\":\"○ [미세먼지] 충남은 \\'나쁨\\', 그 밖의 권역은 \\'좋음\\'∼\\'보통\\'으로 예상됨.\",\"numOfRows\":\"10\",\"pageNo\":\"1\",\"resultCode\":\"\",\"resultMsg\":\"\",\"searchDate\":\"\",\"serviceKey\":\"\",\"totalCount\":\"\",\"ver\":\"\"},{\"_returnType\":\"json\",\"actionKnack\":\"\",\"dataTime\":\"2018-11-14 05시 발표\",\"f_data_time\":\"2018111405\",\"f_data_time1\":\"20181114\",\"f_data_time2\":\"20181115\",\"f_data_time3\":\"20181116\",\"f_inform_data\":\"20181115\",\"imageUrl1\":\"\",\"imageUrl2\":\"\",\"imageUrl3\":\"\",\"imageUrl4\":\"\",\"imageUrl5\":\"\",\"imageUrl6\":\"\",\"imageUrl7\":\"http://www.airkorea.or.kr/file/viewImage/?atch_id=99489\",\"imageUrl8\":\"http://www.airkorea.or.kr/file/viewImage/?atch_id=\",\"imageUrl9\":\"http://www.airkorea.or.kr/file/viewImage/?atch_id=\",\"informCause\":\"○ [미세먼지] 대부분 \\'보통\\' 수준이겠으나, 일부 중서부지역은 대기 정체로 국내 생성 미세먼지가 축적되어 농도가 높을 것으로 예상됨.\",\"informCode\":\"PM10\",\"informData\":\"2018-11-15\",\"informGrade\":\"서울 : 보통,제주 : 좋음,전남 : 보통,전북 : 보통,광주 : 보통,경남 : 보통,경북 : 보통,울산 : 보통,대구 : 보통,부산 : 좋음,충남 : 보통,충북 : 보통,세종 : 보통,대전 : 보통,영동 : 좋음,영서 : 보통,경기남부 : 보통,경기북부 : 보통,인천 : 보통\",\"informOverall\":\"○ [미세먼지] 서울·인천·경기남부·충남은 \\'나쁨\\', 그 밖의 권역은 \\'좋음\\'∼\\'보통\\'으로 예상됨.\",\"numOfRows\":\"10\",\"pageNo\":\"1\",\"resultCode\":\"\",\"resultMsg\":\"\",\"searchDate\":\"\",\"serviceKey\":\"\",\"totalCount\":\"\",\"ver\":\"\"},{\"_returnType\":\"json\",\"actionKnack\":\"\",\"dataTime\":\"2018-11-14 05시 발표\",\"f_data_time\":\"2018111405\",\"f_data_time1\":\"20181114\",\"f_data_time2\":\"20181115\",\"f_data_time3\":\"20181116\",\"f_inform_data\":\"20181114\",\"imageUrl1\":\"http://www.airkorea.or.kr/file/viewImage/?atch_id=99509\",\"imageUrl2\":\"http://www.airkorea.or.kr/file/viewImage/?atch_id=99510\",\"imageUrl3\":\"http://www.airkorea.or.kr/file/viewImage/?atch_id=99511\",\"imageUrl4\":\"http://www.airkorea.or.kr/file/viewImage/?atch_id=99512\",\"imageUrl5\":\"http://www.airkorea.or.kr/file/viewImage/?atch_id=99513\",\"imageUrl6\":\"http://www.airkorea.or.kr/file/viewImage/?atch_id=99514\",\"imageUrl7\":\"http://www.airkorea.or.kr/file/viewImage/?atch_id=\",\"imageUrl8\":\"http://www.airkorea.or.kr/file/viewImage/?atch_id=99490\",\"imageUrl9\":\"http://www.airkorea.or.kr/file/viewImage/?atch_id=\",\"informCause\":\"○ [미세먼지] 대부분 \\'보통\\' 수준이겠으나, 일부 중서부지역은 대기 정체로 국내 생성 미세먼지가 축적되어 농도가 높을 것으로 예상됨.\",\"informCode\":\"PM25\",\"informData\":\"2018-11-14\",\"informGrade\":\"서울 : 보통,제주 : 보통,전남 : 보통,전북 : 보통,광주 : 보통,경남 : 좋음,경북 : 보통,울산 : 좋음,대구 : 보통,부산 : 좋음,충남 : 나쁨,충북 : 보통,세종 : 보통,대전 : 보통,영동 : 좋음,영서 : 보통,경기남부 : 보통,경기북부 : 보통,인천 : 보통\",\"informOverall\":\"○ [미세먼지] 충남은 \\'나쁨\\', 그 밖의 권역은 \\'좋음\\'∼\\'보통\\'으로 예상됨.\",\"numOfRows\":\"10\",\"pageNo\":\"1\",\"resultCode\":\"\",\"resultMsg\":\"\",\"searchDate\":\"\",\"serviceKey\":\"\",\"totalCount\":\"\",\"ver\":\"\"},{\"_returnType\":\"json\",\"actionKnack\":\"\",\"dataTime\":\"2018-11-14 05시 발표\",\"f_data_time\":\"2018111405\",\"f_data_time1\":\"20181114\",\"f_data_time2\":\"20181115\",\"f_data_time3\":\"20181116\",\"f_inform_data\":\"20181115\",\"imageUrl1\":\"\",\"imageUrl2\":\"\",\"imageUrl3\":\"\",\"imageUrl4\":\"\",\"imageUrl5\":\"\",\"imageUrl6\":\"\",\"imageUrl7\":\"http://www.airkorea.or.kr/file/viewImage/?atch_id=\",\"imageUrl8\":\"http://www.airkorea.or.kr/file/viewImage/?atch_id=99490\",\"imageUrl9\":\"http://www.airkorea.or.kr/file/viewImage/?atch_id=\",\"informCause\":\"○ [미세먼지] 대부분 \\'보통\\' 수준이겠으나, 일부 중서부지역은 대기 정체로 국내 생성 미세먼지가 축적되어 농도가 높을 것으로 예상됨.\",\"informCode\":\"PM25\",\"informData\":\"2018-11-15\",\"informGrade\":\"서울 : 나쁨,제주 : 좋음,전남 : 보통,전북 : 보통,광주 : 보통,경남 : 보통,경북 : 보통,울산 : 보통,대구 : 보통,부산 : 좋음,충남 : 나쁨,충북 : 보통,세종 : 보통,대전 : 보통,영동 : 좋음,영서 : 보통,경기남부 : 나쁨,경기북부 : 보통,인천 : 나쁨\",\"informOverall\":\"○ [미세먼지] 서울·인천·경기남부·충남은 \\'나쁨\\', 그 밖의 권역은 \\'좋음\\'∼\\'보통\\'으로 예상됨.\",\"numOfRows\":\"10\",\"pageNo\":\"1\",\"resultCode\":\"\",\"resultMsg\":\"\",\"searchDate\":\"\",\"serviceKey\":\"\",\"totalCount\":\"\",\"ver\":\"\"}],\"parm\":{\"_returnType\":\"json\",\"actionKnack\":\"\",\"dataTime\":\"\",\"f_data_time\":\"\",\"f_data_time1\":\"\",\"f_data_time2\":\"\",\"f_data_time3\":\"\",\"f_inform_data\":\"\",\"imageUrl1\":\"\",\"imageUrl2\":\"\",\"imageUrl3\":\"\",\"imageUrl4\":\"\",\"imageUrl5\":\"\",\"imageUrl6\":\"\",\"imageUrl7\":\"\",\"imageUrl8\":\"\",\"imageUrl9\":\"\",\"informCause\":\"\",\"informCode\":\"\",\"informData\":\"\",\"informGrade\":\"\",\"informOverall\":\"\",\"numOfRows\":\"10\",\"pageNo\":\"1\",\"resultCode\":\"\",\"resultMsg\":\"\",\"searchDate\":\"2018-11-14\",\"serviceKey\":\"19Vd8w1VF6MhraamtQDCGukzgHbTbDksZvFa3yYHrfdvdsmlCZ9TnKwG9DkHkLabLTxYBw3vgymDd4MR7bg9+g==\",\"totalCount\":\"\",\"ver\":\"\"},\"totalCount\":20}'"
      ]
     },
     "execution_count": 14,
     "metadata": {},
     "output_type": "execute_result"
    }
   ],
   "source": [
    "res = requests.get(api_endpoint, params=params)\n",
    "res.text"
   ]
  },
  {
   "cell_type": "code",
   "execution_count": 15,
   "metadata": {},
   "outputs": [
    {
     "data": {
      "text/plain": [
       "{'MinuDustFrcstDspthVo': {'_returnType': 'json',\n",
       "  'actionKnack': '',\n",
       "  'dataTime': '',\n",
       "  'f_data_time': '',\n",
       "  'f_data_time1': '',\n",
       "  'f_data_time2': '',\n",
       "  'f_data_time3': '',\n",
       "  'f_inform_data': '',\n",
       "  'imageUrl1': '',\n",
       "  'imageUrl2': '',\n",
       "  'imageUrl3': '',\n",
       "  'imageUrl4': '',\n",
       "  'imageUrl5': '',\n",
       "  'imageUrl6': '',\n",
       "  'imageUrl7': '',\n",
       "  'imageUrl8': '',\n",
       "  'imageUrl9': '',\n",
       "  'informCause': '',\n",
       "  'informCode': '',\n",
       "  'informData': '',\n",
       "  'informGrade': '',\n",
       "  'informOverall': '',\n",
       "  'numOfRows': '10',\n",
       "  'pageNo': '1',\n",
       "  'resultCode': '',\n",
       "  'resultMsg': '',\n",
       "  'searchDate': '2018-11-14',\n",
       "  'serviceKey': '19Vd8w1VF6MhraamtQDCGukzgHbTbDksZvFa3yYHrfdvdsmlCZ9TnKwG9DkHkLabLTxYBw3vgymDd4MR7bg9+g==',\n",
       "  'totalCount': '',\n",
       "  'ver': ''},\n",
       " 'list': [{'_returnType': 'json',\n",
       "   'actionKnack': '',\n",
       "   'dataTime': '2018-11-14 23시 발표',\n",
       "   'f_data_time': '2018111423',\n",
       "   'f_data_time1': '20181114',\n",
       "   'f_data_time2': '20181115',\n",
       "   'f_data_time3': '20181116',\n",
       "   'f_inform_data': '20181114',\n",
       "   'imageUrl1': 'http://www.airkorea.or.kr/file/viewImage/?atch_id=99557',\n",
       "   'imageUrl2': 'http://www.airkorea.or.kr/file/viewImage/?atch_id=99558',\n",
       "   'imageUrl3': 'http://www.airkorea.or.kr/file/viewImage/?atch_id=99559',\n",
       "   'imageUrl4': 'http://www.airkorea.or.kr/file/viewImage/?atch_id=99560',\n",
       "   'imageUrl5': 'http://www.airkorea.or.kr/file/viewImage/?atch_id=99561',\n",
       "   'imageUrl6': 'http://www.airkorea.or.kr/file/viewImage/?atch_id=99562',\n",
       "   'imageUrl7': 'http://www.airkorea.or.kr/file/viewImage/?atch_id=99553',\n",
       "   'imageUrl8': 'http://www.airkorea.or.kr/file/viewImage/?atch_id=',\n",
       "   'imageUrl9': 'http://www.airkorea.or.kr/file/viewImage/?atch_id=',\n",
       "   'informCause': \"○ [미세먼지] 대부분 '보통' 수준이겠으나, 일부 서쪽 지역은 대기 정체로 국내 생성 미세먼지가 축적되어 농도가 높을 것으로 예상됨.\",\n",
       "   'informCode': 'PM10',\n",
       "   'informData': '2018-11-14',\n",
       "   'informGrade': '서울 : 보통,제주 : 좋음,전남 : 보통,전북 : 보통,광주 : 보통,경남 : 좋음,경북 : 좋음,울산 : 좋음,대구 : 좋음,부산 : 좋음,충남 : 보통,충북 : 보통,세종 : 보통,대전 : 보통,영동 : 좋음,영서 : 보통,경기남부 : 보통,경기북부 : 보통,인천 : 보통',\n",
       "   'informOverall': \"○ [미세먼지] 광주·전북은 '나쁨', 그 밖의 권역은 '좋음'∼'보통'으로 예상됨.\",\n",
       "   'numOfRows': '10',\n",
       "   'pageNo': '1',\n",
       "   'resultCode': '',\n",
       "   'resultMsg': '',\n",
       "   'searchDate': '',\n",
       "   'serviceKey': '',\n",
       "   'totalCount': '',\n",
       "   'ver': ''},\n",
       "  {'_returnType': 'json',\n",
       "   'actionKnack': '',\n",
       "   'dataTime': '2018-11-14 23시 발표',\n",
       "   'f_data_time': '2018111423',\n",
       "   'f_data_time1': '20181114',\n",
       "   'f_data_time2': '20181115',\n",
       "   'f_data_time3': '20181116',\n",
       "   'f_inform_data': '20181115',\n",
       "   'imageUrl1': 'http://www.airkorea.or.kr/file/viewImage/?atch_id=99557',\n",
       "   'imageUrl2': 'http://www.airkorea.or.kr/file/viewImage/?atch_id=99558',\n",
       "   'imageUrl3': 'http://www.airkorea.or.kr/file/viewImage/?atch_id=99559',\n",
       "   'imageUrl4': 'http://www.airkorea.or.kr/file/viewImage/?atch_id=99560',\n",
       "   'imageUrl5': 'http://www.airkorea.or.kr/file/viewImage/?atch_id=99561',\n",
       "   'imageUrl6': 'http://www.airkorea.or.kr/file/viewImage/?atch_id=99562',\n",
       "   'imageUrl7': 'http://www.airkorea.or.kr/file/viewImage/?atch_id=99553',\n",
       "   'imageUrl8': 'http://www.airkorea.or.kr/file/viewImage/?atch_id=',\n",
       "   'imageUrl9': 'http://www.airkorea.or.kr/file/viewImage/?atch_id=',\n",
       "   'informCause': \"○ [미세먼지] 대부분 '보통' 수준이겠으나, 서쪽지역은 대기 정체로 국내 생성 미세먼지가 축적되어 농도가 높을 것으로 예상됨.\",\n",
       "   'informCode': 'PM10',\n",
       "   'informData': '2018-11-15',\n",
       "   'informGrade': '서울 : 보통,제주 : 좋음,전남 : 보통,전북 : 보통,광주 : 보통,경남 : 보통,경북 : 보통,울산 : 보통,대구 : 보통,부산 : 보통,충남 : 보통,충북 : 보통,세종 : 보통,대전 : 보통,영동 : 좋음,영서 : 보통,경기남부 : 보통,경기북부 : 보통,인천 : 보통',\n",
       "   'informOverall': \"○ [미세먼지] 수도권·충남·광주·전북은 '나쁨', 그 밖의 권역은 '좋음'∼'보통'으로 예상됨.\",\n",
       "   'numOfRows': '10',\n",
       "   'pageNo': '1',\n",
       "   'resultCode': '',\n",
       "   'resultMsg': '',\n",
       "   'searchDate': '',\n",
       "   'serviceKey': '',\n",
       "   'totalCount': '',\n",
       "   'ver': ''},\n",
       "  {'_returnType': 'json',\n",
       "   'actionKnack': '',\n",
       "   'dataTime': '2018-11-14 23시 발표',\n",
       "   'f_data_time': '2018111423',\n",
       "   'f_data_time1': '20181114',\n",
       "   'f_data_time2': '20181115',\n",
       "   'f_data_time3': '20181116',\n",
       "   'f_inform_data': '20181116',\n",
       "   'imageUrl1': 'http://www.airkorea.or.kr/file/viewImage/?atch_id=99563',\n",
       "   'imageUrl2': 'http://www.airkorea.or.kr/file/viewImage/?atch_id=99564',\n",
       "   'imageUrl3': 'http://www.airkorea.or.kr/file/viewImage/?atch_id=99565',\n",
       "   'imageUrl4': 'http://www.airkorea.or.kr/file/viewImage/?atch_id=99566',\n",
       "   'imageUrl5': 'http://www.airkorea.or.kr/file/viewImage/?atch_id=99567',\n",
       "   'imageUrl6': 'http://www.airkorea.or.kr/file/viewImage/?atch_id=99568',\n",
       "   'imageUrl7': 'http://www.airkorea.or.kr/file/viewImage/?atch_id=99553',\n",
       "   'imageUrl8': 'http://www.airkorea.or.kr/file/viewImage/?atch_id=',\n",
       "   'imageUrl9': 'http://www.airkorea.or.kr/file/viewImage/?atch_id=',\n",
       "   'informCause': '○ [미세먼지] 대부분 지역은 대기 정체로 축적된 국내 생성 미세먼지에 국외에서 유입되는 미세먼지가 더해져 농도가 높을 것으로 예상됨.',\n",
       "   'informCode': 'PM10',\n",
       "   'informData': '2018-11-16',\n",
       "   'informGrade': '서울 : 보통,제주 : 좋음,전남 : 보통,전북 : 보통,광주 : 보통,경남 : 보통,경북 : 보통,울산 : 보통,대구 : 보통,부산 : 보통,충남 : 나쁨,충북 : 보통,세종 : 보통,대전 : 보통,영동 : 보통,영서 : 보통,경기남부 : 나쁨,경기북부 : 보통,인천 : 보통',\n",
       "   'informOverall': \"○ [미세먼지] 수도권·강원권·충청권·광주·전북·대구·경북은 '나쁨', 그 밖의 권역은 '좋음'∼'보통'으로 예상됨.\",\n",
       "   'numOfRows': '10',\n",
       "   'pageNo': '1',\n",
       "   'resultCode': '',\n",
       "   'resultMsg': '',\n",
       "   'searchDate': '',\n",
       "   'serviceKey': '',\n",
       "   'totalCount': '',\n",
       "   'ver': ''},\n",
       "  {'_returnType': 'json',\n",
       "   'actionKnack': '',\n",
       "   'dataTime': '2018-11-14 23시 발표',\n",
       "   'f_data_time': '2018111423',\n",
       "   'f_data_time1': '20181114',\n",
       "   'f_data_time2': '20181115',\n",
       "   'f_data_time3': '20181116',\n",
       "   'f_inform_data': '20181114',\n",
       "   'imageUrl1': 'http://www.airkorea.or.kr/file/viewImage/?atch_id=99557',\n",
       "   'imageUrl2': 'http://www.airkorea.or.kr/file/viewImage/?atch_id=99558',\n",
       "   'imageUrl3': 'http://www.airkorea.or.kr/file/viewImage/?atch_id=99559',\n",
       "   'imageUrl4': 'http://www.airkorea.or.kr/file/viewImage/?atch_id=99560',\n",
       "   'imageUrl5': 'http://www.airkorea.or.kr/file/viewImage/?atch_id=99561',\n",
       "   'imageUrl6': 'http://www.airkorea.or.kr/file/viewImage/?atch_id=99562',\n",
       "   'imageUrl7': 'http://www.airkorea.or.kr/file/viewImage/?atch_id=',\n",
       "   'imageUrl8': 'http://www.airkorea.or.kr/file/viewImage/?atch_id=99554',\n",
       "   'imageUrl9': 'http://www.airkorea.or.kr/file/viewImage/?atch_id=',\n",
       "   'informCause': \"○ [미세먼지] 대부분 '보통' 수준이겠으나, 일부 서쪽 지역은 대기 정체로 국내 생성 미세먼지가 축적되어 농도가 높을 것으로 예상됨.\",\n",
       "   'informCode': 'PM25',\n",
       "   'informData': '2018-11-14',\n",
       "   'informGrade': '서울 : 보통,제주 : 보통,전남 : 보통,전북 : 나쁨,광주 : 나쁨,경남 : 좋음,경북 : 보통,울산 : 좋음,대구 : 좋음,부산 : 좋음,충남 : 보통,충북 : 보통,세종 : 보통,대전 : 보통,영동 : 좋음,영서 : 보통,경기남부 : 보통,경기북부 : 보통,인천 : 보통',\n",
       "   'informOverall': \"○ [미세먼지] 광주·전북은 '나쁨', 그 밖의 권역은 '좋음'∼'보통'으로 예상됨.\",\n",
       "   'numOfRows': '10',\n",
       "   'pageNo': '1',\n",
       "   'resultCode': '',\n",
       "   'resultMsg': '',\n",
       "   'searchDate': '',\n",
       "   'serviceKey': '',\n",
       "   'totalCount': '',\n",
       "   'ver': ''},\n",
       "  {'_returnType': 'json',\n",
       "   'actionKnack': '',\n",
       "   'dataTime': '2018-11-14 23시 발표',\n",
       "   'f_data_time': '2018111423',\n",
       "   'f_data_time1': '20181114',\n",
       "   'f_data_time2': '20181115',\n",
       "   'f_data_time3': '20181116',\n",
       "   'f_inform_data': '20181115',\n",
       "   'imageUrl1': 'http://www.airkorea.or.kr/file/viewImage/?atch_id=99557',\n",
       "   'imageUrl2': 'http://www.airkorea.or.kr/file/viewImage/?atch_id=99558',\n",
       "   'imageUrl3': 'http://www.airkorea.or.kr/file/viewImage/?atch_id=99559',\n",
       "   'imageUrl4': 'http://www.airkorea.or.kr/file/viewImage/?atch_id=99560',\n",
       "   'imageUrl5': 'http://www.airkorea.or.kr/file/viewImage/?atch_id=99561',\n",
       "   'imageUrl6': 'http://www.airkorea.or.kr/file/viewImage/?atch_id=99562',\n",
       "   'imageUrl7': 'http://www.airkorea.or.kr/file/viewImage/?atch_id=',\n",
       "   'imageUrl8': 'http://www.airkorea.or.kr/file/viewImage/?atch_id=99554',\n",
       "   'imageUrl9': 'http://www.airkorea.or.kr/file/viewImage/?atch_id=',\n",
       "   'informCause': \"○ [미세먼지] 대부분 '보통' 수준이겠으나, 서쪽지역은 대기 정체로 국내 생성 미세먼지가 축적되어 농도가 높을 것으로 예상됨.\",\n",
       "   'informCode': 'PM25',\n",
       "   'informData': '2018-11-15',\n",
       "   'informGrade': '서울 : 나쁨,제주 : 좋음,전남 : 보통,전북 : 나쁨,광주 : 나쁨,경남 : 보통,경북 : 보통,울산 : 보통,대구 : 보통,부산 : 보통,충남 : 나쁨,충북 : 보통,세종 : 보통,대전 : 보통,영동 : 좋음,영서 : 보통,경기남부 : 나쁨,경기북부 : 나쁨,인천 : 나쁨',\n",
       "   'informOverall': \"○ [미세먼지] 수도권·충남·광주·전북은 '나쁨', 그 밖의 권역은 '좋음'∼'보통'으로 예상됨.\",\n",
       "   'numOfRows': '10',\n",
       "   'pageNo': '1',\n",
       "   'resultCode': '',\n",
       "   'resultMsg': '',\n",
       "   'searchDate': '',\n",
       "   'serviceKey': '',\n",
       "   'totalCount': '',\n",
       "   'ver': ''},\n",
       "  {'_returnType': 'json',\n",
       "   'actionKnack': '',\n",
       "   'dataTime': '2018-11-14 23시 발표',\n",
       "   'f_data_time': '2018111423',\n",
       "   'f_data_time1': '20181114',\n",
       "   'f_data_time2': '20181115',\n",
       "   'f_data_time3': '20181116',\n",
       "   'f_inform_data': '20181116',\n",
       "   'imageUrl1': 'http://www.airkorea.or.kr/file/viewImage/?atch_id=99563',\n",
       "   'imageUrl2': 'http://www.airkorea.or.kr/file/viewImage/?atch_id=99564',\n",
       "   'imageUrl3': 'http://www.airkorea.or.kr/file/viewImage/?atch_id=99565',\n",
       "   'imageUrl4': 'http://www.airkorea.or.kr/file/viewImage/?atch_id=99566',\n",
       "   'imageUrl5': 'http://www.airkorea.or.kr/file/viewImage/?atch_id=99567',\n",
       "   'imageUrl6': 'http://www.airkorea.or.kr/file/viewImage/?atch_id=99568',\n",
       "   'imageUrl7': 'http://www.airkorea.or.kr/file/viewImage/?atch_id=',\n",
       "   'imageUrl8': 'http://www.airkorea.or.kr/file/viewImage/?atch_id=99554',\n",
       "   'imageUrl9': 'http://www.airkorea.or.kr/file/viewImage/?atch_id=',\n",
       "   'informCause': '○ [미세먼지] 대부분 지역은 대기 정체로 축적된 국내 생성 미세먼지에 국외에서 유입되는 미세먼지가 더해져 농도가 높을 것으로 예상됨.',\n",
       "   'informCode': 'PM25',\n",
       "   'informData': '2018-11-16',\n",
       "   'informGrade': '서울 : 나쁨,제주 : 좋음,전남 : 보통,전북 : 나쁨,광주 : 나쁨,경남 : 보통,경북 : 나쁨,울산 : 보통,대구 : 나쁨,부산 : 보통,충남 : 나쁨,충북 : 나쁨,세종 : 나쁨,대전 : 나쁨,영동 : 나쁨,영서 : 나쁨,경기남부 : 나쁨,경기북부 : 나쁨,인천 : 나쁨',\n",
       "   'informOverall': \"○ [미세먼지] 수도권·강원권·충청권·광주·전북·대구·경북은 '나쁨', 그 밖의 권역은 '좋음'∼'보통'으로 예상됨.\",\n",
       "   'numOfRows': '10',\n",
       "   'pageNo': '1',\n",
       "   'resultCode': '',\n",
       "   'resultMsg': '',\n",
       "   'searchDate': '',\n",
       "   'serviceKey': '',\n",
       "   'totalCount': '',\n",
       "   'ver': ''},\n",
       "  {'_returnType': 'json',\n",
       "   'actionKnack': '',\n",
       "   'dataTime': '2018-11-14 17시 발표',\n",
       "   'f_data_time': '2018111417',\n",
       "   'f_data_time1': '20181114',\n",
       "   'f_data_time2': '20181115',\n",
       "   'f_data_time3': '20181116',\n",
       "   'f_inform_data': '20181114',\n",
       "   'imageUrl1': 'http://www.airkorea.or.kr/file/viewImage/?atch_id=99541',\n",
       "   'imageUrl2': 'http://www.airkorea.or.kr/file/viewImage/?atch_id=99542',\n",
       "   'imageUrl3': 'http://www.airkorea.or.kr/file/viewImage/?atch_id=99543',\n",
       "   'imageUrl4': 'http://www.airkorea.or.kr/file/viewImage/?atch_id=99544',\n",
       "   'imageUrl5': 'http://www.airkorea.or.kr/file/viewImage/?atch_id=99545',\n",
       "   'imageUrl6': 'http://www.airkorea.or.kr/file/viewImage/?atch_id=99546',\n",
       "   'imageUrl7': 'http://www.airkorea.or.kr/file/viewImage/?atch_id=99553',\n",
       "   'imageUrl8': 'http://www.airkorea.or.kr/file/viewImage/?atch_id=',\n",
       "   'imageUrl9': 'http://www.airkorea.or.kr/file/viewImage/?atch_id=',\n",
       "   'informCause': \"○ [미세먼지] 대부분 '보통' 수준이겠으나, 일부 남서부지역은 대기 정체로 국내 생성 미세먼지가 축적되어 농도가 높을 것으로 예상됨.\",\n",
       "   'informCode': 'PM10',\n",
       "   'informData': '2018-11-14',\n",
       "   'informGrade': '서울 : 보통,제주 : 좋음,전남 : 보통,전북 : 보통,광주 : 보통,경남 : 좋음,경북 : 좋음,울산 : 좋음,대구 : 좋음,부산 : 좋음,충남 : 보통,충북 : 보통,세종 : 보통,대전 : 보통,영동 : 좋음,영서 : 보통,경기남부 : 보통,경기북부 : 보통,인천 : 보통',\n",
       "   'informOverall': \"○ [미세먼지] 광주·전북은 '나쁨', 그 밖의 권역은 '좋음'∼'보통'으로 예상됨.\",\n",
       "   'numOfRows': '10',\n",
       "   'pageNo': '1',\n",
       "   'resultCode': '',\n",
       "   'resultMsg': '',\n",
       "   'searchDate': '',\n",
       "   'serviceKey': '',\n",
       "   'totalCount': '',\n",
       "   'ver': ''},\n",
       "  {'_returnType': 'json',\n",
       "   'actionKnack': '',\n",
       "   'dataTime': '2018-11-14 17시 발표',\n",
       "   'f_data_time': '2018111417',\n",
       "   'f_data_time1': '20181114',\n",
       "   'f_data_time2': '20181115',\n",
       "   'f_data_time3': '20181116',\n",
       "   'f_inform_data': '20181115',\n",
       "   'imageUrl1': 'http://www.airkorea.or.kr/file/viewImage/?atch_id=99541',\n",
       "   'imageUrl2': 'http://www.airkorea.or.kr/file/viewImage/?atch_id=99542',\n",
       "   'imageUrl3': 'http://www.airkorea.or.kr/file/viewImage/?atch_id=99543',\n",
       "   'imageUrl4': 'http://www.airkorea.or.kr/file/viewImage/?atch_id=99544',\n",
       "   'imageUrl5': 'http://www.airkorea.or.kr/file/viewImage/?atch_id=99545',\n",
       "   'imageUrl6': 'http://www.airkorea.or.kr/file/viewImage/?atch_id=99546',\n",
       "   'imageUrl7': 'http://www.airkorea.or.kr/file/viewImage/?atch_id=99553',\n",
       "   'imageUrl8': 'http://www.airkorea.or.kr/file/viewImage/?atch_id=',\n",
       "   'imageUrl9': 'http://www.airkorea.or.kr/file/viewImage/?atch_id=',\n",
       "   'informCause': \"○ [미세먼지] 대부분 '보통' 수준이겠으나, 대부분 서쪽지역은 대기 정체로 국내 생성 미세먼지가 축적되어 농도가 높을 것으로 예상됨.\",\n",
       "   'informCode': 'PM10',\n",
       "   'informData': '2018-11-15',\n",
       "   'informGrade': '서울 : 보통,제주 : 좋음,전남 : 보통,전북 : 보통,광주 : 보통,경남 : 보통,경북 : 보통,울산 : 보통,대구 : 보통,부산 : 보통,충남 : 보통,충북 : 보통,세종 : 보통,대전 : 보통,영동 : 좋음,영서 : 보통,경기남부 : 보통,경기북부 : 보통,인천 : 보통',\n",
       "   'informOverall': \"○ [미세먼지] 수도권·충남·광주·전북은 '나쁨', 그 밖의 권역은 '좋음'∼'보통'으로 예상됨.\",\n",
       "   'numOfRows': '10',\n",
       "   'pageNo': '1',\n",
       "   'resultCode': '',\n",
       "   'resultMsg': '',\n",
       "   'searchDate': '',\n",
       "   'serviceKey': '',\n",
       "   'totalCount': '',\n",
       "   'ver': ''},\n",
       "  {'_returnType': 'json',\n",
       "   'actionKnack': '',\n",
       "   'dataTime': '2018-11-14 17시 발표',\n",
       "   'f_data_time': '2018111417',\n",
       "   'f_data_time1': '20181114',\n",
       "   'f_data_time2': '20181115',\n",
       "   'f_data_time3': '20181116',\n",
       "   'f_inform_data': '20181116',\n",
       "   'imageUrl1': 'http://www.airkorea.or.kr/file/viewImage/?atch_id=99547',\n",
       "   'imageUrl2': 'http://www.airkorea.or.kr/file/viewImage/?atch_id=99548',\n",
       "   'imageUrl3': 'http://www.airkorea.or.kr/file/viewImage/?atch_id=99549',\n",
       "   'imageUrl4': 'http://www.airkorea.or.kr/file/viewImage/?atch_id=99550',\n",
       "   'imageUrl5': 'http://www.airkorea.or.kr/file/viewImage/?atch_id=99551',\n",
       "   'imageUrl6': 'http://www.airkorea.or.kr/file/viewImage/?atch_id=99552',\n",
       "   'imageUrl7': 'http://www.airkorea.or.kr/file/viewImage/?atch_id=99553',\n",
       "   'imageUrl8': 'http://www.airkorea.or.kr/file/viewImage/?atch_id=',\n",
       "   'imageUrl9': 'http://www.airkorea.or.kr/file/viewImage/?atch_id=',\n",
       "   'informCause': '○ [미세먼지] 대부분 지역은 대기 정체로 축적된 국내 생성 미세먼지에 국외에서 유입되는 미세먼지가 더해져 농도가 높을 것으로 예상됨.',\n",
       "   'informCode': 'PM10',\n",
       "   'informData': '2018-11-16',\n",
       "   'informGrade': '서울 : 보통,제주 : 좋음,전남 : 보통,전북 : 보통,광주 : 보통,경남 : 보통,경북 : 보통,울산 : 보통,대구 : 보통,부산 : 보통,충남 : 나쁨,충북 : 보통,세종 : 보통,대전 : 보통,영동 : 보통,영서 : 보통,경기남부 : 나쁨,경기북부 : 보통,인천 : 보통',\n",
       "   'informOverall': \"○ [미세먼지] 수도권·강원권·충청권·광주·전북·대구·경북은 '나쁨', 그 밖의 권역은 '좋음'∼'보통'으로 예상됨.\",\n",
       "   'numOfRows': '10',\n",
       "   'pageNo': '1',\n",
       "   'resultCode': '',\n",
       "   'resultMsg': '',\n",
       "   'searchDate': '',\n",
       "   'serviceKey': '',\n",
       "   'totalCount': '',\n",
       "   'ver': ''},\n",
       "  {'_returnType': 'json',\n",
       "   'actionKnack': '',\n",
       "   'dataTime': '2018-11-14 17시 발표',\n",
       "   'f_data_time': '2018111417',\n",
       "   'f_data_time1': '20181114',\n",
       "   'f_data_time2': '20181115',\n",
       "   'f_data_time3': '20181116',\n",
       "   'f_inform_data': '20181114',\n",
       "   'imageUrl1': 'http://www.airkorea.or.kr/file/viewImage/?atch_id=99541',\n",
       "   'imageUrl2': 'http://www.airkorea.or.kr/file/viewImage/?atch_id=99542',\n",
       "   'imageUrl3': 'http://www.airkorea.or.kr/file/viewImage/?atch_id=99543',\n",
       "   'imageUrl4': 'http://www.airkorea.or.kr/file/viewImage/?atch_id=99544',\n",
       "   'imageUrl5': 'http://www.airkorea.or.kr/file/viewImage/?atch_id=99545',\n",
       "   'imageUrl6': 'http://www.airkorea.or.kr/file/viewImage/?atch_id=99546',\n",
       "   'imageUrl7': 'http://www.airkorea.or.kr/file/viewImage/?atch_id=',\n",
       "   'imageUrl8': 'http://www.airkorea.or.kr/file/viewImage/?atch_id=99554',\n",
       "   'imageUrl9': 'http://www.airkorea.or.kr/file/viewImage/?atch_id=',\n",
       "   'informCause': \"○ [미세먼지] 대부분 '보통' 수준이겠으나, 일부 남서부지역은 대기 정체로 국내 생성 미세먼지가 축적되어 농도가 높을 것으로 예상됨.\",\n",
       "   'informCode': 'PM25',\n",
       "   'informData': '2018-11-14',\n",
       "   'informGrade': '서울 : 보통,제주 : 보통,전남 : 보통,전북 : 나쁨,광주 : 나쁨,경남 : 좋음,경북 : 보통,울산 : 좋음,대구 : 보통,부산 : 좋음,충남 : 보통,충북 : 보통,세종 : 보통,대전 : 보통,영동 : 좋음,영서 : 보통,경기남부 : 보통,경기북부 : 보통,인천 : 보통',\n",
       "   'informOverall': \"○ [미세먼지] 광주·전북은 '나쁨', 그 밖의 권역은 '좋음'∼'보통'으로 예상됨.\",\n",
       "   'numOfRows': '10',\n",
       "   'pageNo': '1',\n",
       "   'resultCode': '',\n",
       "   'resultMsg': '',\n",
       "   'searchDate': '',\n",
       "   'serviceKey': '',\n",
       "   'totalCount': '',\n",
       "   'ver': ''},\n",
       "  {'_returnType': 'json',\n",
       "   'actionKnack': '',\n",
       "   'dataTime': '2018-11-14 17시 발표',\n",
       "   'f_data_time': '2018111417',\n",
       "   'f_data_time1': '20181114',\n",
       "   'f_data_time2': '20181115',\n",
       "   'f_data_time3': '20181116',\n",
       "   'f_inform_data': '20181115',\n",
       "   'imageUrl1': 'http://www.airkorea.or.kr/file/viewImage/?atch_id=99541',\n",
       "   'imageUrl2': 'http://www.airkorea.or.kr/file/viewImage/?atch_id=99542',\n",
       "   'imageUrl3': 'http://www.airkorea.or.kr/file/viewImage/?atch_id=99543',\n",
       "   'imageUrl4': 'http://www.airkorea.or.kr/file/viewImage/?atch_id=99544',\n",
       "   'imageUrl5': 'http://www.airkorea.or.kr/file/viewImage/?atch_id=99545',\n",
       "   'imageUrl6': 'http://www.airkorea.or.kr/file/viewImage/?atch_id=99546',\n",
       "   'imageUrl7': 'http://www.airkorea.or.kr/file/viewImage/?atch_id=',\n",
       "   'imageUrl8': 'http://www.airkorea.or.kr/file/viewImage/?atch_id=99554',\n",
       "   'imageUrl9': 'http://www.airkorea.or.kr/file/viewImage/?atch_id=',\n",
       "   'informCause': \"○ [미세먼지] 대부분 '보통' 수준이겠으나, 대부분 서쪽지역은 대기 정체로 국내 생성 미세먼지가 축적되어 농도가 높을 것으로 예상됨.\",\n",
       "   'informCode': 'PM25',\n",
       "   'informData': '2018-11-15',\n",
       "   'informGrade': '서울 : 나쁨,제주 : 좋음,전남 : 보통,전북 : 나쁨,광주 : 나쁨,경남 : 보통,경북 : 보통,울산 : 보통,대구 : 보통,부산 : 보통,충남 : 나쁨,충북 : 보통,세종 : 보통,대전 : 보통,영동 : 좋음,영서 : 보통,경기남부 : 나쁨,경기북부 : 나쁨,인천 : 나쁨',\n",
       "   'informOverall': \"○ [미세먼지] 수도권·충남·광주·전북은 '나쁨', 그 밖의 권역은 '좋음'∼'보통'으로 예상됨.\",\n",
       "   'numOfRows': '10',\n",
       "   'pageNo': '1',\n",
       "   'resultCode': '',\n",
       "   'resultMsg': '',\n",
       "   'searchDate': '',\n",
       "   'serviceKey': '',\n",
       "   'totalCount': '',\n",
       "   'ver': ''},\n",
       "  {'_returnType': 'json',\n",
       "   'actionKnack': '',\n",
       "   'dataTime': '2018-11-14 17시 발표',\n",
       "   'f_data_time': '2018111417',\n",
       "   'f_data_time1': '20181114',\n",
       "   'f_data_time2': '20181115',\n",
       "   'f_data_time3': '20181116',\n",
       "   'f_inform_data': '20181116',\n",
       "   'imageUrl1': 'http://www.airkorea.or.kr/file/viewImage/?atch_id=99547',\n",
       "   'imageUrl2': 'http://www.airkorea.or.kr/file/viewImage/?atch_id=99548',\n",
       "   'imageUrl3': 'http://www.airkorea.or.kr/file/viewImage/?atch_id=99549',\n",
       "   'imageUrl4': 'http://www.airkorea.or.kr/file/viewImage/?atch_id=99550',\n",
       "   'imageUrl5': 'http://www.airkorea.or.kr/file/viewImage/?atch_id=99551',\n",
       "   'imageUrl6': 'http://www.airkorea.or.kr/file/viewImage/?atch_id=99552',\n",
       "   'imageUrl7': 'http://www.airkorea.or.kr/file/viewImage/?atch_id=',\n",
       "   'imageUrl8': 'http://www.airkorea.or.kr/file/viewImage/?atch_id=99554',\n",
       "   'imageUrl9': 'http://www.airkorea.or.kr/file/viewImage/?atch_id=',\n",
       "   'informCause': '○ [미세먼지] 대부분 지역은 대기 정체로 축적된 국내 생성 미세먼지에 국외에서 유입되는 미세먼지가 더해져 농도가 높을 것으로 예상됨.',\n",
       "   'informCode': 'PM25',\n",
       "   'informData': '2018-11-16',\n",
       "   'informGrade': '서울 : 나쁨,제주 : 좋음,전남 : 보통,전북 : 나쁨,광주 : 나쁨,경남 : 보통,경북 : 나쁨,울산 : 보통,대구 : 나쁨,부산 : 보통,충남 : 나쁨,충북 : 나쁨,세종 : 나쁨,대전 : 나쁨,영동 : 나쁨,영서 : 나쁨,경기남부 : 나쁨,경기북부 : 나쁨,인천 : 나쁨',\n",
       "   'informOverall': \"○ [미세먼지] 수도권·강원권·충청권·광주·전북·대구·경북은 '나쁨', 그 밖의 권역은 '좋음'∼'보통'으로 예상됨.\",\n",
       "   'numOfRows': '10',\n",
       "   'pageNo': '1',\n",
       "   'resultCode': '',\n",
       "   'resultMsg': '',\n",
       "   'searchDate': '',\n",
       "   'serviceKey': '',\n",
       "   'totalCount': '',\n",
       "   'ver': ''},\n",
       "  {'_returnType': 'json',\n",
       "   'actionKnack': '',\n",
       "   'dataTime': '2018-11-14 11시 발표',\n",
       "   'f_data_time': '2018111411',\n",
       "   'f_data_time1': '20181114',\n",
       "   'f_data_time2': '20181115',\n",
       "   'f_data_time3': '20181116',\n",
       "   'f_inform_data': '20181114',\n",
       "   'imageUrl1': 'http://www.airkorea.or.kr/file/viewImage/?atch_id=99525',\n",
       "   'imageUrl2': 'http://www.airkorea.or.kr/file/viewImage/?atch_id=99526',\n",
       "   'imageUrl3': 'http://www.airkorea.or.kr/file/viewImage/?atch_id=99527',\n",
       "   'imageUrl4': 'http://www.airkorea.or.kr/file/viewImage/?atch_id=99528',\n",
       "   'imageUrl5': 'http://www.airkorea.or.kr/file/viewImage/?atch_id=99529',\n",
       "   'imageUrl6': 'http://www.airkorea.or.kr/file/viewImage/?atch_id=99530',\n",
       "   'imageUrl7': 'http://www.airkorea.or.kr/file/viewImage/?atch_id=99489',\n",
       "   'imageUrl8': 'http://www.airkorea.or.kr/file/viewImage/?atch_id=',\n",
       "   'imageUrl9': 'http://www.airkorea.or.kr/file/viewImage/?atch_id=',\n",
       "   'informCause': \"○ [미세먼지] 대부분 '보통' 수준이겠으나, 일부 서쪽지역은 대기 정체로 국내 생성 미세먼지가 축적되어 농도가 높을 것으로 예상됨.\",\n",
       "   'informCode': 'PM10',\n",
       "   'informData': '2018-11-14',\n",
       "   'informGrade': '서울 : 보통,제주 : 좋음,전남 : 보통,전북 : 보통,광주 : 보통,경남 : 좋음,경북 : 좋음,울산 : 좋음,대구 : 좋음,부산 : 좋음,충남 : 보통,충북 : 보통,세종 : 보통,대전 : 보통,영동 : 좋음,영서 : 보통,경기남부 : 보통,경기북부 : 보통,인천 : 보통',\n",
       "   'informOverall': \"○ [미세먼지] 충남·광주·전북은 '나쁨', 그 밖의 권역은 '좋음'∼'보통'으로 예상됨.\",\n",
       "   'numOfRows': '10',\n",
       "   'pageNo': '1',\n",
       "   'resultCode': '',\n",
       "   'resultMsg': '',\n",
       "   'searchDate': '',\n",
       "   'serviceKey': '',\n",
       "   'totalCount': '',\n",
       "   'ver': ''},\n",
       "  {'_returnType': 'json',\n",
       "   'actionKnack': '',\n",
       "   'dataTime': '2018-11-14 11시 발표',\n",
       "   'f_data_time': '2018111411',\n",
       "   'f_data_time1': '20181114',\n",
       "   'f_data_time2': '20181115',\n",
       "   'f_data_time3': '20181116',\n",
       "   'f_inform_data': '20181115',\n",
       "   'imageUrl1': '',\n",
       "   'imageUrl2': '',\n",
       "   'imageUrl3': '',\n",
       "   'imageUrl4': '',\n",
       "   'imageUrl5': '',\n",
       "   'imageUrl6': '',\n",
       "   'imageUrl7': 'http://www.airkorea.or.kr/file/viewImage/?atch_id=99489',\n",
       "   'imageUrl8': 'http://www.airkorea.or.kr/file/viewImage/?atch_id=',\n",
       "   'imageUrl9': 'http://www.airkorea.or.kr/file/viewImage/?atch_id=',\n",
       "   'informCause': \"○ [미세먼지] 대부분 '보통' 수준이겠으나, 일부 중서부지역은 대기 정체로 국내 생성 미세먼지가 축적되어 농도가 높을 것으로 예상됨.\",\n",
       "   'informCode': 'PM10',\n",
       "   'informData': '2018-11-15',\n",
       "   'informGrade': '서울 : 보통,제주 : 좋음,전남 : 보통,전북 : 보통,광주 : 보통,경남 : 보통,경북 : 보통,울산 : 보통,대구 : 보통,부산 : 좋음,충남 : 보통,충북 : 보통,세종 : 보통,대전 : 보통,영동 : 좋음,영서 : 보통,경기남부 : 보통,경기북부 : 보통,인천 : 보통',\n",
       "   'informOverall': \"○ [미세먼지] 서울·인천·경기남부·충남은 '나쁨', 그 밖의 권역은 '좋음'∼'보통'으로 예상됨.\",\n",
       "   'numOfRows': '10',\n",
       "   'pageNo': '1',\n",
       "   'resultCode': '',\n",
       "   'resultMsg': '',\n",
       "   'searchDate': '',\n",
       "   'serviceKey': '',\n",
       "   'totalCount': '',\n",
       "   'ver': ''},\n",
       "  {'_returnType': 'json',\n",
       "   'actionKnack': '',\n",
       "   'dataTime': '2018-11-14 11시 발표',\n",
       "   'f_data_time': '2018111411',\n",
       "   'f_data_time1': '20181114',\n",
       "   'f_data_time2': '20181115',\n",
       "   'f_data_time3': '20181116',\n",
       "   'f_inform_data': '20181114',\n",
       "   'imageUrl1': 'http://www.airkorea.or.kr/file/viewImage/?atch_id=99525',\n",
       "   'imageUrl2': 'http://www.airkorea.or.kr/file/viewImage/?atch_id=99526',\n",
       "   'imageUrl3': 'http://www.airkorea.or.kr/file/viewImage/?atch_id=99527',\n",
       "   'imageUrl4': 'http://www.airkorea.or.kr/file/viewImage/?atch_id=99528',\n",
       "   'imageUrl5': 'http://www.airkorea.or.kr/file/viewImage/?atch_id=99529',\n",
       "   'imageUrl6': 'http://www.airkorea.or.kr/file/viewImage/?atch_id=99530',\n",
       "   'imageUrl7': 'http://www.airkorea.or.kr/file/viewImage/?atch_id=',\n",
       "   'imageUrl8': 'http://www.airkorea.or.kr/file/viewImage/?atch_id=99490',\n",
       "   'imageUrl9': 'http://www.airkorea.or.kr/file/viewImage/?atch_id=',\n",
       "   'informCause': \"○ [미세먼지] 대부분 '보통' 수준이겠으나, 일부 서쪽지역은 대기 정체로 국내 생성 미세먼지가 축적되어 농도가 높을 것으로 예상됨.\",\n",
       "   'informCode': 'PM25',\n",
       "   'informData': '2018-11-14',\n",
       "   'informGrade': '서울 : 보통,제주 : 보통,전남 : 보통,전북 : 나쁨,광주 : 나쁨,경남 : 좋음,경북 : 보통,울산 : 좋음,대구 : 보통,부산 : 좋음,충남 : 나쁨,충북 : 보통,세종 : 보통,대전 : 보통,영동 : 좋음,영서 : 보통,경기남부 : 보통,경기북부 : 보통,인천 : 보통',\n",
       "   'informOverall': \"○ [미세먼지] 충남·광주·전북은 '나쁨', 그 밖의 권역은 '좋음'∼'보통'으로 예상됨.\",\n",
       "   'numOfRows': '10',\n",
       "   'pageNo': '1',\n",
       "   'resultCode': '',\n",
       "   'resultMsg': '',\n",
       "   'searchDate': '',\n",
       "   'serviceKey': '',\n",
       "   'totalCount': '',\n",
       "   'ver': ''},\n",
       "  {'_returnType': 'json',\n",
       "   'actionKnack': '',\n",
       "   'dataTime': '2018-11-14 11시 발표',\n",
       "   'f_data_time': '2018111411',\n",
       "   'f_data_time1': '20181114',\n",
       "   'f_data_time2': '20181115',\n",
       "   'f_data_time3': '20181116',\n",
       "   'f_inform_data': '20181115',\n",
       "   'imageUrl1': '',\n",
       "   'imageUrl2': '',\n",
       "   'imageUrl3': '',\n",
       "   'imageUrl4': '',\n",
       "   'imageUrl5': '',\n",
       "   'imageUrl6': '',\n",
       "   'imageUrl7': 'http://www.airkorea.or.kr/file/viewImage/?atch_id=',\n",
       "   'imageUrl8': 'http://www.airkorea.or.kr/file/viewImage/?atch_id=99490',\n",
       "   'imageUrl9': 'http://www.airkorea.or.kr/file/viewImage/?atch_id=',\n",
       "   'informCause': \"○ [미세먼지] 대부분 '보통' 수준이겠으나, 일부 중서부지역은 대기 정체로 국내 생성 미세먼지가 축적되어 농도가 높을 것으로 예상됨.\",\n",
       "   'informCode': 'PM25',\n",
       "   'informData': '2018-11-15',\n",
       "   'informGrade': '서울 : 나쁨,제주 : 좋음,전남 : 보통,전북 : 보통,광주 : 보통,경남 : 보통,경북 : 보통,울산 : 보통,대구 : 보통,부산 : 좋음,충남 : 나쁨,충북 : 보통,세종 : 보통,대전 : 보통,영동 : 좋음,영서 : 보통,경기남부 : 나쁨,경기북부 : 보통,인천 : 나쁨',\n",
       "   'informOverall': \"○ [미세먼지] 서울·인천·경기남부·충남은 '나쁨', 그 밖의 권역은 '좋음'∼'보통'으로 예상됨.\",\n",
       "   'numOfRows': '10',\n",
       "   'pageNo': '1',\n",
       "   'resultCode': '',\n",
       "   'resultMsg': '',\n",
       "   'searchDate': '',\n",
       "   'serviceKey': '',\n",
       "   'totalCount': '',\n",
       "   'ver': ''},\n",
       "  {'_returnType': 'json',\n",
       "   'actionKnack': '',\n",
       "   'dataTime': '2018-11-14 05시 발표',\n",
       "   'f_data_time': '2018111405',\n",
       "   'f_data_time1': '20181114',\n",
       "   'f_data_time2': '20181115',\n",
       "   'f_data_time3': '20181116',\n",
       "   'f_inform_data': '20181114',\n",
       "   'imageUrl1': 'http://www.airkorea.or.kr/file/viewImage/?atch_id=99509',\n",
       "   'imageUrl2': 'http://www.airkorea.or.kr/file/viewImage/?atch_id=99510',\n",
       "   'imageUrl3': 'http://www.airkorea.or.kr/file/viewImage/?atch_id=99511',\n",
       "   'imageUrl4': 'http://www.airkorea.or.kr/file/viewImage/?atch_id=99512',\n",
       "   'imageUrl5': 'http://www.airkorea.or.kr/file/viewImage/?atch_id=99513',\n",
       "   'imageUrl6': 'http://www.airkorea.or.kr/file/viewImage/?atch_id=99514',\n",
       "   'imageUrl7': 'http://www.airkorea.or.kr/file/viewImage/?atch_id=99489',\n",
       "   'imageUrl8': 'http://www.airkorea.or.kr/file/viewImage/?atch_id=',\n",
       "   'imageUrl9': 'http://www.airkorea.or.kr/file/viewImage/?atch_id=',\n",
       "   'informCause': \"○ [미세먼지] 대부분 '보통' 수준이겠으나, 일부 중서부지역은 대기 정체로 국내 생성 미세먼지가 축적되어 농도가 높을 것으로 예상됨.\",\n",
       "   'informCode': 'PM10',\n",
       "   'informData': '2018-11-14',\n",
       "   'informGrade': '서울 : 보통,제주 : 좋음,전남 : 보통,전북 : 보통,광주 : 보통,경남 : 좋음,경북 : 좋음,울산 : 좋음,대구 : 좋음,부산 : 좋음,충남 : 보통,충북 : 보통,세종 : 보통,대전 : 보통,영동 : 좋음,영서 : 보통,경기남부 : 보통,경기북부 : 보통,인천 : 보통',\n",
       "   'informOverall': \"○ [미세먼지] 충남은 '나쁨', 그 밖의 권역은 '좋음'∼'보통'으로 예상됨.\",\n",
       "   'numOfRows': '10',\n",
       "   'pageNo': '1',\n",
       "   'resultCode': '',\n",
       "   'resultMsg': '',\n",
       "   'searchDate': '',\n",
       "   'serviceKey': '',\n",
       "   'totalCount': '',\n",
       "   'ver': ''},\n",
       "  {'_returnType': 'json',\n",
       "   'actionKnack': '',\n",
       "   'dataTime': '2018-11-14 05시 발표',\n",
       "   'f_data_time': '2018111405',\n",
       "   'f_data_time1': '20181114',\n",
       "   'f_data_time2': '20181115',\n",
       "   'f_data_time3': '20181116',\n",
       "   'f_inform_data': '20181115',\n",
       "   'imageUrl1': '',\n",
       "   'imageUrl2': '',\n",
       "   'imageUrl3': '',\n",
       "   'imageUrl4': '',\n",
       "   'imageUrl5': '',\n",
       "   'imageUrl6': '',\n",
       "   'imageUrl7': 'http://www.airkorea.or.kr/file/viewImage/?atch_id=99489',\n",
       "   'imageUrl8': 'http://www.airkorea.or.kr/file/viewImage/?atch_id=',\n",
       "   'imageUrl9': 'http://www.airkorea.or.kr/file/viewImage/?atch_id=',\n",
       "   'informCause': \"○ [미세먼지] 대부분 '보통' 수준이겠으나, 일부 중서부지역은 대기 정체로 국내 생성 미세먼지가 축적되어 농도가 높을 것으로 예상됨.\",\n",
       "   'informCode': 'PM10',\n",
       "   'informData': '2018-11-15',\n",
       "   'informGrade': '서울 : 보통,제주 : 좋음,전남 : 보통,전북 : 보통,광주 : 보통,경남 : 보통,경북 : 보통,울산 : 보통,대구 : 보통,부산 : 좋음,충남 : 보통,충북 : 보통,세종 : 보통,대전 : 보통,영동 : 좋음,영서 : 보통,경기남부 : 보통,경기북부 : 보통,인천 : 보통',\n",
       "   'informOverall': \"○ [미세먼지] 서울·인천·경기남부·충남은 '나쁨', 그 밖의 권역은 '좋음'∼'보통'으로 예상됨.\",\n",
       "   'numOfRows': '10',\n",
       "   'pageNo': '1',\n",
       "   'resultCode': '',\n",
       "   'resultMsg': '',\n",
       "   'searchDate': '',\n",
       "   'serviceKey': '',\n",
       "   'totalCount': '',\n",
       "   'ver': ''},\n",
       "  {'_returnType': 'json',\n",
       "   'actionKnack': '',\n",
       "   'dataTime': '2018-11-14 05시 발표',\n",
       "   'f_data_time': '2018111405',\n",
       "   'f_data_time1': '20181114',\n",
       "   'f_data_time2': '20181115',\n",
       "   'f_data_time3': '20181116',\n",
       "   'f_inform_data': '20181114',\n",
       "   'imageUrl1': 'http://www.airkorea.or.kr/file/viewImage/?atch_id=99509',\n",
       "   'imageUrl2': 'http://www.airkorea.or.kr/file/viewImage/?atch_id=99510',\n",
       "   'imageUrl3': 'http://www.airkorea.or.kr/file/viewImage/?atch_id=99511',\n",
       "   'imageUrl4': 'http://www.airkorea.or.kr/file/viewImage/?atch_id=99512',\n",
       "   'imageUrl5': 'http://www.airkorea.or.kr/file/viewImage/?atch_id=99513',\n",
       "   'imageUrl6': 'http://www.airkorea.or.kr/file/viewImage/?atch_id=99514',\n",
       "   'imageUrl7': 'http://www.airkorea.or.kr/file/viewImage/?atch_id=',\n",
       "   'imageUrl8': 'http://www.airkorea.or.kr/file/viewImage/?atch_id=99490',\n",
       "   'imageUrl9': 'http://www.airkorea.or.kr/file/viewImage/?atch_id=',\n",
       "   'informCause': \"○ [미세먼지] 대부분 '보통' 수준이겠으나, 일부 중서부지역은 대기 정체로 국내 생성 미세먼지가 축적되어 농도가 높을 것으로 예상됨.\",\n",
       "   'informCode': 'PM25',\n",
       "   'informData': '2018-11-14',\n",
       "   'informGrade': '서울 : 보통,제주 : 보통,전남 : 보통,전북 : 보통,광주 : 보통,경남 : 좋음,경북 : 보통,울산 : 좋음,대구 : 보통,부산 : 좋음,충남 : 나쁨,충북 : 보통,세종 : 보통,대전 : 보통,영동 : 좋음,영서 : 보통,경기남부 : 보통,경기북부 : 보통,인천 : 보통',\n",
       "   'informOverall': \"○ [미세먼지] 충남은 '나쁨', 그 밖의 권역은 '좋음'∼'보통'으로 예상됨.\",\n",
       "   'numOfRows': '10',\n",
       "   'pageNo': '1',\n",
       "   'resultCode': '',\n",
       "   'resultMsg': '',\n",
       "   'searchDate': '',\n",
       "   'serviceKey': '',\n",
       "   'totalCount': '',\n",
       "   'ver': ''},\n",
       "  {'_returnType': 'json',\n",
       "   'actionKnack': '',\n",
       "   'dataTime': '2018-11-14 05시 발표',\n",
       "   'f_data_time': '2018111405',\n",
       "   'f_data_time1': '20181114',\n",
       "   'f_data_time2': '20181115',\n",
       "   'f_data_time3': '20181116',\n",
       "   'f_inform_data': '20181115',\n",
       "   'imageUrl1': '',\n",
       "   'imageUrl2': '',\n",
       "   'imageUrl3': '',\n",
       "   'imageUrl4': '',\n",
       "   'imageUrl5': '',\n",
       "   'imageUrl6': '',\n",
       "   'imageUrl7': 'http://www.airkorea.or.kr/file/viewImage/?atch_id=',\n",
       "   'imageUrl8': 'http://www.airkorea.or.kr/file/viewImage/?atch_id=99490',\n",
       "   'imageUrl9': 'http://www.airkorea.or.kr/file/viewImage/?atch_id=',\n",
       "   'informCause': \"○ [미세먼지] 대부분 '보통' 수준이겠으나, 일부 중서부지역은 대기 정체로 국내 생성 미세먼지가 축적되어 농도가 높을 것으로 예상됨.\",\n",
       "   'informCode': 'PM25',\n",
       "   'informData': '2018-11-15',\n",
       "   'informGrade': '서울 : 나쁨,제주 : 좋음,전남 : 보통,전북 : 보통,광주 : 보통,경남 : 보통,경북 : 보통,울산 : 보통,대구 : 보통,부산 : 좋음,충남 : 나쁨,충북 : 보통,세종 : 보통,대전 : 보통,영동 : 좋음,영서 : 보통,경기남부 : 나쁨,경기북부 : 보통,인천 : 나쁨',\n",
       "   'informOverall': \"○ [미세먼지] 서울·인천·경기남부·충남은 '나쁨', 그 밖의 권역은 '좋음'∼'보통'으로 예상됨.\",\n",
       "   'numOfRows': '10',\n",
       "   'pageNo': '1',\n",
       "   'resultCode': '',\n",
       "   'resultMsg': '',\n",
       "   'searchDate': '',\n",
       "   'serviceKey': '',\n",
       "   'totalCount': '',\n",
       "   'ver': ''}],\n",
       " 'parm': {'_returnType': 'json',\n",
       "  'actionKnack': '',\n",
       "  'dataTime': '',\n",
       "  'f_data_time': '',\n",
       "  'f_data_time1': '',\n",
       "  'f_data_time2': '',\n",
       "  'f_data_time3': '',\n",
       "  'f_inform_data': '',\n",
       "  'imageUrl1': '',\n",
       "  'imageUrl2': '',\n",
       "  'imageUrl3': '',\n",
       "  'imageUrl4': '',\n",
       "  'imageUrl5': '',\n",
       "  'imageUrl6': '',\n",
       "  'imageUrl7': '',\n",
       "  'imageUrl8': '',\n",
       "  'imageUrl9': '',\n",
       "  'informCause': '',\n",
       "  'informCode': '',\n",
       "  'informData': '',\n",
       "  'informGrade': '',\n",
       "  'informOverall': '',\n",
       "  'numOfRows': '10',\n",
       "  'pageNo': '1',\n",
       "  'resultCode': '',\n",
       "  'resultMsg': '',\n",
       "  'searchDate': '2018-11-14',\n",
       "  'serviceKey': '19Vd8w1VF6MhraamtQDCGukzgHbTbDksZvFa3yYHrfdvdsmlCZ9TnKwG9DkHkLabLTxYBw3vgymDd4MR7bg9+g==',\n",
       "  'totalCount': '',\n",
       "  'ver': ''},\n",
       " 'totalCount': 20}"
      ]
     },
     "execution_count": 15,
     "metadata": {},
     "output_type": "execute_result"
    }
   ],
   "source": [
    "# import json\n",
    "# json_obj = json.loads(res.text)\n",
    "\n",
    "json_obj = res.json()\n",
    "json_obj"
   ]
  },
  {
   "cell_type": "code",
   "execution_count": 16,
   "metadata": {},
   "outputs": [
    {
     "data": {
      "text/plain": [
       "[{'_returnType': 'json',\n",
       "  'actionKnack': '',\n",
       "  'dataTime': '2018-11-14 23시 발표',\n",
       "  'f_data_time': '2018111423',\n",
       "  'f_data_time1': '20181114',\n",
       "  'f_data_time2': '20181115',\n",
       "  'f_data_time3': '20181116',\n",
       "  'f_inform_data': '20181114',\n",
       "  'imageUrl1': 'http://www.airkorea.or.kr/file/viewImage/?atch_id=99557',\n",
       "  'imageUrl2': 'http://www.airkorea.or.kr/file/viewImage/?atch_id=99558',\n",
       "  'imageUrl3': 'http://www.airkorea.or.kr/file/viewImage/?atch_id=99559',\n",
       "  'imageUrl4': 'http://www.airkorea.or.kr/file/viewImage/?atch_id=99560',\n",
       "  'imageUrl5': 'http://www.airkorea.or.kr/file/viewImage/?atch_id=99561',\n",
       "  'imageUrl6': 'http://www.airkorea.or.kr/file/viewImage/?atch_id=99562',\n",
       "  'imageUrl7': 'http://www.airkorea.or.kr/file/viewImage/?atch_id=99553',\n",
       "  'imageUrl8': 'http://www.airkorea.or.kr/file/viewImage/?atch_id=',\n",
       "  'imageUrl9': 'http://www.airkorea.or.kr/file/viewImage/?atch_id=',\n",
       "  'informCause': \"○ [미세먼지] 대부분 '보통' 수준이겠으나, 일부 서쪽 지역은 대기 정체로 국내 생성 미세먼지가 축적되어 농도가 높을 것으로 예상됨.\",\n",
       "  'informCode': 'PM10',\n",
       "  'informData': '2018-11-14',\n",
       "  'informGrade': '서울 : 보통,제주 : 좋음,전남 : 보통,전북 : 보통,광주 : 보통,경남 : 좋음,경북 : 좋음,울산 : 좋음,대구 : 좋음,부산 : 좋음,충남 : 보통,충북 : 보통,세종 : 보통,대전 : 보통,영동 : 좋음,영서 : 보통,경기남부 : 보통,경기북부 : 보통,인천 : 보통',\n",
       "  'informOverall': \"○ [미세먼지] 광주·전북은 '나쁨', 그 밖의 권역은 '좋음'∼'보통'으로 예상됨.\",\n",
       "  'numOfRows': '10',\n",
       "  'pageNo': '1',\n",
       "  'resultCode': '',\n",
       "  'resultMsg': '',\n",
       "  'searchDate': '',\n",
       "  'serviceKey': '',\n",
       "  'totalCount': '',\n",
       "  'ver': ''},\n",
       " {'_returnType': 'json',\n",
       "  'actionKnack': '',\n",
       "  'dataTime': '2018-11-14 23시 발표',\n",
       "  'f_data_time': '2018111423',\n",
       "  'f_data_time1': '20181114',\n",
       "  'f_data_time2': '20181115',\n",
       "  'f_data_time3': '20181116',\n",
       "  'f_inform_data': '20181115',\n",
       "  'imageUrl1': 'http://www.airkorea.or.kr/file/viewImage/?atch_id=99557',\n",
       "  'imageUrl2': 'http://www.airkorea.or.kr/file/viewImage/?atch_id=99558',\n",
       "  'imageUrl3': 'http://www.airkorea.or.kr/file/viewImage/?atch_id=99559',\n",
       "  'imageUrl4': 'http://www.airkorea.or.kr/file/viewImage/?atch_id=99560',\n",
       "  'imageUrl5': 'http://www.airkorea.or.kr/file/viewImage/?atch_id=99561',\n",
       "  'imageUrl6': 'http://www.airkorea.or.kr/file/viewImage/?atch_id=99562',\n",
       "  'imageUrl7': 'http://www.airkorea.or.kr/file/viewImage/?atch_id=99553',\n",
       "  'imageUrl8': 'http://www.airkorea.or.kr/file/viewImage/?atch_id=',\n",
       "  'imageUrl9': 'http://www.airkorea.or.kr/file/viewImage/?atch_id=',\n",
       "  'informCause': \"○ [미세먼지] 대부분 '보통' 수준이겠으나, 서쪽지역은 대기 정체로 국내 생성 미세먼지가 축적되어 농도가 높을 것으로 예상됨.\",\n",
       "  'informCode': 'PM10',\n",
       "  'informData': '2018-11-15',\n",
       "  'informGrade': '서울 : 보통,제주 : 좋음,전남 : 보통,전북 : 보통,광주 : 보통,경남 : 보통,경북 : 보통,울산 : 보통,대구 : 보통,부산 : 보통,충남 : 보통,충북 : 보통,세종 : 보통,대전 : 보통,영동 : 좋음,영서 : 보통,경기남부 : 보통,경기북부 : 보통,인천 : 보통',\n",
       "  'informOverall': \"○ [미세먼지] 수도권·충남·광주·전북은 '나쁨', 그 밖의 권역은 '좋음'∼'보통'으로 예상됨.\",\n",
       "  'numOfRows': '10',\n",
       "  'pageNo': '1',\n",
       "  'resultCode': '',\n",
       "  'resultMsg': '',\n",
       "  'searchDate': '',\n",
       "  'serviceKey': '',\n",
       "  'totalCount': '',\n",
       "  'ver': ''},\n",
       " {'_returnType': 'json',\n",
       "  'actionKnack': '',\n",
       "  'dataTime': '2018-11-14 23시 발표',\n",
       "  'f_data_time': '2018111423',\n",
       "  'f_data_time1': '20181114',\n",
       "  'f_data_time2': '20181115',\n",
       "  'f_data_time3': '20181116',\n",
       "  'f_inform_data': '20181116',\n",
       "  'imageUrl1': 'http://www.airkorea.or.kr/file/viewImage/?atch_id=99563',\n",
       "  'imageUrl2': 'http://www.airkorea.or.kr/file/viewImage/?atch_id=99564',\n",
       "  'imageUrl3': 'http://www.airkorea.or.kr/file/viewImage/?atch_id=99565',\n",
       "  'imageUrl4': 'http://www.airkorea.or.kr/file/viewImage/?atch_id=99566',\n",
       "  'imageUrl5': 'http://www.airkorea.or.kr/file/viewImage/?atch_id=99567',\n",
       "  'imageUrl6': 'http://www.airkorea.or.kr/file/viewImage/?atch_id=99568',\n",
       "  'imageUrl7': 'http://www.airkorea.or.kr/file/viewImage/?atch_id=99553',\n",
       "  'imageUrl8': 'http://www.airkorea.or.kr/file/viewImage/?atch_id=',\n",
       "  'imageUrl9': 'http://www.airkorea.or.kr/file/viewImage/?atch_id=',\n",
       "  'informCause': '○ [미세먼지] 대부분 지역은 대기 정체로 축적된 국내 생성 미세먼지에 국외에서 유입되는 미세먼지가 더해져 농도가 높을 것으로 예상됨.',\n",
       "  'informCode': 'PM10',\n",
       "  'informData': '2018-11-16',\n",
       "  'informGrade': '서울 : 보통,제주 : 좋음,전남 : 보통,전북 : 보통,광주 : 보통,경남 : 보통,경북 : 보통,울산 : 보통,대구 : 보통,부산 : 보통,충남 : 나쁨,충북 : 보통,세종 : 보통,대전 : 보통,영동 : 보통,영서 : 보통,경기남부 : 나쁨,경기북부 : 보통,인천 : 보통',\n",
       "  'informOverall': \"○ [미세먼지] 수도권·강원권·충청권·광주·전북·대구·경북은 '나쁨', 그 밖의 권역은 '좋음'∼'보통'으로 예상됨.\",\n",
       "  'numOfRows': '10',\n",
       "  'pageNo': '1',\n",
       "  'resultCode': '',\n",
       "  'resultMsg': '',\n",
       "  'searchDate': '',\n",
       "  'serviceKey': '',\n",
       "  'totalCount': '',\n",
       "  'ver': ''},\n",
       " {'_returnType': 'json',\n",
       "  'actionKnack': '',\n",
       "  'dataTime': '2018-11-14 23시 발표',\n",
       "  'f_data_time': '2018111423',\n",
       "  'f_data_time1': '20181114',\n",
       "  'f_data_time2': '20181115',\n",
       "  'f_data_time3': '20181116',\n",
       "  'f_inform_data': '20181114',\n",
       "  'imageUrl1': 'http://www.airkorea.or.kr/file/viewImage/?atch_id=99557',\n",
       "  'imageUrl2': 'http://www.airkorea.or.kr/file/viewImage/?atch_id=99558',\n",
       "  'imageUrl3': 'http://www.airkorea.or.kr/file/viewImage/?atch_id=99559',\n",
       "  'imageUrl4': 'http://www.airkorea.or.kr/file/viewImage/?atch_id=99560',\n",
       "  'imageUrl5': 'http://www.airkorea.or.kr/file/viewImage/?atch_id=99561',\n",
       "  'imageUrl6': 'http://www.airkorea.or.kr/file/viewImage/?atch_id=99562',\n",
       "  'imageUrl7': 'http://www.airkorea.or.kr/file/viewImage/?atch_id=',\n",
       "  'imageUrl8': 'http://www.airkorea.or.kr/file/viewImage/?atch_id=99554',\n",
       "  'imageUrl9': 'http://www.airkorea.or.kr/file/viewImage/?atch_id=',\n",
       "  'informCause': \"○ [미세먼지] 대부분 '보통' 수준이겠으나, 일부 서쪽 지역은 대기 정체로 국내 생성 미세먼지가 축적되어 농도가 높을 것으로 예상됨.\",\n",
       "  'informCode': 'PM25',\n",
       "  'informData': '2018-11-14',\n",
       "  'informGrade': '서울 : 보통,제주 : 보통,전남 : 보통,전북 : 나쁨,광주 : 나쁨,경남 : 좋음,경북 : 보통,울산 : 좋음,대구 : 좋음,부산 : 좋음,충남 : 보통,충북 : 보통,세종 : 보통,대전 : 보통,영동 : 좋음,영서 : 보통,경기남부 : 보통,경기북부 : 보통,인천 : 보통',\n",
       "  'informOverall': \"○ [미세먼지] 광주·전북은 '나쁨', 그 밖의 권역은 '좋음'∼'보통'으로 예상됨.\",\n",
       "  'numOfRows': '10',\n",
       "  'pageNo': '1',\n",
       "  'resultCode': '',\n",
       "  'resultMsg': '',\n",
       "  'searchDate': '',\n",
       "  'serviceKey': '',\n",
       "  'totalCount': '',\n",
       "  'ver': ''},\n",
       " {'_returnType': 'json',\n",
       "  'actionKnack': '',\n",
       "  'dataTime': '2018-11-14 23시 발표',\n",
       "  'f_data_time': '2018111423',\n",
       "  'f_data_time1': '20181114',\n",
       "  'f_data_time2': '20181115',\n",
       "  'f_data_time3': '20181116',\n",
       "  'f_inform_data': '20181115',\n",
       "  'imageUrl1': 'http://www.airkorea.or.kr/file/viewImage/?atch_id=99557',\n",
       "  'imageUrl2': 'http://www.airkorea.or.kr/file/viewImage/?atch_id=99558',\n",
       "  'imageUrl3': 'http://www.airkorea.or.kr/file/viewImage/?atch_id=99559',\n",
       "  'imageUrl4': 'http://www.airkorea.or.kr/file/viewImage/?atch_id=99560',\n",
       "  'imageUrl5': 'http://www.airkorea.or.kr/file/viewImage/?atch_id=99561',\n",
       "  'imageUrl6': 'http://www.airkorea.or.kr/file/viewImage/?atch_id=99562',\n",
       "  'imageUrl7': 'http://www.airkorea.or.kr/file/viewImage/?atch_id=',\n",
       "  'imageUrl8': 'http://www.airkorea.or.kr/file/viewImage/?atch_id=99554',\n",
       "  'imageUrl9': 'http://www.airkorea.or.kr/file/viewImage/?atch_id=',\n",
       "  'informCause': \"○ [미세먼지] 대부분 '보통' 수준이겠으나, 서쪽지역은 대기 정체로 국내 생성 미세먼지가 축적되어 농도가 높을 것으로 예상됨.\",\n",
       "  'informCode': 'PM25',\n",
       "  'informData': '2018-11-15',\n",
       "  'informGrade': '서울 : 나쁨,제주 : 좋음,전남 : 보통,전북 : 나쁨,광주 : 나쁨,경남 : 보통,경북 : 보통,울산 : 보통,대구 : 보통,부산 : 보통,충남 : 나쁨,충북 : 보통,세종 : 보통,대전 : 보통,영동 : 좋음,영서 : 보통,경기남부 : 나쁨,경기북부 : 나쁨,인천 : 나쁨',\n",
       "  'informOverall': \"○ [미세먼지] 수도권·충남·광주·전북은 '나쁨', 그 밖의 권역은 '좋음'∼'보통'으로 예상됨.\",\n",
       "  'numOfRows': '10',\n",
       "  'pageNo': '1',\n",
       "  'resultCode': '',\n",
       "  'resultMsg': '',\n",
       "  'searchDate': '',\n",
       "  'serviceKey': '',\n",
       "  'totalCount': '',\n",
       "  'ver': ''},\n",
       " {'_returnType': 'json',\n",
       "  'actionKnack': '',\n",
       "  'dataTime': '2018-11-14 23시 발표',\n",
       "  'f_data_time': '2018111423',\n",
       "  'f_data_time1': '20181114',\n",
       "  'f_data_time2': '20181115',\n",
       "  'f_data_time3': '20181116',\n",
       "  'f_inform_data': '20181116',\n",
       "  'imageUrl1': 'http://www.airkorea.or.kr/file/viewImage/?atch_id=99563',\n",
       "  'imageUrl2': 'http://www.airkorea.or.kr/file/viewImage/?atch_id=99564',\n",
       "  'imageUrl3': 'http://www.airkorea.or.kr/file/viewImage/?atch_id=99565',\n",
       "  'imageUrl4': 'http://www.airkorea.or.kr/file/viewImage/?atch_id=99566',\n",
       "  'imageUrl5': 'http://www.airkorea.or.kr/file/viewImage/?atch_id=99567',\n",
       "  'imageUrl6': 'http://www.airkorea.or.kr/file/viewImage/?atch_id=99568',\n",
       "  'imageUrl7': 'http://www.airkorea.or.kr/file/viewImage/?atch_id=',\n",
       "  'imageUrl8': 'http://www.airkorea.or.kr/file/viewImage/?atch_id=99554',\n",
       "  'imageUrl9': 'http://www.airkorea.or.kr/file/viewImage/?atch_id=',\n",
       "  'informCause': '○ [미세먼지] 대부분 지역은 대기 정체로 축적된 국내 생성 미세먼지에 국외에서 유입되는 미세먼지가 더해져 농도가 높을 것으로 예상됨.',\n",
       "  'informCode': 'PM25',\n",
       "  'informData': '2018-11-16',\n",
       "  'informGrade': '서울 : 나쁨,제주 : 좋음,전남 : 보통,전북 : 나쁨,광주 : 나쁨,경남 : 보통,경북 : 나쁨,울산 : 보통,대구 : 나쁨,부산 : 보통,충남 : 나쁨,충북 : 나쁨,세종 : 나쁨,대전 : 나쁨,영동 : 나쁨,영서 : 나쁨,경기남부 : 나쁨,경기북부 : 나쁨,인천 : 나쁨',\n",
       "  'informOverall': \"○ [미세먼지] 수도권·강원권·충청권·광주·전북·대구·경북은 '나쁨', 그 밖의 권역은 '좋음'∼'보통'으로 예상됨.\",\n",
       "  'numOfRows': '10',\n",
       "  'pageNo': '1',\n",
       "  'resultCode': '',\n",
       "  'resultMsg': '',\n",
       "  'searchDate': '',\n",
       "  'serviceKey': '',\n",
       "  'totalCount': '',\n",
       "  'ver': ''},\n",
       " {'_returnType': 'json',\n",
       "  'actionKnack': '',\n",
       "  'dataTime': '2018-11-14 17시 발표',\n",
       "  'f_data_time': '2018111417',\n",
       "  'f_data_time1': '20181114',\n",
       "  'f_data_time2': '20181115',\n",
       "  'f_data_time3': '20181116',\n",
       "  'f_inform_data': '20181114',\n",
       "  'imageUrl1': 'http://www.airkorea.or.kr/file/viewImage/?atch_id=99541',\n",
       "  'imageUrl2': 'http://www.airkorea.or.kr/file/viewImage/?atch_id=99542',\n",
       "  'imageUrl3': 'http://www.airkorea.or.kr/file/viewImage/?atch_id=99543',\n",
       "  'imageUrl4': 'http://www.airkorea.or.kr/file/viewImage/?atch_id=99544',\n",
       "  'imageUrl5': 'http://www.airkorea.or.kr/file/viewImage/?atch_id=99545',\n",
       "  'imageUrl6': 'http://www.airkorea.or.kr/file/viewImage/?atch_id=99546',\n",
       "  'imageUrl7': 'http://www.airkorea.or.kr/file/viewImage/?atch_id=99553',\n",
       "  'imageUrl8': 'http://www.airkorea.or.kr/file/viewImage/?atch_id=',\n",
       "  'imageUrl9': 'http://www.airkorea.or.kr/file/viewImage/?atch_id=',\n",
       "  'informCause': \"○ [미세먼지] 대부분 '보통' 수준이겠으나, 일부 남서부지역은 대기 정체로 국내 생성 미세먼지가 축적되어 농도가 높을 것으로 예상됨.\",\n",
       "  'informCode': 'PM10',\n",
       "  'informData': '2018-11-14',\n",
       "  'informGrade': '서울 : 보통,제주 : 좋음,전남 : 보통,전북 : 보통,광주 : 보통,경남 : 좋음,경북 : 좋음,울산 : 좋음,대구 : 좋음,부산 : 좋음,충남 : 보통,충북 : 보통,세종 : 보통,대전 : 보통,영동 : 좋음,영서 : 보통,경기남부 : 보통,경기북부 : 보통,인천 : 보통',\n",
       "  'informOverall': \"○ [미세먼지] 광주·전북은 '나쁨', 그 밖의 권역은 '좋음'∼'보통'으로 예상됨.\",\n",
       "  'numOfRows': '10',\n",
       "  'pageNo': '1',\n",
       "  'resultCode': '',\n",
       "  'resultMsg': '',\n",
       "  'searchDate': '',\n",
       "  'serviceKey': '',\n",
       "  'totalCount': '',\n",
       "  'ver': ''},\n",
       " {'_returnType': 'json',\n",
       "  'actionKnack': '',\n",
       "  'dataTime': '2018-11-14 17시 발표',\n",
       "  'f_data_time': '2018111417',\n",
       "  'f_data_time1': '20181114',\n",
       "  'f_data_time2': '20181115',\n",
       "  'f_data_time3': '20181116',\n",
       "  'f_inform_data': '20181115',\n",
       "  'imageUrl1': 'http://www.airkorea.or.kr/file/viewImage/?atch_id=99541',\n",
       "  'imageUrl2': 'http://www.airkorea.or.kr/file/viewImage/?atch_id=99542',\n",
       "  'imageUrl3': 'http://www.airkorea.or.kr/file/viewImage/?atch_id=99543',\n",
       "  'imageUrl4': 'http://www.airkorea.or.kr/file/viewImage/?atch_id=99544',\n",
       "  'imageUrl5': 'http://www.airkorea.or.kr/file/viewImage/?atch_id=99545',\n",
       "  'imageUrl6': 'http://www.airkorea.or.kr/file/viewImage/?atch_id=99546',\n",
       "  'imageUrl7': 'http://www.airkorea.or.kr/file/viewImage/?atch_id=99553',\n",
       "  'imageUrl8': 'http://www.airkorea.or.kr/file/viewImage/?atch_id=',\n",
       "  'imageUrl9': 'http://www.airkorea.or.kr/file/viewImage/?atch_id=',\n",
       "  'informCause': \"○ [미세먼지] 대부분 '보통' 수준이겠으나, 대부분 서쪽지역은 대기 정체로 국내 생성 미세먼지가 축적되어 농도가 높을 것으로 예상됨.\",\n",
       "  'informCode': 'PM10',\n",
       "  'informData': '2018-11-15',\n",
       "  'informGrade': '서울 : 보통,제주 : 좋음,전남 : 보통,전북 : 보통,광주 : 보통,경남 : 보통,경북 : 보통,울산 : 보통,대구 : 보통,부산 : 보통,충남 : 보통,충북 : 보통,세종 : 보통,대전 : 보통,영동 : 좋음,영서 : 보통,경기남부 : 보통,경기북부 : 보통,인천 : 보통',\n",
       "  'informOverall': \"○ [미세먼지] 수도권·충남·광주·전북은 '나쁨', 그 밖의 권역은 '좋음'∼'보통'으로 예상됨.\",\n",
       "  'numOfRows': '10',\n",
       "  'pageNo': '1',\n",
       "  'resultCode': '',\n",
       "  'resultMsg': '',\n",
       "  'searchDate': '',\n",
       "  'serviceKey': '',\n",
       "  'totalCount': '',\n",
       "  'ver': ''},\n",
       " {'_returnType': 'json',\n",
       "  'actionKnack': '',\n",
       "  'dataTime': '2018-11-14 17시 발표',\n",
       "  'f_data_time': '2018111417',\n",
       "  'f_data_time1': '20181114',\n",
       "  'f_data_time2': '20181115',\n",
       "  'f_data_time3': '20181116',\n",
       "  'f_inform_data': '20181116',\n",
       "  'imageUrl1': 'http://www.airkorea.or.kr/file/viewImage/?atch_id=99547',\n",
       "  'imageUrl2': 'http://www.airkorea.or.kr/file/viewImage/?atch_id=99548',\n",
       "  'imageUrl3': 'http://www.airkorea.or.kr/file/viewImage/?atch_id=99549',\n",
       "  'imageUrl4': 'http://www.airkorea.or.kr/file/viewImage/?atch_id=99550',\n",
       "  'imageUrl5': 'http://www.airkorea.or.kr/file/viewImage/?atch_id=99551',\n",
       "  'imageUrl6': 'http://www.airkorea.or.kr/file/viewImage/?atch_id=99552',\n",
       "  'imageUrl7': 'http://www.airkorea.or.kr/file/viewImage/?atch_id=99553',\n",
       "  'imageUrl8': 'http://www.airkorea.or.kr/file/viewImage/?atch_id=',\n",
       "  'imageUrl9': 'http://www.airkorea.or.kr/file/viewImage/?atch_id=',\n",
       "  'informCause': '○ [미세먼지] 대부분 지역은 대기 정체로 축적된 국내 생성 미세먼지에 국외에서 유입되는 미세먼지가 더해져 농도가 높을 것으로 예상됨.',\n",
       "  'informCode': 'PM10',\n",
       "  'informData': '2018-11-16',\n",
       "  'informGrade': '서울 : 보통,제주 : 좋음,전남 : 보통,전북 : 보통,광주 : 보통,경남 : 보통,경북 : 보통,울산 : 보통,대구 : 보통,부산 : 보통,충남 : 나쁨,충북 : 보통,세종 : 보통,대전 : 보통,영동 : 보통,영서 : 보통,경기남부 : 나쁨,경기북부 : 보통,인천 : 보통',\n",
       "  'informOverall': \"○ [미세먼지] 수도권·강원권·충청권·광주·전북·대구·경북은 '나쁨', 그 밖의 권역은 '좋음'∼'보통'으로 예상됨.\",\n",
       "  'numOfRows': '10',\n",
       "  'pageNo': '1',\n",
       "  'resultCode': '',\n",
       "  'resultMsg': '',\n",
       "  'searchDate': '',\n",
       "  'serviceKey': '',\n",
       "  'totalCount': '',\n",
       "  'ver': ''},\n",
       " {'_returnType': 'json',\n",
       "  'actionKnack': '',\n",
       "  'dataTime': '2018-11-14 17시 발표',\n",
       "  'f_data_time': '2018111417',\n",
       "  'f_data_time1': '20181114',\n",
       "  'f_data_time2': '20181115',\n",
       "  'f_data_time3': '20181116',\n",
       "  'f_inform_data': '20181114',\n",
       "  'imageUrl1': 'http://www.airkorea.or.kr/file/viewImage/?atch_id=99541',\n",
       "  'imageUrl2': 'http://www.airkorea.or.kr/file/viewImage/?atch_id=99542',\n",
       "  'imageUrl3': 'http://www.airkorea.or.kr/file/viewImage/?atch_id=99543',\n",
       "  'imageUrl4': 'http://www.airkorea.or.kr/file/viewImage/?atch_id=99544',\n",
       "  'imageUrl5': 'http://www.airkorea.or.kr/file/viewImage/?atch_id=99545',\n",
       "  'imageUrl6': 'http://www.airkorea.or.kr/file/viewImage/?atch_id=99546',\n",
       "  'imageUrl7': 'http://www.airkorea.or.kr/file/viewImage/?atch_id=',\n",
       "  'imageUrl8': 'http://www.airkorea.or.kr/file/viewImage/?atch_id=99554',\n",
       "  'imageUrl9': 'http://www.airkorea.or.kr/file/viewImage/?atch_id=',\n",
       "  'informCause': \"○ [미세먼지] 대부분 '보통' 수준이겠으나, 일부 남서부지역은 대기 정체로 국내 생성 미세먼지가 축적되어 농도가 높을 것으로 예상됨.\",\n",
       "  'informCode': 'PM25',\n",
       "  'informData': '2018-11-14',\n",
       "  'informGrade': '서울 : 보통,제주 : 보통,전남 : 보통,전북 : 나쁨,광주 : 나쁨,경남 : 좋음,경북 : 보통,울산 : 좋음,대구 : 보통,부산 : 좋음,충남 : 보통,충북 : 보통,세종 : 보통,대전 : 보통,영동 : 좋음,영서 : 보통,경기남부 : 보통,경기북부 : 보통,인천 : 보통',\n",
       "  'informOverall': \"○ [미세먼지] 광주·전북은 '나쁨', 그 밖의 권역은 '좋음'∼'보통'으로 예상됨.\",\n",
       "  'numOfRows': '10',\n",
       "  'pageNo': '1',\n",
       "  'resultCode': '',\n",
       "  'resultMsg': '',\n",
       "  'searchDate': '',\n",
       "  'serviceKey': '',\n",
       "  'totalCount': '',\n",
       "  'ver': ''},\n",
       " {'_returnType': 'json',\n",
       "  'actionKnack': '',\n",
       "  'dataTime': '2018-11-14 17시 발표',\n",
       "  'f_data_time': '2018111417',\n",
       "  'f_data_time1': '20181114',\n",
       "  'f_data_time2': '20181115',\n",
       "  'f_data_time3': '20181116',\n",
       "  'f_inform_data': '20181115',\n",
       "  'imageUrl1': 'http://www.airkorea.or.kr/file/viewImage/?atch_id=99541',\n",
       "  'imageUrl2': 'http://www.airkorea.or.kr/file/viewImage/?atch_id=99542',\n",
       "  'imageUrl3': 'http://www.airkorea.or.kr/file/viewImage/?atch_id=99543',\n",
       "  'imageUrl4': 'http://www.airkorea.or.kr/file/viewImage/?atch_id=99544',\n",
       "  'imageUrl5': 'http://www.airkorea.or.kr/file/viewImage/?atch_id=99545',\n",
       "  'imageUrl6': 'http://www.airkorea.or.kr/file/viewImage/?atch_id=99546',\n",
       "  'imageUrl7': 'http://www.airkorea.or.kr/file/viewImage/?atch_id=',\n",
       "  'imageUrl8': 'http://www.airkorea.or.kr/file/viewImage/?atch_id=99554',\n",
       "  'imageUrl9': 'http://www.airkorea.or.kr/file/viewImage/?atch_id=',\n",
       "  'informCause': \"○ [미세먼지] 대부분 '보통' 수준이겠으나, 대부분 서쪽지역은 대기 정체로 국내 생성 미세먼지가 축적되어 농도가 높을 것으로 예상됨.\",\n",
       "  'informCode': 'PM25',\n",
       "  'informData': '2018-11-15',\n",
       "  'informGrade': '서울 : 나쁨,제주 : 좋음,전남 : 보통,전북 : 나쁨,광주 : 나쁨,경남 : 보통,경북 : 보통,울산 : 보통,대구 : 보통,부산 : 보통,충남 : 나쁨,충북 : 보통,세종 : 보통,대전 : 보통,영동 : 좋음,영서 : 보통,경기남부 : 나쁨,경기북부 : 나쁨,인천 : 나쁨',\n",
       "  'informOverall': \"○ [미세먼지] 수도권·충남·광주·전북은 '나쁨', 그 밖의 권역은 '좋음'∼'보통'으로 예상됨.\",\n",
       "  'numOfRows': '10',\n",
       "  'pageNo': '1',\n",
       "  'resultCode': '',\n",
       "  'resultMsg': '',\n",
       "  'searchDate': '',\n",
       "  'serviceKey': '',\n",
       "  'totalCount': '',\n",
       "  'ver': ''},\n",
       " {'_returnType': 'json',\n",
       "  'actionKnack': '',\n",
       "  'dataTime': '2018-11-14 17시 발표',\n",
       "  'f_data_time': '2018111417',\n",
       "  'f_data_time1': '20181114',\n",
       "  'f_data_time2': '20181115',\n",
       "  'f_data_time3': '20181116',\n",
       "  'f_inform_data': '20181116',\n",
       "  'imageUrl1': 'http://www.airkorea.or.kr/file/viewImage/?atch_id=99547',\n",
       "  'imageUrl2': 'http://www.airkorea.or.kr/file/viewImage/?atch_id=99548',\n",
       "  'imageUrl3': 'http://www.airkorea.or.kr/file/viewImage/?atch_id=99549',\n",
       "  'imageUrl4': 'http://www.airkorea.or.kr/file/viewImage/?atch_id=99550',\n",
       "  'imageUrl5': 'http://www.airkorea.or.kr/file/viewImage/?atch_id=99551',\n",
       "  'imageUrl6': 'http://www.airkorea.or.kr/file/viewImage/?atch_id=99552',\n",
       "  'imageUrl7': 'http://www.airkorea.or.kr/file/viewImage/?atch_id=',\n",
       "  'imageUrl8': 'http://www.airkorea.or.kr/file/viewImage/?atch_id=99554',\n",
       "  'imageUrl9': 'http://www.airkorea.or.kr/file/viewImage/?atch_id=',\n",
       "  'informCause': '○ [미세먼지] 대부분 지역은 대기 정체로 축적된 국내 생성 미세먼지에 국외에서 유입되는 미세먼지가 더해져 농도가 높을 것으로 예상됨.',\n",
       "  'informCode': 'PM25',\n",
       "  'informData': '2018-11-16',\n",
       "  'informGrade': '서울 : 나쁨,제주 : 좋음,전남 : 보통,전북 : 나쁨,광주 : 나쁨,경남 : 보통,경북 : 나쁨,울산 : 보통,대구 : 나쁨,부산 : 보통,충남 : 나쁨,충북 : 나쁨,세종 : 나쁨,대전 : 나쁨,영동 : 나쁨,영서 : 나쁨,경기남부 : 나쁨,경기북부 : 나쁨,인천 : 나쁨',\n",
       "  'informOverall': \"○ [미세먼지] 수도권·강원권·충청권·광주·전북·대구·경북은 '나쁨', 그 밖의 권역은 '좋음'∼'보통'으로 예상됨.\",\n",
       "  'numOfRows': '10',\n",
       "  'pageNo': '1',\n",
       "  'resultCode': '',\n",
       "  'resultMsg': '',\n",
       "  'searchDate': '',\n",
       "  'serviceKey': '',\n",
       "  'totalCount': '',\n",
       "  'ver': ''},\n",
       " {'_returnType': 'json',\n",
       "  'actionKnack': '',\n",
       "  'dataTime': '2018-11-14 11시 발표',\n",
       "  'f_data_time': '2018111411',\n",
       "  'f_data_time1': '20181114',\n",
       "  'f_data_time2': '20181115',\n",
       "  'f_data_time3': '20181116',\n",
       "  'f_inform_data': '20181114',\n",
       "  'imageUrl1': 'http://www.airkorea.or.kr/file/viewImage/?atch_id=99525',\n",
       "  'imageUrl2': 'http://www.airkorea.or.kr/file/viewImage/?atch_id=99526',\n",
       "  'imageUrl3': 'http://www.airkorea.or.kr/file/viewImage/?atch_id=99527',\n",
       "  'imageUrl4': 'http://www.airkorea.or.kr/file/viewImage/?atch_id=99528',\n",
       "  'imageUrl5': 'http://www.airkorea.or.kr/file/viewImage/?atch_id=99529',\n",
       "  'imageUrl6': 'http://www.airkorea.or.kr/file/viewImage/?atch_id=99530',\n",
       "  'imageUrl7': 'http://www.airkorea.or.kr/file/viewImage/?atch_id=99489',\n",
       "  'imageUrl8': 'http://www.airkorea.or.kr/file/viewImage/?atch_id=',\n",
       "  'imageUrl9': 'http://www.airkorea.or.kr/file/viewImage/?atch_id=',\n",
       "  'informCause': \"○ [미세먼지] 대부분 '보통' 수준이겠으나, 일부 서쪽지역은 대기 정체로 국내 생성 미세먼지가 축적되어 농도가 높을 것으로 예상됨.\",\n",
       "  'informCode': 'PM10',\n",
       "  'informData': '2018-11-14',\n",
       "  'informGrade': '서울 : 보통,제주 : 좋음,전남 : 보통,전북 : 보통,광주 : 보통,경남 : 좋음,경북 : 좋음,울산 : 좋음,대구 : 좋음,부산 : 좋음,충남 : 보통,충북 : 보통,세종 : 보통,대전 : 보통,영동 : 좋음,영서 : 보통,경기남부 : 보통,경기북부 : 보통,인천 : 보통',\n",
       "  'informOverall': \"○ [미세먼지] 충남·광주·전북은 '나쁨', 그 밖의 권역은 '좋음'∼'보통'으로 예상됨.\",\n",
       "  'numOfRows': '10',\n",
       "  'pageNo': '1',\n",
       "  'resultCode': '',\n",
       "  'resultMsg': '',\n",
       "  'searchDate': '',\n",
       "  'serviceKey': '',\n",
       "  'totalCount': '',\n",
       "  'ver': ''},\n",
       " {'_returnType': 'json',\n",
       "  'actionKnack': '',\n",
       "  'dataTime': '2018-11-14 11시 발표',\n",
       "  'f_data_time': '2018111411',\n",
       "  'f_data_time1': '20181114',\n",
       "  'f_data_time2': '20181115',\n",
       "  'f_data_time3': '20181116',\n",
       "  'f_inform_data': '20181115',\n",
       "  'imageUrl1': '',\n",
       "  'imageUrl2': '',\n",
       "  'imageUrl3': '',\n",
       "  'imageUrl4': '',\n",
       "  'imageUrl5': '',\n",
       "  'imageUrl6': '',\n",
       "  'imageUrl7': 'http://www.airkorea.or.kr/file/viewImage/?atch_id=99489',\n",
       "  'imageUrl8': 'http://www.airkorea.or.kr/file/viewImage/?atch_id=',\n",
       "  'imageUrl9': 'http://www.airkorea.or.kr/file/viewImage/?atch_id=',\n",
       "  'informCause': \"○ [미세먼지] 대부분 '보통' 수준이겠으나, 일부 중서부지역은 대기 정체로 국내 생성 미세먼지가 축적되어 농도가 높을 것으로 예상됨.\",\n",
       "  'informCode': 'PM10',\n",
       "  'informData': '2018-11-15',\n",
       "  'informGrade': '서울 : 보통,제주 : 좋음,전남 : 보통,전북 : 보통,광주 : 보통,경남 : 보통,경북 : 보통,울산 : 보통,대구 : 보통,부산 : 좋음,충남 : 보통,충북 : 보통,세종 : 보통,대전 : 보통,영동 : 좋음,영서 : 보통,경기남부 : 보통,경기북부 : 보통,인천 : 보통',\n",
       "  'informOverall': \"○ [미세먼지] 서울·인천·경기남부·충남은 '나쁨', 그 밖의 권역은 '좋음'∼'보통'으로 예상됨.\",\n",
       "  'numOfRows': '10',\n",
       "  'pageNo': '1',\n",
       "  'resultCode': '',\n",
       "  'resultMsg': '',\n",
       "  'searchDate': '',\n",
       "  'serviceKey': '',\n",
       "  'totalCount': '',\n",
       "  'ver': ''},\n",
       " {'_returnType': 'json',\n",
       "  'actionKnack': '',\n",
       "  'dataTime': '2018-11-14 11시 발표',\n",
       "  'f_data_time': '2018111411',\n",
       "  'f_data_time1': '20181114',\n",
       "  'f_data_time2': '20181115',\n",
       "  'f_data_time3': '20181116',\n",
       "  'f_inform_data': '20181114',\n",
       "  'imageUrl1': 'http://www.airkorea.or.kr/file/viewImage/?atch_id=99525',\n",
       "  'imageUrl2': 'http://www.airkorea.or.kr/file/viewImage/?atch_id=99526',\n",
       "  'imageUrl3': 'http://www.airkorea.or.kr/file/viewImage/?atch_id=99527',\n",
       "  'imageUrl4': 'http://www.airkorea.or.kr/file/viewImage/?atch_id=99528',\n",
       "  'imageUrl5': 'http://www.airkorea.or.kr/file/viewImage/?atch_id=99529',\n",
       "  'imageUrl6': 'http://www.airkorea.or.kr/file/viewImage/?atch_id=99530',\n",
       "  'imageUrl7': 'http://www.airkorea.or.kr/file/viewImage/?atch_id=',\n",
       "  'imageUrl8': 'http://www.airkorea.or.kr/file/viewImage/?atch_id=99490',\n",
       "  'imageUrl9': 'http://www.airkorea.or.kr/file/viewImage/?atch_id=',\n",
       "  'informCause': \"○ [미세먼지] 대부분 '보통' 수준이겠으나, 일부 서쪽지역은 대기 정체로 국내 생성 미세먼지가 축적되어 농도가 높을 것으로 예상됨.\",\n",
       "  'informCode': 'PM25',\n",
       "  'informData': '2018-11-14',\n",
       "  'informGrade': '서울 : 보통,제주 : 보통,전남 : 보통,전북 : 나쁨,광주 : 나쁨,경남 : 좋음,경북 : 보통,울산 : 좋음,대구 : 보통,부산 : 좋음,충남 : 나쁨,충북 : 보통,세종 : 보통,대전 : 보통,영동 : 좋음,영서 : 보통,경기남부 : 보통,경기북부 : 보통,인천 : 보통',\n",
       "  'informOverall': \"○ [미세먼지] 충남·광주·전북은 '나쁨', 그 밖의 권역은 '좋음'∼'보통'으로 예상됨.\",\n",
       "  'numOfRows': '10',\n",
       "  'pageNo': '1',\n",
       "  'resultCode': '',\n",
       "  'resultMsg': '',\n",
       "  'searchDate': '',\n",
       "  'serviceKey': '',\n",
       "  'totalCount': '',\n",
       "  'ver': ''},\n",
       " {'_returnType': 'json',\n",
       "  'actionKnack': '',\n",
       "  'dataTime': '2018-11-14 11시 발표',\n",
       "  'f_data_time': '2018111411',\n",
       "  'f_data_time1': '20181114',\n",
       "  'f_data_time2': '20181115',\n",
       "  'f_data_time3': '20181116',\n",
       "  'f_inform_data': '20181115',\n",
       "  'imageUrl1': '',\n",
       "  'imageUrl2': '',\n",
       "  'imageUrl3': '',\n",
       "  'imageUrl4': '',\n",
       "  'imageUrl5': '',\n",
       "  'imageUrl6': '',\n",
       "  'imageUrl7': 'http://www.airkorea.or.kr/file/viewImage/?atch_id=',\n",
       "  'imageUrl8': 'http://www.airkorea.or.kr/file/viewImage/?atch_id=99490',\n",
       "  'imageUrl9': 'http://www.airkorea.or.kr/file/viewImage/?atch_id=',\n",
       "  'informCause': \"○ [미세먼지] 대부분 '보통' 수준이겠으나, 일부 중서부지역은 대기 정체로 국내 생성 미세먼지가 축적되어 농도가 높을 것으로 예상됨.\",\n",
       "  'informCode': 'PM25',\n",
       "  'informData': '2018-11-15',\n",
       "  'informGrade': '서울 : 나쁨,제주 : 좋음,전남 : 보통,전북 : 보통,광주 : 보통,경남 : 보통,경북 : 보통,울산 : 보통,대구 : 보통,부산 : 좋음,충남 : 나쁨,충북 : 보통,세종 : 보통,대전 : 보통,영동 : 좋음,영서 : 보통,경기남부 : 나쁨,경기북부 : 보통,인천 : 나쁨',\n",
       "  'informOverall': \"○ [미세먼지] 서울·인천·경기남부·충남은 '나쁨', 그 밖의 권역은 '좋음'∼'보통'으로 예상됨.\",\n",
       "  'numOfRows': '10',\n",
       "  'pageNo': '1',\n",
       "  'resultCode': '',\n",
       "  'resultMsg': '',\n",
       "  'searchDate': '',\n",
       "  'serviceKey': '',\n",
       "  'totalCount': '',\n",
       "  'ver': ''},\n",
       " {'_returnType': 'json',\n",
       "  'actionKnack': '',\n",
       "  'dataTime': '2018-11-14 05시 발표',\n",
       "  'f_data_time': '2018111405',\n",
       "  'f_data_time1': '20181114',\n",
       "  'f_data_time2': '20181115',\n",
       "  'f_data_time3': '20181116',\n",
       "  'f_inform_data': '20181114',\n",
       "  'imageUrl1': 'http://www.airkorea.or.kr/file/viewImage/?atch_id=99509',\n",
       "  'imageUrl2': 'http://www.airkorea.or.kr/file/viewImage/?atch_id=99510',\n",
       "  'imageUrl3': 'http://www.airkorea.or.kr/file/viewImage/?atch_id=99511',\n",
       "  'imageUrl4': 'http://www.airkorea.or.kr/file/viewImage/?atch_id=99512',\n",
       "  'imageUrl5': 'http://www.airkorea.or.kr/file/viewImage/?atch_id=99513',\n",
       "  'imageUrl6': 'http://www.airkorea.or.kr/file/viewImage/?atch_id=99514',\n",
       "  'imageUrl7': 'http://www.airkorea.or.kr/file/viewImage/?atch_id=99489',\n",
       "  'imageUrl8': 'http://www.airkorea.or.kr/file/viewImage/?atch_id=',\n",
       "  'imageUrl9': 'http://www.airkorea.or.kr/file/viewImage/?atch_id=',\n",
       "  'informCause': \"○ [미세먼지] 대부분 '보통' 수준이겠으나, 일부 중서부지역은 대기 정체로 국내 생성 미세먼지가 축적되어 농도가 높을 것으로 예상됨.\",\n",
       "  'informCode': 'PM10',\n",
       "  'informData': '2018-11-14',\n",
       "  'informGrade': '서울 : 보통,제주 : 좋음,전남 : 보통,전북 : 보통,광주 : 보통,경남 : 좋음,경북 : 좋음,울산 : 좋음,대구 : 좋음,부산 : 좋음,충남 : 보통,충북 : 보통,세종 : 보통,대전 : 보통,영동 : 좋음,영서 : 보통,경기남부 : 보통,경기북부 : 보통,인천 : 보통',\n",
       "  'informOverall': \"○ [미세먼지] 충남은 '나쁨', 그 밖의 권역은 '좋음'∼'보통'으로 예상됨.\",\n",
       "  'numOfRows': '10',\n",
       "  'pageNo': '1',\n",
       "  'resultCode': '',\n",
       "  'resultMsg': '',\n",
       "  'searchDate': '',\n",
       "  'serviceKey': '',\n",
       "  'totalCount': '',\n",
       "  'ver': ''},\n",
       " {'_returnType': 'json',\n",
       "  'actionKnack': '',\n",
       "  'dataTime': '2018-11-14 05시 발표',\n",
       "  'f_data_time': '2018111405',\n",
       "  'f_data_time1': '20181114',\n",
       "  'f_data_time2': '20181115',\n",
       "  'f_data_time3': '20181116',\n",
       "  'f_inform_data': '20181115',\n",
       "  'imageUrl1': '',\n",
       "  'imageUrl2': '',\n",
       "  'imageUrl3': '',\n",
       "  'imageUrl4': '',\n",
       "  'imageUrl5': '',\n",
       "  'imageUrl6': '',\n",
       "  'imageUrl7': 'http://www.airkorea.or.kr/file/viewImage/?atch_id=99489',\n",
       "  'imageUrl8': 'http://www.airkorea.or.kr/file/viewImage/?atch_id=',\n",
       "  'imageUrl9': 'http://www.airkorea.or.kr/file/viewImage/?atch_id=',\n",
       "  'informCause': \"○ [미세먼지] 대부분 '보통' 수준이겠으나, 일부 중서부지역은 대기 정체로 국내 생성 미세먼지가 축적되어 농도가 높을 것으로 예상됨.\",\n",
       "  'informCode': 'PM10',\n",
       "  'informData': '2018-11-15',\n",
       "  'informGrade': '서울 : 보통,제주 : 좋음,전남 : 보통,전북 : 보통,광주 : 보통,경남 : 보통,경북 : 보통,울산 : 보통,대구 : 보통,부산 : 좋음,충남 : 보통,충북 : 보통,세종 : 보통,대전 : 보통,영동 : 좋음,영서 : 보통,경기남부 : 보통,경기북부 : 보통,인천 : 보통',\n",
       "  'informOverall': \"○ [미세먼지] 서울·인천·경기남부·충남은 '나쁨', 그 밖의 권역은 '좋음'∼'보통'으로 예상됨.\",\n",
       "  'numOfRows': '10',\n",
       "  'pageNo': '1',\n",
       "  'resultCode': '',\n",
       "  'resultMsg': '',\n",
       "  'searchDate': '',\n",
       "  'serviceKey': '',\n",
       "  'totalCount': '',\n",
       "  'ver': ''},\n",
       " {'_returnType': 'json',\n",
       "  'actionKnack': '',\n",
       "  'dataTime': '2018-11-14 05시 발표',\n",
       "  'f_data_time': '2018111405',\n",
       "  'f_data_time1': '20181114',\n",
       "  'f_data_time2': '20181115',\n",
       "  'f_data_time3': '20181116',\n",
       "  'f_inform_data': '20181114',\n",
       "  'imageUrl1': 'http://www.airkorea.or.kr/file/viewImage/?atch_id=99509',\n",
       "  'imageUrl2': 'http://www.airkorea.or.kr/file/viewImage/?atch_id=99510',\n",
       "  'imageUrl3': 'http://www.airkorea.or.kr/file/viewImage/?atch_id=99511',\n",
       "  'imageUrl4': 'http://www.airkorea.or.kr/file/viewImage/?atch_id=99512',\n",
       "  'imageUrl5': 'http://www.airkorea.or.kr/file/viewImage/?atch_id=99513',\n",
       "  'imageUrl6': 'http://www.airkorea.or.kr/file/viewImage/?atch_id=99514',\n",
       "  'imageUrl7': 'http://www.airkorea.or.kr/file/viewImage/?atch_id=',\n",
       "  'imageUrl8': 'http://www.airkorea.or.kr/file/viewImage/?atch_id=99490',\n",
       "  'imageUrl9': 'http://www.airkorea.or.kr/file/viewImage/?atch_id=',\n",
       "  'informCause': \"○ [미세먼지] 대부분 '보통' 수준이겠으나, 일부 중서부지역은 대기 정체로 국내 생성 미세먼지가 축적되어 농도가 높을 것으로 예상됨.\",\n",
       "  'informCode': 'PM25',\n",
       "  'informData': '2018-11-14',\n",
       "  'informGrade': '서울 : 보통,제주 : 보통,전남 : 보통,전북 : 보통,광주 : 보통,경남 : 좋음,경북 : 보통,울산 : 좋음,대구 : 보통,부산 : 좋음,충남 : 나쁨,충북 : 보통,세종 : 보통,대전 : 보통,영동 : 좋음,영서 : 보통,경기남부 : 보통,경기북부 : 보통,인천 : 보통',\n",
       "  'informOverall': \"○ [미세먼지] 충남은 '나쁨', 그 밖의 권역은 '좋음'∼'보통'으로 예상됨.\",\n",
       "  'numOfRows': '10',\n",
       "  'pageNo': '1',\n",
       "  'resultCode': '',\n",
       "  'resultMsg': '',\n",
       "  'searchDate': '',\n",
       "  'serviceKey': '',\n",
       "  'totalCount': '',\n",
       "  'ver': ''},\n",
       " {'_returnType': 'json',\n",
       "  'actionKnack': '',\n",
       "  'dataTime': '2018-11-14 05시 발표',\n",
       "  'f_data_time': '2018111405',\n",
       "  'f_data_time1': '20181114',\n",
       "  'f_data_time2': '20181115',\n",
       "  'f_data_time3': '20181116',\n",
       "  'f_inform_data': '20181115',\n",
       "  'imageUrl1': '',\n",
       "  'imageUrl2': '',\n",
       "  'imageUrl3': '',\n",
       "  'imageUrl4': '',\n",
       "  'imageUrl5': '',\n",
       "  'imageUrl6': '',\n",
       "  'imageUrl7': 'http://www.airkorea.or.kr/file/viewImage/?atch_id=',\n",
       "  'imageUrl8': 'http://www.airkorea.or.kr/file/viewImage/?atch_id=99490',\n",
       "  'imageUrl9': 'http://www.airkorea.or.kr/file/viewImage/?atch_id=',\n",
       "  'informCause': \"○ [미세먼지] 대부분 '보통' 수준이겠으나, 일부 중서부지역은 대기 정체로 국내 생성 미세먼지가 축적되어 농도가 높을 것으로 예상됨.\",\n",
       "  'informCode': 'PM25',\n",
       "  'informData': '2018-11-15',\n",
       "  'informGrade': '서울 : 나쁨,제주 : 좋음,전남 : 보통,전북 : 보통,광주 : 보통,경남 : 보통,경북 : 보통,울산 : 보통,대구 : 보통,부산 : 좋음,충남 : 나쁨,충북 : 보통,세종 : 보통,대전 : 보통,영동 : 좋음,영서 : 보통,경기남부 : 나쁨,경기북부 : 보통,인천 : 나쁨',\n",
       "  'informOverall': \"○ [미세먼지] 서울·인천·경기남부·충남은 '나쁨', 그 밖의 권역은 '좋음'∼'보통'으로 예상됨.\",\n",
       "  'numOfRows': '10',\n",
       "  'pageNo': '1',\n",
       "  'resultCode': '',\n",
       "  'resultMsg': '',\n",
       "  'searchDate': '',\n",
       "  'serviceKey': '',\n",
       "  'totalCount': '',\n",
       "  'ver': ''}]"
      ]
     },
     "execution_count": 16,
     "metadata": {},
     "output_type": "execute_result"
    }
   ],
   "source": [
    "json_obj['list']"
   ]
  },
  {
   "cell_type": "code",
   "execution_count": 17,
   "metadata": {},
   "outputs": [
    {
     "name": "stdout",
     "output_type": "stream",
     "text": [
      "(20, 30)\n"
     ]
    },
    {
     "data": {
      "text/html": [
       "<div>\n",
       "<style scoped>\n",
       "    .dataframe tbody tr th:only-of-type {\n",
       "        vertical-align: middle;\n",
       "    }\n",
       "\n",
       "    .dataframe tbody tr th {\n",
       "        vertical-align: top;\n",
       "    }\n",
       "\n",
       "    .dataframe thead th {\n",
       "        text-align: right;\n",
       "    }\n",
       "</style>\n",
       "<table border=\"1\" class=\"dataframe\">\n",
       "  <thead>\n",
       "    <tr style=\"text-align: right;\">\n",
       "      <th></th>\n",
       "      <th>_returnType</th>\n",
       "      <th>actionKnack</th>\n",
       "      <th>dataTime</th>\n",
       "      <th>f_data_time</th>\n",
       "      <th>f_data_time1</th>\n",
       "      <th>f_data_time2</th>\n",
       "      <th>f_data_time3</th>\n",
       "      <th>f_inform_data</th>\n",
       "      <th>imageUrl1</th>\n",
       "      <th>imageUrl2</th>\n",
       "      <th>...</th>\n",
       "      <th>informGrade</th>\n",
       "      <th>informOverall</th>\n",
       "      <th>numOfRows</th>\n",
       "      <th>pageNo</th>\n",
       "      <th>resultCode</th>\n",
       "      <th>resultMsg</th>\n",
       "      <th>searchDate</th>\n",
       "      <th>serviceKey</th>\n",
       "      <th>totalCount</th>\n",
       "      <th>ver</th>\n",
       "    </tr>\n",
       "  </thead>\n",
       "  <tbody>\n",
       "    <tr>\n",
       "      <th>0</th>\n",
       "      <td>json</td>\n",
       "      <td></td>\n",
       "      <td>2018-11-14 23시 발표</td>\n",
       "      <td>2018111423</td>\n",
       "      <td>20181114</td>\n",
       "      <td>20181115</td>\n",
       "      <td>20181116</td>\n",
       "      <td>20181114</td>\n",
       "      <td>http://www.airkorea.or.kr/file/viewImage/?atch...</td>\n",
       "      <td>http://www.airkorea.or.kr/file/viewImage/?atch...</td>\n",
       "      <td>...</td>\n",
       "      <td>서울 : 보통,제주 : 좋음,전남 : 보통,전북 : 보통,광주 : 보통,경남 : 좋...</td>\n",
       "      <td>○ [미세먼지] 광주·전북은 '나쁨', 그 밖의 권역은 '좋음'∼'보통'으로 예상됨.</td>\n",
       "      <td>10</td>\n",
       "      <td>1</td>\n",
       "      <td></td>\n",
       "      <td></td>\n",
       "      <td></td>\n",
       "      <td></td>\n",
       "      <td></td>\n",
       "      <td></td>\n",
       "    </tr>\n",
       "    <tr>\n",
       "      <th>1</th>\n",
       "      <td>json</td>\n",
       "      <td></td>\n",
       "      <td>2018-11-14 23시 발표</td>\n",
       "      <td>2018111423</td>\n",
       "      <td>20181114</td>\n",
       "      <td>20181115</td>\n",
       "      <td>20181116</td>\n",
       "      <td>20181115</td>\n",
       "      <td>http://www.airkorea.or.kr/file/viewImage/?atch...</td>\n",
       "      <td>http://www.airkorea.or.kr/file/viewImage/?atch...</td>\n",
       "      <td>...</td>\n",
       "      <td>서울 : 보통,제주 : 좋음,전남 : 보통,전북 : 보통,광주 : 보통,경남 : 보...</td>\n",
       "      <td>○ [미세먼지] 수도권·충남·광주·전북은 '나쁨', 그 밖의 권역은 '좋음'∼'보통...</td>\n",
       "      <td>10</td>\n",
       "      <td>1</td>\n",
       "      <td></td>\n",
       "      <td></td>\n",
       "      <td></td>\n",
       "      <td></td>\n",
       "      <td></td>\n",
       "      <td></td>\n",
       "    </tr>\n",
       "    <tr>\n",
       "      <th>2</th>\n",
       "      <td>json</td>\n",
       "      <td></td>\n",
       "      <td>2018-11-14 23시 발표</td>\n",
       "      <td>2018111423</td>\n",
       "      <td>20181114</td>\n",
       "      <td>20181115</td>\n",
       "      <td>20181116</td>\n",
       "      <td>20181116</td>\n",
       "      <td>http://www.airkorea.or.kr/file/viewImage/?atch...</td>\n",
       "      <td>http://www.airkorea.or.kr/file/viewImage/?atch...</td>\n",
       "      <td>...</td>\n",
       "      <td>서울 : 보통,제주 : 좋음,전남 : 보통,전북 : 보통,광주 : 보통,경남 : 보...</td>\n",
       "      <td>○ [미세먼지] 수도권·강원권·충청권·광주·전북·대구·경북은 '나쁨', 그 밖의 권...</td>\n",
       "      <td>10</td>\n",
       "      <td>1</td>\n",
       "      <td></td>\n",
       "      <td></td>\n",
       "      <td></td>\n",
       "      <td></td>\n",
       "      <td></td>\n",
       "      <td></td>\n",
       "    </tr>\n",
       "    <tr>\n",
       "      <th>3</th>\n",
       "      <td>json</td>\n",
       "      <td></td>\n",
       "      <td>2018-11-14 23시 발표</td>\n",
       "      <td>2018111423</td>\n",
       "      <td>20181114</td>\n",
       "      <td>20181115</td>\n",
       "      <td>20181116</td>\n",
       "      <td>20181114</td>\n",
       "      <td>http://www.airkorea.or.kr/file/viewImage/?atch...</td>\n",
       "      <td>http://www.airkorea.or.kr/file/viewImage/?atch...</td>\n",
       "      <td>...</td>\n",
       "      <td>서울 : 보통,제주 : 보통,전남 : 보통,전북 : 나쁨,광주 : 나쁨,경남 : 좋...</td>\n",
       "      <td>○ [미세먼지] 광주·전북은 '나쁨', 그 밖의 권역은 '좋음'∼'보통'으로 예상됨.</td>\n",
       "      <td>10</td>\n",
       "      <td>1</td>\n",
       "      <td></td>\n",
       "      <td></td>\n",
       "      <td></td>\n",
       "      <td></td>\n",
       "      <td></td>\n",
       "      <td></td>\n",
       "    </tr>\n",
       "    <tr>\n",
       "      <th>4</th>\n",
       "      <td>json</td>\n",
       "      <td></td>\n",
       "      <td>2018-11-14 23시 발표</td>\n",
       "      <td>2018111423</td>\n",
       "      <td>20181114</td>\n",
       "      <td>20181115</td>\n",
       "      <td>20181116</td>\n",
       "      <td>20181115</td>\n",
       "      <td>http://www.airkorea.or.kr/file/viewImage/?atch...</td>\n",
       "      <td>http://www.airkorea.or.kr/file/viewImage/?atch...</td>\n",
       "      <td>...</td>\n",
       "      <td>서울 : 나쁨,제주 : 좋음,전남 : 보통,전북 : 나쁨,광주 : 나쁨,경남 : 보...</td>\n",
       "      <td>○ [미세먼지] 수도권·충남·광주·전북은 '나쁨', 그 밖의 권역은 '좋음'∼'보통...</td>\n",
       "      <td>10</td>\n",
       "      <td>1</td>\n",
       "      <td></td>\n",
       "      <td></td>\n",
       "      <td></td>\n",
       "      <td></td>\n",
       "      <td></td>\n",
       "      <td></td>\n",
       "    </tr>\n",
       "  </tbody>\n",
       "</table>\n",
       "<p>5 rows × 30 columns</p>\n",
       "</div>"
      ],
      "text/plain": [
       "  _returnType actionKnack           dataTime f_data_time f_data_time1  \\\n",
       "0        json              2018-11-14 23시 발표  2018111423     20181114   \n",
       "1        json              2018-11-14 23시 발표  2018111423     20181114   \n",
       "2        json              2018-11-14 23시 발표  2018111423     20181114   \n",
       "3        json              2018-11-14 23시 발표  2018111423     20181114   \n",
       "4        json              2018-11-14 23시 발표  2018111423     20181114   \n",
       "\n",
       "  f_data_time2 f_data_time3 f_inform_data  \\\n",
       "0     20181115     20181116      20181114   \n",
       "1     20181115     20181116      20181115   \n",
       "2     20181115     20181116      20181116   \n",
       "3     20181115     20181116      20181114   \n",
       "4     20181115     20181116      20181115   \n",
       "\n",
       "                                           imageUrl1  \\\n",
       "0  http://www.airkorea.or.kr/file/viewImage/?atch...   \n",
       "1  http://www.airkorea.or.kr/file/viewImage/?atch...   \n",
       "2  http://www.airkorea.or.kr/file/viewImage/?atch...   \n",
       "3  http://www.airkorea.or.kr/file/viewImage/?atch...   \n",
       "4  http://www.airkorea.or.kr/file/viewImage/?atch...   \n",
       "\n",
       "                                           imageUrl2 ...  \\\n",
       "0  http://www.airkorea.or.kr/file/viewImage/?atch... ...   \n",
       "1  http://www.airkorea.or.kr/file/viewImage/?atch... ...   \n",
       "2  http://www.airkorea.or.kr/file/viewImage/?atch... ...   \n",
       "3  http://www.airkorea.or.kr/file/viewImage/?atch... ...   \n",
       "4  http://www.airkorea.or.kr/file/viewImage/?atch... ...   \n",
       "\n",
       "                                         informGrade  \\\n",
       "0  서울 : 보통,제주 : 좋음,전남 : 보통,전북 : 보통,광주 : 보통,경남 : 좋...   \n",
       "1  서울 : 보통,제주 : 좋음,전남 : 보통,전북 : 보통,광주 : 보통,경남 : 보...   \n",
       "2  서울 : 보통,제주 : 좋음,전남 : 보통,전북 : 보통,광주 : 보통,경남 : 보...   \n",
       "3  서울 : 보통,제주 : 보통,전남 : 보통,전북 : 나쁨,광주 : 나쁨,경남 : 좋...   \n",
       "4  서울 : 나쁨,제주 : 좋음,전남 : 보통,전북 : 나쁨,광주 : 나쁨,경남 : 보...   \n",
       "\n",
       "                                       informOverall numOfRows pageNo  \\\n",
       "0    ○ [미세먼지] 광주·전북은 '나쁨', 그 밖의 권역은 '좋음'∼'보통'으로 예상됨.        10      1   \n",
       "1  ○ [미세먼지] 수도권·충남·광주·전북은 '나쁨', 그 밖의 권역은 '좋음'∼'보통...        10      1   \n",
       "2  ○ [미세먼지] 수도권·강원권·충청권·광주·전북·대구·경북은 '나쁨', 그 밖의 권...        10      1   \n",
       "3    ○ [미세먼지] 광주·전북은 '나쁨', 그 밖의 권역은 '좋음'∼'보통'으로 예상됨.        10      1   \n",
       "4  ○ [미세먼지] 수도권·충남·광주·전북은 '나쁨', 그 밖의 권역은 '좋음'∼'보통...        10      1   \n",
       "\n",
       "  resultCode resultMsg searchDate serviceKey totalCount ver  \n",
       "0                                                            \n",
       "1                                                            \n",
       "2                                                            \n",
       "3                                                            \n",
       "4                                                            \n",
       "\n",
       "[5 rows x 30 columns]"
      ]
     },
     "execution_count": 17,
     "metadata": {},
     "output_type": "execute_result"
    }
   ],
   "source": [
    "먼지_df = pd.DataFrame(json_obj['list'])\n",
    "print(먼지_df.shape)\n",
    "먼지_df.head()"
   ]
  },
  {
   "cell_type": "code",
   "execution_count": 18,
   "metadata": {},
   "outputs": [
    {
     "data": {
      "text/plain": [
       "Index(['_returnType', 'actionKnack', 'dataTime', 'f_data_time', 'f_data_time1',\n",
       "       'f_data_time2', 'f_data_time3', 'f_inform_data', 'imageUrl1',\n",
       "       'imageUrl2', 'imageUrl3', 'imageUrl4', 'imageUrl5', 'imageUrl6',\n",
       "       'imageUrl7', 'imageUrl8', 'imageUrl9', 'informCause', 'informCode',\n",
       "       'informData', 'informGrade', 'informOverall', 'numOfRows', 'pageNo',\n",
       "       'resultCode', 'resultMsg', 'searchDate', 'serviceKey', 'totalCount',\n",
       "       'ver'],\n",
       "      dtype='object')"
      ]
     },
     "execution_count": 18,
     "metadata": {},
     "output_type": "execute_result"
    }
   ],
   "source": [
    "먼지_df.columns"
   ]
  },
  {
   "cell_type": "code",
   "execution_count": 19,
   "metadata": {},
   "outputs": [
    {
     "data": {
      "text/html": [
       "<div>\n",
       "<style scoped>\n",
       "    .dataframe tbody tr th:only-of-type {\n",
       "        vertical-align: middle;\n",
       "    }\n",
       "\n",
       "    .dataframe tbody tr th {\n",
       "        vertical-align: top;\n",
       "    }\n",
       "\n",
       "    .dataframe thead th {\n",
       "        text-align: right;\n",
       "    }\n",
       "</style>\n",
       "<table border=\"1\" class=\"dataframe\">\n",
       "  <thead>\n",
       "    <tr style=\"text-align: right;\">\n",
       "      <th></th>\n",
       "      <th>dataTime</th>\n",
       "      <th>informCause</th>\n",
       "      <th>informCode</th>\n",
       "      <th>informData</th>\n",
       "      <th>informGrade</th>\n",
       "      <th>informOverall</th>\n",
       "    </tr>\n",
       "  </thead>\n",
       "  <tbody>\n",
       "    <tr>\n",
       "      <th>0</th>\n",
       "      <td>2018-11-14 23시 발표</td>\n",
       "      <td>○ [미세먼지] 대부분 '보통' 수준이겠으나, 일부 서쪽 지역은 대기 정체로 국내 ...</td>\n",
       "      <td>PM10</td>\n",
       "      <td>2018-11-14</td>\n",
       "      <td>서울 : 보통,제주 : 좋음,전남 : 보통,전북 : 보통,광주 : 보통,경남 : 좋...</td>\n",
       "      <td>○ [미세먼지] 광주·전북은 '나쁨', 그 밖의 권역은 '좋음'∼'보통'으로 예상됨.</td>\n",
       "    </tr>\n",
       "    <tr>\n",
       "      <th>1</th>\n",
       "      <td>2018-11-14 23시 발표</td>\n",
       "      <td>○ [미세먼지] 대부분 '보통' 수준이겠으나, 서쪽지역은 대기 정체로 국내 생성 미...</td>\n",
       "      <td>PM10</td>\n",
       "      <td>2018-11-15</td>\n",
       "      <td>서울 : 보통,제주 : 좋음,전남 : 보통,전북 : 보통,광주 : 보통,경남 : 보...</td>\n",
       "      <td>○ [미세먼지] 수도권·충남·광주·전북은 '나쁨', 그 밖의 권역은 '좋음'∼'보통...</td>\n",
       "    </tr>\n",
       "    <tr>\n",
       "      <th>2</th>\n",
       "      <td>2018-11-14 23시 발표</td>\n",
       "      <td>○ [미세먼지] 대부분 지역은 대기 정체로 축적된 국내 생성 미세먼지에 국외에서 유...</td>\n",
       "      <td>PM10</td>\n",
       "      <td>2018-11-16</td>\n",
       "      <td>서울 : 보통,제주 : 좋음,전남 : 보통,전북 : 보통,광주 : 보통,경남 : 보...</td>\n",
       "      <td>○ [미세먼지] 수도권·강원권·충청권·광주·전북·대구·경북은 '나쁨', 그 밖의 권...</td>\n",
       "    </tr>\n",
       "    <tr>\n",
       "      <th>3</th>\n",
       "      <td>2018-11-14 23시 발표</td>\n",
       "      <td>○ [미세먼지] 대부분 '보통' 수준이겠으나, 일부 서쪽 지역은 대기 정체로 국내 ...</td>\n",
       "      <td>PM25</td>\n",
       "      <td>2018-11-14</td>\n",
       "      <td>서울 : 보통,제주 : 보통,전남 : 보통,전북 : 나쁨,광주 : 나쁨,경남 : 좋...</td>\n",
       "      <td>○ [미세먼지] 광주·전북은 '나쁨', 그 밖의 권역은 '좋음'∼'보통'으로 예상됨.</td>\n",
       "    </tr>\n",
       "    <tr>\n",
       "      <th>4</th>\n",
       "      <td>2018-11-14 23시 발표</td>\n",
       "      <td>○ [미세먼지] 대부분 '보통' 수준이겠으나, 서쪽지역은 대기 정체로 국내 생성 미...</td>\n",
       "      <td>PM25</td>\n",
       "      <td>2018-11-15</td>\n",
       "      <td>서울 : 나쁨,제주 : 좋음,전남 : 보통,전북 : 나쁨,광주 : 나쁨,경남 : 보...</td>\n",
       "      <td>○ [미세먼지] 수도권·충남·광주·전북은 '나쁨', 그 밖의 권역은 '좋음'∼'보통...</td>\n",
       "    </tr>\n",
       "  </tbody>\n",
       "</table>\n",
       "</div>"
      ],
      "text/plain": [
       "            dataTime                                        informCause  \\\n",
       "0  2018-11-14 23시 발표  ○ [미세먼지] 대부분 '보통' 수준이겠으나, 일부 서쪽 지역은 대기 정체로 국내 ...   \n",
       "1  2018-11-14 23시 발표  ○ [미세먼지] 대부분 '보통' 수준이겠으나, 서쪽지역은 대기 정체로 국내 생성 미...   \n",
       "2  2018-11-14 23시 발표  ○ [미세먼지] 대부분 지역은 대기 정체로 축적된 국내 생성 미세먼지에 국외에서 유...   \n",
       "3  2018-11-14 23시 발표  ○ [미세먼지] 대부분 '보통' 수준이겠으나, 일부 서쪽 지역은 대기 정체로 국내 ...   \n",
       "4  2018-11-14 23시 발표  ○ [미세먼지] 대부분 '보통' 수준이겠으나, 서쪽지역은 대기 정체로 국내 생성 미...   \n",
       "\n",
       "  informCode  informData                                        informGrade  \\\n",
       "0       PM10  2018-11-14  서울 : 보통,제주 : 좋음,전남 : 보통,전북 : 보통,광주 : 보통,경남 : 좋...   \n",
       "1       PM10  2018-11-15  서울 : 보통,제주 : 좋음,전남 : 보통,전북 : 보통,광주 : 보통,경남 : 보...   \n",
       "2       PM10  2018-11-16  서울 : 보통,제주 : 좋음,전남 : 보통,전북 : 보통,광주 : 보통,경남 : 보...   \n",
       "3       PM25  2018-11-14  서울 : 보통,제주 : 보통,전남 : 보통,전북 : 나쁨,광주 : 나쁨,경남 : 좋...   \n",
       "4       PM25  2018-11-15  서울 : 나쁨,제주 : 좋음,전남 : 보통,전북 : 나쁨,광주 : 나쁨,경남 : 보...   \n",
       "\n",
       "                                       informOverall  \n",
       "0    ○ [미세먼지] 광주·전북은 '나쁨', 그 밖의 권역은 '좋음'∼'보통'으로 예상됨.  \n",
       "1  ○ [미세먼지] 수도권·충남·광주·전북은 '나쁨', 그 밖의 권역은 '좋음'∼'보통...  \n",
       "2  ○ [미세먼지] 수도권·강원권·충청권·광주·전북·대구·경북은 '나쁨', 그 밖의 권...  \n",
       "3    ○ [미세먼지] 광주·전북은 '나쁨', 그 밖의 권역은 '좋음'∼'보통'으로 예상됨.  \n",
       "4  ○ [미세먼지] 수도권·충남·광주·전북은 '나쁨', 그 밖의 권역은 '좋음'∼'보통...  "
      ]
     },
     "execution_count": 19,
     "metadata": {},
     "output_type": "execute_result"
    }
   ],
   "source": [
    "names = ['dataTime', 'informCause', 'informCode', 'informData', 'informGrade', 'informOverall']\n",
    "먼지_df = 먼지_df[names]\n",
    "먼지_df.head()"
   ]
  },
  {
   "cell_type": "code",
   "execution_count": 20,
   "metadata": {},
   "outputs": [
    {
     "data": {
      "text/plain": [
       "'서울 : 보통,제주 : 좋음,전남 : 보통,전북 : 보통,광주 : 보통,경남 : 좋음,경북 : 좋음,울산 : 좋음,대구 : 좋음,부산 : 좋음,충남 : 보통,충북 : 보통,세종 : 보통,대전 : 보통,영동 : 좋음,영서 : 보통,경기남부 : 보통,경기북부 : 보통,인천 : 보통'"
      ]
     },
     "execution_count": 20,
     "metadata": {},
     "output_type": "execute_result"
    }
   ],
   "source": [
    "# TODO: informGrade 필드를 Feature Engineering 해봅시다.\n",
    "먼지_df['informGrade'][0]"
   ]
  },
  {
   "cell_type": "code",
   "execution_count": 21,
   "metadata": {},
   "outputs": [
    {
     "name": "stdout",
     "output_type": "stream",
     "text": [
      "['서울', '제주', '전남', '전북', '광주', '경남', '경북', '울산', '대구', '부산', '충남', '충북', '세종', '대전', '영동', '영서', '경기남부', '경기북부', '인천']\n",
      "['보통', '좋음', '보통', '보통', '보통', '좋음', '좋음', '좋음', '좋음', '좋음', '보통', '보통', '보통', '보통', '좋음', '보통', '보통', '보통', '보통']\n"
     ]
    }
   ],
   "source": [
    "inform_grade = 먼지_df['informGrade'][0]\n",
    "\n",
    "지역_리스트 = [word.split(':')[0].strip() for word in inform_grade.split(',')]\n",
    "상태_리스트 = [word.split(':')[1].strip() for word in inform_grade.split(',')]\n",
    "\n",
    "print(지역_리스트)\n",
    "print(상태_리스트)"
   ]
  },
  {
   "cell_type": "code",
   "execution_count": 22,
   "metadata": {},
   "outputs": [
    {
     "data": {
      "text/html": [
       "<div>\n",
       "<style scoped>\n",
       "    .dataframe tbody tr th:only-of-type {\n",
       "        vertical-align: middle;\n",
       "    }\n",
       "\n",
       "    .dataframe tbody tr th {\n",
       "        vertical-align: top;\n",
       "    }\n",
       "\n",
       "    .dataframe thead th {\n",
       "        text-align: right;\n",
       "    }\n",
       "</style>\n",
       "<table border=\"1\" class=\"dataframe\">\n",
       "  <thead>\n",
       "    <tr style=\"text-align: right;\">\n",
       "      <th></th>\n",
       "      <th>0</th>\n",
       "      <th>1</th>\n",
       "      <th>2</th>\n",
       "      <th>3</th>\n",
       "      <th>4</th>\n",
       "      <th>5</th>\n",
       "      <th>6</th>\n",
       "      <th>7</th>\n",
       "      <th>8</th>\n",
       "      <th>9</th>\n",
       "      <th>10</th>\n",
       "      <th>11</th>\n",
       "      <th>12</th>\n",
       "      <th>13</th>\n",
       "      <th>14</th>\n",
       "      <th>15</th>\n",
       "      <th>16</th>\n",
       "      <th>17</th>\n",
       "      <th>18</th>\n",
       "    </tr>\n",
       "  </thead>\n",
       "  <tbody>\n",
       "    <tr>\n",
       "      <th>0</th>\n",
       "      <td>보통</td>\n",
       "      <td>좋음</td>\n",
       "      <td>보통</td>\n",
       "      <td>보통</td>\n",
       "      <td>보통</td>\n",
       "      <td>좋음</td>\n",
       "      <td>좋음</td>\n",
       "      <td>좋음</td>\n",
       "      <td>좋음</td>\n",
       "      <td>좋음</td>\n",
       "      <td>보통</td>\n",
       "      <td>보통</td>\n",
       "      <td>보통</td>\n",
       "      <td>보통</td>\n",
       "      <td>좋음</td>\n",
       "      <td>보통</td>\n",
       "      <td>보통</td>\n",
       "      <td>보통</td>\n",
       "      <td>보통</td>\n",
       "    </tr>\n",
       "    <tr>\n",
       "      <th>1</th>\n",
       "      <td>보통</td>\n",
       "      <td>좋음</td>\n",
       "      <td>보통</td>\n",
       "      <td>보통</td>\n",
       "      <td>보통</td>\n",
       "      <td>보통</td>\n",
       "      <td>보통</td>\n",
       "      <td>보통</td>\n",
       "      <td>보통</td>\n",
       "      <td>보통</td>\n",
       "      <td>보통</td>\n",
       "      <td>보통</td>\n",
       "      <td>보통</td>\n",
       "      <td>보통</td>\n",
       "      <td>좋음</td>\n",
       "      <td>보통</td>\n",
       "      <td>보통</td>\n",
       "      <td>보통</td>\n",
       "      <td>보통</td>\n",
       "    </tr>\n",
       "    <tr>\n",
       "      <th>2</th>\n",
       "      <td>보통</td>\n",
       "      <td>좋음</td>\n",
       "      <td>보통</td>\n",
       "      <td>보통</td>\n",
       "      <td>보통</td>\n",
       "      <td>보통</td>\n",
       "      <td>보통</td>\n",
       "      <td>보통</td>\n",
       "      <td>보통</td>\n",
       "      <td>보통</td>\n",
       "      <td>나쁨</td>\n",
       "      <td>보통</td>\n",
       "      <td>보통</td>\n",
       "      <td>보통</td>\n",
       "      <td>보통</td>\n",
       "      <td>보통</td>\n",
       "      <td>나쁨</td>\n",
       "      <td>보통</td>\n",
       "      <td>보통</td>\n",
       "    </tr>\n",
       "    <tr>\n",
       "      <th>3</th>\n",
       "      <td>보통</td>\n",
       "      <td>보통</td>\n",
       "      <td>보통</td>\n",
       "      <td>나쁨</td>\n",
       "      <td>나쁨</td>\n",
       "      <td>좋음</td>\n",
       "      <td>보통</td>\n",
       "      <td>좋음</td>\n",
       "      <td>좋음</td>\n",
       "      <td>좋음</td>\n",
       "      <td>보통</td>\n",
       "      <td>보통</td>\n",
       "      <td>보통</td>\n",
       "      <td>보통</td>\n",
       "      <td>좋음</td>\n",
       "      <td>보통</td>\n",
       "      <td>보통</td>\n",
       "      <td>보통</td>\n",
       "      <td>보통</td>\n",
       "    </tr>\n",
       "    <tr>\n",
       "      <th>4</th>\n",
       "      <td>나쁨</td>\n",
       "      <td>좋음</td>\n",
       "      <td>보통</td>\n",
       "      <td>나쁨</td>\n",
       "      <td>나쁨</td>\n",
       "      <td>보통</td>\n",
       "      <td>보통</td>\n",
       "      <td>보통</td>\n",
       "      <td>보통</td>\n",
       "      <td>보통</td>\n",
       "      <td>나쁨</td>\n",
       "      <td>보통</td>\n",
       "      <td>보통</td>\n",
       "      <td>보통</td>\n",
       "      <td>좋음</td>\n",
       "      <td>보통</td>\n",
       "      <td>나쁨</td>\n",
       "      <td>나쁨</td>\n",
       "      <td>나쁨</td>\n",
       "    </tr>\n",
       "  </tbody>\n",
       "</table>\n",
       "</div>"
      ],
      "text/plain": [
       "   0   1   2   3   4   5   6   7   8   9   10  11  12  13  14  15  16  17  18\n",
       "0  보통  좋음  보통  보통  보통  좋음  좋음  좋음  좋음  좋음  보통  보통  보통  보통  좋음  보통  보통  보통  보통\n",
       "1  보통  좋음  보통  보통  보통  보통  보통  보통  보통  보통  보통  보통  보통  보통  좋음  보통  보통  보통  보통\n",
       "2  보통  좋음  보통  보통  보통  보통  보통  보통  보통  보통  나쁨  보통  보통  보통  보통  보통  나쁨  보통  보통\n",
       "3  보통  보통  보통  나쁨  나쁨  좋음  보통  좋음  좋음  좋음  보통  보통  보통  보통  좋음  보통  보통  보통  보통\n",
       "4  나쁨  좋음  보통  나쁨  나쁨  보통  보통  보통  보통  보통  나쁨  보통  보통  보통  좋음  보통  나쁨  나쁨  나쁨"
      ]
     },
     "execution_count": 22,
     "metadata": {},
     "output_type": "execute_result"
    }
   ],
   "source": [
    "def convert_inform_grade(inform_grade):\n",
    "    상태_리스트 = [word.split(':')[1].strip() for word in inform_grade.split(',')]\n",
    "    return pd.Series(상태_리스트)\n",
    "    \n",
    "inform_grade_df = 먼지_df['informGrade'].apply(convert_inform_grade)\n",
    "inform_grade_df.head()"
   ]
  },
  {
   "cell_type": "code",
   "execution_count": 23,
   "metadata": {},
   "outputs": [
    {
     "data": {
      "text/html": [
       "<div>\n",
       "<style scoped>\n",
       "    .dataframe tbody tr th:only-of-type {\n",
       "        vertical-align: middle;\n",
       "    }\n",
       "\n",
       "    .dataframe tbody tr th {\n",
       "        vertical-align: top;\n",
       "    }\n",
       "\n",
       "    .dataframe thead th {\n",
       "        text-align: right;\n",
       "    }\n",
       "</style>\n",
       "<table border=\"1\" class=\"dataframe\">\n",
       "  <thead>\n",
       "    <tr style=\"text-align: right;\">\n",
       "      <th></th>\n",
       "      <th>서울</th>\n",
       "      <th>제주</th>\n",
       "      <th>전남</th>\n",
       "      <th>전북</th>\n",
       "      <th>광주</th>\n",
       "      <th>경남</th>\n",
       "      <th>경북</th>\n",
       "      <th>울산</th>\n",
       "      <th>대구</th>\n",
       "      <th>부산</th>\n",
       "      <th>충남</th>\n",
       "      <th>충북</th>\n",
       "      <th>세종</th>\n",
       "      <th>대전</th>\n",
       "      <th>영동</th>\n",
       "      <th>영서</th>\n",
       "      <th>경기남부</th>\n",
       "      <th>경기북부</th>\n",
       "      <th>인천</th>\n",
       "    </tr>\n",
       "  </thead>\n",
       "  <tbody>\n",
       "    <tr>\n",
       "      <th>0</th>\n",
       "      <td>보통</td>\n",
       "      <td>좋음</td>\n",
       "      <td>보통</td>\n",
       "      <td>보통</td>\n",
       "      <td>보통</td>\n",
       "      <td>좋음</td>\n",
       "      <td>좋음</td>\n",
       "      <td>좋음</td>\n",
       "      <td>좋음</td>\n",
       "      <td>좋음</td>\n",
       "      <td>보통</td>\n",
       "      <td>보통</td>\n",
       "      <td>보통</td>\n",
       "      <td>보통</td>\n",
       "      <td>좋음</td>\n",
       "      <td>보통</td>\n",
       "      <td>보통</td>\n",
       "      <td>보통</td>\n",
       "      <td>보통</td>\n",
       "    </tr>\n",
       "    <tr>\n",
       "      <th>1</th>\n",
       "      <td>보통</td>\n",
       "      <td>좋음</td>\n",
       "      <td>보통</td>\n",
       "      <td>보통</td>\n",
       "      <td>보통</td>\n",
       "      <td>보통</td>\n",
       "      <td>보통</td>\n",
       "      <td>보통</td>\n",
       "      <td>보통</td>\n",
       "      <td>보통</td>\n",
       "      <td>보통</td>\n",
       "      <td>보통</td>\n",
       "      <td>보통</td>\n",
       "      <td>보통</td>\n",
       "      <td>좋음</td>\n",
       "      <td>보통</td>\n",
       "      <td>보통</td>\n",
       "      <td>보통</td>\n",
       "      <td>보통</td>\n",
       "    </tr>\n",
       "    <tr>\n",
       "      <th>2</th>\n",
       "      <td>보통</td>\n",
       "      <td>좋음</td>\n",
       "      <td>보통</td>\n",
       "      <td>보통</td>\n",
       "      <td>보통</td>\n",
       "      <td>보통</td>\n",
       "      <td>보통</td>\n",
       "      <td>보통</td>\n",
       "      <td>보통</td>\n",
       "      <td>보통</td>\n",
       "      <td>나쁨</td>\n",
       "      <td>보통</td>\n",
       "      <td>보통</td>\n",
       "      <td>보통</td>\n",
       "      <td>보통</td>\n",
       "      <td>보통</td>\n",
       "      <td>나쁨</td>\n",
       "      <td>보통</td>\n",
       "      <td>보통</td>\n",
       "    </tr>\n",
       "    <tr>\n",
       "      <th>3</th>\n",
       "      <td>보통</td>\n",
       "      <td>보통</td>\n",
       "      <td>보통</td>\n",
       "      <td>나쁨</td>\n",
       "      <td>나쁨</td>\n",
       "      <td>좋음</td>\n",
       "      <td>보통</td>\n",
       "      <td>좋음</td>\n",
       "      <td>좋음</td>\n",
       "      <td>좋음</td>\n",
       "      <td>보통</td>\n",
       "      <td>보통</td>\n",
       "      <td>보통</td>\n",
       "      <td>보통</td>\n",
       "      <td>좋음</td>\n",
       "      <td>보통</td>\n",
       "      <td>보통</td>\n",
       "      <td>보통</td>\n",
       "      <td>보통</td>\n",
       "    </tr>\n",
       "    <tr>\n",
       "      <th>4</th>\n",
       "      <td>나쁨</td>\n",
       "      <td>좋음</td>\n",
       "      <td>보통</td>\n",
       "      <td>나쁨</td>\n",
       "      <td>나쁨</td>\n",
       "      <td>보통</td>\n",
       "      <td>보통</td>\n",
       "      <td>보통</td>\n",
       "      <td>보통</td>\n",
       "      <td>보통</td>\n",
       "      <td>나쁨</td>\n",
       "      <td>보통</td>\n",
       "      <td>보통</td>\n",
       "      <td>보통</td>\n",
       "      <td>좋음</td>\n",
       "      <td>보통</td>\n",
       "      <td>나쁨</td>\n",
       "      <td>나쁨</td>\n",
       "      <td>나쁨</td>\n",
       "    </tr>\n",
       "  </tbody>\n",
       "</table>\n",
       "</div>"
      ],
      "text/plain": [
       "   서울  제주  전남  전북  광주  경남  경북  울산  대구  부산  충남  충북  세종  대전  영동  영서 경기남부 경기북부  \\\n",
       "0  보통  좋음  보통  보통  보통  좋음  좋음  좋음  좋음  좋음  보통  보통  보통  보통  좋음  보통   보통   보통   \n",
       "1  보통  좋음  보통  보통  보통  보통  보통  보통  보통  보통  보통  보통  보통  보통  좋음  보통   보통   보통   \n",
       "2  보통  좋음  보통  보통  보통  보통  보통  보통  보통  보통  나쁨  보통  보통  보통  보통  보통   나쁨   보통   \n",
       "3  보통  보통  보통  나쁨  나쁨  좋음  보통  좋음  좋음  좋음  보통  보통  보통  보통  좋음  보통   보통   보통   \n",
       "4  나쁨  좋음  보통  나쁨  나쁨  보통  보통  보통  보통  보통  나쁨  보통  보통  보통  좋음  보통   나쁨   나쁨   \n",
       "\n",
       "   인천  \n",
       "0  보통  \n",
       "1  보통  \n",
       "2  보통  \n",
       "3  보통  \n",
       "4  나쁨  "
      ]
     },
     "execution_count": 23,
     "metadata": {},
     "output_type": "execute_result"
    }
   ],
   "source": [
    "inform_grade_df.columns = 지역_리스트\n",
    "inform_grade_df.head()"
   ]
  },
  {
   "cell_type": "code",
   "execution_count": 24,
   "metadata": {},
   "outputs": [
    {
     "data": {
      "text/html": [
       "<div>\n",
       "<style scoped>\n",
       "    .dataframe tbody tr th:only-of-type {\n",
       "        vertical-align: middle;\n",
       "    }\n",
       "\n",
       "    .dataframe tbody tr th {\n",
       "        vertical-align: top;\n",
       "    }\n",
       "\n",
       "    .dataframe thead th {\n",
       "        text-align: right;\n",
       "    }\n",
       "</style>\n",
       "<table border=\"1\" class=\"dataframe\">\n",
       "  <thead>\n",
       "    <tr style=\"text-align: right;\">\n",
       "      <th></th>\n",
       "      <th>dataTime</th>\n",
       "      <th>informCause</th>\n",
       "      <th>informCode</th>\n",
       "      <th>informData</th>\n",
       "      <th>informGrade</th>\n",
       "      <th>informOverall</th>\n",
       "      <th>서울</th>\n",
       "      <th>제주</th>\n",
       "      <th>전남</th>\n",
       "      <th>전북</th>\n",
       "      <th>...</th>\n",
       "      <th>부산</th>\n",
       "      <th>충남</th>\n",
       "      <th>충북</th>\n",
       "      <th>세종</th>\n",
       "      <th>대전</th>\n",
       "      <th>영동</th>\n",
       "      <th>영서</th>\n",
       "      <th>경기남부</th>\n",
       "      <th>경기북부</th>\n",
       "      <th>인천</th>\n",
       "    </tr>\n",
       "  </thead>\n",
       "  <tbody>\n",
       "    <tr>\n",
       "      <th>0</th>\n",
       "      <td>2018-11-14 23시 발표</td>\n",
       "      <td>○ [미세먼지] 대부분 '보통' 수준이겠으나, 일부 서쪽 지역은 대기 정체로 국내 ...</td>\n",
       "      <td>PM10</td>\n",
       "      <td>2018-11-14</td>\n",
       "      <td>서울 : 보통,제주 : 좋음,전남 : 보통,전북 : 보통,광주 : 보통,경남 : 좋...</td>\n",
       "      <td>○ [미세먼지] 광주·전북은 '나쁨', 그 밖의 권역은 '좋음'∼'보통'으로 예상됨.</td>\n",
       "      <td>보통</td>\n",
       "      <td>좋음</td>\n",
       "      <td>보통</td>\n",
       "      <td>보통</td>\n",
       "      <td>...</td>\n",
       "      <td>좋음</td>\n",
       "      <td>보통</td>\n",
       "      <td>보통</td>\n",
       "      <td>보통</td>\n",
       "      <td>보통</td>\n",
       "      <td>좋음</td>\n",
       "      <td>보통</td>\n",
       "      <td>보통</td>\n",
       "      <td>보통</td>\n",
       "      <td>보통</td>\n",
       "    </tr>\n",
       "    <tr>\n",
       "      <th>1</th>\n",
       "      <td>2018-11-14 23시 발표</td>\n",
       "      <td>○ [미세먼지] 대부분 '보통' 수준이겠으나, 서쪽지역은 대기 정체로 국내 생성 미...</td>\n",
       "      <td>PM10</td>\n",
       "      <td>2018-11-15</td>\n",
       "      <td>서울 : 보통,제주 : 좋음,전남 : 보통,전북 : 보통,광주 : 보통,경남 : 보...</td>\n",
       "      <td>○ [미세먼지] 수도권·충남·광주·전북은 '나쁨', 그 밖의 권역은 '좋음'∼'보통...</td>\n",
       "      <td>보통</td>\n",
       "      <td>좋음</td>\n",
       "      <td>보통</td>\n",
       "      <td>보통</td>\n",
       "      <td>...</td>\n",
       "      <td>보통</td>\n",
       "      <td>보통</td>\n",
       "      <td>보통</td>\n",
       "      <td>보통</td>\n",
       "      <td>보통</td>\n",
       "      <td>좋음</td>\n",
       "      <td>보통</td>\n",
       "      <td>보통</td>\n",
       "      <td>보통</td>\n",
       "      <td>보통</td>\n",
       "    </tr>\n",
       "    <tr>\n",
       "      <th>2</th>\n",
       "      <td>2018-11-14 23시 발표</td>\n",
       "      <td>○ [미세먼지] 대부분 지역은 대기 정체로 축적된 국내 생성 미세먼지에 국외에서 유...</td>\n",
       "      <td>PM10</td>\n",
       "      <td>2018-11-16</td>\n",
       "      <td>서울 : 보통,제주 : 좋음,전남 : 보통,전북 : 보통,광주 : 보통,경남 : 보...</td>\n",
       "      <td>○ [미세먼지] 수도권·강원권·충청권·광주·전북·대구·경북은 '나쁨', 그 밖의 권...</td>\n",
       "      <td>보통</td>\n",
       "      <td>좋음</td>\n",
       "      <td>보통</td>\n",
       "      <td>보통</td>\n",
       "      <td>...</td>\n",
       "      <td>보통</td>\n",
       "      <td>나쁨</td>\n",
       "      <td>보통</td>\n",
       "      <td>보통</td>\n",
       "      <td>보통</td>\n",
       "      <td>보통</td>\n",
       "      <td>보통</td>\n",
       "      <td>나쁨</td>\n",
       "      <td>보통</td>\n",
       "      <td>보통</td>\n",
       "    </tr>\n",
       "    <tr>\n",
       "      <th>3</th>\n",
       "      <td>2018-11-14 23시 발표</td>\n",
       "      <td>○ [미세먼지] 대부분 '보통' 수준이겠으나, 일부 서쪽 지역은 대기 정체로 국내 ...</td>\n",
       "      <td>PM25</td>\n",
       "      <td>2018-11-14</td>\n",
       "      <td>서울 : 보통,제주 : 보통,전남 : 보통,전북 : 나쁨,광주 : 나쁨,경남 : 좋...</td>\n",
       "      <td>○ [미세먼지] 광주·전북은 '나쁨', 그 밖의 권역은 '좋음'∼'보통'으로 예상됨.</td>\n",
       "      <td>보통</td>\n",
       "      <td>보통</td>\n",
       "      <td>보통</td>\n",
       "      <td>나쁨</td>\n",
       "      <td>...</td>\n",
       "      <td>좋음</td>\n",
       "      <td>보통</td>\n",
       "      <td>보통</td>\n",
       "      <td>보통</td>\n",
       "      <td>보통</td>\n",
       "      <td>좋음</td>\n",
       "      <td>보통</td>\n",
       "      <td>보통</td>\n",
       "      <td>보통</td>\n",
       "      <td>보통</td>\n",
       "    </tr>\n",
       "    <tr>\n",
       "      <th>4</th>\n",
       "      <td>2018-11-14 23시 발표</td>\n",
       "      <td>○ [미세먼지] 대부분 '보통' 수준이겠으나, 서쪽지역은 대기 정체로 국내 생성 미...</td>\n",
       "      <td>PM25</td>\n",
       "      <td>2018-11-15</td>\n",
       "      <td>서울 : 나쁨,제주 : 좋음,전남 : 보통,전북 : 나쁨,광주 : 나쁨,경남 : 보...</td>\n",
       "      <td>○ [미세먼지] 수도권·충남·광주·전북은 '나쁨', 그 밖의 권역은 '좋음'∼'보통...</td>\n",
       "      <td>나쁨</td>\n",
       "      <td>좋음</td>\n",
       "      <td>보통</td>\n",
       "      <td>나쁨</td>\n",
       "      <td>...</td>\n",
       "      <td>보통</td>\n",
       "      <td>나쁨</td>\n",
       "      <td>보통</td>\n",
       "      <td>보통</td>\n",
       "      <td>보통</td>\n",
       "      <td>좋음</td>\n",
       "      <td>보통</td>\n",
       "      <td>나쁨</td>\n",
       "      <td>나쁨</td>\n",
       "      <td>나쁨</td>\n",
       "    </tr>\n",
       "  </tbody>\n",
       "</table>\n",
       "<p>5 rows × 25 columns</p>\n",
       "</div>"
      ],
      "text/plain": [
       "            dataTime                                        informCause  \\\n",
       "0  2018-11-14 23시 발표  ○ [미세먼지] 대부분 '보통' 수준이겠으나, 일부 서쪽 지역은 대기 정체로 국내 ...   \n",
       "1  2018-11-14 23시 발표  ○ [미세먼지] 대부분 '보통' 수준이겠으나, 서쪽지역은 대기 정체로 국내 생성 미...   \n",
       "2  2018-11-14 23시 발표  ○ [미세먼지] 대부분 지역은 대기 정체로 축적된 국내 생성 미세먼지에 국외에서 유...   \n",
       "3  2018-11-14 23시 발표  ○ [미세먼지] 대부분 '보통' 수준이겠으나, 일부 서쪽 지역은 대기 정체로 국내 ...   \n",
       "4  2018-11-14 23시 발표  ○ [미세먼지] 대부분 '보통' 수준이겠으나, 서쪽지역은 대기 정체로 국내 생성 미...   \n",
       "\n",
       "  informCode  informData                                        informGrade  \\\n",
       "0       PM10  2018-11-14  서울 : 보통,제주 : 좋음,전남 : 보통,전북 : 보통,광주 : 보통,경남 : 좋...   \n",
       "1       PM10  2018-11-15  서울 : 보통,제주 : 좋음,전남 : 보통,전북 : 보통,광주 : 보통,경남 : 보...   \n",
       "2       PM10  2018-11-16  서울 : 보통,제주 : 좋음,전남 : 보통,전북 : 보통,광주 : 보통,경남 : 보...   \n",
       "3       PM25  2018-11-14  서울 : 보통,제주 : 보통,전남 : 보통,전북 : 나쁨,광주 : 나쁨,경남 : 좋...   \n",
       "4       PM25  2018-11-15  서울 : 나쁨,제주 : 좋음,전남 : 보통,전북 : 나쁨,광주 : 나쁨,경남 : 보...   \n",
       "\n",
       "                                       informOverall  서울  제주  전남  전북 ...  부산  \\\n",
       "0    ○ [미세먼지] 광주·전북은 '나쁨', 그 밖의 권역은 '좋음'∼'보통'으로 예상됨.  보통  좋음  보통  보통 ...  좋음   \n",
       "1  ○ [미세먼지] 수도권·충남·광주·전북은 '나쁨', 그 밖의 권역은 '좋음'∼'보통...  보통  좋음  보통  보통 ...  보통   \n",
       "2  ○ [미세먼지] 수도권·강원권·충청권·광주·전북·대구·경북은 '나쁨', 그 밖의 권...  보통  좋음  보통  보통 ...  보통   \n",
       "3    ○ [미세먼지] 광주·전북은 '나쁨', 그 밖의 권역은 '좋음'∼'보통'으로 예상됨.  보통  보통  보통  나쁨 ...  좋음   \n",
       "4  ○ [미세먼지] 수도권·충남·광주·전북은 '나쁨', 그 밖의 권역은 '좋음'∼'보통...  나쁨  좋음  보통  나쁨 ...  보통   \n",
       "\n",
       "   충남  충북  세종  대전  영동  영서 경기남부 경기북부  인천  \n",
       "0  보통  보통  보통  보통  좋음  보통   보통   보통  보통  \n",
       "1  보통  보통  보통  보통  좋음  보통   보통   보통  보통  \n",
       "2  나쁨  보통  보통  보통  보통  보통   나쁨   보통  보통  \n",
       "3  보통  보통  보통  보통  좋음  보통   보통   보통  보통  \n",
       "4  나쁨  보통  보통  보통  좋음  보통   나쁨   나쁨  나쁨  \n",
       "\n",
       "[5 rows x 25 columns]"
      ]
     },
     "execution_count": 24,
     "metadata": {},
     "output_type": "execute_result"
    }
   ],
   "source": [
    "먼지_df = pd.concat([먼지_df, inform_grade_df], axis=\"columns\")\n",
    "먼지_df.head()"
   ]
  },
  {
   "cell_type": "code",
   "execution_count": null,
   "metadata": {},
   "outputs": [],
   "source": []
  },
  {
   "cell_type": "code",
   "execution_count": null,
   "metadata": {},
   "outputs": [],
   "source": []
  },
  {
   "cell_type": "code",
   "execution_count": null,
   "metadata": {},
   "outputs": [],
   "source": []
  },
  {
   "cell_type": "markdown",
   "metadata": {},
   "source": [
    "## 2/01_numpy-pandas-matplotlib_taster_for_student.ipynb"
   ]
  },
  {
   "cell_type": "markdown",
   "metadata": {},
   "source": [
    "+ 지도 학습 : 데이터에 답이 정해져있고 그것을 학습하는 것\n",
    "    - classification (분류) : 주어진 데이터를 정해진 카테고리에 따라 분류하는 문제\n",
    "    - regression (회귀분석) : 주어진 데이터가 어떤 함수로부터 생성됐는가를 알아보는 \"함수 관계\"를 추측\n",
    "+ 비지도 학습 : 정해진 답은 없고 스스로 기준을 만들고 분류\n",
    "    + clustering (군집화) : 아무런 정보가 없는 상태에서 데이터를 분류하는 방법 => 이미지 데이터 처리\n",
    "+ dimensionality reduction (차원 축소)"
   ]
  },
  {
   "cell_type": "code",
   "execution_count": null,
   "metadata": {},
   "outputs": [],
   "source": []
  },
  {
   "cell_type": "markdown",
   "metadata": {},
   "source": [
    "## 2/02_LG_Washing_Machine_for_student.ipynb"
   ]
  },
  {
   "cell_type": "markdown",
   "metadata": {},
   "source": [
    "### LG Washing Machine Dataset\n",
    "\n",
    "목적: 세탁기에서 생성된 Log Data를 분석해보자\n",
    "\n",
    "데이터 셋 정보 (Metadata)\n",
    "+ washer.csv: 세탁기에서 생성된 Log 데이터\n",
    "+ metadata.csv: washer.csv의 각 컬럼 내용에 대한 설명"
   ]
  },
  {
   "cell_type": "markdown",
   "metadata": {},
   "source": [
    "#### 전처리"
   ]
  },
  {
   "cell_type": "code",
   "execution_count": 25,
   "metadata": {},
   "outputs": [
    {
     "name": "stdout",
     "output_type": "stream",
     "text": [
      "(500, 32)\n"
     ]
    },
    {
     "data": {
      "text/html": [
       "<div>\n",
       "<style scoped>\n",
       "    .dataframe tbody tr th:only-of-type {\n",
       "        vertical-align: middle;\n",
       "    }\n",
       "\n",
       "    .dataframe tbody tr th {\n",
       "        vertical-align: top;\n",
       "    }\n",
       "\n",
       "    .dataframe thead th {\n",
       "        text-align: right;\n",
       "    }\n",
       "</style>\n",
       "<table border=\"1\" class=\"dataframe\">\n",
       "  <thead>\n",
       "    <tr style=\"text-align: right;\">\n",
       "      <th></th>\n",
       "      <th>category_code</th>\n",
       "      <th>model_name</th>\n",
       "      <th>regist_country</th>\n",
       "      <th>create_dt_utc</th>\n",
       "      <th>device_id</th>\n",
       "      <th>event_type</th>\n",
       "      <th>mon_data</th>\n",
       "      <th>State</th>\n",
       "      <th>Remain_Time_H</th>\n",
       "      <th>Remain_Time_M</th>\n",
       "      <th>...</th>\n",
       "      <th>ChildLock</th>\n",
       "      <th>Steam</th>\n",
       "      <th>RemoteStart</th>\n",
       "      <th>TurboShot</th>\n",
       "      <th>InitialBit</th>\n",
       "      <th>PreState</th>\n",
       "      <th>SmartCourse</th>\n",
       "      <th>TCLCount</th>\n",
       "      <th>OPCourse</th>\n",
       "      <th>LoadLevel</th>\n",
       "    </tr>\n",
       "  </thead>\n",
       "  <tbody>\n",
       "    <tr>\n",
       "      <th>0</th>\n",
       "      <td>201</td>\n",
       "      <td>LG_WM_KR</td>\n",
       "      <td>KR</td>\n",
       "      <td>16/11/2017 0:22</td>\n",
       "      <td>A1</td>\n",
       "      <td>WM_STATE</td>\n",
       "      <td>KAALARsBAAADAAAAAAAABAABqB4/AhUB</td>\n",
       "      <td>40</td>\n",
       "      <td>0</td>\n",
       "      <td>11</td>\n",
       "      <td>...</td>\n",
       "      <td>0</td>\n",
       "      <td>0</td>\n",
       "      <td>0</td>\n",
       "      <td>0</td>\n",
       "      <td>0</td>\n",
       "      <td>30</td>\n",
       "      <td>63</td>\n",
       "      <td>2</td>\n",
       "      <td>21</td>\n",
       "      <td>1</td>\n",
       "    </tr>\n",
       "    <tr>\n",
       "      <th>1</th>\n",
       "      <td>201</td>\n",
       "      <td>LG_WM_KR</td>\n",
       "      <td>KR</td>\n",
       "      <td>16/11/2017 0:32</td>\n",
       "      <td>A1</td>\n",
       "      <td>WM_STATE</td>\n",
       "      <td>PAAAAAAAAAAAAAAAAAAABAABuSg/AxUA</td>\n",
       "      <td>60</td>\n",
       "      <td>0</td>\n",
       "      <td>0</td>\n",
       "      <td>...</td>\n",
       "      <td>0</td>\n",
       "      <td>0</td>\n",
       "      <td>0</td>\n",
       "      <td>0</td>\n",
       "      <td>0</td>\n",
       "      <td>40</td>\n",
       "      <td>63</td>\n",
       "      <td>3</td>\n",
       "      <td>21</td>\n",
       "      <td>0</td>\n",
       "    </tr>\n",
       "    <tr>\n",
       "      <th>2</th>\n",
       "      <td>201</td>\n",
       "      <td>LG_WM_KR</td>\n",
       "      <td>KR</td>\n",
       "      <td>16/11/2017 0:32</td>\n",
       "      <td>A1</td>\n",
       "      <td>WM_WASH_END</td>\n",
       "      <td>PAAAAAAAAAAAAAAAAAAABAABuSg/AxUA</td>\n",
       "      <td>60</td>\n",
       "      <td>0</td>\n",
       "      <td>0</td>\n",
       "      <td>...</td>\n",
       "      <td>0</td>\n",
       "      <td>0</td>\n",
       "      <td>0</td>\n",
       "      <td>0</td>\n",
       "      <td>0</td>\n",
       "      <td>40</td>\n",
       "      <td>63</td>\n",
       "      <td>3</td>\n",
       "      <td>21</td>\n",
       "      <td>0</td>\n",
       "    </tr>\n",
       "    <tr>\n",
       "      <th>3</th>\n",
       "      <td>201</td>\n",
       "      <td>LG_WM_KR</td>\n",
       "      <td>KR</td>\n",
       "      <td>16/11/2017 2:48</td>\n",
       "      <td>A1</td>\n",
       "      <td>COMMON_WIFI_ON</td>\n",
       "      <td>HgALAAsBAAAAAAEAAAAABAAAADw/AxUF</td>\n",
       "      <td>30</td>\n",
       "      <td>0</td>\n",
       "      <td>11</td>\n",
       "      <td>...</td>\n",
       "      <td>0</td>\n",
       "      <td>0</td>\n",
       "      <td>0</td>\n",
       "      <td>0</td>\n",
       "      <td>0</td>\n",
       "      <td>60</td>\n",
       "      <td>63</td>\n",
       "      <td>3</td>\n",
       "      <td>21</td>\n",
       "      <td>5</td>\n",
       "    </tr>\n",
       "    <tr>\n",
       "      <th>4</th>\n",
       "      <td>201</td>\n",
       "      <td>LG_WM_KR</td>\n",
       "      <td>KR</td>\n",
       "      <td>16/11/2017 2:57</td>\n",
       "      <td>A1</td>\n",
       "      <td>WM_STATE</td>\n",
       "      <td>PAAAAAAAAAAAAAAAAAAABAAAEB4/AxUA</td>\n",
       "      <td>60</td>\n",
       "      <td>0</td>\n",
       "      <td>0</td>\n",
       "      <td>...</td>\n",
       "      <td>0</td>\n",
       "      <td>0</td>\n",
       "      <td>0</td>\n",
       "      <td>0</td>\n",
       "      <td>0</td>\n",
       "      <td>30</td>\n",
       "      <td>63</td>\n",
       "      <td>3</td>\n",
       "      <td>21</td>\n",
       "      <td>0</td>\n",
       "    </tr>\n",
       "  </tbody>\n",
       "</table>\n",
       "<p>5 rows × 32 columns</p>\n",
       "</div>"
      ],
      "text/plain": [
       "   category_code model_name regist_country    create_dt_utc device_id  \\\n",
       "0            201   LG_WM_KR             KR  16/11/2017 0:22        A1   \n",
       "1            201   LG_WM_KR             KR  16/11/2017 0:32        A1   \n",
       "2            201   LG_WM_KR             KR  16/11/2017 0:32        A1   \n",
       "3            201   LG_WM_KR             KR  16/11/2017 2:48        A1   \n",
       "4            201   LG_WM_KR             KR  16/11/2017 2:57        A1   \n",
       "\n",
       "       event_type                          mon_data  State  Remain_Time_H  \\\n",
       "0        WM_STATE  KAALARsBAAADAAAAAAAABAABqB4/AhUB     40              0   \n",
       "1        WM_STATE  PAAAAAAAAAAAAAAAAAAABAABuSg/AxUA     60              0   \n",
       "2     WM_WASH_END  PAAAAAAAAAAAAAAAAAAABAABuSg/AxUA     60              0   \n",
       "3  COMMON_WIFI_ON  HgALAAsBAAAAAAEAAAAABAAAADw/AxUF     30              0   \n",
       "4        WM_STATE  PAAAAAAAAAAAAAAAAAAABAAAEB4/AxUA     60              0   \n",
       "\n",
       "   Remain_Time_M    ...      ChildLock  Steam  RemoteStart  TurboShot  \\\n",
       "0             11    ...              0      0            0          0   \n",
       "1              0    ...              0      0            0          0   \n",
       "2              0    ...              0      0            0          0   \n",
       "3             11    ...              0      0            0          0   \n",
       "4              0    ...              0      0            0          0   \n",
       "\n",
       "   InitialBit  PreState  SmartCourse  TCLCount  OPCourse  LoadLevel  \n",
       "0           0        30           63         2        21          1  \n",
       "1           0        40           63         3        21          0  \n",
       "2           0        40           63         3        21          0  \n",
       "3           0        60           63         3        21          5  \n",
       "4           0        30           63         3        21          0  \n",
       "\n",
       "[5 rows x 32 columns]"
      ]
     },
     "execution_count": 25,
     "metadata": {},
     "output_type": "execute_result"
    }
   ],
   "source": [
    "washer_df = pd.read_csv('LG_Python_Lecture_for_student_181010/2/data/washing_machine/washer.csv')\n",
    "print(washer_df.shape)\n",
    "washer_df.head()"
   ]
  },
  {
   "cell_type": "code",
   "execution_count": 26,
   "metadata": {},
   "outputs": [
    {
     "data": {
      "text/plain": [
       "Index(['category_code', 'model_name', 'regist_country', 'create_dt_utc',\n",
       "       'device_id', 'event_type', 'mon_data', 'State', 'Remain_Time_H',\n",
       "       'Remain_Time_M', 'Initial_Time_H', 'Initial_Time_M', 'APCourse',\n",
       "       'Error', 'SoilLevel', 'SpinSpeed', 'WaterTemp', 'RinseCount',\n",
       "       'DryLevel', 'Reserve_Time_H', 'Reserve_Time_M', 'FreshCare',\n",
       "       'ChildLock', 'Steam', 'RemoteStart', 'TurboShot', 'InitialBit',\n",
       "       'PreState', 'SmartCourse', 'TCLCount', 'OPCourse', 'LoadLevel'],\n",
       "      dtype='object')"
      ]
     },
     "execution_count": 26,
     "metadata": {},
     "output_type": "execute_result"
    }
   ],
   "source": [
    "washer_df.columns"
   ]
  },
  {
   "cell_type": "code",
   "execution_count": 27,
   "metadata": {},
   "outputs": [
    {
     "name": "stdout",
     "output_type": "stream",
     "text": [
      "<class 'pandas.core.frame.DataFrame'>\n",
      "RangeIndex: 500 entries, 0 to 499\n",
      "Data columns (total 32 columns):\n",
      "category_code     500 non-null int64\n",
      "model_name        500 non-null object\n",
      "regist_country    500 non-null object\n",
      "create_dt_utc     500 non-null object\n",
      "device_id         500 non-null object\n",
      "event_type        500 non-null object\n",
      "mon_data          500 non-null object\n",
      "State             500 non-null int64\n",
      "Remain_Time_H     500 non-null int64\n",
      "Remain_Time_M     500 non-null int64\n",
      "Initial_Time_H    500 non-null int64\n",
      "Initial_Time_M    500 non-null int64\n",
      "APCourse          500 non-null int64\n",
      "Error             500 non-null int64\n",
      "SoilLevel         500 non-null int64\n",
      "SpinSpeed         500 non-null int64\n",
      "WaterTemp         500 non-null int64\n",
      "RinseCount        500 non-null int64\n",
      "DryLevel          500 non-null int64\n",
      "Reserve_Time_H    500 non-null int64\n",
      "Reserve_Time_M    500 non-null int64\n",
      "FreshCare         500 non-null int64\n",
      "ChildLock         500 non-null int64\n",
      "Steam             500 non-null int64\n",
      "RemoteStart       500 non-null int64\n",
      "TurboShot         500 non-null int64\n",
      "InitialBit        500 non-null int64\n",
      "PreState          500 non-null int64\n",
      "SmartCourse       500 non-null int64\n",
      "TCLCount          500 non-null int64\n",
      "OPCourse          500 non-null int64\n",
      "LoadLevel         500 non-null int64\n",
      "dtypes: int64(26), object(6)\n",
      "memory usage: 125.1+ KB\n"
     ]
    }
   ],
   "source": [
    "washer_df.info()"
   ]
  },
  {
   "cell_type": "code",
   "execution_count": null,
   "metadata": {},
   "outputs": [],
   "source": []
  },
  {
   "cell_type": "code",
   "execution_count": 28,
   "metadata": {},
   "outputs": [
    {
     "name": "stdout",
     "output_type": "stream",
     "text": [
      "(32, 2)\n"
     ]
    },
    {
     "data": {
      "text/html": [
       "<div>\n",
       "<style scoped>\n",
       "    .dataframe tbody tr th:only-of-type {\n",
       "        vertical-align: middle;\n",
       "    }\n",
       "\n",
       "    .dataframe tbody tr th {\n",
       "        vertical-align: top;\n",
       "    }\n",
       "\n",
       "    .dataframe thead th {\n",
       "        text-align: right;\n",
       "    }\n",
       "</style>\n",
       "<table border=\"1\" class=\"dataframe\">\n",
       "  <thead>\n",
       "    <tr style=\"text-align: right;\">\n",
       "      <th></th>\n",
       "      <th>column_name</th>\n",
       "      <th>description</th>\n",
       "    </tr>\n",
       "  </thead>\n",
       "  <tbody>\n",
       "    <tr>\n",
       "      <th>0</th>\n",
       "      <td>category_code</td>\n",
       "      <td>카테고리 코드</td>\n",
       "    </tr>\n",
       "    <tr>\n",
       "      <th>1</th>\n",
       "      <td>model_name</td>\n",
       "      <td>모델명</td>\n",
       "    </tr>\n",
       "    <tr>\n",
       "      <th>2</th>\n",
       "      <td>regist_country</td>\n",
       "      <td>등록국가명</td>\n",
       "    </tr>\n",
       "    <tr>\n",
       "      <th>3</th>\n",
       "      <td>create_dt_utc</td>\n",
       "      <td>세탁종료시간</td>\n",
       "    </tr>\n",
       "    <tr>\n",
       "      <th>4</th>\n",
       "      <td>device_id</td>\n",
       "      <td>세탁기 Device 구분을 위한 고유ID(decoded)</td>\n",
       "    </tr>\n",
       "  </tbody>\n",
       "</table>\n",
       "</div>"
      ],
      "text/plain": [
       "      column_name                      description\n",
       "0   category_code                          카테고리 코드\n",
       "1      model_name                              모델명\n",
       "2  regist_country                            등록국가명\n",
       "3   create_dt_utc                           세탁종료시간\n",
       "4       device_id  세탁기 Device 구분을 위한 고유ID(decoded)"
      ]
     },
     "execution_count": 28,
     "metadata": {},
     "output_type": "execute_result"
    }
   ],
   "source": [
    "meta_df = pd.read_csv('LG_Python_Lecture_for_student_181010/2/data/washing_machine/metadata.csv')\n",
    "print(meta_df.shape)\n",
    "meta_df.head()"
   ]
  },
  {
   "cell_type": "code",
   "execution_count": null,
   "metadata": {},
   "outputs": [],
   "source": []
  },
  {
   "cell_type": "markdown",
   "metadata": {},
   "source": [
    "<div class=\"alert alert-info\">\n",
    "현재 데이터 만으로는 분석을 할만한 데이터가 많지는 않습니다.\n",
    "\n",
    "+ 쓸만한 컬럼: create_dt_utc, device_id, event_type, APCourse\n",
    "+ 삭제할 컬럼: category_code, model_name, regist_country, Error, Reserve_Time_H, Reserve_Time_M, FreshCare, Steam, RemoteStart, TurboShot, InitialBit\n",
    "+ 그 외 컬럼: 판단하기 어려움, 무의미해 보임\n",
    "</div>"
   ]
  },
  {
   "cell_type": "code",
   "execution_count": 29,
   "metadata": {},
   "outputs": [
    {
     "data": {
      "text/html": [
       "<div>\n",
       "<style scoped>\n",
       "    .dataframe tbody tr th:only-of-type {\n",
       "        vertical-align: middle;\n",
       "    }\n",
       "\n",
       "    .dataframe tbody tr th {\n",
       "        vertical-align: top;\n",
       "    }\n",
       "\n",
       "    .dataframe thead th {\n",
       "        text-align: right;\n",
       "    }\n",
       "</style>\n",
       "<table border=\"1\" class=\"dataframe\">\n",
       "  <thead>\n",
       "    <tr style=\"text-align: right;\">\n",
       "      <th></th>\n",
       "      <th>create_dt_utc</th>\n",
       "      <th>device_id</th>\n",
       "      <th>event_type</th>\n",
       "      <th>APCourse</th>\n",
       "    </tr>\n",
       "  </thead>\n",
       "  <tbody>\n",
       "    <tr>\n",
       "      <th>0</th>\n",
       "      <td>16/11/2017 0:22</td>\n",
       "      <td>A1</td>\n",
       "      <td>WM_STATE</td>\n",
       "      <td>1</td>\n",
       "    </tr>\n",
       "    <tr>\n",
       "      <th>1</th>\n",
       "      <td>16/11/2017 0:32</td>\n",
       "      <td>A1</td>\n",
       "      <td>WM_STATE</td>\n",
       "      <td>0</td>\n",
       "    </tr>\n",
       "    <tr>\n",
       "      <th>2</th>\n",
       "      <td>16/11/2017 0:32</td>\n",
       "      <td>A1</td>\n",
       "      <td>WM_WASH_END</td>\n",
       "      <td>0</td>\n",
       "    </tr>\n",
       "    <tr>\n",
       "      <th>3</th>\n",
       "      <td>16/11/2017 2:48</td>\n",
       "      <td>A1</td>\n",
       "      <td>COMMON_WIFI_ON</td>\n",
       "      <td>1</td>\n",
       "    </tr>\n",
       "    <tr>\n",
       "      <th>4</th>\n",
       "      <td>16/11/2017 2:57</td>\n",
       "      <td>A1</td>\n",
       "      <td>WM_STATE</td>\n",
       "      <td>0</td>\n",
       "    </tr>\n",
       "    <tr>\n",
       "      <th>5</th>\n",
       "      <td>16/11/2017 2:57</td>\n",
       "      <td>A1</td>\n",
       "      <td>WM_WASH_END</td>\n",
       "      <td>0</td>\n",
       "    </tr>\n",
       "    <tr>\n",
       "      <th>6</th>\n",
       "      <td>16/11/2017 2:58</td>\n",
       "      <td>A1</td>\n",
       "      <td>WM_WASH_BEGIN</td>\n",
       "      <td>1</td>\n",
       "    </tr>\n",
       "    <tr>\n",
       "      <th>7</th>\n",
       "      <td>16/11/2017 2:58</td>\n",
       "      <td>A1</td>\n",
       "      <td>WM_STATE</td>\n",
       "      <td>1</td>\n",
       "    </tr>\n",
       "    <tr>\n",
       "      <th>8</th>\n",
       "      <td>16/11/2017 3:26</td>\n",
       "      <td>A1</td>\n",
       "      <td>WM_STATE</td>\n",
       "      <td>1</td>\n",
       "    </tr>\n",
       "    <tr>\n",
       "      <th>9</th>\n",
       "      <td>16/11/2017 3:57</td>\n",
       "      <td>A1</td>\n",
       "      <td>WM_STATE</td>\n",
       "      <td>0</td>\n",
       "    </tr>\n",
       "    <tr>\n",
       "      <th>10</th>\n",
       "      <td>16/11/2017 3:57</td>\n",
       "      <td>A1</td>\n",
       "      <td>WM_WASH_END</td>\n",
       "      <td>0</td>\n",
       "    </tr>\n",
       "    <tr>\n",
       "      <th>11</th>\n",
       "      <td>16/11/2017 11:14</td>\n",
       "      <td>A1</td>\n",
       "      <td>COMMON_WIFI_ON</td>\n",
       "      <td>1</td>\n",
       "    </tr>\n",
       "    <tr>\n",
       "      <th>12</th>\n",
       "      <td>16/11/2017 11:15</td>\n",
       "      <td>A1</td>\n",
       "      <td>WM_STATE</td>\n",
       "      <td>1</td>\n",
       "    </tr>\n",
       "    <tr>\n",
       "      <th>13</th>\n",
       "      <td>16/11/2017 11:30</td>\n",
       "      <td>A1</td>\n",
       "      <td>WM_STATE</td>\n",
       "      <td>1</td>\n",
       "    </tr>\n",
       "    <tr>\n",
       "      <th>14</th>\n",
       "      <td>16/11/2017 12:08</td>\n",
       "      <td>A1</td>\n",
       "      <td>WM_STATE</td>\n",
       "      <td>1</td>\n",
       "    </tr>\n",
       "    <tr>\n",
       "      <th>15</th>\n",
       "      <td>16/11/2017 12:18</td>\n",
       "      <td>A1</td>\n",
       "      <td>WM_STATE</td>\n",
       "      <td>0</td>\n",
       "    </tr>\n",
       "    <tr>\n",
       "      <th>16</th>\n",
       "      <td>16/11/2017 12:18</td>\n",
       "      <td>A1</td>\n",
       "      <td>WM_WASH_END</td>\n",
       "      <td>0</td>\n",
       "    </tr>\n",
       "    <tr>\n",
       "      <th>17</th>\n",
       "      <td>16/11/2017 12:21</td>\n",
       "      <td>A1</td>\n",
       "      <td>COMMON_WIFI_ON</td>\n",
       "      <td>1</td>\n",
       "    </tr>\n",
       "    <tr>\n",
       "      <th>18</th>\n",
       "      <td>16/11/2017 12:50</td>\n",
       "      <td>A1</td>\n",
       "      <td>WM_STATE</td>\n",
       "      <td>1</td>\n",
       "    </tr>\n",
       "    <tr>\n",
       "      <th>19</th>\n",
       "      <td>16/11/2017 13:21</td>\n",
       "      <td>A1</td>\n",
       "      <td>WM_STATE</td>\n",
       "      <td>0</td>\n",
       "    </tr>\n",
       "    <tr>\n",
       "      <th>20</th>\n",
       "      <td>16/11/2017 13:21</td>\n",
       "      <td>A1</td>\n",
       "      <td>WM_WASH_END</td>\n",
       "      <td>0</td>\n",
       "    </tr>\n",
       "    <tr>\n",
       "      <th>21</th>\n",
       "      <td>18/11/2017 12:18</td>\n",
       "      <td>A1</td>\n",
       "      <td>WM_STATE</td>\n",
       "      <td>1</td>\n",
       "    </tr>\n",
       "    <tr>\n",
       "      <th>22</th>\n",
       "      <td>18/11/2017 12:18</td>\n",
       "      <td>A1</td>\n",
       "      <td>COMMON_WIFI_ON</td>\n",
       "      <td>1</td>\n",
       "    </tr>\n",
       "    <tr>\n",
       "      <th>23</th>\n",
       "      <td>18/11/2017 12:19</td>\n",
       "      <td>A1</td>\n",
       "      <td>WM_STATE</td>\n",
       "      <td>1</td>\n",
       "    </tr>\n",
       "    <tr>\n",
       "      <th>24</th>\n",
       "      <td>18/11/2017 12:34</td>\n",
       "      <td>A1</td>\n",
       "      <td>WM_STATE</td>\n",
       "      <td>1</td>\n",
       "    </tr>\n",
       "    <tr>\n",
       "      <th>25</th>\n",
       "      <td>18/11/2017 13:20</td>\n",
       "      <td>A1</td>\n",
       "      <td>WM_STATE</td>\n",
       "      <td>1</td>\n",
       "    </tr>\n",
       "    <tr>\n",
       "      <th>26</th>\n",
       "      <td>18/11/2017 13:30</td>\n",
       "      <td>A1</td>\n",
       "      <td>WM_STATE</td>\n",
       "      <td>0</td>\n",
       "    </tr>\n",
       "    <tr>\n",
       "      <th>27</th>\n",
       "      <td>18/11/2017 13:30</td>\n",
       "      <td>A1</td>\n",
       "      <td>WM_WASH_END</td>\n",
       "      <td>0</td>\n",
       "    </tr>\n",
       "    <tr>\n",
       "      <th>28</th>\n",
       "      <td>18/11/2017 21:09</td>\n",
       "      <td>A1</td>\n",
       "      <td>COMMON_WIFI_ON</td>\n",
       "      <td>1</td>\n",
       "    </tr>\n",
       "    <tr>\n",
       "      <th>29</th>\n",
       "      <td>18/11/2017 21:09</td>\n",
       "      <td>A1</td>\n",
       "      <td>WM_WASH_BEGIN</td>\n",
       "      <td>1</td>\n",
       "    </tr>\n",
       "    <tr>\n",
       "      <th>...</th>\n",
       "      <td>...</td>\n",
       "      <td>...</td>\n",
       "      <td>...</td>\n",
       "      <td>...</td>\n",
       "    </tr>\n",
       "    <tr>\n",
       "      <th>470</th>\n",
       "      <td>19/11/2017 8:37</td>\n",
       "      <td>A5</td>\n",
       "      <td>WM_WASH_BEGIN</td>\n",
       "      <td>1</td>\n",
       "    </tr>\n",
       "    <tr>\n",
       "      <th>471</th>\n",
       "      <td>19/11/2017 8:37</td>\n",
       "      <td>A5</td>\n",
       "      <td>WM_STATE</td>\n",
       "      <td>1</td>\n",
       "    </tr>\n",
       "    <tr>\n",
       "      <th>472</th>\n",
       "      <td>19/11/2017 8:38</td>\n",
       "      <td>A5</td>\n",
       "      <td>WM_STATE</td>\n",
       "      <td>1</td>\n",
       "    </tr>\n",
       "    <tr>\n",
       "      <th>473</th>\n",
       "      <td>19/11/2017 8:52</td>\n",
       "      <td>A5</td>\n",
       "      <td>WM_STATE</td>\n",
       "      <td>1</td>\n",
       "    </tr>\n",
       "    <tr>\n",
       "      <th>474</th>\n",
       "      <td>19/11/2017 9:22</td>\n",
       "      <td>A5</td>\n",
       "      <td>WM_STATE</td>\n",
       "      <td>1</td>\n",
       "    </tr>\n",
       "    <tr>\n",
       "      <th>475</th>\n",
       "      <td>19/11/2017 9:31</td>\n",
       "      <td>A5</td>\n",
       "      <td>WM_STATE</td>\n",
       "      <td>0</td>\n",
       "    </tr>\n",
       "    <tr>\n",
       "      <th>476</th>\n",
       "      <td>19/11/2017 9:31</td>\n",
       "      <td>A5</td>\n",
       "      <td>WM_WASH_END</td>\n",
       "      <td>0</td>\n",
       "    </tr>\n",
       "    <tr>\n",
       "      <th>477</th>\n",
       "      <td>19/11/2017 9:43</td>\n",
       "      <td>A5</td>\n",
       "      <td>COMMON_WIFI_ON</td>\n",
       "      <td>1</td>\n",
       "    </tr>\n",
       "    <tr>\n",
       "      <th>478</th>\n",
       "      <td>19/11/2017 9:43</td>\n",
       "      <td>A5</td>\n",
       "      <td>WM_STATE</td>\n",
       "      <td>1</td>\n",
       "    </tr>\n",
       "    <tr>\n",
       "      <th>479</th>\n",
       "      <td>19/11/2017 9:43</td>\n",
       "      <td>A5</td>\n",
       "      <td>WM_WASH_BEGIN</td>\n",
       "      <td>1</td>\n",
       "    </tr>\n",
       "    <tr>\n",
       "      <th>480</th>\n",
       "      <td>19/11/2017 9:43</td>\n",
       "      <td>A5</td>\n",
       "      <td>WM_PAUSE</td>\n",
       "      <td>1</td>\n",
       "    </tr>\n",
       "    <tr>\n",
       "      <th>481</th>\n",
       "      <td>19/11/2017 9:44</td>\n",
       "      <td>A5</td>\n",
       "      <td>WM_WASH_BEGIN</td>\n",
       "      <td>3</td>\n",
       "    </tr>\n",
       "    <tr>\n",
       "      <th>482</th>\n",
       "      <td>19/11/2017 9:44</td>\n",
       "      <td>A5</td>\n",
       "      <td>WM_STATE</td>\n",
       "      <td>3</td>\n",
       "    </tr>\n",
       "    <tr>\n",
       "      <th>483</th>\n",
       "      <td>19/11/2017 10:07</td>\n",
       "      <td>A5</td>\n",
       "      <td>WM_STATE</td>\n",
       "      <td>3</td>\n",
       "    </tr>\n",
       "    <tr>\n",
       "      <th>484</th>\n",
       "      <td>19/11/2017 10:16</td>\n",
       "      <td>A5</td>\n",
       "      <td>WM_STATE</td>\n",
       "      <td>0</td>\n",
       "    </tr>\n",
       "    <tr>\n",
       "      <th>485</th>\n",
       "      <td>19/11/2017 10:16</td>\n",
       "      <td>A5</td>\n",
       "      <td>WM_WASH_END</td>\n",
       "      <td>0</td>\n",
       "    </tr>\n",
       "    <tr>\n",
       "      <th>486</th>\n",
       "      <td>20/11/2017 3:51</td>\n",
       "      <td>A5</td>\n",
       "      <td>COMMON_WIFI_ON</td>\n",
       "      <td>9</td>\n",
       "    </tr>\n",
       "    <tr>\n",
       "      <th>487</th>\n",
       "      <td>20/11/2017 3:52</td>\n",
       "      <td>A5</td>\n",
       "      <td>WM_STATE</td>\n",
       "      <td>9</td>\n",
       "    </tr>\n",
       "    <tr>\n",
       "      <th>488</th>\n",
       "      <td>20/11/2017 4:51</td>\n",
       "      <td>A5</td>\n",
       "      <td>WM_STATE</td>\n",
       "      <td>9</td>\n",
       "    </tr>\n",
       "    <tr>\n",
       "      <th>489</th>\n",
       "      <td>20/11/2017 5:23</td>\n",
       "      <td>A5</td>\n",
       "      <td>WM_STATE</td>\n",
       "      <td>9</td>\n",
       "    </tr>\n",
       "    <tr>\n",
       "      <th>490</th>\n",
       "      <td>20/11/2017 5:32</td>\n",
       "      <td>A5</td>\n",
       "      <td>WM_STATE</td>\n",
       "      <td>0</td>\n",
       "    </tr>\n",
       "    <tr>\n",
       "      <th>491</th>\n",
       "      <td>20/11/2017 5:32</td>\n",
       "      <td>A5</td>\n",
       "      <td>WM_WASH_END</td>\n",
       "      <td>0</td>\n",
       "    </tr>\n",
       "    <tr>\n",
       "      <th>492</th>\n",
       "      <td>20/11/2017 10:17</td>\n",
       "      <td>A5</td>\n",
       "      <td>COMMON_WIFI_ON</td>\n",
       "      <td>0</td>\n",
       "    </tr>\n",
       "    <tr>\n",
       "      <th>493</th>\n",
       "      <td>20/11/2017 10:17</td>\n",
       "      <td>A5</td>\n",
       "      <td>WM_WASH_BEGIN</td>\n",
       "      <td>9</td>\n",
       "    </tr>\n",
       "    <tr>\n",
       "      <th>494</th>\n",
       "      <td>20/11/2017 10:17</td>\n",
       "      <td>A5</td>\n",
       "      <td>WM_STATE</td>\n",
       "      <td>9</td>\n",
       "    </tr>\n",
       "    <tr>\n",
       "      <th>495</th>\n",
       "      <td>20/11/2017 10:18</td>\n",
       "      <td>A5</td>\n",
       "      <td>WM_STATE</td>\n",
       "      <td>9</td>\n",
       "    </tr>\n",
       "    <tr>\n",
       "      <th>496</th>\n",
       "      <td>20/11/2017 11:19</td>\n",
       "      <td>A5</td>\n",
       "      <td>WM_STATE</td>\n",
       "      <td>9</td>\n",
       "    </tr>\n",
       "    <tr>\n",
       "      <th>497</th>\n",
       "      <td>20/11/2017 11:56</td>\n",
       "      <td>A5</td>\n",
       "      <td>WM_STATE</td>\n",
       "      <td>9</td>\n",
       "    </tr>\n",
       "    <tr>\n",
       "      <th>498</th>\n",
       "      <td>20/11/2017 12:04</td>\n",
       "      <td>A5</td>\n",
       "      <td>WM_STATE</td>\n",
       "      <td>0</td>\n",
       "    </tr>\n",
       "    <tr>\n",
       "      <th>499</th>\n",
       "      <td>20/11/2017 12:04</td>\n",
       "      <td>A5</td>\n",
       "      <td>WM_WASH_END</td>\n",
       "      <td>0</td>\n",
       "    </tr>\n",
       "  </tbody>\n",
       "</table>\n",
       "<p>500 rows × 4 columns</p>\n",
       "</div>"
      ],
      "text/plain": [
       "        create_dt_utc device_id      event_type  APCourse\n",
       "0     16/11/2017 0:22        A1        WM_STATE         1\n",
       "1     16/11/2017 0:32        A1        WM_STATE         0\n",
       "2     16/11/2017 0:32        A1     WM_WASH_END         0\n",
       "3     16/11/2017 2:48        A1  COMMON_WIFI_ON         1\n",
       "4     16/11/2017 2:57        A1        WM_STATE         0\n",
       "5     16/11/2017 2:57        A1     WM_WASH_END         0\n",
       "6     16/11/2017 2:58        A1   WM_WASH_BEGIN         1\n",
       "7     16/11/2017 2:58        A1        WM_STATE         1\n",
       "8     16/11/2017 3:26        A1        WM_STATE         1\n",
       "9     16/11/2017 3:57        A1        WM_STATE         0\n",
       "10    16/11/2017 3:57        A1     WM_WASH_END         0\n",
       "11   16/11/2017 11:14        A1  COMMON_WIFI_ON         1\n",
       "12   16/11/2017 11:15        A1        WM_STATE         1\n",
       "13   16/11/2017 11:30        A1        WM_STATE         1\n",
       "14   16/11/2017 12:08        A1        WM_STATE         1\n",
       "15   16/11/2017 12:18        A1        WM_STATE         0\n",
       "16   16/11/2017 12:18        A1     WM_WASH_END         0\n",
       "17   16/11/2017 12:21        A1  COMMON_WIFI_ON         1\n",
       "18   16/11/2017 12:50        A1        WM_STATE         1\n",
       "19   16/11/2017 13:21        A1        WM_STATE         0\n",
       "20   16/11/2017 13:21        A1     WM_WASH_END         0\n",
       "21   18/11/2017 12:18        A1        WM_STATE         1\n",
       "22   18/11/2017 12:18        A1  COMMON_WIFI_ON         1\n",
       "23   18/11/2017 12:19        A1        WM_STATE         1\n",
       "24   18/11/2017 12:34        A1        WM_STATE         1\n",
       "25   18/11/2017 13:20        A1        WM_STATE         1\n",
       "26   18/11/2017 13:30        A1        WM_STATE         0\n",
       "27   18/11/2017 13:30        A1     WM_WASH_END         0\n",
       "28   18/11/2017 21:09        A1  COMMON_WIFI_ON         1\n",
       "29   18/11/2017 21:09        A1   WM_WASH_BEGIN         1\n",
       "..                ...       ...             ...       ...\n",
       "470   19/11/2017 8:37        A5   WM_WASH_BEGIN         1\n",
       "471   19/11/2017 8:37        A5        WM_STATE         1\n",
       "472   19/11/2017 8:38        A5        WM_STATE         1\n",
       "473   19/11/2017 8:52        A5        WM_STATE         1\n",
       "474   19/11/2017 9:22        A5        WM_STATE         1\n",
       "475   19/11/2017 9:31        A5        WM_STATE         0\n",
       "476   19/11/2017 9:31        A5     WM_WASH_END         0\n",
       "477   19/11/2017 9:43        A5  COMMON_WIFI_ON         1\n",
       "478   19/11/2017 9:43        A5        WM_STATE         1\n",
       "479   19/11/2017 9:43        A5   WM_WASH_BEGIN         1\n",
       "480   19/11/2017 9:43        A5        WM_PAUSE         1\n",
       "481   19/11/2017 9:44        A5   WM_WASH_BEGIN         3\n",
       "482   19/11/2017 9:44        A5        WM_STATE         3\n",
       "483  19/11/2017 10:07        A5        WM_STATE         3\n",
       "484  19/11/2017 10:16        A5        WM_STATE         0\n",
       "485  19/11/2017 10:16        A5     WM_WASH_END         0\n",
       "486   20/11/2017 3:51        A5  COMMON_WIFI_ON         9\n",
       "487   20/11/2017 3:52        A5        WM_STATE         9\n",
       "488   20/11/2017 4:51        A5        WM_STATE         9\n",
       "489   20/11/2017 5:23        A5        WM_STATE         9\n",
       "490   20/11/2017 5:32        A5        WM_STATE         0\n",
       "491   20/11/2017 5:32        A5     WM_WASH_END         0\n",
       "492  20/11/2017 10:17        A5  COMMON_WIFI_ON         0\n",
       "493  20/11/2017 10:17        A5   WM_WASH_BEGIN         9\n",
       "494  20/11/2017 10:17        A5        WM_STATE         9\n",
       "495  20/11/2017 10:18        A5        WM_STATE         9\n",
       "496  20/11/2017 11:19        A5        WM_STATE         9\n",
       "497  20/11/2017 11:56        A5        WM_STATE         9\n",
       "498  20/11/2017 12:04        A5        WM_STATE         0\n",
       "499  20/11/2017 12:04        A5     WM_WASH_END         0\n",
       "\n",
       "[500 rows x 4 columns]"
      ]
     },
     "execution_count": 29,
     "metadata": {},
     "output_type": "execute_result"
    }
   ],
   "source": [
    "names = ['create_dt_utc', 'device_id', 'event_type', 'APCourse']\n",
    "washer_df[names]"
   ]
  },
  {
   "cell_type": "markdown",
   "metadata": {},
   "source": [
    "#### Grouping"
   ]
  },
  {
   "cell_type": "markdown",
   "metadata": {},
   "source": [
    "+ 지금까지 데이터를 새로 생성하고 필요없는 컬럼은 삭제하는 등의 전처리를 진행했습니다.\n",
    "+ 이번에는 로그가 발생한 device id별 유형(event_type)이 어떤 것들이 있는지 살펴보겠습니다."
   ]
  },
  {
   "cell_type": "code",
   "execution_count": 30,
   "metadata": {},
   "outputs": [
    {
     "data": {
      "text/plain": [
       "WM_STATE          294\n",
       "COMMON_WIFI_ON     65\n",
       "WM_WASH_END        64\n",
       "WM_WASH_BEGIN      40\n",
       "WM_PAUSE           23\n",
       "WM_CONTINUE        11\n",
       "WM_ERROR            3\n",
       "Name: event_type, dtype: int64"
      ]
     },
     "execution_count": 30,
     "metadata": {},
     "output_type": "execute_result"
    }
   ],
   "source": [
    "washer_df['event_type'].value_counts()"
   ]
  },
  {
   "cell_type": "code",
   "execution_count": 31,
   "metadata": {},
   "outputs": [],
   "source": [
    "# device_id별 event_type 갯수 ?"
   ]
  },
  {
   "cell_type": "code",
   "execution_count": 32,
   "metadata": {},
   "outputs": [
    {
     "data": {
      "text/plain": [
       "array(['A1', 'A2', 'A3', 'A4', 'A5'], dtype=object)"
      ]
     },
     "execution_count": 32,
     "metadata": {},
     "output_type": "execute_result"
    }
   ],
   "source": [
    "washer_df['device_id'].unique()"
   ]
  },
  {
   "cell_type": "code",
   "execution_count": 33,
   "metadata": {},
   "outputs": [
    {
     "data": {
      "text/plain": [
       "array(['WM_STATE', 'WM_WASH_END', 'COMMON_WIFI_ON', 'WM_WASH_BEGIN',\n",
       "       'WM_PAUSE', 'WM_CONTINUE', 'WM_ERROR'], dtype=object)"
      ]
     },
     "execution_count": 33,
     "metadata": {},
     "output_type": "execute_result"
    }
   ],
   "source": [
    "washer_df['event_type'].unique()"
   ]
  },
  {
   "cell_type": "code",
   "execution_count": 34,
   "metadata": {},
   "outputs": [
    {
     "data": {
      "text/plain": [
       "device_id  event_type    \n",
       "A1         COMMON_WIFI_ON    13\n",
       "           WM_PAUSE           2\n",
       "           WM_STATE          64\n",
       "           WM_WASH_BEGIN     12\n",
       "           WM_WASH_END       17\n",
       "A2         COMMON_WIFI_ON    13\n",
       "           WM_CONTINUE        2\n",
       "           WM_PAUSE           7\n",
       "           WM_STATE          60\n",
       "           WM_WASH_BEGIN      2\n",
       "           WM_WASH_END       12\n",
       "A3         COMMON_WIFI_ON    11\n",
       "           WM_CONTINUE        9\n",
       "           WM_ERROR           2\n",
       "           WM_PAUSE          12\n",
       "           WM_STATE          51\n",
       "           WM_WASH_BEGIN      8\n",
       "           WM_WASH_END       11\n",
       "A4         COMMON_WIFI_ON    16\n",
       "           WM_STATE          62\n",
       "           WM_WASH_BEGIN     10\n",
       "           WM_WASH_END       12\n",
       "A5         COMMON_WIFI_ON    12\n",
       "           WM_ERROR           1\n",
       "           WM_PAUSE           2\n",
       "           WM_STATE          57\n",
       "           WM_WASH_BEGIN      8\n",
       "           WM_WASH_END       12\n",
       "dtype: int64"
      ]
     },
     "execution_count": 34,
     "metadata": {},
     "output_type": "execute_result"
    }
   ],
   "source": [
    "# washer_df.groupby(['device_id', 'event_type']).size()\n",
    "washer_df.groupby(['device_id', 'event_type']).agg('size')"
   ]
  },
  {
   "cell_type": "code",
   "execution_count": 35,
   "metadata": {},
   "outputs": [
    {
     "data": {
      "text/html": [
       "<div>\n",
       "<style scoped>\n",
       "    .dataframe tbody tr th:only-of-type {\n",
       "        vertical-align: middle;\n",
       "    }\n",
       "\n",
       "    .dataframe tbody tr th {\n",
       "        vertical-align: top;\n",
       "    }\n",
       "\n",
       "    .dataframe thead th {\n",
       "        text-align: right;\n",
       "    }\n",
       "</style>\n",
       "<table border=\"1\" class=\"dataframe\">\n",
       "  <thead>\n",
       "    <tr style=\"text-align: right;\">\n",
       "      <th>event_type</th>\n",
       "      <th>COMMON_WIFI_ON</th>\n",
       "      <th>WM_CONTINUE</th>\n",
       "      <th>WM_ERROR</th>\n",
       "      <th>WM_PAUSE</th>\n",
       "      <th>WM_STATE</th>\n",
       "      <th>WM_WASH_BEGIN</th>\n",
       "      <th>WM_WASH_END</th>\n",
       "    </tr>\n",
       "    <tr>\n",
       "      <th>device_id</th>\n",
       "      <th></th>\n",
       "      <th></th>\n",
       "      <th></th>\n",
       "      <th></th>\n",
       "      <th></th>\n",
       "      <th></th>\n",
       "      <th></th>\n",
       "    </tr>\n",
       "  </thead>\n",
       "  <tbody>\n",
       "    <tr>\n",
       "      <th>A1</th>\n",
       "      <td>13.0</td>\n",
       "      <td>NaN</td>\n",
       "      <td>NaN</td>\n",
       "      <td>2.0</td>\n",
       "      <td>64.0</td>\n",
       "      <td>12.0</td>\n",
       "      <td>17.0</td>\n",
       "    </tr>\n",
       "    <tr>\n",
       "      <th>A2</th>\n",
       "      <td>13.0</td>\n",
       "      <td>2.0</td>\n",
       "      <td>NaN</td>\n",
       "      <td>7.0</td>\n",
       "      <td>60.0</td>\n",
       "      <td>2.0</td>\n",
       "      <td>12.0</td>\n",
       "    </tr>\n",
       "    <tr>\n",
       "      <th>A3</th>\n",
       "      <td>11.0</td>\n",
       "      <td>9.0</td>\n",
       "      <td>2.0</td>\n",
       "      <td>12.0</td>\n",
       "      <td>51.0</td>\n",
       "      <td>8.0</td>\n",
       "      <td>11.0</td>\n",
       "    </tr>\n",
       "    <tr>\n",
       "      <th>A4</th>\n",
       "      <td>16.0</td>\n",
       "      <td>NaN</td>\n",
       "      <td>NaN</td>\n",
       "      <td>NaN</td>\n",
       "      <td>62.0</td>\n",
       "      <td>10.0</td>\n",
       "      <td>12.0</td>\n",
       "    </tr>\n",
       "    <tr>\n",
       "      <th>A5</th>\n",
       "      <td>12.0</td>\n",
       "      <td>NaN</td>\n",
       "      <td>1.0</td>\n",
       "      <td>2.0</td>\n",
       "      <td>57.0</td>\n",
       "      <td>8.0</td>\n",
       "      <td>12.0</td>\n",
       "    </tr>\n",
       "  </tbody>\n",
       "</table>\n",
       "</div>"
      ],
      "text/plain": [
       "event_type  COMMON_WIFI_ON  WM_CONTINUE  WM_ERROR  WM_PAUSE  WM_STATE  \\\n",
       "device_id                                                               \n",
       "A1                    13.0          NaN       NaN       2.0      64.0   \n",
       "A2                    13.0          2.0       NaN       7.0      60.0   \n",
       "A3                    11.0          9.0       2.0      12.0      51.0   \n",
       "A4                    16.0          NaN       NaN       NaN      62.0   \n",
       "A5                    12.0          NaN       1.0       2.0      57.0   \n",
       "\n",
       "event_type  WM_WASH_BEGIN  WM_WASH_END  \n",
       "device_id                               \n",
       "A1                   12.0         17.0  \n",
       "A2                    2.0         12.0  \n",
       "A3                    8.0         11.0  \n",
       "A4                   10.0         12.0  \n",
       "A5                    8.0         12.0  "
      ]
     },
     "execution_count": 35,
     "metadata": {},
     "output_type": "execute_result"
    }
   ],
   "source": [
    "washer_df.groupby(['device_id', 'event_type']).agg('size').unstack()"
   ]
  },
  {
   "cell_type": "code",
   "execution_count": 36,
   "metadata": {},
   "outputs": [
    {
     "data": {
      "text/html": [
       "<div>\n",
       "<style scoped>\n",
       "    .dataframe tbody tr th:only-of-type {\n",
       "        vertical-align: middle;\n",
       "    }\n",
       "\n",
       "    .dataframe tbody tr th {\n",
       "        vertical-align: top;\n",
       "    }\n",
       "\n",
       "    .dataframe thead th {\n",
       "        text-align: right;\n",
       "    }\n",
       "</style>\n",
       "<table border=\"1\" class=\"dataframe\">\n",
       "  <thead>\n",
       "    <tr style=\"text-align: right;\">\n",
       "      <th>event_type</th>\n",
       "      <th>COMMON_WIFI_ON</th>\n",
       "      <th>WM_CONTINUE</th>\n",
       "      <th>WM_ERROR</th>\n",
       "      <th>WM_PAUSE</th>\n",
       "      <th>WM_STATE</th>\n",
       "      <th>WM_WASH_BEGIN</th>\n",
       "      <th>WM_WASH_END</th>\n",
       "    </tr>\n",
       "    <tr>\n",
       "      <th>device_id</th>\n",
       "      <th></th>\n",
       "      <th></th>\n",
       "      <th></th>\n",
       "      <th></th>\n",
       "      <th></th>\n",
       "      <th></th>\n",
       "      <th></th>\n",
       "    </tr>\n",
       "  </thead>\n",
       "  <tbody>\n",
       "    <tr>\n",
       "      <th>A1</th>\n",
       "      <td>13.0</td>\n",
       "      <td>0.0</td>\n",
       "      <td>0.0</td>\n",
       "      <td>2.0</td>\n",
       "      <td>64.0</td>\n",
       "      <td>12.0</td>\n",
       "      <td>17.0</td>\n",
       "    </tr>\n",
       "    <tr>\n",
       "      <th>A2</th>\n",
       "      <td>13.0</td>\n",
       "      <td>2.0</td>\n",
       "      <td>0.0</td>\n",
       "      <td>7.0</td>\n",
       "      <td>60.0</td>\n",
       "      <td>2.0</td>\n",
       "      <td>12.0</td>\n",
       "    </tr>\n",
       "    <tr>\n",
       "      <th>A3</th>\n",
       "      <td>11.0</td>\n",
       "      <td>9.0</td>\n",
       "      <td>2.0</td>\n",
       "      <td>12.0</td>\n",
       "      <td>51.0</td>\n",
       "      <td>8.0</td>\n",
       "      <td>11.0</td>\n",
       "    </tr>\n",
       "    <tr>\n",
       "      <th>A4</th>\n",
       "      <td>16.0</td>\n",
       "      <td>0.0</td>\n",
       "      <td>0.0</td>\n",
       "      <td>0.0</td>\n",
       "      <td>62.0</td>\n",
       "      <td>10.0</td>\n",
       "      <td>12.0</td>\n",
       "    </tr>\n",
       "    <tr>\n",
       "      <th>A5</th>\n",
       "      <td>12.0</td>\n",
       "      <td>0.0</td>\n",
       "      <td>1.0</td>\n",
       "      <td>2.0</td>\n",
       "      <td>57.0</td>\n",
       "      <td>8.0</td>\n",
       "      <td>12.0</td>\n",
       "    </tr>\n",
       "  </tbody>\n",
       "</table>\n",
       "</div>"
      ],
      "text/plain": [
       "event_type  COMMON_WIFI_ON  WM_CONTINUE  WM_ERROR  WM_PAUSE  WM_STATE  \\\n",
       "device_id                                                               \n",
       "A1                    13.0          0.0       0.0       2.0      64.0   \n",
       "A2                    13.0          2.0       0.0       7.0      60.0   \n",
       "A3                    11.0          9.0       2.0      12.0      51.0   \n",
       "A4                    16.0          0.0       0.0       0.0      62.0   \n",
       "A5                    12.0          0.0       1.0       2.0      57.0   \n",
       "\n",
       "event_type  WM_WASH_BEGIN  WM_WASH_END  \n",
       "device_id                               \n",
       "A1                   12.0         17.0  \n",
       "A2                    2.0         12.0  \n",
       "A3                    8.0         11.0  \n",
       "A4                   10.0         12.0  \n",
       "A5                    8.0         12.0  "
      ]
     },
     "execution_count": 36,
     "metadata": {},
     "output_type": "execute_result"
    }
   ],
   "source": [
    "# washer_df.groupby(['device_id', 'event_type']).agg('size').unstack(fill_value=0)\n",
    "washer_df.groupby(['device_id', 'event_type']).agg('size').unstack().fillna(0)"
   ]
  },
  {
   "cell_type": "markdown",
   "metadata": {},
   "source": [
    "비록 데이터 수가 부족하지만... 그나마 있는 위 데이터를 통해서 인사이트를 구해봅시다. 어떤 유의미한 결과가 있는 것 같나요?\n",
    "\n",
    "합리적 의심\n",
    "\n",
    "+ WM_STATE가 무엇을 의미하는지는 모르겠지만 세탁기마다 많은 log가 있다.\n",
    "+ A3 세탁기의 WM_ERROR/WM_PAUSE 이벤트가 다른 세탁기에 비해 유독(?) 많다. 뭔가 이상이 있나?\n",
    "+ WM_WASH_BEGIN 이벤트와 WM_WASH_END 이벤트가 동일하지 않다. 맞는 데이터인가? 혹시 wifi로 신호를 제대로 주지 않은 건가? 무슨 문제가 있나?\n",
    "\n",
    "만약에 데이터가 더 풍부했으면 좋았을 겁니다. WM_ERROR도 해당 에러가 어떤 에러인지 알았으면 에러에 더 분석을 해보면 좋았을텐데 말이죠.\n",
    "그래서 위 데이터를 보고 구체적인 ERROR 내용에 대해 로그 데이터 남기는 것을 제안하는 것도 좋을 것 같습니다."
   ]
  },
  {
   "cell_type": "markdown",
   "metadata": {},
   "source": [
    "#### 탐색: 일시중지('WM_PAUSE') Log가 가장 많은 기계의 device_id를 찾아보자.\n",
    "\n",
    "위에서 groupby/unstack을 통해 나온 데이터에서 눈으로 탐색하는 모습 말고, 직접 코딩으로 찾아보겠습니다."
   ]
  },
  {
   "cell_type": "code",
   "execution_count": 37,
   "metadata": {},
   "outputs": [
    {
     "data": {
      "text/plain": [
       "61     A1\n",
       "94     A1\n",
       "154    A2\n",
       "156    A2\n",
       "166    A2\n",
       "169    A2\n",
       "172    A2\n",
       "175    A2\n",
       "177    A2\n",
       "208    A3\n",
       "218    A3\n",
       "228    A3\n",
       "239    A3\n",
       "242    A3\n",
       "252    A3\n",
       "255    A3\n",
       "257    A3\n",
       "273    A3\n",
       "283    A3\n",
       "292    A3\n",
       "295    A3\n",
       "459    A5\n",
       "480    A5\n",
       "Name: device_id, dtype: object"
      ]
     },
     "execution_count": 37,
     "metadata": {},
     "output_type": "execute_result"
    }
   ],
   "source": [
    "mask = (washer_df['event_type'] == 'WM_PAUSE')\n",
    "washer_df.loc[mask, 'device_id']"
   ]
  },
  {
   "cell_type": "code",
   "execution_count": 38,
   "metadata": {},
   "outputs": [
    {
     "data": {
      "text/plain": [
       "A3    12\n",
       "A2     7\n",
       "A5     2\n",
       "A1     2\n",
       "Name: device_id, dtype: int64"
      ]
     },
     "execution_count": 38,
     "metadata": {},
     "output_type": "execute_result"
    }
   ],
   "source": [
    "mask = (washer_df['event_type'] == 'WM_PAUSE')\n",
    "washer_df.loc[mask, 'device_id'].value_counts()"
   ]
  },
  {
   "cell_type": "markdown",
   "metadata": {},
   "source": [
    "<div class=\"alert alert-success\">\n",
    "Q: 어느 기계(device id)에 가장 많은 에러('WM_ERROR') Log가 기록되어 있을까?\n",
    "</div>"
   ]
  },
  {
   "cell_type": "code",
   "execution_count": 39,
   "metadata": {},
   "outputs": [
    {
     "data": {
      "text/plain": [
       "A3    2\n",
       "A5    1\n",
       "Name: device_id, dtype: int64"
      ]
     },
     "execution_count": 39,
     "metadata": {},
     "output_type": "execute_result"
    }
   ],
   "source": [
    "mask = (washer_df['event_type'] == 'WM_ERROR')\n",
    "washer_df.loc[mask, 'device_id'].value_counts()"
   ]
  },
  {
   "cell_type": "markdown",
   "metadata": {},
   "source": [
    "#### 탐색: 일시중지('WM_PAUSE') Log가 가장 많은 기계의 device_id를 찾아보자."
   ]
  },
  {
   "cell_type": "code",
   "execution_count": 40,
   "metadata": {},
   "outputs": [
    {
     "data": {
      "text/plain": [
       "0    16/11/2017 0:22\n",
       "1    16/11/2017 0:32\n",
       "2    16/11/2017 0:32\n",
       "3    16/11/2017 2:48\n",
       "4    16/11/2017 2:57\n",
       "Name: create_dt_utc, dtype: object"
      ]
     },
     "execution_count": 40,
     "metadata": {},
     "output_type": "execute_result"
    }
   ],
   "source": [
    "# 시간 확인\n",
    "washer_df['create_dt_utc'].head()"
   ]
  },
  {
   "cell_type": "code",
   "execution_count": 41,
   "metadata": {},
   "outputs": [
    {
     "data": {
      "text/plain": [
       "'16/11/2017 0:22'"
      ]
     },
     "execution_count": 41,
     "metadata": {},
     "output_type": "execute_result"
    }
   ],
   "source": [
    "washer_df['create_dt_utc'][0]"
   ]
  },
  {
   "cell_type": "code",
   "execution_count": 42,
   "metadata": {},
   "outputs": [
    {
     "data": {
      "text/plain": [
       "0   2017-11-16 00:22:00\n",
       "1   2017-11-16 00:32:00\n",
       "2   2017-11-16 00:32:00\n",
       "3   2017-11-16 02:48:00\n",
       "4   2017-11-16 02:57:00\n",
       "Name: create_dt_utc, dtype: datetime64[ns]"
      ]
     },
     "execution_count": 42,
     "metadata": {},
     "output_type": "execute_result"
    }
   ],
   "source": [
    "washer_df['create_dt_utc'] = pd.to_datetime(washer_df['create_dt_utc'])\n",
    "washer_df['create_dt_utc'].head()\n",
    "\n",
    "# 혹은\n",
    "# pd.read_csv('LG_Python_Lecture_for_student_181010/2/data/washing_machine/washer.csv',\n",
    "#             parse_dates=['create_dt_utc'])\n"
   ]
  },
  {
   "cell_type": "code",
   "execution_count": 43,
   "metadata": {},
   "outputs": [
    {
     "data": {
      "text/plain": [
       "Timestamp('2017-11-16 00:22:00')"
      ]
     },
     "execution_count": 43,
     "metadata": {},
     "output_type": "execute_result"
    }
   ],
   "source": [
    "washer_df['create_dt_utc'][0]"
   ]
  },
  {
   "cell_type": "markdown",
   "metadata": {},
   "source": [
    "<div class=\"alert alert-info\">\n",
    "4시간 단위로 Grouping 해봅시다.\n",
    "</div>"
   ]
  },
  {
   "cell_type": "code",
   "execution_count": 44,
   "metadata": {},
   "outputs": [
    {
     "data": {
      "text/plain": [
       "TimeGrouper(key='create_dt_utc', freq=<4 * Hours>, axis=0, sort=True, closed='left', label='left', how='mean', convention='e', base=0)"
      ]
     },
     "execution_count": 44,
     "metadata": {},
     "output_type": "execute_result"
    }
   ],
   "source": [
    "grouper = pd.Grouper(key='create_dt_utc', freq='4h')\n",
    "grouper"
   ]
  },
  {
   "cell_type": "code",
   "execution_count": 45,
   "metadata": {},
   "outputs": [
    {
     "data": {
      "text/plain": [
       "create_dt_utc\n",
       "2017-11-16 00:00:00    25\n",
       "2017-11-16 04:00:00     7\n",
       "2017-11-16 08:00:00    16\n",
       "2017-11-16 12:00:00    31\n",
       "2017-11-16 16:00:00     3\n",
       "2017-11-16 20:00:00     8\n",
       "2017-11-17 00:00:00    16\n",
       "2017-11-17 04:00:00    14\n",
       "2017-11-17 08:00:00    34\n",
       "2017-11-17 12:00:00     7\n",
       "2017-11-17 16:00:00     0\n",
       "2017-11-17 20:00:00     0\n",
       "2017-11-18 00:00:00    35\n",
       "2017-11-18 04:00:00    16\n",
       "2017-11-18 08:00:00    24\n",
       "2017-11-18 12:00:00    26\n",
       "2017-11-18 16:00:00     0\n",
       "2017-11-18 20:00:00    15\n",
       "2017-11-19 00:00:00    29\n",
       "2017-11-19 04:00:00    39\n",
       "2017-11-19 08:00:00    33\n",
       "2017-11-19 12:00:00    19\n",
       "2017-11-19 16:00:00     0\n",
       "2017-11-19 20:00:00     4\n",
       "2017-11-20 00:00:00    39\n",
       "2017-11-20 04:00:00    23\n",
       "2017-11-20 08:00:00    26\n",
       "2017-11-20 12:00:00     7\n",
       "2017-11-20 16:00:00     0\n",
       "2017-11-20 20:00:00     4\n",
       "Freq: 4H, Name: create_dt_utc, dtype: int64"
      ]
     },
     "execution_count": 45,
     "metadata": {},
     "output_type": "execute_result"
    }
   ],
   "source": [
    "# washer_df.groupby(grouper)['create_dt_utc'].agg('count')\n",
    "washer_df.groupby(grouper)['create_dt_utc'].count()"
   ]
  },
  {
   "cell_type": "code",
   "execution_count": 46,
   "metadata": {},
   "outputs": [
    {
     "data": {
      "text/plain": [
       "<matplotlib.axes._subplots.AxesSubplot at 0x11be5f198>"
      ]
     },
     "execution_count": 46,
     "metadata": {},
     "output_type": "execute_result"
    },
    {
     "data": {
      "image/png": "[encoded data removed]",
      "text/plain": [
       "<Figure size 1080x288 with 1 Axes>"
      ]
     },
     "metadata": {
      "needs_background": "light"
     },
     "output_type": "display_data"
    }
   ],
   "source": [
    "washer_df.groupby(grouper)['create_dt_utc'].count().plot(kind='bar', figsize=(15, 4))"
   ]
  },
  {
   "cell_type": "markdown",
   "metadata": {},
   "source": [
    "새벽 시간대에 Log 기록이 왜 많은 걸까?\n",
    "\n",
    "이상하다. 너무 새벽 시간대이다.\n",
    "\n",
    "혹시 데이터가 이상한 건 아닌지 의심할 필요가 있을 것 같다.\n",
    "\n",
    "그런데 지금까지 그냥 지나쳤는데 시간이 UTC로 되어있어서 그런건 아닐까?\n",
    "\n",
    "UTC: 협정세계시"
   ]
  },
  {
   "cell_type": "code",
   "execution_count": 47,
   "metadata": {},
   "outputs": [],
   "source": [
    "import datetime\n",
    "\n",
    "kst_diff = datetime.timedelta(hours=9)"
   ]
  },
  {
   "cell_type": "code",
   "execution_count": 48,
   "metadata": {},
   "outputs": [
    {
     "data": {
      "text/html": [
       "<div>\n",
       "<style scoped>\n",
       "    .dataframe tbody tr th:only-of-type {\n",
       "        vertical-align: middle;\n",
       "    }\n",
       "\n",
       "    .dataframe tbody tr th {\n",
       "        vertical-align: top;\n",
       "    }\n",
       "\n",
       "    .dataframe thead th {\n",
       "        text-align: right;\n",
       "    }\n",
       "</style>\n",
       "<table border=\"1\" class=\"dataframe\">\n",
       "  <thead>\n",
       "    <tr style=\"text-align: right;\">\n",
       "      <th></th>\n",
       "      <th>create_dt_utc</th>\n",
       "      <th>create_dt_kst</th>\n",
       "    </tr>\n",
       "  </thead>\n",
       "  <tbody>\n",
       "    <tr>\n",
       "      <th>0</th>\n",
       "      <td>2017-11-16 00:22:00</td>\n",
       "      <td>2017-11-16 09:22:00</td>\n",
       "    </tr>\n",
       "    <tr>\n",
       "      <th>1</th>\n",
       "      <td>2017-11-16 00:32:00</td>\n",
       "      <td>2017-11-16 09:32:00</td>\n",
       "    </tr>\n",
       "    <tr>\n",
       "      <th>2</th>\n",
       "      <td>2017-11-16 00:32:00</td>\n",
       "      <td>2017-11-16 09:32:00</td>\n",
       "    </tr>\n",
       "    <tr>\n",
       "      <th>3</th>\n",
       "      <td>2017-11-16 02:48:00</td>\n",
       "      <td>2017-11-16 11:48:00</td>\n",
       "    </tr>\n",
       "    <tr>\n",
       "      <th>4</th>\n",
       "      <td>2017-11-16 02:57:00</td>\n",
       "      <td>2017-11-16 11:57:00</td>\n",
       "    </tr>\n",
       "  </tbody>\n",
       "</table>\n",
       "</div>"
      ],
      "text/plain": [
       "        create_dt_utc       create_dt_kst\n",
       "0 2017-11-16 00:22:00 2017-11-16 09:22:00\n",
       "1 2017-11-16 00:32:00 2017-11-16 09:32:00\n",
       "2 2017-11-16 00:32:00 2017-11-16 09:32:00\n",
       "3 2017-11-16 02:48:00 2017-11-16 11:48:00\n",
       "4 2017-11-16 02:57:00 2017-11-16 11:57:00"
      ]
     },
     "execution_count": 48,
     "metadata": {},
     "output_type": "execute_result"
    }
   ],
   "source": [
    "washer_df['create_dt_kst'] = washer_df['create_dt_utc'] + kst_diff\n",
    "washer_df[['create_dt_utc', 'create_dt_kst']].head()"
   ]
  },
  {
   "cell_type": "markdown",
   "metadata": {},
   "source": [
    "한국 시각으로 변경된 데이터를 가지고 아래와 같은 그래프"
   ]
  },
  {
   "cell_type": "code",
   "execution_count": 49,
   "metadata": {},
   "outputs": [
    {
     "data": {
      "text/plain": [
       "<matplotlib.axes._subplots.AxesSubplot at 0x109878f60>"
      ]
     },
     "execution_count": 49,
     "metadata": {},
     "output_type": "execute_result"
    },
    {
     "data": {
      "image/png": "[encoded data removed]",
      "text/plain": [
       "<Figure size 1080x648 with 1 Axes>"
      ]
     },
     "metadata": {
      "needs_background": "light"
     },
     "output_type": "display_data"
    }
   ],
   "source": [
    "washer_df.groupby(grouper)['create_dt_kst'].count().plot(kind='barh', figsize=(15, 9))"
   ]
  },
  {
   "cell_type": "markdown",
   "metadata": {},
   "source": [
    "<div class=\"alert alert-info\">\n",
    "세탁코스(APCourse)는 현재 숫자형태로 되어있는데 이를 범주형 데이터로 바꿔보겠습니다. (임의 데이터)\n",
    "</div>"
   ]
  },
  {
   "cell_type": "code",
   "execution_count": 50,
   "metadata": {},
   "outputs": [
    {
     "data": {
      "text/plain": [
       "0    1\n",
       "1    0\n",
       "2    0\n",
       "3    1\n",
       "4    0\n",
       "Name: APCourse, dtype: int64"
      ]
     },
     "execution_count": 50,
     "metadata": {},
     "output_type": "execute_result"
    }
   ],
   "source": [
    "washer_df['APCourse'].head()"
   ]
  },
  {
   "cell_type": "code",
   "execution_count": 51,
   "metadata": {},
   "outputs": [
    {
     "data": {
      "text/plain": [
       "1     190\n",
       "0     131\n",
       "3      45\n",
       "13     31\n",
       "8      25\n",
       "9      18\n",
       "5      15\n",
       "16     14\n",
       "6      11\n",
       "2       9\n",
       "10      7\n",
       "12      4\n",
       "Name: APCourse, dtype: int64"
      ]
     },
     "execution_count": 51,
     "metadata": {},
     "output_type": "execute_result"
    }
   ],
   "source": [
    "washer_df['APCourse'].value_counts()"
   ]
  },
  {
   "cell_type": "code",
   "execution_count": 52,
   "metadata": {},
   "outputs": [],
   "source": [
    "ap_course_dict = {\n",
    "    1: '표준세탁',\n",
    "    0: '찌든때',\n",
    "    3: '알뜰삶음',\n",
    "    13: '스피드워시',\n",
    "    8: '알러지케어',\n",
    "    9: '스팀클리닝',\n",
    "    5: '기능성의류',\n",
    "    16: '컬러케어',\n",
    "    6: '찬물세탁',\n",
    "    2: '란제리/울',\n",
    "    10: '이불',\n",
    "    12: '헹굼/탈수',\n",
    "}"
   ]
  },
  {
   "cell_type": "code",
   "execution_count": 53,
   "metadata": {},
   "outputs": [
    {
     "data": {
      "text/plain": [
       "0    표준세탁\n",
       "1     찌든때\n",
       "2     찌든때\n",
       "3    표준세탁\n",
       "4     찌든때\n",
       "Name: APCourse, dtype: object"
      ]
     },
     "execution_count": 53,
     "metadata": {},
     "output_type": "execute_result"
    }
   ],
   "source": [
    "# washer_df['APCourse'] = washer_df['APCourse'].apply(lambda course: ap_course_dict.get(course))\n",
    "washer_df['APCourse'] = washer_df['APCourse'].apply(ap_course_dict.get)\n",
    "washer_df['APCourse'].head()"
   ]
  },
  {
   "cell_type": "code",
   "execution_count": 54,
   "metadata": {},
   "outputs": [
    {
     "data": {
      "text/plain": [
       "0    표준세탁\n",
       "1     찌든때\n",
       "2     찌든때\n",
       "3    표준세탁\n",
       "4     찌든때\n",
       "Name: APCourse, dtype: category\n",
       "Categories (12, object): [기능성의류, 란제리/울, 스팀클리닝, 스피드워시, ..., 찬물세탁, 컬러케어, 표준세탁, 헹굼/탈수]"
      ]
     },
     "execution_count": 54,
     "metadata": {},
     "output_type": "execute_result"
    }
   ],
   "source": [
    "# catetgory type 으로 변경\n",
    "washer_df['APCourse'] = washer_df['APCourse'].astype('category')\n",
    "washer_df['APCourse'].head()"
   ]
  },
  {
   "cell_type": "markdown",
   "metadata": {},
   "source": [
    "<div class=\"alert alert-success\">\n",
    "Q. 각자 device 별로 세탁코스(APCourse)를 카운팅을 해보고 데이터의 이상점/특이점을 찾아보세요.\n",
    "</div>"
   ]
  },
  {
   "cell_type": "code",
   "execution_count": 55,
   "metadata": {},
   "outputs": [
    {
     "data": {
      "text/plain": [
       "device_id  APCourse\n",
       "A1         기능성의류        8\n",
       "           스피드워시       13\n",
       "           찌든때         32\n",
       "           표준세탁        51\n",
       "           헹굼/탈수        4\n",
       "A2         기능성의류        1\n",
       "           찌든때         25\n",
       "           표준세탁        70\n",
       "A3         기능성의류        6\n",
       "           알러지케어       25\n",
       "           이불           5\n",
       "           찌든때         18\n",
       "           컬러케어         9\n",
       "           표준세탁        41\n",
       "A4         스피드워시       18\n",
       "           알뜰삶음        42\n",
       "           찌든때         29\n",
       "           표준세탁        11\n",
       "A5         란제리/울        9\n",
       "           스팀클리닝       18\n",
       "           알뜰삶음         3\n",
       "           이불           2\n",
       "           찌든때         27\n",
       "           찬물세탁        11\n",
       "           컬러케어         5\n",
       "           표준세탁        17\n",
       "dtype: int64"
      ]
     },
     "execution_count": 55,
     "metadata": {},
     "output_type": "execute_result"
    }
   ],
   "source": [
    "washer_df.groupby(['device_id', 'APCourse']).size()"
   ]
  },
  {
   "cell_type": "code",
   "execution_count": 56,
   "metadata": {},
   "outputs": [
    {
     "data": {
      "text/html": [
       "<div>\n",
       "<style scoped>\n",
       "    .dataframe tbody tr th:only-of-type {\n",
       "        vertical-align: middle;\n",
       "    }\n",
       "\n",
       "    .dataframe tbody tr th {\n",
       "        vertical-align: top;\n",
       "    }\n",
       "\n",
       "    .dataframe thead th {\n",
       "        text-align: right;\n",
       "    }\n",
       "</style>\n",
       "<table border=\"1\" class=\"dataframe\">\n",
       "  <thead>\n",
       "    <tr style=\"text-align: right;\">\n",
       "      <th>APCourse</th>\n",
       "      <th>기능성의류</th>\n",
       "      <th>란제리/울</th>\n",
       "      <th>스팀클리닝</th>\n",
       "      <th>스피드워시</th>\n",
       "      <th>알뜰삶음</th>\n",
       "      <th>알러지케어</th>\n",
       "      <th>이불</th>\n",
       "      <th>찌든때</th>\n",
       "      <th>찬물세탁</th>\n",
       "      <th>컬러케어</th>\n",
       "      <th>표준세탁</th>\n",
       "      <th>헹굼/탈수</th>\n",
       "    </tr>\n",
       "    <tr>\n",
       "      <th>device_id</th>\n",
       "      <th></th>\n",
       "      <th></th>\n",
       "      <th></th>\n",
       "      <th></th>\n",
       "      <th></th>\n",
       "      <th></th>\n",
       "      <th></th>\n",
       "      <th></th>\n",
       "      <th></th>\n",
       "      <th></th>\n",
       "      <th></th>\n",
       "      <th></th>\n",
       "    </tr>\n",
       "  </thead>\n",
       "  <tbody>\n",
       "    <tr>\n",
       "      <th>A1</th>\n",
       "      <td>8</td>\n",
       "      <td>0</td>\n",
       "      <td>0</td>\n",
       "      <td>13</td>\n",
       "      <td>0</td>\n",
       "      <td>0</td>\n",
       "      <td>0</td>\n",
       "      <td>32</td>\n",
       "      <td>0</td>\n",
       "      <td>0</td>\n",
       "      <td>51</td>\n",
       "      <td>4</td>\n",
       "    </tr>\n",
       "    <tr>\n",
       "      <th>A2</th>\n",
       "      <td>1</td>\n",
       "      <td>0</td>\n",
       "      <td>0</td>\n",
       "      <td>0</td>\n",
       "      <td>0</td>\n",
       "      <td>0</td>\n",
       "      <td>0</td>\n",
       "      <td>25</td>\n",
       "      <td>0</td>\n",
       "      <td>0</td>\n",
       "      <td>70</td>\n",
       "      <td>0</td>\n",
       "    </tr>\n",
       "    <tr>\n",
       "      <th>A3</th>\n",
       "      <td>6</td>\n",
       "      <td>0</td>\n",
       "      <td>0</td>\n",
       "      <td>0</td>\n",
       "      <td>0</td>\n",
       "      <td>25</td>\n",
       "      <td>5</td>\n",
       "      <td>18</td>\n",
       "      <td>0</td>\n",
       "      <td>9</td>\n",
       "      <td>41</td>\n",
       "      <td>0</td>\n",
       "    </tr>\n",
       "    <tr>\n",
       "      <th>A4</th>\n",
       "      <td>0</td>\n",
       "      <td>0</td>\n",
       "      <td>0</td>\n",
       "      <td>18</td>\n",
       "      <td>42</td>\n",
       "      <td>0</td>\n",
       "      <td>0</td>\n",
       "      <td>29</td>\n",
       "      <td>0</td>\n",
       "      <td>0</td>\n",
       "      <td>11</td>\n",
       "      <td>0</td>\n",
       "    </tr>\n",
       "    <tr>\n",
       "      <th>A5</th>\n",
       "      <td>0</td>\n",
       "      <td>9</td>\n",
       "      <td>18</td>\n",
       "      <td>0</td>\n",
       "      <td>3</td>\n",
       "      <td>0</td>\n",
       "      <td>2</td>\n",
       "      <td>27</td>\n",
       "      <td>11</td>\n",
       "      <td>5</td>\n",
       "      <td>17</td>\n",
       "      <td>0</td>\n",
       "    </tr>\n",
       "  </tbody>\n",
       "</table>\n",
       "</div>"
      ],
      "text/plain": [
       "APCourse   기능성의류  란제리/울  스팀클리닝  스피드워시  알뜰삶음  알러지케어  이불  찌든때  찬물세탁  컬러케어  표준세탁  \\\n",
       "device_id                                                                       \n",
       "A1             8      0      0     13     0      0   0   32     0     0    51   \n",
       "A2             1      0      0      0     0      0   0   25     0     0    70   \n",
       "A3             6      0      0      0     0     25   5   18     0     9    41   \n",
       "A4             0      0      0     18    42      0   0   29     0     0    11   \n",
       "A5             0      9     18      0     3      0   2   27    11     5    17   \n",
       "\n",
       "APCourse   헹굼/탈수  \n",
       "device_id         \n",
       "A1             4  \n",
       "A2             0  \n",
       "A3             0  \n",
       "A4             0  \n",
       "A5             0  "
      ]
     },
     "execution_count": 56,
     "metadata": {},
     "output_type": "execute_result"
    }
   ],
   "source": [
    "washer_df.groupby(['device_id', 'APCourse']).size().unstack().fillna(0).astype('int')"
   ]
  },
  {
   "cell_type": "code",
   "execution_count": null,
   "metadata": {},
   "outputs": [],
   "source": []
  },
  {
   "cell_type": "code",
   "execution_count": null,
   "metadata": {},
   "outputs": [],
   "source": []
  },
  {
   "cell_type": "markdown",
   "metadata": {},
   "source": [
    "## 3/01_Titanic_for_instructor.ipynb"
   ]
  },
  {
   "cell_type": "markdown",
   "metadata": {},
   "source": [
    "타이타닉호의 생존률 예측"
   ]
  },
  {
   "cell_type": "code",
   "execution_count": 57,
   "metadata": {},
   "outputs": [
    {
     "name": "stdout",
     "output_type": "stream",
     "text": [
      "(891, 11)\n"
     ]
    },
    {
     "data": {
      "text/html": [
       "<div>\n",
       "<style scoped>\n",
       "    .dataframe tbody tr th:only-of-type {\n",
       "        vertical-align: middle;\n",
       "    }\n",
       "\n",
       "    .dataframe tbody tr th {\n",
       "        vertical-align: top;\n",
       "    }\n",
       "\n",
       "    .dataframe thead th {\n",
       "        text-align: right;\n",
       "    }\n",
       "</style>\n",
       "<table border=\"1\" class=\"dataframe\">\n",
       "  <thead>\n",
       "    <tr style=\"text-align: right;\">\n",
       "      <th></th>\n",
       "      <th>Survived</th>\n",
       "      <th>Pclass</th>\n",
       "      <th>Name</th>\n",
       "      <th>Sex</th>\n",
       "      <th>Age</th>\n",
       "      <th>SibSp</th>\n",
       "      <th>Parch</th>\n",
       "      <th>Ticket</th>\n",
       "      <th>Fare</th>\n",
       "      <th>Cabin</th>\n",
       "      <th>Embarked</th>\n",
       "    </tr>\n",
       "    <tr>\n",
       "      <th>PassengerId</th>\n",
       "      <th></th>\n",
       "      <th></th>\n",
       "      <th></th>\n",
       "      <th></th>\n",
       "      <th></th>\n",
       "      <th></th>\n",
       "      <th></th>\n",
       "      <th></th>\n",
       "      <th></th>\n",
       "      <th></th>\n",
       "      <th></th>\n",
       "    </tr>\n",
       "  </thead>\n",
       "  <tbody>\n",
       "    <tr>\n",
       "      <th>1</th>\n",
       "      <td>0</td>\n",
       "      <td>3</td>\n",
       "      <td>Braund, Mr. Owen Harris</td>\n",
       "      <td>male</td>\n",
       "      <td>22.0</td>\n",
       "      <td>1</td>\n",
       "      <td>0</td>\n",
       "      <td>A/5 21171</td>\n",
       "      <td>7.2500</td>\n",
       "      <td>NaN</td>\n",
       "      <td>S</td>\n",
       "    </tr>\n",
       "    <tr>\n",
       "      <th>2</th>\n",
       "      <td>1</td>\n",
       "      <td>1</td>\n",
       "      <td>Cumings, Mrs. John Bradley (Florence Briggs Th...</td>\n",
       "      <td>female</td>\n",
       "      <td>38.0</td>\n",
       "      <td>1</td>\n",
       "      <td>0</td>\n",
       "      <td>PC 17599</td>\n",
       "      <td>71.2833</td>\n",
       "      <td>C85</td>\n",
       "      <td>C</td>\n",
       "    </tr>\n",
       "    <tr>\n",
       "      <th>3</th>\n",
       "      <td>1</td>\n",
       "      <td>3</td>\n",
       "      <td>Heikkinen, Miss. Laina</td>\n",
       "      <td>female</td>\n",
       "      <td>26.0</td>\n",
       "      <td>0</td>\n",
       "      <td>0</td>\n",
       "      <td>STON/O2. 3101282</td>\n",
       "      <td>7.9250</td>\n",
       "      <td>NaN</td>\n",
       "      <td>S</td>\n",
       "    </tr>\n",
       "    <tr>\n",
       "      <th>4</th>\n",
       "      <td>1</td>\n",
       "      <td>1</td>\n",
       "      <td>Futrelle, Mrs. Jacques Heath (Lily May Peel)</td>\n",
       "      <td>female</td>\n",
       "      <td>35.0</td>\n",
       "      <td>1</td>\n",
       "      <td>0</td>\n",
       "      <td>113803</td>\n",
       "      <td>53.1000</td>\n",
       "      <td>C123</td>\n",
       "      <td>S</td>\n",
       "    </tr>\n",
       "    <tr>\n",
       "      <th>5</th>\n",
       "      <td>0</td>\n",
       "      <td>3</td>\n",
       "      <td>Allen, Mr. William Henry</td>\n",
       "      <td>male</td>\n",
       "      <td>35.0</td>\n",
       "      <td>0</td>\n",
       "      <td>0</td>\n",
       "      <td>373450</td>\n",
       "      <td>8.0500</td>\n",
       "      <td>NaN</td>\n",
       "      <td>S</td>\n",
       "    </tr>\n",
       "  </tbody>\n",
       "</table>\n",
       "</div>"
      ],
      "text/plain": [
       "             Survived  Pclass  \\\n",
       "PassengerId                     \n",
       "1                   0       3   \n",
       "2                   1       1   \n",
       "3                   1       3   \n",
       "4                   1       1   \n",
       "5                   0       3   \n",
       "\n",
       "                                                          Name     Sex   Age  \\\n",
       "PassengerId                                                                    \n",
       "1                                      Braund, Mr. Owen Harris    male  22.0   \n",
       "2            Cumings, Mrs. John Bradley (Florence Briggs Th...  female  38.0   \n",
       "3                                       Heikkinen, Miss. Laina  female  26.0   \n",
       "4                 Futrelle, Mrs. Jacques Heath (Lily May Peel)  female  35.0   \n",
       "5                                     Allen, Mr. William Henry    male  35.0   \n",
       "\n",
       "             SibSp  Parch            Ticket     Fare Cabin Embarked  \n",
       "PassengerId                                                          \n",
       "1                1      0         A/5 21171   7.2500   NaN        S  \n",
       "2                1      0          PC 17599  71.2833   C85        C  \n",
       "3                0      0  STON/O2. 3101282   7.9250   NaN        S  \n",
       "4                1      0            113803  53.1000  C123        S  \n",
       "5                0      0            373450   8.0500   NaN        S  "
      ]
     },
     "execution_count": 57,
     "metadata": {},
     "output_type": "execute_result"
    }
   ],
   "source": [
    "train_df = pd.read_csv('LG_Python_Lecture_for_student_181010/3/data/titanic/titanic_train.csv',\n",
    "                       index_col='PassengerId')\n",
    "print(train_df.shape)\n",
    "train_df.head()"
   ]
  },
  {
   "cell_type": "code",
   "execution_count": 58,
   "metadata": {},
   "outputs": [
    {
     "name": "stdout",
     "output_type": "stream",
     "text": [
      "(418, 10)\n"
     ]
    },
    {
     "data": {
      "text/html": [
       "<div>\n",
       "<style scoped>\n",
       "    .dataframe tbody tr th:only-of-type {\n",
       "        vertical-align: middle;\n",
       "    }\n",
       "\n",
       "    .dataframe tbody tr th {\n",
       "        vertical-align: top;\n",
       "    }\n",
       "\n",
       "    .dataframe thead th {\n",
       "        text-align: right;\n",
       "    }\n",
       "</style>\n",
       "<table border=\"1\" class=\"dataframe\">\n",
       "  <thead>\n",
       "    <tr style=\"text-align: right;\">\n",
       "      <th></th>\n",
       "      <th>Pclass</th>\n",
       "      <th>Name</th>\n",
       "      <th>Sex</th>\n",
       "      <th>Age</th>\n",
       "      <th>SibSp</th>\n",
       "      <th>Parch</th>\n",
       "      <th>Ticket</th>\n",
       "      <th>Fare</th>\n",
       "      <th>Cabin</th>\n",
       "      <th>Embarked</th>\n",
       "    </tr>\n",
       "    <tr>\n",
       "      <th>PassengerId</th>\n",
       "      <th></th>\n",
       "      <th></th>\n",
       "      <th></th>\n",
       "      <th></th>\n",
       "      <th></th>\n",
       "      <th></th>\n",
       "      <th></th>\n",
       "      <th></th>\n",
       "      <th></th>\n",
       "      <th></th>\n",
       "    </tr>\n",
       "  </thead>\n",
       "  <tbody>\n",
       "    <tr>\n",
       "      <th>892</th>\n",
       "      <td>3</td>\n",
       "      <td>Kelly, Mr. James</td>\n",
       "      <td>male</td>\n",
       "      <td>34.5</td>\n",
       "      <td>0</td>\n",
       "      <td>0</td>\n",
       "      <td>330911</td>\n",
       "      <td>7.8292</td>\n",
       "      <td>NaN</td>\n",
       "      <td>Q</td>\n",
       "    </tr>\n",
       "    <tr>\n",
       "      <th>893</th>\n",
       "      <td>3</td>\n",
       "      <td>Wilkes, Mrs. James (Ellen Needs)</td>\n",
       "      <td>female</td>\n",
       "      <td>47.0</td>\n",
       "      <td>1</td>\n",
       "      <td>0</td>\n",
       "      <td>363272</td>\n",
       "      <td>7.0000</td>\n",
       "      <td>NaN</td>\n",
       "      <td>S</td>\n",
       "    </tr>\n",
       "    <tr>\n",
       "      <th>894</th>\n",
       "      <td>2</td>\n",
       "      <td>Myles, Mr. Thomas Francis</td>\n",
       "      <td>male</td>\n",
       "      <td>62.0</td>\n",
       "      <td>0</td>\n",
       "      <td>0</td>\n",
       "      <td>240276</td>\n",
       "      <td>9.6875</td>\n",
       "      <td>NaN</td>\n",
       "      <td>Q</td>\n",
       "    </tr>\n",
       "    <tr>\n",
       "      <th>895</th>\n",
       "      <td>3</td>\n",
       "      <td>Wirz, Mr. Albert</td>\n",
       "      <td>male</td>\n",
       "      <td>27.0</td>\n",
       "      <td>0</td>\n",
       "      <td>0</td>\n",
       "      <td>315154</td>\n",
       "      <td>8.6625</td>\n",
       "      <td>NaN</td>\n",
       "      <td>S</td>\n",
       "    </tr>\n",
       "    <tr>\n",
       "      <th>896</th>\n",
       "      <td>3</td>\n",
       "      <td>Hirvonen, Mrs. Alexander (Helga E Lindqvist)</td>\n",
       "      <td>female</td>\n",
       "      <td>22.0</td>\n",
       "      <td>1</td>\n",
       "      <td>1</td>\n",
       "      <td>3101298</td>\n",
       "      <td>12.2875</td>\n",
       "      <td>NaN</td>\n",
       "      <td>S</td>\n",
       "    </tr>\n",
       "  </tbody>\n",
       "</table>\n",
       "</div>"
      ],
      "text/plain": [
       "             Pclass                                          Name     Sex  \\\n",
       "PassengerId                                                                 \n",
       "892               3                              Kelly, Mr. James    male   \n",
       "893               3              Wilkes, Mrs. James (Ellen Needs)  female   \n",
       "894               2                     Myles, Mr. Thomas Francis    male   \n",
       "895               3                              Wirz, Mr. Albert    male   \n",
       "896               3  Hirvonen, Mrs. Alexander (Helga E Lindqvist)  female   \n",
       "\n",
       "              Age  SibSp  Parch   Ticket     Fare Cabin Embarked  \n",
       "PassengerId                                                       \n",
       "892          34.5      0      0   330911   7.8292   NaN        Q  \n",
       "893          47.0      1      0   363272   7.0000   NaN        S  \n",
       "894          62.0      0      0   240276   9.6875   NaN        Q  \n",
       "895          27.0      0      0   315154   8.6625   NaN        S  \n",
       "896          22.0      1      1  3101298  12.2875   NaN        S  "
      ]
     },
     "execution_count": 58,
     "metadata": {},
     "output_type": "execute_result"
    }
   ],
   "source": [
    "test_df = pd.read_csv('LG_Python_Lecture_for_student_181010/3/data/titanic/titanic_test.csv',\n",
    "                      index_col='PassengerId')\n",
    "print(test_df.shape)\n",
    "test_df.head()"
   ]
  },
  {
   "cell_type": "code",
   "execution_count": null,
   "metadata": {},
   "outputs": [],
   "source": []
  },
  {
   "cell_type": "code",
   "execution_count": 59,
   "metadata": {},
   "outputs": [
    {
     "name": "stdout",
     "output_type": "stream",
     "text": [
      "<class 'pandas.core.frame.DataFrame'>\n",
      "Int64Index: 891 entries, 1 to 891\n",
      "Data columns (total 11 columns):\n",
      "Survived    891 non-null int64\n",
      "Pclass      891 non-null int64\n",
      "Name        891 non-null object\n",
      "Sex         891 non-null object\n",
      "Age         714 non-null float64\n",
      "SibSp       891 non-null int64\n",
      "Parch       891 non-null int64\n",
      "Ticket      891 non-null object\n",
      "Fare        891 non-null float64\n",
      "Cabin       204 non-null object\n",
      "Embarked    889 non-null object\n",
      "dtypes: float64(2), int64(4), object(5)\n",
      "memory usage: 83.5+ KB\n"
     ]
    }
   ],
   "source": [
    "train_df.info()"
   ]
  },
  {
   "cell_type": "code",
   "execution_count": 60,
   "metadata": {},
   "outputs": [
    {
     "name": "stdout",
     "output_type": "stream",
     "text": [
      "<class 'pandas.core.frame.DataFrame'>\n",
      "Int64Index: 418 entries, 892 to 1309\n",
      "Data columns (total 10 columns):\n",
      "Pclass      418 non-null int64\n",
      "Name        418 non-null object\n",
      "Sex         418 non-null object\n",
      "Age         332 non-null float64\n",
      "SibSp       418 non-null int64\n",
      "Parch       418 non-null int64\n",
      "Ticket      418 non-null object\n",
      "Fare        417 non-null float64\n",
      "Cabin       91 non-null object\n",
      "Embarked    418 non-null object\n",
      "dtypes: float64(2), int64(3), object(5)\n",
      "memory usage: 35.9+ KB\n"
     ]
    }
   ],
   "source": [
    "test_df.info()"
   ]
  },
  {
   "cell_type": "markdown",
   "metadata": {},
   "source": [
    "케글 타이타닉 페이지에서 각 필드 정보를 살펴봅시다."
   ]
  },
  {
   "cell_type": "markdown",
   "metadata": {},
   "source": [
    "### 변수 간 상관관계는 어느 정도일까?\n",
    "\n",
    "상관계수(Correlation Coefficient)\n",
    "\n",
    "+ 두 변수간에 어떤 선형적 관계를 갖고 있는 지를 분석하는 방법이다.\n",
    "+ 두 변수는 서로 독립적인 관계로부터 서로 상관된 관계일 수 있으며 이때 두 변수간의 관계의 강도를 상관관계(Correlation, Correlation coefficient)라 한다."
   ]
  },
  {
   "cell_type": "code",
   "execution_count": 61,
   "metadata": {},
   "outputs": [
    {
     "data": {
      "text/html": [
       "<div>\n",
       "<style scoped>\n",
       "    .dataframe tbody tr th:only-of-type {\n",
       "        vertical-align: middle;\n",
       "    }\n",
       "\n",
       "    .dataframe tbody tr th {\n",
       "        vertical-align: top;\n",
       "    }\n",
       "\n",
       "    .dataframe thead th {\n",
       "        text-align: right;\n",
       "    }\n",
       "</style>\n",
       "<table border=\"1\" class=\"dataframe\">\n",
       "  <thead>\n",
       "    <tr style=\"text-align: right;\">\n",
       "      <th></th>\n",
       "      <th>Survived</th>\n",
       "      <th>Pclass</th>\n",
       "      <th>SibSp</th>\n",
       "      <th>Parch</th>\n",
       "      <th>Age</th>\n",
       "      <th>Fare</th>\n",
       "    </tr>\n",
       "  </thead>\n",
       "  <tbody>\n",
       "    <tr>\n",
       "      <th>Survived</th>\n",
       "      <td>1.000000</td>\n",
       "      <td>-0.338481</td>\n",
       "      <td>-0.035322</td>\n",
       "      <td>0.081629</td>\n",
       "      <td>-0.077221</td>\n",
       "      <td>0.257307</td>\n",
       "    </tr>\n",
       "    <tr>\n",
       "      <th>Pclass</th>\n",
       "      <td>-0.338481</td>\n",
       "      <td>1.000000</td>\n",
       "      <td>0.083081</td>\n",
       "      <td>0.018443</td>\n",
       "      <td>-0.369226</td>\n",
       "      <td>-0.549500</td>\n",
       "    </tr>\n",
       "    <tr>\n",
       "      <th>SibSp</th>\n",
       "      <td>-0.035322</td>\n",
       "      <td>0.083081</td>\n",
       "      <td>1.000000</td>\n",
       "      <td>0.414838</td>\n",
       "      <td>-0.308247</td>\n",
       "      <td>0.159651</td>\n",
       "    </tr>\n",
       "    <tr>\n",
       "      <th>Parch</th>\n",
       "      <td>0.081629</td>\n",
       "      <td>0.018443</td>\n",
       "      <td>0.414838</td>\n",
       "      <td>1.000000</td>\n",
       "      <td>-0.189119</td>\n",
       "      <td>0.216225</td>\n",
       "    </tr>\n",
       "    <tr>\n",
       "      <th>Age</th>\n",
       "      <td>-0.077221</td>\n",
       "      <td>-0.369226</td>\n",
       "      <td>-0.308247</td>\n",
       "      <td>-0.189119</td>\n",
       "      <td>1.000000</td>\n",
       "      <td>0.096067</td>\n",
       "    </tr>\n",
       "    <tr>\n",
       "      <th>Fare</th>\n",
       "      <td>0.257307</td>\n",
       "      <td>-0.549500</td>\n",
       "      <td>0.159651</td>\n",
       "      <td>0.216225</td>\n",
       "      <td>0.096067</td>\n",
       "      <td>1.000000</td>\n",
       "    </tr>\n",
       "  </tbody>\n",
       "</table>\n",
       "</div>"
      ],
      "text/plain": [
       "          Survived    Pclass     SibSp     Parch       Age      Fare\n",
       "Survived  1.000000 -0.338481 -0.035322  0.081629 -0.077221  0.257307\n",
       "Pclass   -0.338481  1.000000  0.083081  0.018443 -0.369226 -0.549500\n",
       "SibSp    -0.035322  0.083081  1.000000  0.414838 -0.308247  0.159651\n",
       "Parch     0.081629  0.018443  0.414838  1.000000 -0.189119  0.216225\n",
       "Age      -0.077221 -0.369226 -0.308247 -0.189119  1.000000  0.096067\n",
       "Fare      0.257307 -0.549500  0.159651  0.216225  0.096067  1.000000"
      ]
     },
     "execution_count": 61,
     "metadata": {},
     "output_type": "execute_result"
    }
   ],
   "source": [
    "names = [\"Survived\", \"Pclass\", \"SibSp\", \"Parch\", \"Age\", \"Fare\"]\n",
    "train_df[names].corr()"
   ]
  },
  {
   "cell_type": "code",
   "execution_count": 62,
   "metadata": {},
   "outputs": [
    {
     "data": {
      "image/png": "[encoded data removed]",
      "text/plain": [
       "<Figure size 432x288 with 2 Axes>"
      ]
     },
     "metadata": {
      "needs_background": "light"
     },
     "output_type": "display_data"
    }
   ],
   "source": [
    "import seaborn as sns\n",
    "\n",
    "sns.heatmap(\n",
    "    train_df[[\"Survived\", \"Pclass\", \"SibSp\", \"Parch\", \"Age\", \"Fare\"]].corr(),  # value\n",
    "    annot=True,  # 주석 (annotation)\n",
    "    fmt=\".2f\",  # format (f: float)\n",
    "    cmap=\"coolwarm\"  # color\n",
    ");"
   ]
  },
  {
   "cell_type": "code",
   "execution_count": null,
   "metadata": {},
   "outputs": [],
   "source": []
  },
  {
   "cell_type": "code",
   "execution_count": 63,
   "metadata": {},
   "outputs": [
    {
     "data": {
      "text/plain": [
       "S    644\n",
       "C    168\n",
       "Q     77\n",
       "Name: Embarked, dtype: int64"
      ]
     },
     "execution_count": 63,
     "metadata": {},
     "output_type": "execute_result"
    }
   ],
   "source": [
    "# S: Southampton\n",
    "# C: Cherbourg\n",
    "# Q: Queenstown\n",
    "train_df['Embarked'].value_counts()"
   ]
  },
  {
   "cell_type": "code",
   "execution_count": null,
   "metadata": {},
   "outputs": [],
   "source": []
  },
  {
   "cell_type": "code",
   "execution_count": 64,
   "metadata": {},
   "outputs": [
    {
     "data": {
      "image/png": "[encoded data removed]",
      "text/plain": [
       "<Figure size 432x288 with 1 Axes>"
      ]
     },
     "metadata": {
      "needs_background": "light"
     },
     "output_type": "display_data"
    }
   ],
   "source": [
    "sns.countplot('Embarked', data=train_df);"
   ]
  },
  {
   "cell_type": "code",
   "execution_count": 65,
   "metadata": {},
   "outputs": [
    {
     "data": {
      "text/plain": [
       "Text(0,0.5,'count')"
      ]
     },
     "execution_count": 65,
     "metadata": {},
     "output_type": "execute_result"
    },
    {
     "data": {
      "image/png": "[encoded data removed]",
      "text/plain": [
       "<Figure size 432x288 with 1 Axes>"
      ]
     },
     "metadata": {
      "needs_background": "light"
     },
     "output_type": "display_data"
    }
   ],
   "source": [
    "ax = train_df['Embarked'].value_counts().plot(kind='bar', rot=0)\n",
    "ax.set_xlabel('Embarked')\n",
    "ax.set_ylabel('count')"
   ]
  },
  {
   "cell_type": "markdown",
   "metadata": {},
   "source": [
    "<div class=\"alert alert-warning\">\n",
    "Embarked 컬럼의 결측치를 채워보자.\n",
    "</div>"
   ]
  },
  {
   "cell_type": "code",
   "execution_count": 66,
   "metadata": {},
   "outputs": [
    {
     "data": {
      "text/plain": [
       "Survived    False\n",
       "Pclass      False\n",
       "Name        False\n",
       "Sex         False\n",
       "Age          True\n",
       "SibSp       False\n",
       "Parch       False\n",
       "Ticket      False\n",
       "Fare        False\n",
       "Cabin        True\n",
       "Embarked     True\n",
       "dtype: bool"
      ]
     },
     "execution_count": 66,
     "metadata": {},
     "output_type": "execute_result"
    }
   ],
   "source": [
    "train_df.isnull().any()"
   ]
  },
  {
   "cell_type": "code",
   "execution_count": 67,
   "metadata": {},
   "outputs": [
    {
     "data": {
      "text/plain": [
       "S    644\n",
       "C    168\n",
       "Q     77\n",
       "Name: Embarked, dtype: int64"
      ]
     },
     "execution_count": 67,
     "metadata": {},
     "output_type": "execute_result"
    }
   ],
   "source": [
    "# Emarked의 결측치를 무엇으로 채우면 좋을까요?\n",
    "train_df['Embarked'].value_counts()"
   ]
  },
  {
   "cell_type": "code",
   "execution_count": 68,
   "metadata": {},
   "outputs": [
    {
     "data": {
      "text/plain": [
       "S    72.278339\n",
       "C    18.855219\n",
       "Q     8.641975\n",
       "Name: Embarked, dtype: float64"
      ]
     },
     "execution_count": 68,
     "metadata": {},
     "output_type": "execute_result"
    }
   ],
   "source": [
    "train_df['Embarked'].value_counts() / train_df.shape[0] * 100"
   ]
  },
  {
   "cell_type": "code",
   "execution_count": 69,
   "metadata": {},
   "outputs": [],
   "source": [
    "train_df['Embarked'] = train_df['Embarked'].fillna('S')"
   ]
  },
  {
   "cell_type": "code",
   "execution_count": 70,
   "metadata": {},
   "outputs": [
    {
     "data": {
      "text/plain": [
       "False"
      ]
     },
     "execution_count": 70,
     "metadata": {},
     "output_type": "execute_result"
    }
   ],
   "source": [
    "train_df['Embarked'].isnull().any()"
   ]
  },
  {
   "cell_type": "markdown",
   "metadata": {},
   "source": [
    "https://seaborn.pydata.org/generated/seaborn.countplot.html\n",
    "\n",
    "우리의 목표인 생존율(Survived)과 Embarked를 함께 비교해볼 때 hue라는 파라미터를 이용하면 쉽게 비교가 가능합니다."
   ]
  },
  {
   "cell_type": "code",
   "execution_count": 71,
   "metadata": {},
   "outputs": [
    {
     "data": {
      "text/plain": [
       "<matplotlib.axes._subplots.AxesSubplot at 0x1a1e618748>"
      ]
     },
     "execution_count": 71,
     "metadata": {},
     "output_type": "execute_result"
    },
    {
     "data": {
      "image/png": "[encoded data removed]",
      "text/plain": [
       "<Figure size 432x288 with 1 Axes>"
      ]
     },
     "metadata": {
      "needs_background": "light"
     },
     "output_type": "display_data"
    }
   ],
   "source": [
    "sns.countplot('Embarked', hue='Survived', data=train_df)"
   ]
  },
  {
   "cell_type": "code",
   "execution_count": 72,
   "metadata": {},
   "outputs": [
    {
     "data": {
      "image/png": "[encoded data removed]",
      "text/plain": [
       "<Figure size 360x360 with 1 Axes>"
      ]
     },
     "metadata": {
      "needs_background": "light"
     },
     "output_type": "display_data"
    }
   ],
   "source": [
    "sns.catplot('Embarked', 'Survived', data=train_df);"
   ]
  },
  {
   "cell_type": "markdown",
   "metadata": {},
   "source": [
    "<div class=\"alert alert-warning\">\n",
    "Age 컬럼의 결측치를 채워보자.\n",
    "</div>"
   ]
  },
  {
   "cell_type": "code",
   "execution_count": 73,
   "metadata": {},
   "outputs": [
    {
     "data": {
      "text/plain": [
       "177"
      ]
     },
     "execution_count": 73,
     "metadata": {},
     "output_type": "execute_result"
    }
   ],
   "source": [
    "train_df['Age'].isnull().sum()"
   ]
  },
  {
   "cell_type": "code",
   "execution_count": 74,
   "metadata": {},
   "outputs": [
    {
     "data": {
      "text/plain": [
       "19.865319865319865"
      ]
     },
     "execution_count": 74,
     "metadata": {},
     "output_type": "execute_result"
    }
   ],
   "source": [
    "train_df['Age'].isnull().sum() / len(train_df['Age']) * 100"
   ]
  },
  {
   "cell_type": "code",
   "execution_count": 75,
   "metadata": {},
   "outputs": [
    {
     "data": {
      "image/png": "[encoded data removed]",
      "text/plain": [
       "<Figure size 432x288 with 1 Axes>"
      ]
     },
     "metadata": {
      "needs_background": "light"
     },
     "output_type": "display_data"
    }
   ],
   "source": [
    "train_df['Age'].hist(bins=40);"
   ]
  },
  {
   "cell_type": "markdown",
   "metadata": {},
   "source": [
    "여러가지 컬럼값을 하나의 그래프로 나타내는 방법들도 존재한다!"
   ]
  },
  {
   "cell_type": "code",
   "execution_count": 76,
   "metadata": {},
   "outputs": [
    {
     "name": "stderr",
     "output_type": "stream",
     "text": [
      "/anaconda3/lib/python3.6/site-packages/scipy/stats/stats.py:1713: FutureWarning: Using a non-tuple sequence for multidimensional indexing is deprecated; use `arr[tuple(seq)]` instead of `arr[seq]`. In the future this will be interpreted as an array index, `arr[np.array(seq)]`, which will result either in an error or a different result.\n",
      "  return np.add.reduce(sorted[indexer] * weights, axis=axis) / sumval\n"
     ]
    },
    {
     "data": {
      "text/plain": [
       "<matplotlib.axes._subplots.AxesSubplot at 0x1a1e49bbe0>"
      ]
     },
     "execution_count": 76,
     "metadata": {},
     "output_type": "execute_result"
    },
    {
     "data": {
      "image/png": "[encoded data removed]",
      "text/plain": [
       "<Figure size 432x288 with 1 Axes>"
      ]
     },
     "metadata": {
      "needs_background": "light"
     },
     "output_type": "display_data"
    }
   ],
   "source": [
    "sns.violinplot('Pclass', \n",
    "               'Age', \n",
    "               hue='Survived', \n",
    "               data=train_df, \n",
    "               split=True)"
   ]
  },
  {
   "cell_type": "markdown",
   "metadata": {},
   "source": [
    "<div class=\"alert alert-info\">\n",
    "다양한 시각화 방법이 존재한다.\n",
    "</div>"
   ]
  },
  {
   "cell_type": "code",
   "execution_count": 77,
   "metadata": {},
   "outputs": [
    {
     "data": {
      "text/html": [
       "<div>\n",
       "<style scoped>\n",
       "    .dataframe tbody tr th:only-of-type {\n",
       "        vertical-align: middle;\n",
       "    }\n",
       "\n",
       "    .dataframe tbody tr th {\n",
       "        vertical-align: top;\n",
       "    }\n",
       "\n",
       "    .dataframe thead th {\n",
       "        text-align: right;\n",
       "    }\n",
       "</style>\n",
       "<table border=\"1\" class=\"dataframe\">\n",
       "  <thead>\n",
       "    <tr style=\"text-align: right;\">\n",
       "      <th>Survived</th>\n",
       "      <th>0</th>\n",
       "      <th>1</th>\n",
       "      <th>All</th>\n",
       "    </tr>\n",
       "    <tr>\n",
       "      <th>Pclass</th>\n",
       "      <th></th>\n",
       "      <th></th>\n",
       "      <th></th>\n",
       "    </tr>\n",
       "  </thead>\n",
       "  <tbody>\n",
       "    <tr>\n",
       "      <th>1</th>\n",
       "      <td>80</td>\n",
       "      <td>136</td>\n",
       "      <td>216</td>\n",
       "    </tr>\n",
       "    <tr>\n",
       "      <th>2</th>\n",
       "      <td>97</td>\n",
       "      <td>87</td>\n",
       "      <td>184</td>\n",
       "    </tr>\n",
       "    <tr>\n",
       "      <th>3</th>\n",
       "      <td>372</td>\n",
       "      <td>119</td>\n",
       "      <td>491</td>\n",
       "    </tr>\n",
       "    <tr>\n",
       "      <th>All</th>\n",
       "      <td>549</td>\n",
       "      <td>342</td>\n",
       "      <td>891</td>\n",
       "    </tr>\n",
       "  </tbody>\n",
       "</table>\n",
       "</div>"
      ],
      "text/plain": [
       "Survived    0    1  All\n",
       "Pclass                 \n",
       "1          80  136  216\n",
       "2          97   87  184\n",
       "3         372  119  491\n",
       "All       549  342  891"
      ]
     },
     "execution_count": 77,
     "metadata": {},
     "output_type": "execute_result"
    }
   ],
   "source": [
    "# Confusion matrix : https://pandas.pydata.org/pandas-docs/stable/generated/pandas.crosstab.html\n",
    "pd.crosstab(train_df['Pclass'], train_df['Survived'], margins=True)"
   ]
  },
  {
   "cell_type": "code",
   "execution_count": 78,
   "metadata": {},
   "outputs": [
    {
     "data": {
      "text/plain": [
       "Text(0.5,1,'Pclass:Survived vs Dead')"
      ]
     },
     "execution_count": 78,
     "metadata": {},
     "output_type": "execute_result"
    },
    {
     "data": {
      "image/png": "[encoded data removed]",
      "text/plain": [
       "<Figure size 864x576 with 2 Axes>"
      ]
     },
     "metadata": {
      "needs_background": "light"
     },
     "output_type": "display_data"
    }
   ],
   "source": [
    "fig, ax = plt.subplots(1, 2, figsize=(12, 8))\n",
    "\n",
    "# 0\n",
    "train_df['Pclass'].value_counts().plot(kind='bar', ax=ax[0])\n",
    "ax[0].set_title('Pclass별 승객수')\n",
    "ax[0].set_ylabel('Count')\n",
    "\n",
    "# 1\n",
    "sns.countplot('Pclass', hue='Survived', data=train_df, ax=ax[1])\n",
    "ax[1].set_title('Pclass:Survived vs Dead')"
   ]
  },
  {
   "cell_type": "markdown",
   "metadata": {},
   "source": [
    "<div class=\"alert alert-info\">\n",
    "Q: 탑승항('Embarked')을 기준으로 승객을 분류하여, 각각의 승객의 나이에 따른 생존 여부를 violinplot 그래프를 이용해서 표현해보자.\n",
    "\n",
    "탑승항에 따른 생존율의 차이가 나타나는가?\n",
    "\n",
    "=> Exp(탐험적) Data Analysis\n",
    "</div>"
   ]
  },
  {
   "cell_type": "code",
   "execution_count": 79,
   "metadata": {},
   "outputs": [
    {
     "data": {
      "image/png": "[encoded data removed]",
      "text/plain": [
       "<Figure size 432x288 with 1 Axes>"
      ]
     },
     "metadata": {
      "needs_background": "light"
     },
     "output_type": "display_data"
    }
   ],
   "source": [
    "sns.violinplot(\n",
    "    'Embarked',\n",
    "    'Age', \n",
    "    hue='Survived', \n",
    "    data=train_df, \n",
    "    split=True, \n",
    "    inner=\"quartile\");  # 25%, 50%, 75%"
   ]
  },
  {
   "cell_type": "markdown",
   "metadata": {},
   "source": [
    "<div class=\"alert alert-info\">\n",
    "Q: 성별('Sex')을 기준으로 승객을 분류하여 각각의 승객의 나이에 따른 생존 여부를 그래프로 표현해보자.\n",
    "\n",
    "성별에 따른 생존율의 차이가 나타나는가?\n",
    "</div>"
   ]
  },
  {
   "cell_type": "code",
   "execution_count": 80,
   "metadata": {},
   "outputs": [
    {
     "data": {
      "image/png": "[encoded data removed]",
      "text/plain": [
       "<Figure size 432x288 with 1 Axes>"
      ]
     },
     "metadata": {
      "needs_background": "light"
     },
     "output_type": "display_data"
    }
   ],
   "source": [
    "sns.violinplot(\n",
    "    'Sex', \n",
    "    'Age', \n",
    "    hue='Survived', data=train_df, split=True, inner=\"quartile\");"
   ]
  },
  {
   "cell_type": "markdown",
   "metadata": {},
   "source": [
    "<div class=\"alert alert-info\">\n",
    "Q. 성별('Sex')에 따른 승객의 생존자 수를 crosstab으로 표현해보자. 성별에 따른 생존율의 차이가 나타나는가?\n",
    "</div>"
   ]
  },
  {
   "cell_type": "code",
   "execution_count": 81,
   "metadata": {},
   "outputs": [
    {
     "data": {
      "text/html": [
       "<div>\n",
       "<style scoped>\n",
       "    .dataframe tbody tr th:only-of-type {\n",
       "        vertical-align: middle;\n",
       "    }\n",
       "\n",
       "    .dataframe tbody tr th {\n",
       "        vertical-align: top;\n",
       "    }\n",
       "\n",
       "    .dataframe thead th {\n",
       "        text-align: right;\n",
       "    }\n",
       "</style>\n",
       "<table border=\"1\" class=\"dataframe\">\n",
       "  <thead>\n",
       "    <tr style=\"text-align: right;\">\n",
       "      <th>Survived</th>\n",
       "      <th>0</th>\n",
       "      <th>1</th>\n",
       "      <th>All</th>\n",
       "    </tr>\n",
       "    <tr>\n",
       "      <th>Sex</th>\n",
       "      <th></th>\n",
       "      <th></th>\n",
       "      <th></th>\n",
       "    </tr>\n",
       "  </thead>\n",
       "  <tbody>\n",
       "    <tr>\n",
       "      <th>female</th>\n",
       "      <td>81</td>\n",
       "      <td>233</td>\n",
       "      <td>314</td>\n",
       "    </tr>\n",
       "    <tr>\n",
       "      <th>male</th>\n",
       "      <td>468</td>\n",
       "      <td>109</td>\n",
       "      <td>577</td>\n",
       "    </tr>\n",
       "    <tr>\n",
       "      <th>All</th>\n",
       "      <td>549</td>\n",
       "      <td>342</td>\n",
       "      <td>891</td>\n",
       "    </tr>\n",
       "  </tbody>\n",
       "</table>\n",
       "</div>"
      ],
      "text/plain": [
       "Survived    0    1  All\n",
       "Sex                    \n",
       "female     81  233  314\n",
       "male      468  109  577\n",
       "All       549  342  891"
      ]
     },
     "execution_count": 81,
     "metadata": {},
     "output_type": "execute_result"
    }
   ],
   "source": [
    "pd.crosstab(train_df['Sex'], train_df['Survived'], margins=True)"
   ]
  },
  {
   "cell_type": "markdown",
   "metadata": {},
   "source": [
    "<div class=\"alert alert-info\">\n",
    "Q. Age의 결측치를 어떻게 채우는 것이 좋을까? 주어진 데이터를 활용하여 결측치를 채우는 방법을 토론해보자.\n",
    "</div>"
   ]
  },
  {
   "cell_type": "code",
   "execution_count": 82,
   "metadata": {},
   "outputs": [
    {
     "data": {
      "text/plain": [
       "29.69911764705882"
      ]
     },
     "execution_count": 82,
     "metadata": {},
     "output_type": "execute_result"
    }
   ],
   "source": [
    "# 평균?\n",
    "train_df['Age'].mean()"
   ]
  },
  {
   "cell_type": "code",
   "execution_count": 83,
   "metadata": {},
   "outputs": [
    {
     "data": {
      "text/plain": [
       "28.0"
      ]
     },
     "execution_count": 83,
     "metadata": {},
     "output_type": "execute_result"
    }
   ],
   "source": [
    "# 중앙값?\n",
    "train_df['Age'].median()"
   ]
  },
  {
   "cell_type": "code",
   "execution_count": 84,
   "metadata": {},
   "outputs": [
    {
     "data": {
      "text/plain": [
       "0    24.0\n",
       "dtype: float64"
      ]
     },
     "execution_count": 84,
     "metadata": {},
     "output_type": "execute_result"
    }
   ],
   "source": [
    "# 최빈값? (가장 자주 나오는 값)\n",
    "train_df['Age'].mode()"
   ]
  },
  {
   "cell_type": "markdown",
   "metadata": {},
   "source": [
    "성별 class별 나이의 중앙값으로 채워서 최대한 데이터의 왜곡이 없도록 하겠습니다!"
   ]
  },
  {
   "cell_type": "markdown",
   "metadata": {},
   "source": [
    "<div class=\"alert alert-info\">\n",
    "성별에 따른 나이차는 없을까?\n",
    "</div>"
   ]
  },
  {
   "cell_type": "code",
   "execution_count": 85,
   "metadata": {},
   "outputs": [
    {
     "data": {
      "text/plain": [
       "30.72664459161148"
      ]
     },
     "execution_count": 85,
     "metadata": {},
     "output_type": "execute_result"
    }
   ],
   "source": [
    "mask = train_df['Sex'] == 'male'\n",
    "train_df.loc[mask, 'Age'].mean()"
   ]
  },
  {
   "cell_type": "code",
   "execution_count": 86,
   "metadata": {},
   "outputs": [
    {
     "data": {
      "text/plain": [
       "27.915708812260537"
      ]
     },
     "execution_count": 86,
     "metadata": {},
     "output_type": "execute_result"
    }
   ],
   "source": [
    "mask = train_df['Sex'] == 'female'\n",
    "train_df.loc[mask, 'Age'].mean()"
   ]
  },
  {
   "cell_type": "markdown",
   "metadata": {},
   "source": [
    "<div class=\"alert alert-info\">\n",
    "Q. 승객의 성별('Sex') 나이의 중앙값을 찾아보자.\n",
    "</div>"
   ]
  },
  {
   "cell_type": "code",
   "execution_count": 87,
   "metadata": {},
   "outputs": [
    {
     "data": {
      "text/plain": [
       "29.0"
      ]
     },
     "execution_count": 87,
     "metadata": {},
     "output_type": "execute_result"
    }
   ],
   "source": [
    "mask = train_df['Sex'] == 'male'\n",
    "train_df.loc[mask, 'Age'].median()"
   ]
  },
  {
   "cell_type": "code",
   "execution_count": 88,
   "metadata": {},
   "outputs": [
    {
     "data": {
      "text/plain": [
       "27.0"
      ]
     },
     "execution_count": 88,
     "metadata": {},
     "output_type": "execute_result"
    }
   ],
   "source": [
    "mask = train_df['Sex'] == 'female'\n",
    "train_df.loc[mask, 'Age'].median()"
   ]
  },
  {
   "cell_type": "markdown",
   "metadata": {},
   "source": [
    "<div class=\"alert alert-info\">\n",
    "Q. 승객의 선실 등급('Pclass')별 나이의 중앙값을 찾아보자.\n",
    "</div>"
   ]
  },
  {
   "cell_type": "code",
   "execution_count": 89,
   "metadata": {},
   "outputs": [
    {
     "data": {
      "text/plain": [
       "3    491\n",
       "1    216\n",
       "2    184\n",
       "Name: Pclass, dtype: int64"
      ]
     },
     "execution_count": 89,
     "metadata": {},
     "output_type": "execute_result"
    }
   ],
   "source": [
    "train_df['Pclass'].value_counts()"
   ]
  },
  {
   "cell_type": "code",
   "execution_count": 90,
   "metadata": {},
   "outputs": [
    {
     "data": {
      "text/plain": [
       "37.0"
      ]
     },
     "execution_count": 90,
     "metadata": {},
     "output_type": "execute_result"
    }
   ],
   "source": [
    "mask = train_df['Pclass'] == 1\n",
    "train_df.loc[mask, 'Age'].median()"
   ]
  },
  {
   "cell_type": "code",
   "execution_count": 91,
   "metadata": {},
   "outputs": [
    {
     "data": {
      "text/plain": [
       "29.0"
      ]
     },
     "execution_count": 91,
     "metadata": {},
     "output_type": "execute_result"
    }
   ],
   "source": [
    "mask = train_df['Pclass'] == 2\n",
    "train_df.loc[mask, 'Age'].median()"
   ]
  },
  {
   "cell_type": "code",
   "execution_count": 92,
   "metadata": {},
   "outputs": [
    {
     "data": {
      "text/plain": [
       "24.0"
      ]
     },
     "execution_count": 92,
     "metadata": {},
     "output_type": "execute_result"
    }
   ],
   "source": [
    "mask = train_df['Pclass'] == 3\n",
    "train_df.loc[mask, 'Age'].median()"
   ]
  },
  {
   "cell_type": "code",
   "execution_count": 93,
   "metadata": {},
   "outputs": [
    {
     "data": {
      "text/plain": [
       "Pclass\n",
       "1    37.0\n",
       "2    29.0\n",
       "3    24.0\n",
       "Name: Age, dtype: float64"
      ]
     },
     "execution_count": 93,
     "metadata": {},
     "output_type": "execute_result"
    }
   ],
   "source": [
    "train_df.groupby('Pclass')['Age'].agg('median')"
   ]
  },
  {
   "cell_type": "markdown",
   "metadata": {},
   "source": [
    "<div class=\"alert alert-info\">\n",
    "Q. 승객의 선실 등급('Pclass')과 성별('Sex)을 둘다 고려하여 분류하고 각각의 나이의 중앙값을 찾아보자. (1등석에 탑승한 여자의 나이의 Median은? 2등석에 탑승한 남자의 나이의 Median은?)\n",
    "</div>"
   ]
  },
  {
   "cell_type": "code",
   "execution_count": 94,
   "metadata": {},
   "outputs": [
    {
     "data": {
      "text/plain": [
       "40.0"
      ]
     },
     "execution_count": 94,
     "metadata": {},
     "output_type": "execute_result"
    }
   ],
   "source": [
    "mask = (train_df['Sex'] == 'male') & (train_df['Pclass'] == 1)\n",
    "train_df.loc[mask, 'Age'].median()"
   ]
  },
  {
   "cell_type": "code",
   "execution_count": 95,
   "metadata": {},
   "outputs": [
    {
     "data": {
      "text/plain": [
       "Sex     Pclass\n",
       "female  1         35.0\n",
       "        2         28.0\n",
       "        3         21.5\n",
       "male    1         40.0\n",
       "        2         30.0\n",
       "        3         25.0\n",
       "Name: Age, dtype: float64"
      ]
     },
     "execution_count": 95,
     "metadata": {},
     "output_type": "execute_result"
    }
   ],
   "source": [
    "age_median_series = train_df.groupby(['Sex', 'Pclass'])['Age'].median()\n",
    "age_median_series"
   ]
  },
  {
   "cell_type": "markdown",
   "metadata": {},
   "source": [
    "<div class=\"alert alert-info\">\n",
    "이 자료를 이용하여 Age의 결측치를 채워보자.\n",
    "</div>"
   ]
  },
  {
   "cell_type": "code",
   "execution_count": 96,
   "metadata": {},
   "outputs": [
    {
     "data": {
      "text/plain": [
       "177"
      ]
     },
     "execution_count": 96,
     "metadata": {},
     "output_type": "execute_result"
    }
   ],
   "source": [
    "train_df['Age'].isnull().sum()  # null -> True 개수"
   ]
  },
  {
   "cell_type": "code",
   "execution_count": 97,
   "metadata": {},
   "outputs": [
    {
     "name": "stdout",
     "output_type": "stream",
     "text": [
      "male 3\n",
      "female 3\n",
      "male 1\n",
      "female 1\n",
      "male 2\n",
      "female 2\n"
     ]
    }
   ],
   "source": [
    "sex_list = train_df['Sex'].unique()\n",
    "pclass_list = train_df['Pclass'].unique()\n",
    "\n",
    "for (sex, pclass) in [(sex, pclass) for pclass in pclass_list for sex in sex_list]:\n",
    "    print(sex, pclass)\n",
    "    mask = train_df['Age'].isnull()\n",
    "    mask &= train_df['Sex'] == sex\n",
    "    mask &= train_df['Pclass'] == pclass\n",
    "\n",
    "    median = age_median_series[sex][pclass]\n",
    "    \n",
    "    train_df.loc[mask, 'Age'] = median"
   ]
  },
  {
   "cell_type": "code",
   "execution_count": 98,
   "metadata": {},
   "outputs": [
    {
     "data": {
      "text/plain": [
       "0"
      ]
     },
     "execution_count": 98,
     "metadata": {},
     "output_type": "execute_result"
    }
   ],
   "source": [
    "train_df['Age'].isnull().sum()  # null -> True 개수"
   ]
  },
  {
   "cell_type": "markdown",
   "metadata": {},
   "source": [
    "<div class=\"alert alert-info\">\n",
    "Q. 같은 방식으로 나머지 결측치도 채워보자.\n",
    "</div>"
   ]
  },
  {
   "cell_type": "code",
   "execution_count": null,
   "metadata": {},
   "outputs": [],
   "source": []
  },
  {
   "cell_type": "code",
   "execution_count": null,
   "metadata": {},
   "outputs": [],
   "source": []
  },
  {
   "cell_type": "code",
   "execution_count": null,
   "metadata": {},
   "outputs": [],
   "source": []
  },
  {
   "cell_type": "markdown",
   "metadata": {},
   "source": [
    "<div class=\"alert alert-info\">\n",
    "Cabin의 결측치를 채우는 방법은 무엇이 있을까?\n",
    "</div>"
   ]
  },
  {
   "cell_type": "code",
   "execution_count": 99,
   "metadata": {},
   "outputs": [
    {
     "data": {
      "text/plain": [
       "count     204\n",
       "unique    147\n",
       "top        G6\n",
       "freq        4\n",
       "Name: Cabin, dtype: object"
      ]
     },
     "execution_count": 99,
     "metadata": {},
     "output_type": "execute_result"
    }
   ],
   "source": [
    "train_df['Cabin'].describe()"
   ]
  },
  {
   "cell_type": "code",
   "execution_count": 100,
   "metadata": {},
   "outputs": [
    {
     "data": {
      "text/plain": [
       "PassengerId\n",
       "851     NaN\n",
       "537     B38\n",
       "2       C85\n",
       "576     NaN\n",
       "253     C87\n",
       "845     NaN\n",
       "554     NaN\n",
       "512     NaN\n",
       "95      NaN\n",
       "673     NaN\n",
       "319      C7\n",
       "841     NaN\n",
       "413     C78\n",
       "454     C92\n",
       "610    C125\n",
       "800     NaN\n",
       "123     NaN\n",
       "18      NaN\n",
       "296     NaN\n",
       "516     D46\n",
       "601     NaN\n",
       "567     NaN\n",
       "649     NaN\n",
       "650     NaN\n",
       "106     NaN\n",
       "848     NaN\n",
       "210     A31\n",
       "878     NaN\n",
       "542     NaN\n",
       "400     NaN\n",
       "Name: Cabin, dtype: object"
      ]
     },
     "execution_count": 100,
     "metadata": {},
     "output_type": "execute_result"
    }
   ],
   "source": [
    "train_df['Cabin'].sample(30)"
   ]
  },
  {
   "cell_type": "code",
   "execution_count": 101,
   "metadata": {},
   "outputs": [
    {
     "data": {
      "text/plain": [
       "(891, 11)"
      ]
     },
     "execution_count": 101,
     "metadata": {},
     "output_type": "execute_result"
    }
   ],
   "source": [
    "train_df.shape"
   ]
  },
  {
   "cell_type": "markdown",
   "metadata": {},
   "source": [
    "<div class=\"alert alert-warning\">\n",
    "Cabin 컬럼을 채우는 것이 의미가 있을까? 채워지는 데이터는 신뢰할 수 있는걸까?\n",
    "</div>"
   ]
  },
  {
   "cell_type": "code",
   "execution_count": null,
   "metadata": {},
   "outputs": [],
   "source": []
  },
  {
   "cell_type": "markdown",
   "metadata": {},
   "source": [
    "<div class=\"alert alert-warning\">\n",
    "Cabin 컬럼을 데이터 프레임에서 제거해보자.\n",
    "</div>"
   ]
  },
  {
   "cell_type": "code",
   "execution_count": null,
   "metadata": {},
   "outputs": [],
   "source": []
  },
  {
   "cell_type": "markdown",
   "metadata": {},
   "source": [
    "<div class=\"alert alert-warning\">\n",
    "생존에 예측에 도움이 되지 않는 다른 컬럼들도 제거해 보자.\n",
    "</div>"
   ]
  },
  {
   "cell_type": "code",
   "execution_count": null,
   "metadata": {},
   "outputs": [],
   "source": []
  },
  {
   "cell_type": "code",
   "execution_count": 102,
   "metadata": {},
   "outputs": [
    {
     "data": {
      "image/png": "[encoded data removed]",
      "text/plain": [
       "<Figure size 432x288 with 2 Axes>"
      ]
     },
     "metadata": {
      "needs_background": "light"
     },
     "output_type": "display_data"
    }
   ],
   "source": [
    "sns.heatmap(\n",
    "    train_df.corr(), \n",
    "    annot=True,\n",
    "    cmap='coolwarm',\n",
    "    linewidths=0.2\n",
    ");"
   ]
  },
  {
   "cell_type": "code",
   "execution_count": 103,
   "metadata": {},
   "outputs": [
    {
     "data": {
      "text/plain": [
       "PassengerId\n",
       "306                       Allison, Master. Hudson Trevor\n",
       "44              Laroche, Miss. Simonne Marie Anne Andree\n",
       "747                          Abbott, Mr. Rossmore Edward\n",
       "814                   Andersson, Miss. Ebba Iris Alfrida\n",
       "413                               Minahan, Miss. Daisy E\n",
       "690                    Madill, Miss. Georgette Alexandra\n",
       "610                            Shutes, Miss. Elizabeth W\n",
       "471                                    Keefe, Mr. Arthur\n",
       "486                               Lefebre, Miss. Jeannie\n",
       "518                                    Ryan, Mr. Patrick\n",
       "630                             O'Connell, Mr. Patrick D\n",
       "386                            Davies, Mr. Charles Henry\n",
       "14                           Andersson, Mr. Anders Johan\n",
       "834                               Augustsson, Mr. Albert\n",
       "401                                   Niskanen, Mr. Juha\n",
       "455                                  Peduzzi, Mr. Joseph\n",
       "395    Sandstrom, Mrs. Hjalmar (Agnes Charlotta Bengt...\n",
       "382                          Nakid, Miss. Maria (\"Mary\")\n",
       "172                                 Rice, Master. Arthur\n",
       "361                                   Skoog, Mr. Wilhelm\n",
       "Name: Name, dtype: object"
      ]
     },
     "execution_count": 103,
     "metadata": {},
     "output_type": "execute_result"
    }
   ],
   "source": [
    "train_df['Name'].sample(20)"
   ]
  },
  {
   "cell_type": "code",
   "execution_count": null,
   "metadata": {},
   "outputs": [],
   "source": []
  },
  {
   "cell_type": "markdown",
   "metadata": {},
   "source": [
    "<div class=\"alert alert-warning\">\n",
    "Q. Name 컬럼의 정보들이 정말 예측에 도움이 되지 않을까?\n",
    "</div>"
   ]
  },
  {
   "cell_type": "code",
   "execution_count": 104,
   "metadata": {},
   "outputs": [],
   "source": [
    "# train_df = train_df.drop(['PassengerId', 'Name', 'Ticket'], axis=1)"
   ]
  },
  {
   "cell_type": "markdown",
   "metadata": {},
   "source": [
    "<div class=\"alert alert-info\">\n",
    "기존 데이터 셋의 정보를 이용하여 새로운 컬럼을 추가해보자(Feature Engineering!)\n",
    "</div>"
   ]
  },
  {
   "cell_type": "code",
   "execution_count": 105,
   "metadata": {},
   "outputs": [
    {
     "data": {
      "text/html": [
       "<div>\n",
       "<style scoped>\n",
       "    .dataframe tbody tr th:only-of-type {\n",
       "        vertical-align: middle;\n",
       "    }\n",
       "\n",
       "    .dataframe tbody tr th {\n",
       "        vertical-align: top;\n",
       "    }\n",
       "\n",
       "    .dataframe thead th {\n",
       "        text-align: right;\n",
       "    }\n",
       "</style>\n",
       "<table border=\"1\" class=\"dataframe\">\n",
       "  <thead>\n",
       "    <tr style=\"text-align: right;\">\n",
       "      <th></th>\n",
       "      <th>SibSp</th>\n",
       "      <th>Parch</th>\n",
       "      <th>Fsize</th>\n",
       "    </tr>\n",
       "    <tr>\n",
       "      <th>PassengerId</th>\n",
       "      <th></th>\n",
       "      <th></th>\n",
       "      <th></th>\n",
       "    </tr>\n",
       "  </thead>\n",
       "  <tbody>\n",
       "    <tr>\n",
       "      <th>1</th>\n",
       "      <td>1</td>\n",
       "      <td>0</td>\n",
       "      <td>2</td>\n",
       "    </tr>\n",
       "    <tr>\n",
       "      <th>2</th>\n",
       "      <td>1</td>\n",
       "      <td>0</td>\n",
       "      <td>2</td>\n",
       "    </tr>\n",
       "    <tr>\n",
       "      <th>3</th>\n",
       "      <td>0</td>\n",
       "      <td>0</td>\n",
       "      <td>1</td>\n",
       "    </tr>\n",
       "    <tr>\n",
       "      <th>4</th>\n",
       "      <td>1</td>\n",
       "      <td>0</td>\n",
       "      <td>2</td>\n",
       "    </tr>\n",
       "    <tr>\n",
       "      <th>5</th>\n",
       "      <td>0</td>\n",
       "      <td>0</td>\n",
       "      <td>1</td>\n",
       "    </tr>\n",
       "  </tbody>\n",
       "</table>\n",
       "</div>"
      ],
      "text/plain": [
       "             SibSp  Parch  Fsize\n",
       "PassengerId                     \n",
       "1                1      0      2\n",
       "2                1      0      2\n",
       "3                0      0      1\n",
       "4                1      0      2\n",
       "5                0      0      1"
      ]
     },
     "execution_count": 105,
     "metadata": {},
     "output_type": "execute_result"
    }
   ],
   "source": [
    "train_df['Fsize'] = train_df['SibSp'] + train_df['Parch'] + 1\n",
    "train_df[['SibSp', 'Parch', 'Fsize']].head()"
   ]
  },
  {
   "cell_type": "code",
   "execution_count": 106,
   "metadata": {},
   "outputs": [
    {
     "data": {
      "image/png": "[encoded data removed]",
      "text/plain": [
       "<Figure size 432x288 with 2 Axes>"
      ]
     },
     "metadata": {
      "needs_background": "light"
     },
     "output_type": "display_data"
    }
   ],
   "source": [
    "names = ['Survived', 'Pclass', 'Age', 'Fare', 'Fsize']\n",
    "\n",
    "sns.heatmap(train_df[names].corr(), annot=True, cmap='coolwarm', linewidths=0.2);"
   ]
  },
  {
   "cell_type": "markdown",
   "metadata": {},
   "source": [
    "<div class=\"alert alert-info\">\n",
    "기계학습을 위해 문자열을 숫자로 치환하여 보자.\n",
    "</div>"
   ]
  },
  {
   "cell_type": "markdown",
   "metadata": {},
   "source": [
    "One Hot Encoding"
   ]
  },
  {
   "cell_type": "code",
   "execution_count": 107,
   "metadata": {},
   "outputs": [],
   "source": [
    "train_df['Sex'] = train_df['Sex'].replace(['male','female'], [0, 1])\n",
    "train_df['Embarked'] = train_df['Embarked'].replace(['S','C','Q'], [0, 1, 2])"
   ]
  },
  {
   "cell_type": "code",
   "execution_count": 108,
   "metadata": {},
   "outputs": [
    {
     "data": {
      "image/png": "[encoded data removed]",
      "text/plain": [
       "<Figure size 432x288 with 2 Axes>"
      ]
     },
     "metadata": {
      "needs_background": "light"
     },
     "output_type": "display_data"
    }
   ],
   "source": [
    "names = ['Survived', 'Pclass', 'Age', 'Fare', 'Fsize', 'Sex', 'Embarked']\n",
    "\n",
    "sns.heatmap(train_df[names].corr(), annot=True, cmap='coolwarm', linewidths=0.2);"
   ]
  },
  {
   "cell_type": "markdown",
   "metadata": {},
   "source": [
    "<div class=\"alert alert-info\">\n",
    "전처리한 데이터를 가지고 기계학습을 통해 생존 여부를 예측해보자\n",
    "</div>"
   ]
  },
  {
   "cell_type": "code",
   "execution_count": 109,
   "metadata": {},
   "outputs": [],
   "source": [
    "names = ['Survived', 'Pclass', 'Sex', 'Age', 'Fare', 'Embarked', 'Fsize']\n",
    "train_df = train_df[names]"
   ]
  },
  {
   "cell_type": "code",
   "execution_count": 110,
   "metadata": {},
   "outputs": [
    {
     "name": "stderr",
     "output_type": "stream",
     "text": [
      "/anaconda3/lib/python3.6/site-packages/sklearn/ensemble/weight_boosting.py:29: DeprecationWarning: numpy.core.umath_tests is an internal NumPy module and should not be imported. It will be removed in a future NumPy release.\n",
      "  from numpy.core.umath_tests import inner1d\n"
     ]
    }
   ],
   "source": [
    "from sklearn.linear_model import LogisticRegression #logistic regression\n",
    "from sklearn import svm  # support vector Machine\n",
    "from sklearn.ensemble import RandomForestClassifier # Random Forest\n",
    "from sklearn.tree import DecisionTreeClassifier # Decision Tree\n",
    "from sklearn.model_selection import train_test_split #training and testing data split\n",
    "from sklearn import metrics #accuracy measure"
   ]
  },
  {
   "cell_type": "code",
   "execution_count": 111,
   "metadata": {},
   "outputs": [],
   "source": [
    "train, test = train_test_split(\n",
    "    train_df, test_size=0.3, random_state=2, stratify=train_df['Survived'])\n",
    "\n",
    "train_X = train[train.columns[1:]]\n",
    "train_Y = train[train.columns[:1]]\n",
    "\n",
    "test_X = test[test.columns[1:]]\n",
    "test_Y = test[test.columns[:1]]\n",
    "\n",
    "X = train_df[train_df.columns[1:]]\n",
    "Y = train_df['Survived']"
   ]
  },
  {
   "cell_type": "code",
   "execution_count": 112,
   "metadata": {},
   "outputs": [
    {
     "name": "stdout",
     "output_type": "stream",
     "text": [
      "The accuracy of the Logistic Regression is 0.7985074626865671\n"
     ]
    },
    {
     "name": "stderr",
     "output_type": "stream",
     "text": [
      "/anaconda3/lib/python3.6/site-packages/sklearn/utils/validation.py:578: DataConversionWarning: A column-vector y was passed when a 1d array was expected. Please change the shape of y to (n_samples, ), for example using ravel().\n",
      "  y = column_or_1d(y, warn=True)\n"
     ]
    }
   ],
   "source": [
    "model = LogisticRegression()\n",
    "model.fit(train_X, train_Y)\n",
    "prediction1 = model.predict(test_X)\n",
    "print('The accuracy of the Logistic Regression is', \n",
    "      metrics.accuracy_score(prediction1, test_Y))"
   ]
  },
  {
   "cell_type": "code",
   "execution_count": 113,
   "metadata": {},
   "outputs": [
    {
     "name": "stderr",
     "output_type": "stream",
     "text": [
      "/anaconda3/lib/python3.6/site-packages/sklearn/utils/validation.py:578: DataConversionWarning: A column-vector y was passed when a 1d array was expected. Please change the shape of y to (n_samples, ), for example using ravel().\n",
      "  y = column_or_1d(y, warn=True)\n"
     ]
    },
    {
     "name": "stdout",
     "output_type": "stream",
     "text": [
      "Accuracy for linear SVM is 0.7723880597014925\n"
     ]
    }
   ],
   "source": [
    "model = svm.SVC(kernel='linear', C=0.1, gamma=0.1)\n",
    "model.fit(train_X,train_Y)\n",
    "prediction2 = model.predict(test_X)\n",
    "print('Accuracy for linear SVM is', metrics.accuracy_score(prediction2, test_Y))"
   ]
  },
  {
   "cell_type": "code",
   "execution_count": 114,
   "metadata": {},
   "outputs": [
    {
     "name": "stdout",
     "output_type": "stream",
     "text": [
      "The accuracy of the Decision Tree is 0.7611940298507462\n"
     ]
    }
   ],
   "source": [
    "model = DecisionTreeClassifier()\n",
    "model.fit(train_X, train_Y)\n",
    "prediction3 = model.predict(test_X)\n",
    "print('The accuracy of the Decision Tree is', metrics.accuracy_score(prediction3, test_Y))"
   ]
  },
  {
   "cell_type": "code",
   "execution_count": 115,
   "metadata": {},
   "outputs": [
    {
     "data": {
      "text/plain": [
       "Index(['Pclass', 'Sex', 'Age', 'Fare', 'Embarked', 'Fsize'], dtype='object')"
      ]
     },
     "execution_count": 115,
     "metadata": {},
     "output_type": "execute_result"
    }
   ],
   "source": [
    "train_X.columns"
   ]
  },
  {
   "cell_type": "code",
   "execution_count": 116,
   "metadata": {},
   "outputs": [
    {
     "name": "stderr",
     "output_type": "stream",
     "text": [
      "/anaconda3/lib/python3.6/site-packages/ipykernel_launcher.py:2: DataConversionWarning: A column-vector y was passed when a 1d array was expected. Please change the shape of y to (n_samples,), for example using ravel().\n",
      "  \n"
     ]
    },
    {
     "name": "stdout",
     "output_type": "stream",
     "text": [
      "The accuracy of the Random Forests is 0.8134328358208955\n"
     ]
    }
   ],
   "source": [
    "model = RandomForestClassifier(n_estimators=340)\n",
    "model.fit(train_X,train_Y)\n",
    "\n",
    "prediction4 = model.predict(test_X)\n",
    "print('The accuracy of the Random Forests is', metrics.accuracy_score(prediction4, test_Y))"
   ]
  },
  {
   "cell_type": "code",
   "execution_count": 117,
   "metadata": {},
   "outputs": [
    {
     "data": {
      "text/plain": [
       "array([0.08128129, 0.26812729, 0.26313307, 0.27343622, 0.03372522,\n",
       "       0.08029691])"
      ]
     },
     "execution_count": 117,
     "metadata": {},
     "output_type": "execute_result"
    }
   ],
   "source": [
    "model.feature_importances_"
   ]
  },
  {
   "cell_type": "markdown",
   "metadata": {},
   "source": [
    "하이퍼 파라미터 튜닝(매개변수 최적화)을 통해 모델의 성능을 향상시켜보자."
   ]
  },
  {
   "cell_type": "code",
   "execution_count": 118,
   "metadata": {},
   "outputs": [],
   "source": [
    "from sklearn.model_selection import GridSearchCV"
   ]
  },
  {
   "cell_type": "code",
   "execution_count": 119,
   "metadata": {},
   "outputs": [
    {
     "name": "stdout",
     "output_type": "stream",
     "text": [
      "Fitting 3 folds for each of 49 candidates, totalling 147 fits\n"
     ]
    },
    {
     "name": "stderr",
     "output_type": "stream",
     "text": [
      "[Parallel(n_jobs=1)]: Done 147 out of 147 | elapsed:   46.6s finished\n"
     ]
    },
    {
     "name": "stdout",
     "output_type": "stream",
     "text": [
      "0.8069584736251403\n",
      "RandomForestClassifier(bootstrap=True, class_weight=None, criterion='gini',\n",
      "            max_depth=None, max_features='auto', max_leaf_nodes=None,\n",
      "            min_impurity_decrease=0.0, min_impurity_split=None,\n",
      "            min_samples_leaf=1, min_samples_split=2,\n",
      "            min_weight_fraction_leaf=0.0, n_estimators=340, n_jobs=1,\n",
      "            oob_score=False, random_state=2, verbose=0, warm_start=False)\n"
     ]
    }
   ],
   "source": [
    "n_estimators = range(10, 500, 10)\n",
    "hyperparam = {'n_estimators': n_estimators}\n",
    "gd = GridSearchCV(estimator=RandomForestClassifier(random_state=2), param_grid=hyperparam, verbose=True)\n",
    "gd.fit(X,Y)\n",
    "print(gd.best_score_)\n",
    "print(gd.best_estimator_)"
   ]
  },
  {
   "cell_type": "code",
   "execution_count": null,
   "metadata": {},
   "outputs": [],
   "source": []
  }
 ],
 "metadata": {
  "kernelspec": {
   "display_name": "Python 3",
   "language": "python",
   "name": "python3"
  },
  "language_info": {
   "codemirror_mode": {
    "name": "ipython",
    "version": 3
   },
   "file_extension": ".py",
   "mimetype": "text/x-python",
   "name": "python",
   "nbconvert_exporter": "python",
   "pygments_lexer": "ipython3",
   "version": "3.6.6"
  }
 },
 "nbformat": 4,
 "nbformat_minor": 2
}
