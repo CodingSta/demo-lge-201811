{
 "cells": [
  {
   "cell_type": "code",
   "execution_count": 3,
   "metadata": {},
   "outputs": [
    {
     "data": {
      "text/plain": [
       "range(0, 10)"
      ]
     },
     "execution_count": 3,
     "metadata": {},
     "output_type": "execute_result"
    }
   ],
   "source": [
    "range(10)  # 0 <=, < 10, 1씩 증가"
   ]
  },
  {
   "cell_type": "code",
   "execution_count": 4,
   "metadata": {},
   "outputs": [
    {
     "data": {
      "text/plain": [
       "range(0, 10)"
      ]
     },
     "execution_count": 4,
     "metadata": {},
     "output_type": "execute_result"
    }
   ],
   "source": [
    "range(0, 10, 1)  # 상동"
   ]
  },
  {
   "cell_type": "code",
   "execution_count": 5,
   "metadata": {},
   "outputs": [
    {
     "data": {
      "text/plain": [
       "range(0, 10, 2)"
      ]
     },
     "execution_count": 5,
     "metadata": {},
     "output_type": "execute_result"
    }
   ],
   "source": [
    "range(0, 10, 2)"
   ]
  },
  {
   "cell_type": "code",
   "execution_count": null,
   "metadata": {},
   "outputs": [],
   "source": []
  },
  {
   "cell_type": "code",
   "execution_count": 1,
   "metadata": {
    "collapsed": true
   },
   "outputs": [
    {
     "name": "stdout",
     "output_type": "stream",
     "text": [
      "2\n",
      "3\n",
      "4\n",
      "5\n",
      "6\n",
      "7\n",
      "8\n",
      "9\n"
     ]
    }
   ],
   "source": [
    "for i in range(2, 10):\n",
    "    print(i)"
   ]
  },
  {
   "cell_type": "code",
   "execution_count": 7,
   "metadata": {
    "collapsed": true
   },
   "outputs": [
    {
     "name": "stdout",
     "output_type": "stream",
     "text": [
      "2\n",
      "3\n",
      "4\n",
      "5\n",
      "6\n",
      "7\n",
      "8\n",
      "9\n"
     ]
    }
   ],
   "source": [
    "for i in [2, 3, 4, 5, 6, 7, 8, 9]:\n",
    "    print(i)"
   ]
  },
  {
   "cell_type": "code",
   "execution_count": 10,
   "metadata": {},
   "outputs": [
    {
     "name": "stdout",
     "output_type": "stream",
     "text": [
      "0\n"
     ]
    }
   ],
   "source": [
    "for i in range(1000000000000):  # generator\n",
    "    print(i)\n",
    "    break"
   ]
  },
  {
   "cell_type": "code",
   "execution_count": null,
   "metadata": {},
   "outputs": [],
   "source": [
    "# range, xrange"
   ]
  },
  {
   "cell_type": "code",
   "execution_count": null,
   "metadata": {},
   "outputs": [],
   "source": [
    "f = open(\"data.csv\", \"rt\")\n",
    "content = f.read()\n",
    "for line in content.splitlines():\n",
    "    pass\n",
    "for line in f:\n",
    "    "
   ]
  },
  {
   "cell_type": "code",
   "execution_count": 12,
   "metadata": {},
   "outputs": [
    {
     "name": "stdout",
     "output_type": "stream",
     "text": [
      "b\n",
      "a\n",
      "c\n",
      "a\n",
      "b\n",
      "c\n"
     ]
    }
   ],
   "source": [
    "['a', 'b', 'c']\n",
    "('a', 'b', 'c')\n",
    "for value in {'a', 'b', 'c'}:\n",
    "    print(value)\n",
    "    \n",
    "for value in sorted({'a', 'b', 'c'}):\n",
    "    print(value)"
   ]
  },
  {
   "cell_type": "code",
   "execution_count": 16,
   "metadata": {},
   "outputs": [
    {
     "name": "stdout",
     "output_type": "stream",
     "text": [
      "1\n",
      "2\n",
      "3\n"
     ]
    }
   ],
   "source": [
    "# for key in {'a':1, 'b':2, 'c':3}:       # key순회\n",
    "# for key in {'a':1, 'b':2, 'c':3}.keys():  # key순회\n",
    "for value in {'a':1, 'b':2, 'c':3}.values():  # key순회\n",
    "    print(value)"
   ]
  },
  {
   "cell_type": "code",
   "execution_count": 17,
   "metadata": {},
   "outputs": [
    {
     "name": "stdout",
     "output_type": "stream",
     "text": [
      "a 1\n",
      "b 2\n",
      "c 3\n"
     ]
    }
   ],
   "source": [
    "mydict = {'a':1, 'b':2, 'c':3}\n",
    "for key in mydict:\n",
    "    print(key, mydict[key])"
   ]
  },
  {
   "cell_type": "code",
   "execution_count": 18,
   "metadata": {},
   "outputs": [
    {
     "name": "stdout",
     "output_type": "stream",
     "text": [
      "a 1\n",
      "b 2\n",
      "c 3\n"
     ]
    }
   ],
   "source": [
    "mydict = {'a':1, 'b':2, 'c':3}\n",
    "for key, value in mydict.items():\n",
    "    print(key, value)"
   ]
  },
  {
   "cell_type": "code",
   "execution_count": 19,
   "metadata": {
    "collapsed": true
   },
   "outputs": [],
   "source": [
    "# 함수 문법을 쓰는 데, yield가 있다면 => generator\n",
    "def mygenerator():  # Co-Routine\n",
    "    yield 1\n",
    "    yield 2\n",
    "    yield 3"
   ]
  },
  {
   "cell_type": "code",
   "execution_count": 30,
   "metadata": {
    "collapsed": true
   },
   "outputs": [
    {
     "name": "stdout",
     "output_type": "stream",
     "text": [
      "1\n",
      "2\n",
      "3\n"
     ]
    },
    {
     "ename": "StopIteration",
     "evalue": "",
     "output_type": "error",
     "traceback": [
      "\u001b[0;31m---------------------------------------------------------------------------\u001b[0m",
      "\u001b[0;31mStopIteration\u001b[0m                             Traceback (most recent call last)",
      "\u001b[0;32m<ipython-input-30-1fb17cc8eb91>\u001b[0m in \u001b[0;36m<module>\u001b[0;34m()\u001b[0m\n\u001b[1;32m      3\u001b[0m \u001b[0mprint\u001b[0m\u001b[0;34m(\u001b[0m\u001b[0mnext\u001b[0m\u001b[0;34m(\u001b[0m\u001b[0mgenerator_obj\u001b[0m\u001b[0;34m)\u001b[0m\u001b[0;34m)\u001b[0m\u001b[0;34m\u001b[0m\u001b[0m\n\u001b[1;32m      4\u001b[0m \u001b[0mprint\u001b[0m\u001b[0;34m(\u001b[0m\u001b[0mnext\u001b[0m\u001b[0;34m(\u001b[0m\u001b[0mgenerator_obj\u001b[0m\u001b[0;34m)\u001b[0m\u001b[0;34m)\u001b[0m\u001b[0;34m\u001b[0m\u001b[0m\n\u001b[0;32m----> 5\u001b[0;31m \u001b[0mprint\u001b[0m\u001b[0;34m(\u001b[0m\u001b[0mnext\u001b[0m\u001b[0;34m(\u001b[0m\u001b[0mgenerator_obj\u001b[0m\u001b[0;34m)\u001b[0m\u001b[0;34m)\u001b[0m\u001b[0;34m\u001b[0m\u001b[0m\n\u001b[0m",
      "\u001b[0;31mStopIteration\u001b[0m: "
     ]
    }
   ],
   "source": [
    "generator_obj = mygenerator()\n",
    "print(next(generator_obj))\n",
    "print(next(generator_obj))\n",
    "print(next(generator_obj))\n",
    "print(next(generator_obj))"
   ]
  },
  {
   "cell_type": "code",
   "execution_count": 32,
   "metadata": {},
   "outputs": [
    {
     "name": "stdout",
     "output_type": "stream",
     "text": [
      "1\n",
      "2\n",
      "3\n"
     ]
    }
   ],
   "source": [
    "generator_obj = mygenerator()\n",
    "for i in generator_obj:\n",
    "    print(i)"
   ]
  },
  {
   "cell_type": "code",
   "execution_count": 33,
   "metadata": {},
   "outputs": [],
   "source": [
    "def infinite():  # Co-Routine\n",
    "    i = 0\n",
    "    while True:\n",
    "        yield i\n",
    "        i += 1"
   ]
  },
  {
   "cell_type": "code",
   "execution_count": 34,
   "metadata": {},
   "outputs": [
    {
     "data": {
      "text/plain": [
       "0"
      ]
     },
     "execution_count": 34,
     "metadata": {},
     "output_type": "execute_result"
    }
   ],
   "source": [
    "obj = infinite()\n",
    "next(obj)"
   ]
  },
  {
   "cell_type": "code",
   "execution_count": 35,
   "metadata": {},
   "outputs": [
    {
     "data": {
      "text/plain": [
       "1"
      ]
     },
     "execution_count": 35,
     "metadata": {},
     "output_type": "execute_result"
    }
   ],
   "source": [
    "next(obj)"
   ]
  },
  {
   "cell_type": "code",
   "execution_count": null,
   "metadata": {},
   "outputs": [],
   "source": [
    "# f = open(\"data.csv\", \"rt\")\n",
    "# f.close()\n",
    "\n",
    "# with open(\"data.csv\", \"rt\") as f:\n",
    "#     pass\n",
    "\n",
    "# with f := open(\"data.csv\", \"rt\"):\n",
    "#     pass"
   ]
  },
  {
   "cell_type": "markdown",
   "metadata": {},
   "source": [
    "## 함수"
   ]
  },
  {
   "cell_type": "code",
   "execution_count": 38,
   "metadata": {},
   "outputs": [],
   "source": [
    "def 부가세_계산(결제금액: int) -> int:\n",
    "    return 결제금액 // 11"
   ]
  },
  {
   "cell_type": "code",
   "execution_count": 39,
   "metadata": {},
   "outputs": [
    {
     "data": {
      "text/plain": [
       "909"
      ]
     },
     "execution_count": 39,
     "metadata": {},
     "output_type": "execute_result"
    }
   ],
   "source": [
    "부가세_계산(10000)"
   ]
  },
  {
   "cell_type": "code",
   "execution_count": 40,
   "metadata": {},
   "outputs": [],
   "source": [
    "def 부가세_계산(결제금액: int) -> int:\n",
    "    부가세 = 결제금액 // 11"
   ]
  },
  {
   "cell_type": "code",
   "execution_count": 42,
   "metadata": {},
   "outputs": [
    {
     "name": "stdout",
     "output_type": "stream",
     "text": [
      "None\n"
     ]
    }
   ],
   "source": [
    "print(부가세_계산(10000))"
   ]
  },
  {
   "cell_type": "code",
   "execution_count": 43,
   "metadata": {},
   "outputs": [],
   "source": [
    "def 부가세_계산(결제금액: int) -> int:\n",
    "    부가세 = 결제금액 // 11\n",
    "    뺀금액 = 결제금액 - 부가세\n",
    "    return 뺀금액, 부가세"
   ]
  },
  {
   "cell_type": "code",
   "execution_count": 44,
   "metadata": {},
   "outputs": [
    {
     "data": {
      "text/plain": [
       "(9091, 909)"
      ]
     },
     "execution_count": 44,
     "metadata": {},
     "output_type": "execute_result"
    }
   ],
   "source": [
    "부가세_계산(10000)"
   ]
  },
  {
   "cell_type": "code",
   "execution_count": 45,
   "metadata": {},
   "outputs": [],
   "source": [
    "뺀금액, 부가세 = 부가세_계산(10000)"
   ]
  },
  {
   "cell_type": "code",
   "execution_count": null,
   "metadata": {},
   "outputs": [],
   "source": []
  },
  {
   "cell_type": "code",
   "execution_count": 51,
   "metadata": {},
   "outputs": [
    {
     "name": "stdout",
     "output_type": "stream",
     "text": [
      "아이유님. 서울 출신.\n",
      "아이유님. 서울 출신.\n",
      "서울님. 아이유 출신.\n",
      "아이유님. 서울 출신. 아이유 반가워요.\n",
      "아이유님. 서울 출신. 아이유 반가워요.\n"
     ]
    }
   ],
   "source": [
    "print(\"{}님. {} 출신.\".format(\"아이유\", \"서울\"))\n",
    "print(\"{0}님. {1} 출신.\".format(\"아이유\", \"서울\"))\n",
    "print(\"{1}님. {0} 출신.\".format(\"아이유\", \"서울\"))\n",
    "print(\"{}님. {} 출신. {} 반가워요.\".format(\"아이유\", \"서울\", \"아이유\"))\n",
    "print(\"{0}님. {1} 출신. {0} 반가워요.\".format(\"아이유\", \"서울\"))"
   ]
  },
  {
   "cell_type": "code",
   "execution_count": 52,
   "metadata": {},
   "outputs": [
    {
     "name": "stdout",
     "output_type": "stream",
     "text": [
      "아이유님. 서울 출신. 아이유 반가워요.\n"
     ]
    }
   ],
   "source": [
    "print(\"{name}님. {region} 출신. {name} 반가워요.\".format(\n",
    "    name=\"아이유\", region=\"서울\"))"
   ]
  },
  {
   "cell_type": "code",
   "execution_count": null,
   "metadata": {},
   "outputs": [],
   "source": []
  },
  {
   "cell_type": "code",
   "execution_count": 53,
   "metadata": {},
   "outputs": [],
   "source": [
    "def 봉급계산(기본급, 야근시간):\n",
    "    return 기본급 + 야근시간 * 10000"
   ]
  },
  {
   "cell_type": "code",
   "execution_count": 54,
   "metadata": {},
   "outputs": [
    {
     "data": {
      "text/plain": [
       "1200000"
      ]
     },
     "execution_count": 54,
     "metadata": {},
     "output_type": "execute_result"
    }
   ],
   "source": [
    "봉급계산(1000000, 20)"
   ]
  },
  {
   "cell_type": "code",
   "execution_count": 55,
   "metadata": {},
   "outputs": [
    {
     "data": {
      "text/plain": [
       "1200000"
      ]
     },
     "execution_count": 55,
     "metadata": {},
     "output_type": "execute_result"
    }
   ],
   "source": [
    "봉급계산(기본급=1000000, 야근시간=20)"
   ]
  },
  {
   "cell_type": "code",
   "execution_count": 56,
   "metadata": {},
   "outputs": [
    {
     "data": {
      "text/plain": [
       "1200000"
      ]
     },
     "execution_count": 56,
     "metadata": {},
     "output_type": "execute_result"
    }
   ],
   "source": [
    "봉급계산(야근시간=20, 기본급=1000000)"
   ]
  },
  {
   "cell_type": "code",
   "execution_count": 57,
   "metadata": {},
   "outputs": [
    {
     "data": {
      "text/plain": [
       "1200000"
      ]
     },
     "execution_count": 57,
     "metadata": {},
     "output_type": "execute_result"
    }
   ],
   "source": [
    "봉급계산(1000000, 야근시간=20)"
   ]
  },
  {
   "cell_type": "code",
   "execution_count": 59,
   "metadata": {},
   "outputs": [],
   "source": [
    "def 봉급계산(기본급, 야근시간=0):\n",
    "    return 기본급 + 야근시간 * 10000"
   ]
  },
  {
   "cell_type": "code",
   "execution_count": 60,
   "metadata": {},
   "outputs": [
    {
     "data": {
      "text/plain": [
       "1000000"
      ]
     },
     "execution_count": 60,
     "metadata": {},
     "output_type": "execute_result"
    }
   ],
   "source": [
    "봉급계산(1000000)"
   ]
  },
  {
   "cell_type": "code",
   "execution_count": 61,
   "metadata": {},
   "outputs": [],
   "source": [
    "import pandas as pd"
   ]
  },
  {
   "cell_type": "code",
   "execution_count": 62,
   "metadata": {},
   "outputs": [],
   "source": [
    "pd.DataFrame?"
   ]
  },
  {
   "cell_type": "code",
   "execution_count": 63,
   "metadata": {},
   "outputs": [],
   "source": [
    "def myappend(mylist=[]):\n",
    "    mylist.append('val1')\n",
    "    return mylist"
   ]
  },
  {
   "cell_type": "code",
   "execution_count": 64,
   "metadata": {},
   "outputs": [
    {
     "data": {
      "text/plain": [
       "['val1']"
      ]
     },
     "execution_count": 64,
     "metadata": {},
     "output_type": "execute_result"
    }
   ],
   "source": [
    "myappend()"
   ]
  },
  {
   "cell_type": "code",
   "execution_count": 65,
   "metadata": {},
   "outputs": [
    {
     "data": {
      "text/plain": [
       "['val1', 'val1']"
      ]
     },
     "execution_count": 65,
     "metadata": {},
     "output_type": "execute_result"
    }
   ],
   "source": [
    "myappend()"
   ]
  },
  {
   "cell_type": "code",
   "execution_count": 66,
   "metadata": {},
   "outputs": [
    {
     "data": {
      "text/plain": [
       "['val1', 'val1', 'val1']"
      ]
     },
     "execution_count": 66,
     "metadata": {},
     "output_type": "execute_result"
    }
   ],
   "source": [
    "myappend()"
   ]
  },
  {
   "cell_type": "code",
   "execution_count": 67,
   "metadata": {},
   "outputs": [
    {
     "data": {
      "text/plain": [
       "['val1', 'val1', 'val1', 'val1']"
      ]
     },
     "execution_count": 67,
     "metadata": {},
     "output_type": "execute_result"
    }
   ],
   "source": [
    "myappend()"
   ]
  },
  {
   "cell_type": "code",
   "execution_count": 68,
   "metadata": {},
   "outputs": [],
   "source": [
    "def myappend(mylist=None):\n",
    "    if mylist is None:\n",
    "        mylist = []\n",
    "    mylist.append('val1')\n",
    "    return mylist"
   ]
  },
  {
   "cell_type": "code",
   "execution_count": 69,
   "metadata": {},
   "outputs": [
    {
     "data": {
      "text/plain": [
       "['val1']"
      ]
     },
     "execution_count": 69,
     "metadata": {},
     "output_type": "execute_result"
    }
   ],
   "source": [
    "myappend()"
   ]
  },
  {
   "cell_type": "code",
   "execution_count": 70,
   "metadata": {},
   "outputs": [
    {
     "data": {
      "text/plain": [
       "['val1']"
      ]
     },
     "execution_count": 70,
     "metadata": {},
     "output_type": "execute_result"
    }
   ],
   "source": [
    "myappend()"
   ]
  },
  {
   "cell_type": "code",
   "execution_count": null,
   "metadata": {},
   "outputs": [],
   "source": []
  },
  {
   "cell_type": "code",
   "execution_count": 71,
   "metadata": {},
   "outputs": [],
   "source": [
    "def 봉급계산(기본급, 야근시간):\n",
    "    return 기본급 + 야근시간 * 10000"
   ]
  },
  {
   "cell_type": "code",
   "execution_count": 78,
   "metadata": {},
   "outputs": [
    {
     "data": {
      "text/plain": [
       "10000000020"
      ]
     },
     "execution_count": 78,
     "metadata": {},
     "output_type": "execute_result"
    }
   ],
   "source": [
    "인자 = (20, 1000000)\n",
    "x = 인자[0]\n",
    "y = 인자[1]\n",
    "\n",
    "# 봉급계산(x, y)\n",
    "# 봉급계산(인자[0], 인자[1])\n",
    "봉급계산(*인자)"
   ]
  },
  {
   "cell_type": "code",
   "execution_count": 74,
   "metadata": {},
   "outputs": [
    {
     "data": {
      "text/plain": [
       "1200000"
      ]
     },
     "execution_count": 74,
     "metadata": {},
     "output_type": "execute_result"
    }
   ],
   "source": [
    "인자 = {\n",
    "    '야근시간': 20,\n",
    "    '기본급': 1000000,\n",
    "}\n",
    "\n",
    "# 봉급계산(야근시간=인자['야근시간'], 기본급=인자['기본급'])\n",
    "봉급계산(**인자)"
   ]
  },
  {
   "cell_type": "code",
   "execution_count": null,
   "metadata": {},
   "outputs": [],
   "source": []
  },
  {
   "cell_type": "code",
   "execution_count": 79,
   "metadata": {},
   "outputs": [],
   "source": [
    "def mysum2(x, y):\n",
    "    return x + y\n",
    "\n",
    "def mysum3(x, y, z):\n",
    "    return x + y + z\n",
    "\n",
    "def mysum4(x, y, z, a):\n",
    "    return x + y + z + a\n",
    "\n",
    "def mysum(*args):  # 0개 이상\n",
    "    print(args)\n",
    "    \n",
    "def mysum(x, y, *args):  # 0개 이상\n",
    "    print(x, y, args)"
   ]
  },
  {
   "cell_type": "code",
   "execution_count": 80,
   "metadata": {},
   "outputs": [
    {
     "name": "stdout",
     "output_type": "stream",
     "text": [
      "1 2 ()\n"
     ]
    }
   ],
   "source": [
    "mysum(1, 2)"
   ]
  },
  {
   "cell_type": "code",
   "execution_count": 81,
   "metadata": {},
   "outputs": [],
   "source": [
    "def myprint(name, **kwargs):  # dict\n",
    "    print(name, kwargs)"
   ]
  },
  {
   "cell_type": "code",
   "execution_count": 82,
   "metadata": {},
   "outputs": [
    {
     "name": "stdout",
     "output_type": "stream",
     "text": [
      "이진석 {}\n"
     ]
    }
   ],
   "source": [
    "myprint(\"이진석\")"
   ]
  },
  {
   "cell_type": "code",
   "execution_count": 83,
   "metadata": {},
   "outputs": [
    {
     "name": "stdout",
     "output_type": "stream",
     "text": [
      "이진석 {'지역': '서울', '좋아하는_언어': '파이썬'}\n"
     ]
    }
   ],
   "source": [
    "myprint(\"이진석\", 지역=\"서울\", 좋아하는_언어=\"파이썬\")"
   ]
  },
  {
   "cell_type": "code",
   "execution_count": 84,
   "metadata": {},
   "outputs": [],
   "source": [
    "class Person:\n",
    "    def __init__(self, name, age):\n",
    "        self.name = name\n",
    "        self.age = age\n",
    "\n",
    "class Developer(Person):\n",
    "    def __init__(self, *args, **kwargs):\n",
    "        super().__init__(*args, **kwargs)"
   ]
  },
  {
   "cell_type": "code",
   "execution_count": null,
   "metadata": {},
   "outputs": [],
   "source": []
  },
  {
   "cell_type": "code",
   "execution_count": 85,
   "metadata": {},
   "outputs": [],
   "source": [
    "def 봉급계산(기본급, 야근시간):\n",
    "    return 기본급 + 야근시간 * 10000"
   ]
  },
  {
   "cell_type": "code",
   "execution_count": 87,
   "metadata": {},
   "outputs": [],
   "source": [
    "# 1급(First Class) 함수, 클래스하는 언어\n",
    "새이름 = 봉급계산"
   ]
  },
  {
   "cell_type": "code",
   "execution_count": 88,
   "metadata": {},
   "outputs": [
    {
     "data": {
      "text/plain": [
       "<function __main__.봉급계산(기본급, 야근시간)>"
      ]
     },
     "execution_count": 88,
     "metadata": {},
     "output_type": "execute_result"
    }
   ],
   "source": [
    "새이름"
   ]
  },
  {
   "cell_type": "code",
   "execution_count": 89,
   "metadata": {},
   "outputs": [
    {
     "data": {
      "text/plain": [
       "1200000"
      ]
     },
     "execution_count": 89,
     "metadata": {},
     "output_type": "execute_result"
    }
   ],
   "source": [
    "새이름(1000000, 20)"
   ]
  },
  {
   "cell_type": "code",
   "execution_count": null,
   "metadata": {},
   "outputs": [],
   "source": []
  },
  {
   "cell_type": "code",
   "execution_count": 90,
   "metadata": {},
   "outputs": [
    {
     "data": {
      "text/plain": [
       "<function __main__.<lambda>(기본급, 야근시간)>"
      ]
     },
     "execution_count": 90,
     "metadata": {},
     "output_type": "execute_result"
    }
   ],
   "source": [
    "lambda 기본급, 야근시간: 기본급 + 야근시간 * 10000"
   ]
  },
  {
   "cell_type": "code",
   "execution_count": 92,
   "metadata": {},
   "outputs": [
    {
     "data": {
      "text/plain": [
       "1200000"
      ]
     },
     "execution_count": 92,
     "metadata": {},
     "output_type": "execute_result"
    }
   ],
   "source": [
    "(lambda 기본급, 야근시간: 기본급 + 야근시간 * 10000)(1000000, 20)"
   ]
  },
  {
   "cell_type": "code",
   "execution_count": 93,
   "metadata": {},
   "outputs": [
    {
     "data": {
      "text/plain": [
       "1200000"
      ]
     },
     "execution_count": 93,
     "metadata": {},
     "output_type": "execute_result"
    }
   ],
   "source": [
    "월급계산 = lambda 기본급, 야근시간: 기본급 + 야근시간 * 10000\n",
    "월급계산(1000000, 20)"
   ]
  },
  {
   "cell_type": "code",
   "execution_count": 95,
   "metadata": {},
   "outputs": [
    {
     "data": {
      "text/plain": [
       "3"
      ]
     },
     "execution_count": 95,
     "metadata": {},
     "output_type": "execute_result"
    }
   ],
   "source": [
    "sum((1, 2))"
   ]
  },
  {
   "cell_type": "code",
   "execution_count": 96,
   "metadata": {},
   "outputs": [],
   "source": [
    "sum = 10"
   ]
  },
  {
   "cell_type": "code",
   "execution_count": 97,
   "metadata": {},
   "outputs": [
    {
     "ename": "TypeError",
     "evalue": "'int' object is not callable",
     "output_type": "error",
     "traceback": [
      "\u001b[0;31m---------------------------------------------------------------------------\u001b[0m",
      "\u001b[0;31mTypeError\u001b[0m                                 Traceback (most recent call last)",
      "\u001b[0;32m<ipython-input-97-fc6574d3eb46>\u001b[0m in \u001b[0;36m<module>\u001b[0;34m()\u001b[0m\n\u001b[0;32m----> 1\u001b[0;31m \u001b[0msum\u001b[0m\u001b[0;34m(\u001b[0m\u001b[0;34m(\u001b[0m\u001b[0;36m1\u001b[0m\u001b[0;34m,\u001b[0m \u001b[0;36m2\u001b[0m\u001b[0;34m)\u001b[0m\u001b[0;34m)\u001b[0m\u001b[0;34m\u001b[0m\u001b[0m\n\u001b[0m",
      "\u001b[0;31mTypeError\u001b[0m: 'int' object is not callable"
     ]
    }
   ],
   "source": [
    "sum((1, 2))"
   ]
  },
  {
   "cell_type": "code",
   "execution_count": null,
   "metadata": {},
   "outputs": [],
   "source": []
  },
  {
   "cell_type": "code",
   "execution_count": 102,
   "metadata": {},
   "outputs": [
    {
     "data": {
      "text/plain": [
       "29"
      ]
     },
     "execution_count": 102,
     "metadata": {},
     "output_type": "execute_result"
    }
   ],
   "source": [
    "# len(문자열) => 글자수\n",
    "def 글자수_세기(문장):\n",
    "    return len(문장)\n",
    "\n",
    "글자수_세기(\"안녕하세요. 반갑습니다. 오늘은 파이썬 2일차입니다.\")"
   ]
  },
  {
   "cell_type": "code",
   "execution_count": 103,
   "metadata": {},
   "outputs": [
    {
     "data": {
      "text/plain": [
       "5"
      ]
     },
     "execution_count": 103,
     "metadata": {},
     "output_type": "execute_result"
    }
   ],
   "source": [
    "# white space로 구분된 단어의 수\n",
    "# Hint) 문자열.split()\n",
    "def 문장수_세기(문장):\n",
    "    return len(문장.split())\n",
    "\n",
    "문장수_세기(\"안녕하세요. 반갑습니다.     오늘은 파이썬 2일차입니다.\")  # 5"
   ]
  },
  {
   "cell_type": "markdown",
   "metadata": {},
   "source": [
    "## EP08. 주요 빌트인 함수와 정렬"
   ]
  },
  {
   "cell_type": "code",
   "execution_count": 104,
   "metadata": {},
   "outputs": [],
   "source": [
    "number_list = [25, 19, 45, 32]"
   ]
  },
  {
   "cell_type": "code",
   "execution_count": 106,
   "metadata": {},
   "outputs": [
    {
     "data": {
      "text/plain": [
       "[19, 25, 32, 45]"
      ]
     },
     "execution_count": 106,
     "metadata": {},
     "output_type": "execute_result"
    }
   ],
   "source": [
    "sorted(number_list)"
   ]
  },
  {
   "cell_type": "code",
   "execution_count": 107,
   "metadata": {},
   "outputs": [
    {
     "data": {
      "text/plain": [
       "[45, 32, 25, 19]"
      ]
     },
     "execution_count": 107,
     "metadata": {},
     "output_type": "execute_result"
    }
   ],
   "source": [
    "sorted(number_list, reverse=True)"
   ]
  },
  {
   "cell_type": "code",
   "execution_count": null,
   "metadata": {},
   "outputs": [],
   "source": []
  },
  {
   "cell_type": "code",
   "execution_count": null,
   "metadata": {},
   "outputs": [],
   "source": [
    "# [25, 19, 45, 32]\n",
    "# [32, 25, 45, 19]  # 오름차순"
   ]
  },
  {
   "cell_type": "code",
   "execution_count": 108,
   "metadata": {},
   "outputs": [
    {
     "data": {
      "text/plain": [
       "[32, 25, 45, 19]"
      ]
     },
     "execution_count": 108,
     "metadata": {},
     "output_type": "execute_result"
    }
   ],
   "source": [
    "def fn(value):\n",
    "    return value % 10\n",
    "\n",
    "sorted(number_list, key=fn)"
   ]
  },
  {
   "cell_type": "code",
   "execution_count": null,
   "metadata": {},
   "outputs": [],
   "source": []
  },
  {
   "cell_type": "markdown",
   "metadata": {},
   "source": [
    "### 멜론 TOP100"
   ]
  },
  {
   "cell_type": "code",
   "execution_count": 109,
   "metadata": {},
   "outputs": [],
   "source": [
    "# 1) 데이터를 로컬에 다운받아, 멜론_TOP100.csv 파일로 저장\n",
    "import requests  # pip install requests\n",
    "\n",
    "res = requests.get(\"https://goo.gl/iDUKrL\")\n",
    "with open(\"멜론_TOP100.csv\", \"wt\", encoding=\"utf8\") as f:\n",
    "    f.write(res.text)"
   ]
  },
  {
   "cell_type": "code",
   "execution_count": 110,
   "metadata": {},
   "outputs": [
    {
     "data": {
      "text/plain": [
       "[OrderedDict([('곡일련번호', '31346009'),\n",
       "              ('순위', '1'),\n",
       "              ('앨범', '삐삐'),\n",
       "              ('곡명', '삐삐'),\n",
       "              ('가수', '아이유'),\n",
       "              ('커버이미지_주소',\n",
       "               'https://cdnimg.melon.co.kr/cm/album/images/102/10/535/10210535_500.jpg/melon/resize/120/quality/80/optimize'),\n",
       "              ('좋아요', '61528')]),\n",
       " OrderedDict([('곡일련번호', '31344113'),\n",
       "              ('순위', '2'),\n",
       "              ('앨범', '시간이 들겠지'),\n",
       "              ('곡명', '시간이 들겠지 (Feat. Colde)'),\n",
       "              ('가수', '로꼬'),\n",
       "              ('커버이미지_주소',\n",
       "               'https://cdnimg.melon.co.kr/cm/album/images/102/10/198/10210198_500.jpg/melon/resize/120/quality/80/optimize'),\n",
       "              ('좋아요', '48331')]),\n",
       " OrderedDict([('곡일련번호', '31340985'),\n",
       "              ('순위', '3'),\n",
       "              ('앨범', '쇼미더머니 777 Episode 1'),\n",
       "              ('곡명', 'Good Day (Feat. 팔로알토) (Prod. 코드 쿤스트)'),\n",
       "              ('가수', 'pH-1'),\n",
       "              ('커버이미지_주소',\n",
       "               'https://cdnimg.melon.co.kr/cm/album/images/102/09/647/10209647_500.jpg/melon/resize/120/quality/80/optimize'),\n",
       "              ('좋아요', '54022')]),\n",
       " OrderedDict([('곡일련번호', '31316695'),\n",
       "              ('순위', '4'),\n",
       "              ('앨범', '하루도 그대를 사랑하지 않은 적이 없었다'),\n",
       "              ('곡명', '하루도 그대를 사랑하지 않은 적이 없었다'),\n",
       "              ('가수', '임창정'),\n",
       "              ('커버이미지_주소',\n",
       "               'https://cdnimg.melon.co.kr/cm/album/images/102/05/805/10205805_500.jpg/melon/resize/120/quality/80/optimize'),\n",
       "              ('좋아요', '97984')]),\n",
       " OrderedDict([('곡일련번호', '31266290'),\n",
       "              ('순위', '5'),\n",
       "              ('앨범', 'LOVE YOURSELF 結 `Answer`'),\n",
       "              ('곡명', 'IDOL'),\n",
       "              ('가수', '방탄소년단'),\n",
       "              ('커버이미지_주소',\n",
       "               'https://cdnimg.melon.co.kr/cm/album/images/101/97/480/10197480_500.jpg/melon/resize/120/quality/80/optimize'),\n",
       "              ('좋아요', '173279')]),\n",
       " OrderedDict([('곡일련번호', '31331745'),\n",
       "              ('순위', '6'),\n",
       "              ('앨범', 'NEW KIDS : THE FINAL'),\n",
       "              ('곡명', '이별길 (GOODBYE ROAD)'),\n",
       "              ('가수', 'iKON'),\n",
       "              ('커버이미지_주소',\n",
       "               'https://cdnimg.melon.co.kr/cm/album/images/102/08/358/10208358_500.jpg/melon/resize/120/quality/80/optimize'),\n",
       "              ('좋아요', '55396')]),\n",
       " OrderedDict([('곡일련번호', '31340982'),\n",
       "              ('순위', '7'),\n",
       "              ('앨범', '쇼미더머니 777 Episode 1'),\n",
       "              ('곡명', '사임사임 (Feat. CHANGMO)'),\n",
       "              ('가수', 'Coogie'),\n",
       "              ('커버이미지_주소',\n",
       "               'https://cdnimg.melon.co.kr/cm/album/images/102/09/647/10209647_500.jpg/melon/resize/120/quality/80/optimize'),\n",
       "              ('좋아요', '27564')]),\n",
       " OrderedDict([('곡일련번호', '31266289'),\n",
       "              ('순위', '8'),\n",
       "              ('앨범', 'LOVE YOURSELF 結 `Answer`'),\n",
       "              ('곡명', 'I`m Fine'),\n",
       "              ('가수', '방탄소년단'),\n",
       "              ('커버이미지_주소',\n",
       "               'https://cdnimg.melon.co.kr/cm/album/images/101/97/480/10197480_500.jpg/melon/resize/120/quality/80/optimize'),\n",
       "              ('좋아요', '132847')]),\n",
       " OrderedDict([('곡일련번호', '31314142'),\n",
       "              ('순위', '9'),\n",
       "              ('앨범', '우리 그만하자'),\n",
       "              ('곡명', '우리 그만하자'),\n",
       "              ('가수', '로이킴'),\n",
       "              ('커버이미지_주소',\n",
       "               'https://cdnimg.melon.co.kr/cm/album/images/102/05/438/10205438_500.jpg/melon/resize/120/quality/80/optimize'),\n",
       "              ('좋아요', '95771')]),\n",
       " OrderedDict([('곡일련번호', '31085237'),\n",
       "              ('순위', '10'),\n",
       "              ('앨범', 'LOVE YOURSELF 轉 `Tear`'),\n",
       "              ('곡명', 'FAKE LOVE'),\n",
       "              ('가수', '방탄소년단'),\n",
       "              ('커버이미지_주소',\n",
       "               'https://cdnimg.melon.co.kr/cm/album/images/101/68/559/10168559_500.jpg/melon/resize/120/quality/80/optimize'),\n",
       "              ('좋아요', '253847')]),\n",
       " OrderedDict([('곡일련번호', '31314144'),\n",
       "              ('순위', '11'),\n",
       "              ('앨범', '가을 타나 봐'),\n",
       "              ('곡명', '가을 타나 봐'),\n",
       "              ('가수', '바이브'),\n",
       "              ('커버이미지_주소',\n",
       "               'https://cdnimg.melon.co.kr/cm/album/images/102/05/439/10205439_500.jpg/melon/resize/120/quality/80/optimize'),\n",
       "              ('좋아요', '28056')]),\n",
       " OrderedDict([('곡일련번호', '31266282'),\n",
       "              ('순위', '12'),\n",
       "              ('앨범', 'LOVE YOURSELF 結 `Answer`'),\n",
       "              ('곡명', 'Euphoria'),\n",
       "              ('가수', '방탄소년단'),\n",
       "              ('커버이미지_주소',\n",
       "               'https://cdnimg.melon.co.kr/cm/album/images/101/97/480/10197480_500.jpg/melon/resize/120/quality/80/optimize'),\n",
       "              ('좋아요', '129017')]),\n",
       " OrderedDict([('곡일련번호', '31302310'),\n",
       "              ('순위', '13'),\n",
       "              ('앨범', '헤어지는 중'),\n",
       "              ('곡명', '헤어지는 중'),\n",
       "              ('가수', '펀치 (Punch)'),\n",
       "              ('커버이미지_주소',\n",
       "               'https://cdnimg.melon.co.kr/cm/album/images/102/03/500/10203500_500.jpg/melon/resize/120/quality/80/optimize'),\n",
       "              ('좋아요', '77050')]),\n",
       " OrderedDict([('곡일련번호', '31266291'),\n",
       "              ('순위', '14'),\n",
       "              ('앨범', 'LOVE YOURSELF 結 `Answer`'),\n",
       "              ('곡명', 'Answer : Love Myself'),\n",
       "              ('가수', '방탄소년단'),\n",
       "              ('커버이미지_주소',\n",
       "               'https://cdnimg.melon.co.kr/cm/album/images/101/97/480/10197480_500.jpg/melon/resize/120/quality/80/optimize'),\n",
       "              ('좋아요', '108151')]),\n",
       " OrderedDict([('곡일련번호', '31085238'),\n",
       "              ('순위', '15'),\n",
       "              ('앨범', 'LOVE YOURSELF 轉 `Tear`'),\n",
       "              ('곡명', '전하지 못한 진심 (Feat. Steve Aoki)'),\n",
       "              ('가수', '방탄소년단'),\n",
       "              ('커버이미지_주소',\n",
       "               'https://cdnimg.melon.co.kr/cm/album/images/101/68/559/10168559_500.jpg/melon/resize/120/quality/80/optimize'),\n",
       "              ('좋아요', '176653')]),\n",
       " OrderedDict([('곡일련번호', '31266288'),\n",
       "              ('순위', '16'),\n",
       "              ('앨범', 'LOVE YOURSELF 結 `Answer`'),\n",
       "              ('곡명', 'Epiphany'),\n",
       "              ('가수', '방탄소년단'),\n",
       "              ('커버이미지_주소',\n",
       "               'https://cdnimg.melon.co.kr/cm/album/images/101/97/480/10197480_500.jpg/melon/resize/120/quality/80/optimize'),\n",
       "              ('좋아요', '101011')]),\n",
       " OrderedDict([('곡일련번호', '31266286'),\n",
       "              ('순위', '17'),\n",
       "              ('앨범', 'LOVE YOURSELF 結 `Answer`'),\n",
       "              ('곡명', 'Trivia 轉 : Seesaw'),\n",
       "              ('가수', '방탄소년단'),\n",
       "              ('커버이미지_주소',\n",
       "               'https://cdnimg.melon.co.kr/cm/album/images/101/97/480/10197480_500.jpg/melon/resize/120/quality/80/optimize'),\n",
       "              ('좋아요', '98436')]),\n",
       " OrderedDict([('곡일련번호', '30962526'),\n",
       "              ('순위', '18'),\n",
       "              ('앨범', '`키스 먼저 할까요?` OST Part.3'),\n",
       "              ('곡명', '모든 날, 모든 순간 (Every day, Every Moment)'),\n",
       "              ('가수', '폴킴'),\n",
       "              ('커버이미지_주소',\n",
       "               'https://cdnimg.melon.co.kr/cm/album/images/101/49/492/10149492_500.jpg/melon/resize/120/quality/80/optimize'),\n",
       "              ('좋아요', '185706')]),\n",
       " OrderedDict([('곡일련번호', '31280273'),\n",
       "              ('순위', '19'),\n",
       "              ('앨범', 'YOUNG'),\n",
       "              ('곡명', 'YOUNG'),\n",
       "              ('가수', '백현 (BAEKHYUN)'),\n",
       "              ('커버이미지_주소',\n",
       "               'https://cdnimg.melon.co.kr/cm/album/images/101/99/959/10199959_500.jpg/melon/resize/120/quality/80/optimize'),\n",
       "              ('좋아요', '91106')]),\n",
       " OrderedDict([('곡일련번호', '31266292'),\n",
       "              ('순위', '20'),\n",
       "              ('앨범', 'LOVE YOURSELF 結 `Answer`'),\n",
       "              ('곡명', 'Trivia 起 : Just Dance'),\n",
       "              ('가수', '방탄소년단'),\n",
       "              ('커버이미지_주소',\n",
       "               'https://cdnimg.melon.co.kr/cm/album/images/101/97/480/10197480_500.jpg/melon/resize/120/quality/80/optimize'),\n",
       "              ('좋아요', '88970')]),\n",
       " OrderedDict([('곡일련번호', '31286161'),\n",
       "              ('순위', '21'),\n",
       "              ('앨범', 'WARNING'),\n",
       "              ('곡명', '사이렌 (Siren)'),\n",
       "              ('가수', '선미'),\n",
       "              ('커버이미지_주소',\n",
       "               'https://cdnimg.melon.co.kr/cm/album/images/102/00/838/10200838_500.jpg/melon/resize/120/quality/80/optimize'),\n",
       "              ('좋아요', '91516')]),\n",
       " OrderedDict([('곡일련번호', '31266300'),\n",
       "              ('순위', '22'),\n",
       "              ('앨범', 'LOVE YOURSELF 結 `Answer`'),\n",
       "              ('곡명', 'Trivia 承 : Love'),\n",
       "              ('가수', '방탄소년단'),\n",
       "              ('커버이미지_주소',\n",
       "               'https://cdnimg.melon.co.kr/cm/album/images/101/97/480/10197480_500.jpg/melon/resize/120/quality/80/optimize'),\n",
       "              ('좋아요', '83610')]),\n",
       " OrderedDict([('곡일련번호', '31062863'),\n",
       "              ('순위', '23'),\n",
       "              ('앨범', 'RECIPE'),\n",
       "              ('곡명', '열애중'),\n",
       "              ('가수', '벤'),\n",
       "              ('커버이미지_주소',\n",
       "               'https://cdnimg.melon.co.kr/cm/album/images/101/64/839/10164839_500.jpg/melon/resize/120/quality/80/optimize'),\n",
       "              ('좋아요', '115805')]),\n",
       " OrderedDict([('곡일련번호', '31151836'),\n",
       "              ('순위', '24'),\n",
       "              ('앨범', 'Take'),\n",
       "              ('곡명', 'Way Back Home'),\n",
       "              ('가수', '숀 (SHAUN)'),\n",
       "              ('커버이미지_주소',\n",
       "               'https://cdnimg.melon.co.kr/cm/album/images/101/79/508/10179508_500.jpg/melon/resize/120/quality/80/optimize'),\n",
       "              ('좋아요', '225308')]),\n",
       " OrderedDict([('곡일련번호', '31085244'),\n",
       "              ('순위', '25'),\n",
       "              ('앨범', 'LOVE YOURSELF 轉 `Tear`'),\n",
       "              ('곡명', 'Anpanman'),\n",
       "              ('가수', '방탄소년단'),\n",
       "              ('커버이미지_주소',\n",
       "               'https://cdnimg.melon.co.kr/cm/album/images/101/68/559/10168559_500.jpg/melon/resize/120/quality/80/optimize'),\n",
       "              ('좋아요', '138694')]),\n",
       " OrderedDict([('곡일련번호', '30244931'),\n",
       "              ('순위', '26'),\n",
       "              ('앨범', 'YOU NEVER WALK ALONE'),\n",
       "              ('곡명', '봄날'),\n",
       "              ('가수', '방탄소년단'),\n",
       "              ('커버이미지_주소',\n",
       "               'https://cdnimg.melon.co.kr/cm/album/images/100/37/969/10037969_500.jpg/melon/resize/120/quality/80/optimize'),\n",
       "              ('좋아요', '359130')]),\n",
       " OrderedDict([('곡일련번호', '30637982'),\n",
       "              ('순위', '27'),\n",
       "              ('앨범', 'LOVE YOURSELF 承 `Her`'),\n",
       "              ('곡명', 'DNA'),\n",
       "              ('가수', '방탄소년단'),\n",
       "              ('커버이미지_주소',\n",
       "               'https://cdnimg.melon.co.kr/cm/album/images/100/97/112/10097112_500.jpg/melon/resize/120/quality/80/optimize'),\n",
       "              ('좋아요', '323911')]),\n",
       " OrderedDict([('곡일련번호', '31085243'),\n",
       "              ('순위', '28'),\n",
       "              ('앨범', 'LOVE YOURSELF 轉 `Tear`'),\n",
       "              ('곡명', 'Airplane pt.2'),\n",
       "              ('가수', '방탄소년단'),\n",
       "              ('커버이미지_주소',\n",
       "               'https://cdnimg.melon.co.kr/cm/album/images/101/68/559/10168559_500.jpg/melon/resize/120/quality/80/optimize'),\n",
       "              ('좋아요', '127355')]),\n",
       " OrderedDict([('곡일련번호', '30806536'),\n",
       "              ('순위', '29'),\n",
       "              ('앨범', 'Universe - 겨울 스페셜 앨범, 2017'),\n",
       "              ('곡명', 'Universe'),\n",
       "              ('가수', 'EXO'),\n",
       "              ('커버이미지_주소',\n",
       "               'https://cdnimg.melon.co.kr/cm/album/images/101/22/917/10122917_500.jpg/melon/resize/120/quality/80/optimize'),\n",
       "              ('좋아요', '155809')]),\n",
       " OrderedDict([('곡일련번호', '31309079'),\n",
       "              ('순위', '30'),\n",
       "              ('앨범', 'We Young'),\n",
       "              ('곡명', 'We Young'),\n",
       "              ('가수', '찬열'),\n",
       "              ('커버이미지_주소',\n",
       "               'https://cdnimg.melon.co.kr/cm/album/images/102/04/604/10204604_500.jpg/melon/resize/120/quality/80/optimize'),\n",
       "              ('좋아요', '53852')]),\n",
       " OrderedDict([('곡일련번호', '31219546'),\n",
       "              ('순위', '31'),\n",
       "              ('앨범', 'Dingo X Indigo Music'),\n",
       "              ('곡명', 'flex (Prod. By 기리보이)'),\n",
       "              ('가수', '기리보이'),\n",
       "              ('커버이미지_주소',\n",
       "               'https://cdnimg.melon.co.kr/cm/album/images/101/89/965/10189965_500.jpg/melon/resize/120/quality/80/optimize'),\n",
       "              ('좋아요', '72135')]),\n",
       " OrderedDict([('곡일련번호', '31009483'),\n",
       "              ('순위', '32'),\n",
       "              ('앨범', 'Blooming Days - The 2nd Mini Album'),\n",
       "              ('곡명', '花요일 (Blooming Day)'),\n",
       "              ('가수', 'EXO-CBX (첸백시)'),\n",
       "              ('커버이미지_주소',\n",
       "               'https://cdnimg.melon.co.kr/cm/album/images/101/56/597/10156597_500.jpg/melon/resize/120/quality/80/optimize'),\n",
       "              ('좋아요', '110311')]),\n",
       " OrderedDict([('곡일련번호', '31144690'),\n",
       "              ('순위', '33'),\n",
       "              ('앨범', 'IM'),\n",
       "              ('곡명', 'IndiGO'),\n",
       "              ('가수', '저스디스 (JUSTHIS)'),\n",
       "              ('커버이미지_주소',\n",
       "               'https://cdnimg.melon.co.kr/cm/album/images/101/78/566/10178566_500.jpg/melon/resize/120/quality/80/optimize'),\n",
       "              ('좋아요', '46739')]),\n",
       " OrderedDict([('곡일련번호', '31278454'),\n",
       "              ('순위', '34'),\n",
       "              ('앨범', 'Sheep (Alan Walker Relift)'),\n",
       "              ('곡명', 'Sheep (Alan Walker Relift)'),\n",
       "              ('가수', '레이 (LAY)'),\n",
       "              ('커버이미지_주소',\n",
       "               'https://cdnimg.melon.co.kr/cm/album/images/101/99/693/10199693_500.jpg/melon/resize/120/quality/80/optimize'),\n",
       "              ('좋아요', '30411')]),\n",
       " OrderedDict([('곡일련번호', '31131273'),\n",
       "              ('순위', '35'),\n",
       "              ('앨범', 'SQUARE UP'),\n",
       "              ('곡명', '뚜두뚜두 (DDU-DU DDU-DU)'),\n",
       "              ('가수', 'BLACKPINK'),\n",
       "              ('커버이미지_주소',\n",
       "               'https://cdnimg.melon.co.kr/cm/album/images/101/76/415/10176415_500.jpg/melon/resize/120/quality/80/optimize'),\n",
       "              ('좋아요', '192831')]),\n",
       " OrderedDict([('곡일련번호', '30699142'),\n",
       "              ('순위', '36'),\n",
       "              ('앨범', 'About You'),\n",
       "              ('곡명', '지나오다'),\n",
       "              ('가수', '닐로 (Nilo)'),\n",
       "              ('커버이미지_주소',\n",
       "               'https://cdnimg.melon.co.kr/cm/album/images/101/06/853/10106853_500.jpg/melon/resize/120/quality/80/optimize'),\n",
       "              ('좋아요', '178367')]),\n",
       " OrderedDict([('곡일련번호', '31175119'),\n",
       "              ('순위', '37'),\n",
       "              ('앨범', 'Summer Nights'),\n",
       "              ('곡명', 'Dance The Night Away'),\n",
       "              ('가수', 'TWICE (트와이스)'),\n",
       "              ('커버이미지_주소',\n",
       "               'https://cdnimg.melon.co.kr/cm/album/images/101/83/127/10183127_500.jpg/melon/resize/120/quality/80/optimize'),\n",
       "              ('좋아요', '127052')]),\n",
       " OrderedDict([('곡일련번호', '31331750'),\n",
       "              ('순위', '38'),\n",
       "              ('앨범', 'r'),\n",
       "              ('곡명', '나'),\n",
       "              ('가수', '박원'),\n",
       "              ('커버이미지_주소',\n",
       "               'https://cdnimg.melon.co.kr/cm/album/images/102/08/360/10208360_500.jpg/melon/resize/120/quality/80/optimize'),\n",
       "              ('좋아요', '26696')]),\n",
       " OrderedDict([('곡일련번호', '31113240'),\n",
       "              ('순위', '39'),\n",
       "              ('앨범', '1÷χ=1 (UNDIVIDED)'),\n",
       "              ('곡명', '켜줘 (Light)'),\n",
       "              ('가수', 'Wanna One (워너원)'),\n",
       "              ('커버이미지_주소',\n",
       "               'https://cdnimg.melon.co.kr/cm/album/images/101/73/365/10173365_500.jpg/melon/resize/120/quality/80/optimize'),\n",
       "              ('좋아요', '112878')]),\n",
       " OrderedDict([('곡일련번호', '31230093'),\n",
       "              ('순위', '40'),\n",
       "              ('앨범', 'Summer Magic - Summer Mini Album'),\n",
       "              ('곡명', 'Power Up'),\n",
       "              ('가수', 'Red Velvet (레드벨벳)'),\n",
       "              ('커버이미지_주소',\n",
       "               'https://cdnimg.melon.co.kr/cm/album/images/101/91/694/10191694_500.jpg/melon/resize/120/quality/80/optimize'),\n",
       "              ('좋아요', '130949')]),\n",
       " OrderedDict([('곡일련번호', '30568338'),\n",
       "              ('순위', '41'),\n",
       "              ('앨범', '1X1=1(TO BE ONE)'),\n",
       "              ('곡명', '에너제틱 (Energetic)'),\n",
       "              ('가수', 'Wanna One (워너원)'),\n",
       "              ('커버이미지_주소',\n",
       "               'https://cdnimg.melon.co.kr/cm/album/images/100/85/951/10085951_500.jpg/melon/resize/120/quality/80/optimize'),\n",
       "              ('좋아요', '268394')]),\n",
       " OrderedDict([('곡일련번호', '30859584'),\n",
       "              ('순위', '42'),\n",
       "              ('앨범', 'Return'),\n",
       "              ('곡명', '사랑을 했다 (LOVE SCENARIO)'),\n",
       "              ('가수', 'iKON'),\n",
       "              ('커버이미지_주소',\n",
       "               'https://cdnimg.melon.co.kr/cm/album/images/101/32/945/10132945_500.jpg/melon/resize/120/quality/80/optimize'),\n",
       "              ('좋아요', '267692')]),\n",
       " OrderedDict([('곡일련번호', '31304766'),\n",
       "              ('순위', '43'),\n",
       "              ('앨범', '이별하러 가는 길'),\n",
       "              ('곡명', '이별하러 가는 길'),\n",
       "              ('가수', '임한별'),\n",
       "              ('커버이미지_주소',\n",
       "               'https://cdnimg.melon.co.kr/cm/album/images/102/03/965/10203965_500.jpg/melon/resize/120/quality/80/optimize'),\n",
       "              ('좋아요', '25182')]),\n",
       " OrderedDict([('곡일련번호', '30960341'),\n",
       "              ('순위', '44'),\n",
       "              ('앨범', '0+1=1 (I PROMISE YOU)'),\n",
       "              ('곡명', 'BOOMERANG (부메랑)'),\n",
       "              ('가수', 'Wanna One (워너원)'),\n",
       "              ('커버이미지_주소',\n",
       "               'https://cdnimg.melon.co.kr/cm/album/images/101/44/723/10144723_2_500.jpg/melon/resize/120/quality/80/optimize'),\n",
       "              ('좋아요', '124968')]),\n",
       " OrderedDict([('곡일련번호', '30725482'),\n",
       "              ('순위', '45'),\n",
       "              ('앨범', '1-1=0 (NOTHING WITHOUT YOU)'),\n",
       "              ('곡명', 'Beautiful'),\n",
       "              ('가수', 'Wanna One (워너원)'),\n",
       "              ('커버이미지_주소',\n",
       "               'https://cdnimg.melon.co.kr/cm/album/images/101/11/029/10111029_500.jpg/melon/resize/120/quality/80/optimize'),\n",
       "              ('좋아요', '216065')]),\n",
       " OrderedDict([('곡일련번호', '31093710'),\n",
       "              ('순위', '46'),\n",
       "              ('앨범', 'Red Diary Page.2'),\n",
       "              ('곡명', '여행'),\n",
       "              ('가수', '볼빨간사춘기'),\n",
       "              ('커버이미지_주소',\n",
       "               'https://cdnimg.melon.co.kr/cm/album/images/101/70/069/10170069_500.jpg/melon/resize/120/quality/80/optimize'),\n",
       "              ('좋아요', '190489')]),\n",
       " OrderedDict([('곡일련번호', '31113241'),\n",
       "              ('순위', '47'),\n",
       "              ('앨범', '1÷χ=1 (UNDIVIDED)'),\n",
       "              ('곡명', '캥거루 (Kangaroo) (Prod. ZICO)'),\n",
       "              ('가수', 'Wanna One (워너원) - 트리플포지션'),\n",
       "              ('커버이미지_주소',\n",
       "               'https://cdnimg.melon.co.kr/cm/album/images/101/73/365/10173365_500.jpg/melon/resize/120/quality/80/optimize'),\n",
       "              ('좋아요', '104852')]),\n",
       " OrderedDict([('곡일련번호', '31189241'),\n",
       "              ('순위', '48'),\n",
       "              ('앨범', 'RED MOON'),\n",
       "              ('곡명', '너나 해 (Egotistic)'),\n",
       "              ('가수', '마마무(Mamamoo)'),\n",
       "              ('커버이미지_주소',\n",
       "               'https://cdnimg.melon.co.kr/cm/album/images/101/85/416/10185416_500.jpg/melon/resize/120/quality/80/optimize'),\n",
       "              ('좋아요', '94861')]),\n",
       " OrderedDict([('곡일련번호', '30884950'),\n",
       "              ('순위', '49'),\n",
       "              ('앨범', '그때 헤어지면 돼'),\n",
       "              ('곡명', '그때 헤어지면 돼'),\n",
       "              ('가수', '로이킴'),\n",
       "              ('커버이미지_주소',\n",
       "               'https://cdnimg.melon.co.kr/cm/album/images/101/37/574/10137574_500.jpg/melon/resize/120/quality/80/optimize'),\n",
       "              ('좋아요', '176025')]),\n",
       " OrderedDict([('곡일련번호', '30809895'),\n",
       "              ('순위', '50'),\n",
       "              ('앨범', 'inside'),\n",
       "              ('곡명', '미안해'),\n",
       "              ('가수', '양다일'),\n",
       "              ('커버이미지_주소',\n",
       "               'https://cdnimg.melon.co.kr/cm/album/images/101/23/639/10123639_500.jpg/melon/resize/120/quality/80/optimize'),\n",
       "              ('좋아요', '115955')]),\n",
       " OrderedDict([('곡일련번호', '31224316'),\n",
       "              ('순위', '51'),\n",
       "              ('앨범', 'NEW KIDS : CONTINUE'),\n",
       "              ('곡명', '죽겠다 (KILLING ME)'),\n",
       "              ('가수', 'iKON'),\n",
       "              ('커버이미지_주소',\n",
       "               'https://cdnimg.melon.co.kr/cm/album/images/101/90/854/10190854_500.jpg/melon/resize/120/quality/80/optimize'),\n",
       "              ('좋아요', '66253')]),\n",
       " OrderedDict([('곡일련번호', '8235260'),\n",
       "              ('순위', '52'),\n",
       "              ('앨범', '비'),\n",
       "              ('곡명', '비'),\n",
       "              ('가수', '폴킴'),\n",
       "              ('커버이미지_주소',\n",
       "               'https://cdnimg.melon.co.kr/cm/album/images/026/92/501/2692501_500.jpg/melon/resize/120/quality/80/optimize'),\n",
       "              ('좋아요', '156761')]),\n",
       " OrderedDict([('곡일련번호', '30669593'),\n",
       "              ('순위', '53'),\n",
       "              ('앨범', '가을 안부'),\n",
       "              ('곡명', '가을 안부'),\n",
       "              ('가수', '먼데이 키즈 (Monday Kiz)'),\n",
       "              ('커버이미지_주소',\n",
       "               'https://cdnimg.melon.co.kr/cm/album/images/101/02/177/10102177_500.jpg/melon/resize/120/quality/80/optimize'),\n",
       "              ('좋아요', '109447')]),\n",
       " OrderedDict([('곡일련번호', '31133898'),\n",
       "              ('순위', '54'),\n",
       "              ('앨범', 'THIS IS US'),\n",
       "              ('곡명', '너 없인 안 된다'),\n",
       "              ('가수', '비투비'),\n",
       "              ('커버이미지_주소',\n",
       "               'https://cdnimg.melon.co.kr/cm/album/images/101/75/106/10175106_500.jpg/melon/resize/120/quality/80/optimize'),\n",
       "              ('좋아요', '132726')]),\n",
       " OrderedDict([('곡일련번호', '31346039'),\n",
       "              ('순위', '55'),\n",
       "              ('앨범', 'ABOUT ME'),\n",
       "              ('곡명', 'Not A Love'),\n",
       "              ('가수', '바이브'),\n",
       "              ('커버이미지_주소',\n",
       "               'https://cdnimg.melon.co.kr/cm/album/images/102/10/541/10210541_500.jpg/melon/resize/120/quality/80/optimize'),\n",
       "              ('좋아요', '2508')]),\n",
       " OrderedDict([('곡일련번호', '31164090'),\n",
       "              ('순위', '56'),\n",
       "              ('앨범', 'The Fairy Tale'),\n",
       "              ('곡명', '동화'),\n",
       "              ('가수', '멜로망스'),\n",
       "              ('커버이미지_주소',\n",
       "               'https://cdnimg.melon.co.kr/cm/album/images/101/81/438/10181438_500.jpg/melon/resize/120/quality/80/optimize'),\n",
       "              ('좋아요', '81522')]),\n",
       " OrderedDict([('곡일련번호', '31199873'),\n",
       "              ('순위', '57'),\n",
       "              ('앨범', 'THE GREAT SEUNGRI'),\n",
       "              ('곡명', '셋 셀테니 (1, 2, 3!)'),\n",
       "              ('가수', '승리'),\n",
       "              ('커버이미지_주소',\n",
       "               'https://cdnimg.melon.co.kr/cm/album/images/101/87/129/10187129_500.jpg/melon/resize/120/quality/80/optimize'),\n",
       "              ('좋아요', '78381')]),\n",
       " OrderedDict([('곡일련번호', '31161280'),\n",
       "              ('순위', '58'),\n",
       "              ('앨범', 'ONE & SIX'),\n",
       "              ('곡명', '1도 없어'),\n",
       "              ('가수', 'Apink (에이핑크)'),\n",
       "              ('커버이미지_주소',\n",
       "               'https://cdnimg.melon.co.kr/cm/album/images/101/81/013/10181013_500.jpg/melon/resize/120/quality/80/optimize'),\n",
       "              ('좋아요', '88037')]),\n",
       " OrderedDict([('곡일련번호', '30314784'),\n",
       "              ('순위', '59'),\n",
       "              ('앨범', '밤편지'),\n",
       "              ('곡명', '밤편지'),\n",
       "              ('가수', '아이유'),\n",
       "              ('커버이미지_주소',\n",
       "               'https://cdnimg.melon.co.kr/cm/album/images/100/47/890/10047890_500.jpg/melon/resize/120/quality/80/optimize'),\n",
       "              ('좋아요', '283167')]),\n",
       " OrderedDict([('곡일련번호', '31215747'),\n",
       "              ('순위', '60'),\n",
       "              ('앨범', 'SoulMate'),\n",
       "              ('곡명', 'SoulMate (Feat. 아이유)'),\n",
       "              ('가수', '지코 (ZICO)'),\n",
       "              ('커버이미지_주소',\n",
       "               'https://cdnimg.melon.co.kr/cm/album/images/101/89/402/10189402_500.jpg/melon/resize/120/quality/80/optimize'),\n",
       "              ('좋아요', '113443')]),\n",
       " OrderedDict([('곡일련번호', '31189085'),\n",
       "              ('순위', '61'),\n",
       "              ('앨범', 'SEVENTEEN 5TH MINI ALBUM `YOU MAKE MY DAY`'),\n",
       "              ('곡명', '어쩌나'),\n",
       "              ('가수', '세븐틴'),\n",
       "              ('커버이미지_주소',\n",
       "               'https://cdnimg.melon.co.kr/cm/album/images/101/85/387/10185387_500.jpg/melon/resize/120/quality/80/optimize'),\n",
       "              ('좋아요', '64770')]),\n",
       " OrderedDict([('곡일련번호', '31244486'),\n",
       "              ('순위', '62'),\n",
       "              ('앨범', 'A-TEEN Part.3'),\n",
       "              ('곡명', 'A-TEEN'),\n",
       "              ('가수', '세븐틴'),\n",
       "              ('커버이미지_주소',\n",
       "               'https://cdnimg.melon.co.kr/cm/album/images/101/94/044/10194044_500.jpg/melon/resize/120/quality/80/optimize'),\n",
       "              ('좋아요', '75932')]),\n",
       " OrderedDict([('곡일련번호', '30755375'),\n",
       "              ('순위', '63'),\n",
       "              ('앨범', '그날처럼'),\n",
       "              ('곡명', '그날처럼'),\n",
       "              ('가수', '장덕철'),\n",
       "              ('커버이미지_주소',\n",
       "               'https://cdnimg.melon.co.kr/cm/album/images/101/15/186/10115186_500.jpg/melon/resize/120/quality/80/optimize'),\n",
       "              ('좋아요', '208427')]),\n",
       " OrderedDict([('곡일련번호', '31113243'),\n",
       "              ('순위', '64'),\n",
       "              ('앨범', '1÷χ=1 (UNDIVIDED)'),\n",
       "              ('곡명', '모래시계 (Prod. 헤이즈)'),\n",
       "              ('가수', 'Wanna One (워너원) - 더힐'),\n",
       "              ('커버이미지_주소',\n",
       "               'https://cdnimg.melon.co.kr/cm/album/images/101/73/365/10173365_500.jpg/melon/resize/120/quality/80/optimize'),\n",
       "              ('좋아요', '83296')]),\n",
       " OrderedDict([('곡일련번호', '30672529'),\n",
       "              ('순위', '65'),\n",
       "              ('앨범', 'Brother Act.'),\n",
       "              ('곡명', '그리워하다'),\n",
       "              ('가수', '비투비'),\n",
       "              ('커버이미지_주소',\n",
       "               'https://cdnimg.melon.co.kr/cm/album/images/101/02/658/10102658_500.jpg/melon/resize/120/quality/80/optimize'),\n",
       "              ('좋아요', '203463')]),\n",
       " OrderedDict([('곡일련번호', '9642570'),\n",
       "              ('순위', '66'),\n",
       "              ('앨범', '넋두리'),\n",
       "              ('곡명', '넋두리'),\n",
       "              ('가수', '닐로 (Nilo)'),\n",
       "              ('커버이미지_주소',\n",
       "               'https://cdnimg.melon.co.kr/cm/album/images/027/10/553/2710553_500.jpg/melon/resize/120/quality/80/optimize'),\n",
       "              ('좋아요', '81028')]),\n",
       " OrderedDict([('곡일련번호', '30930312'),\n",
       "              ('순위', '67'),\n",
       "              ('앨범', '0+1=1 (I PROMISE YOU)'),\n",
       "              ('곡명', '약속해요 (I.P.U.)'),\n",
       "              ('가수', 'Wanna One (워너원)'),\n",
       "              ('커버이미지_주소',\n",
       "               'https://cdnimg.melon.co.kr/cm/album/images/101/44/723/10144723_2_500.jpg/melon/resize/120/quality/80/optimize'),\n",
       "              ('좋아요', '137141')]),\n",
       " OrderedDict([('곡일련번호', '31263577'),\n",
       "              ('순위', '68'),\n",
       "              ('앨범', '4.1'),\n",
       "              ('곡명', '매트리스'),\n",
       "              ('가수', '10cm'),\n",
       "              ('커버이미지_주소',\n",
       "               'https://cdnimg.melon.co.kr/cm/album/images/101/96/980/10196980_500.jpg/melon/resize/120/quality/80/optimize'),\n",
       "              ('좋아요', '62312')]),\n",
       " OrderedDict([('곡일련번호', '31340983'),\n",
       "              ('순위', '69'),\n",
       "              ('앨범', '쇼미더머니 777 Episode 1'),\n",
       "              ('곡명', '공상과학기술 (Feat. 기리보이, 스윙스)'),\n",
       "              ('가수', 'nafla'),\n",
       "              ('커버이미지_주소',\n",
       "               'https://cdnimg.melon.co.kr/cm/album/images/102/09/647/10209647_500.jpg/melon/resize/120/quality/80/optimize'),\n",
       "              ('좋아요', '13148')]),\n",
       " OrderedDict([('곡일련번호', '31131274'),\n",
       "              ('순위', '70'),\n",
       "              ('앨범', 'SQUARE UP'),\n",
       "              ('곡명', 'Forever Young'),\n",
       "              ('가수', 'BLACKPINK'),\n",
       "              ('커버이미지_주소',\n",
       "               'https://cdnimg.melon.co.kr/cm/album/images/101/76/415/10176415_500.jpg/melon/resize/120/quality/80/optimize'),\n",
       "              ('좋아요', '119422')]),\n",
       " OrderedDict([('곡일련번호', '31246870'),\n",
       "              ('순위', '71'),\n",
       "              ('앨범', '한(一)'),\n",
       "              ('곡명', '한(一)'),\n",
       "              ('가수', '(여자)아이들'),\n",
       "              ('커버이미지_주소',\n",
       "               'https://cdnimg.melon.co.kr/cm/album/images/101/94/362/10194362_500.jpg/melon/resize/120/quality/80/optimize'),\n",
       "              ('좋아요', '69062')]),\n",
       " OrderedDict([('곡일련번호', '31035061'),\n",
       "              ('순위', '72'),\n",
       "              ('앨범', '건반 위의 하이에나 Part.4'),\n",
       "              ('곡명', '주지마'),\n",
       "              ('가수', '로꼬'),\n",
       "              ('커버이미지_주소',\n",
       "               'https://cdnimg.melon.co.kr/cm/album/images/101/60/487/10160487_500.jpg/melon/resize/120/quality/80/optimize'),\n",
       "              ('좋아요', '154263')]),\n",
       " OrderedDict([('곡일련번호', '31147211'),\n",
       "              ('순위', '73'),\n",
       "              ('앨범', 'WHO, YOU'),\n",
       "              ('곡명', 'Dejavu'),\n",
       "              ('가수', '뉴이스트 W'),\n",
       "              ('커버이미지_주소',\n",
       "               'https://cdnimg.melon.co.kr/cm/album/images/101/78/912/10178912_500.jpg/melon/resize/120/quality/80/optimize'),\n",
       "              ('좋아요', '53081')]),\n",
       " OrderedDict([('곡일련번호', '30849733'),\n",
       "              ('순위', '74'),\n",
       "              ('앨범', '투유 프로젝트 - 슈가맨2 Part.2'),\n",
       "              ('곡명', 'You'),\n",
       "              ('가수', '멜로망스'),\n",
       "              ('커버이미지_주소',\n",
       "               'https://cdnimg.melon.co.kr/cm/album/images/101/31/018/10131018_500.jpg/melon/resize/120/quality/80/optimize'),\n",
       "              ('좋아요', '141103')]),\n",
       " OrderedDict([('곡일련번호', '31340984'),\n",
       "              ('순위', '75'),\n",
       "              ('앨범', '쇼미더머니 777 Episode 1'),\n",
       "              ('곡명', '패 (Feat. 넉살, 딥플로우)'),\n",
       "              ('가수', '김효은'),\n",
       "              ('커버이미지_주소',\n",
       "               'https://cdnimg.melon.co.kr/cm/album/images/102/09/647/10209647_500.jpg/melon/resize/120/quality/80/optimize'),\n",
       "              ('좋아요', '10536')]),\n",
       " OrderedDict([('곡일련번호', '31309947'),\n",
       "              ('순위', '76'),\n",
       "              ('앨범', 'A-TEEN Part.4'),\n",
       "              ('곡명', '도망가지마'),\n",
       "              ('가수', '모트 (Motte)'),\n",
       "              ('커버이미지_주소',\n",
       "               'https://cdnimg.melon.co.kr/cm/album/images/102/04/722/10204722_500.jpg/melon/resize/120/quality/80/optimize'),\n",
       "              ('좋아요', '48716')]),\n",
       " OrderedDict([('곡일련번호', '30721801'),\n",
       "              ('순위', '77'),\n",
       "              ('앨범', '돈꽃 OST Part.1'),\n",
       "              ('곡명', 'My Way'),\n",
       "              ('가수', '이수 (엠씨 더 맥스)'),\n",
       "              ('커버이미지_주소',\n",
       "               'https://cdnimg.melon.co.kr/cm/album/images/101/10/396/10110396_500.jpg/melon/resize/120/quality/80/optimize'),\n",
       "              ('좋아요', '119657')]),\n",
       " OrderedDict([('곡일련번호', '30514366'),\n",
       "              ('순위', '78'),\n",
       "              ('앨범', 'Moonlight'),\n",
       "              ('곡명', '선물'),\n",
       "              ('가수', '멜로망스'),\n",
       "              ('커버이미지_주소',\n",
       "               'https://cdnimg.melon.co.kr/cm/album/images/100/78/176/10078176_500.jpg/melon/resize/120/quality/80/optimize'),\n",
       "              ('좋아요', '266869')]),\n",
       " OrderedDict([('곡일련번호', '31227367'),\n",
       "              ('순위', '79'),\n",
       "              ('앨범', '미스터 션샤인 OST Part.5'),\n",
       "              ('곡명', '좋은 날'),\n",
       "              ('가수', '멜로망스'),\n",
       "              ('커버이미지_주소',\n",
       "               'https://cdnimg.melon.co.kr/cm/album/images/101/91/294/10191294_500.jpg/melon/resize/120/quality/80/optimize'),\n",
       "              ('좋아요', '33146')]),\n",
       " OrderedDict([('곡일련번호', '31113242'),\n",
       "              ('순위', '80'),\n",
       "              ('앨범', '1÷χ=1 (UNDIVIDED)'),\n",
       "              ('곡명', '영원+1 (Prod. NELL)'),\n",
       "              ('가수', 'Wanna One (워너원) - 린온미'),\n",
       "              ('커버이미지_주소',\n",
       "               'https://cdnimg.melon.co.kr/cm/album/images/101/73/365/10173365_500.jpg/melon/resize/120/quality/80/optimize'),\n",
       "              ('좋아요', '76313')]),\n",
       " OrderedDict([('곡일련번호', '31266377'),\n",
       "              ('순위', '81'),\n",
       "              ('앨범', '미스터 션샤인 OST Part.10'),\n",
       "              ('곡명', 'AND I'),\n",
       "              ('가수', '뉴이스트 W'),\n",
       "              ('커버이미지_주소',\n",
       "               'https://cdnimg.melon.co.kr/cm/album/images/101/97/500/10197500_500.jpg/melon/resize/120/quality/80/optimize'),\n",
       "              ('좋아요', '20736')]),\n",
       " OrderedDict([('곡일련번호', '31331749'),\n",
       "              ('순위', '82'),\n",
       "              ('앨범', 'I Don’t Care (with 스푼즈)'),\n",
       "              ('곡명', 'I Don’t Care (with 스푼즈)'),\n",
       "              ('가수', '뉴이스트 W'),\n",
       "              ('커버이미지_주소',\n",
       "               'https://cdnimg.melon.co.kr/cm/album/images/102/08/359/10208359_500.jpg/melon/resize/120/quality/80/optimize'),\n",
       "              ('좋아요', '13544')]),\n",
       " OrderedDict([('곡일련번호', '31147212'),\n",
       "              ('순위', '83'),\n",
       "              ('앨범', 'WHO, YOU'),\n",
       "              ('곡명', '북극성 (Polaris)'),\n",
       "              ('가수', '뉴이스트 W'),\n",
       "              ('커버이미지_주소',\n",
       "               'https://cdnimg.melon.co.kr/cm/album/images/101/78/912/10178912_500.jpg/melon/resize/120/quality/80/optimize'),\n",
       "              ('좋아요', '32098')]),\n",
       " OrderedDict([('곡일련번호', '30970444'),\n",
       "              ('순위', '84'),\n",
       "              ('앨범', '소나기 (Feat. 10cm)'),\n",
       "              ('곡명', '소나기 (Feat. 10cm)'),\n",
       "              ('가수', '용준형'),\n",
       "              ('커버이미지_주소',\n",
       "               'https://cdnimg.melon.co.kr/cm/album/images/101/50/572/10150572_500.jpg/melon/resize/120/quality/80/optimize'),\n",
       "              ('좋아요', '130935')]),\n",
       " OrderedDict([('곡일련번호', '31113244'),\n",
       "              ('순위', '85'),\n",
       "              ('앨범', '1÷χ=1 (UNDIVIDED)'),\n",
       "              ('곡명', '11 (Prod. 다이나믹듀오)'),\n",
       "              ('가수', 'Wanna One (워너원) - 남바완'),\n",
       "              ('커버이미지_주소',\n",
       "               'https://cdnimg.melon.co.kr/cm/album/images/101/73/365/10173365_500.jpg/melon/resize/120/quality/80/optimize'),\n",
       "              ('좋아요', '67211')]),\n",
       " OrderedDict([('곡일련번호', '4032981'),\n",
       "              ('순위', '86'),\n",
       "              ('앨범', 'THE SECOND MINI ALBUM `여보세요`'),\n",
       "              ('곡명', '여보세요'),\n",
       "              ('가수', 'NU`EST'),\n",
       "              ('커버이미지_주소',\n",
       "               'https://cdnimg.melon.co.kr/cm/album/images/021/75/137/2175137_500.jpg/melon/resize/120/quality/80/optimize'),\n",
       "              ('좋아요', '126064')]),\n",
       " OrderedDict([('곡일련번호', '31299371'),\n",
       "              ('순위', '87'),\n",
       "              ('앨범', '라이프 OST Part.6'),\n",
       "              ('곡명', '잘 지내요'),\n",
       "              ('가수', '정승환'),\n",
       "              ('커버이미지_주소',\n",
       "               'https://cdnimg.melon.co.kr/cm/album/images/102/02/962/10202962_500.jpg/melon/resize/120/quality/80/optimize'),\n",
       "              ('좋아요', '25169')]),\n",
       " OrderedDict([('곡일련번호', '30806539'),\n",
       "              ('순위', '88'),\n",
       "              ('앨범', 'Universe - 겨울 스페셜 앨범, 2017'),\n",
       "              ('곡명', '지나갈 테니 (Been Through)'),\n",
       "              ('가수', 'EXO'),\n",
       "              ('커버이미지_주소',\n",
       "               'https://cdnimg.melon.co.kr/cm/album/images/101/22/917/10122917_500.jpg/melon/resize/120/quality/80/optimize'),\n",
       "              ('좋아요', '88331')]),\n",
       " OrderedDict([('곡일련번호', '31324696'),\n",
       "              ('순위', '89'),\n",
       "              ('앨범', '연애플레이리스트3 Part.1'),\n",
       "              ('곡명', 'Perfect'),\n",
       "              ('가수', '10cm'),\n",
       "              ('커버이미지_주소',\n",
       "               'https://cdnimg.melon.co.kr/cm/album/images/102/07/153/10207153_500.jpg/melon/resize/120/quality/80/optimize'),\n",
       "              ('좋아요', '24732')]),\n",
       " OrderedDict([('곡일련번호', '8111603'),\n",
       "              ('순위', '90'),\n",
       "              ('앨범', 'Fitz and The Tantrums (Deluxe)'),\n",
       "              ('곡명', 'HandClap'),\n",
       "              ('가수', 'Fitz & The Tantrums'),\n",
       "              ('커버이미지_주소',\n",
       "               'https://cdnimg.melon.co.kr/cm/album/images/026/75/179/2675179_500.jpg/melon/resize/120/quality/80/optimize'),\n",
       "              ('좋아요', '156476')]),\n",
       " OrderedDict([('곡일련번호', '30661885'),\n",
       "              ('순위', '91'),\n",
       "              ('앨범', 'W, HERE'),\n",
       "              ('곡명', 'WHERE YOU AT'),\n",
       "              ('가수', '뉴이스트 W'),\n",
       "              ('커버이미지_주소',\n",
       "               'https://cdnimg.melon.co.kr/cm/album/images/101/00/941/10100941_500.jpg/melon/resize/120/quality/80/optimize'),\n",
       "              ('좋아요', '92753')]),\n",
       " OrderedDict([('곡일련번호', '31006730'),\n",
       "              ('순위', '92'),\n",
       "              ('앨범', 'What is Love?'),\n",
       "              ('곡명', 'What is Love?'),\n",
       "              ('가수', 'TWICE (트와이스)'),\n",
       "              ('커버이미지_주소',\n",
       "               'https://cdnimg.melon.co.kr/cm/album/images/101/56/195/10156195_500.jpg/melon/resize/120/quality/80/optimize'),\n",
       "              ('좋아요', '121530')]),\n",
       " OrderedDict([('곡일련번호', '31052421'),\n",
       "              ('순위', '93'),\n",
       "              ('앨범', \"여자친구 The 6th Mini Album 'Time for the moon night'\"),\n",
       "              ('곡명', '밤 (Time for the moon night)'),\n",
       "              ('가수', '여자친구 (GFRIEND)'),\n",
       "              ('커버이미지_주소',\n",
       "               'https://cdnimg.melon.co.kr/cm/album/images/101/63/106/10163106_500.jpg/melon/resize/120/quality/80/optimize'),\n",
       "              ('좋아요', '125760')]),\n",
       " OrderedDict([('곡일련번호', '31194610'),\n",
       "              ('순위', '94'),\n",
       "              ('앨범', 'Blooming Blue'),\n",
       "              ('곡명', 'Love U'),\n",
       "              ('가수', '청하'),\n",
       "              ('커버이미지_주소',\n",
       "               'https://cdnimg.melon.co.kr/cm/album/images/101/86/254/10186254_500.jpg/melon/resize/120/quality/80/optimize'),\n",
       "              ('좋아요', '61670')]),\n",
       " OrderedDict([('곡일련번호', '31147210'),\n",
       "              ('순위', '95'),\n",
       "              ('앨범', 'WHO, YOU'),\n",
       "              ('곡명', 'Signal'),\n",
       "              ('가수', '뉴이스트 W'),\n",
       "              ('커버이미지_주소',\n",
       "               'https://cdnimg.melon.co.kr/cm/album/images/101/78/912/10178912_500.jpg/melon/resize/120/quality/80/optimize'),\n",
       "              ('좋아요', '27270')]),\n",
       " OrderedDict([('곡일련번호', '30937275'),\n",
       "              ('순위', '96'),\n",
       "              ('앨범', 'Yellow Flower'),\n",
       "              ('곡명', '별이 빛나는 밤'),\n",
       "              ('가수', '마마무(Mamamoo)'),\n",
       "              ('커버이미지_주소',\n",
       "               'https://cdnimg.melon.co.kr/cm/album/images/101/45/303/10145303_500.jpg/melon/resize/120/quality/80/optimize'),\n",
       "              ('좋아요', '145494')]),\n",
       " OrderedDict([('곡일련번호', '31147213'),\n",
       "              ('순위', '97'),\n",
       "              ('앨범', 'WHO, YOU'),\n",
       "              ('곡명', 'ylenoL'),\n",
       "              ('가수', '뉴이스트 W'),\n",
       "              ('커버이미지_주소',\n",
       "               'https://cdnimg.melon.co.kr/cm/album/images/101/78/912/10178912_500.jpg/melon/resize/120/quality/80/optimize'),\n",
       "              ('좋아요', '26136')]),\n",
       " OrderedDict([('곡일련번호', '31288765'),\n",
       "              ('순위', '98'),\n",
       "              ('앨범', '몰랐니 - The 1st Single Album'),\n",
       "              ('곡명', '몰랐니 (Lil` Touch)'),\n",
       "              ('가수', '소녀시대-Oh!GG'),\n",
       "              ('커버이미지_주소',\n",
       "               'https://cdnimg.melon.co.kr/cm/album/images/102/01/272/10201272_500.jpg/melon/resize/120/quality/80/optimize'),\n",
       "              ('좋아요', '42853')]),\n",
       " OrderedDict([('곡일련번호', '31147214'),\n",
       "              ('순위', '99'),\n",
       "              ('앨범', 'WHO, YOU'),\n",
       "              ('곡명', '중력달 (Gravity&Moon;)'),\n",
       "              ('가수', '뉴이스트 W'),\n",
       "              ('커버이미지_주소',\n",
       "               'https://cdnimg.melon.co.kr/cm/album/images/101/78/912/10178912_500.jpg/melon/resize/120/quality/80/optimize'),\n",
       "              ('좋아요', '26091')]),\n",
       " OrderedDict([('곡일련번호', '30806540'),\n",
       "              ('순위', '100'),\n",
       "              ('앨범', 'Universe - 겨울 스페셜 앨범, 2017'),\n",
       "              ('곡명', 'Stay'),\n",
       "              ('가수', 'EXO'),\n",
       "              ('커버이미지_주소',\n",
       "               'https://cdnimg.melon.co.kr/cm/album/images/101/22/917/10122917_500.jpg/melon/resize/120/quality/80/optimize'),\n",
       "              ('좋아요', '81556')])]"
      ]
     },
     "execution_count": 110,
     "metadata": {},
     "output_type": "execute_result"
    }
   ],
   "source": [
    "import csv\n",
    "\n",
    "with open(\"멜론_TOP100.csv\", \"rt\", encoding=\"utf8\") as f:\n",
    "    reader = csv.DictReader(f)\n",
    "    멜론_top100_리스트 = list(reader)\n",
    "\n",
    "멜론_top100_리스트"
   ]
  },
  {
   "cell_type": "code",
   "execution_count": 113,
   "metadata": {},
   "outputs": [
    {
     "data": {
      "text/plain": [
       "'31346009'"
      ]
     },
     "execution_count": 113,
     "metadata": {},
     "output_type": "execute_result"
    }
   ],
   "source": [
    "멜론_top100_리스트[0]['곡일련번호']"
   ]
  },
  {
   "cell_type": "code",
   "execution_count": 115,
   "metadata": {},
   "outputs": [
    {
     "data": {
      "text/plain": [
       "'81556'"
      ]
     },
     "execution_count": 115,
     "metadata": {},
     "output_type": "execute_result"
    }
   ],
   "source": [
    "멜론_top100_리스트[99]['좋아요']"
   ]
  },
  {
   "cell_type": "code",
   "execution_count": 150,
   "metadata": {
    "collapsed": true
   },
   "outputs": [
    {
     "name": "stdout",
     "output_type": "stream",
     "text": [
      "IDOL\n",
      "I`m Fine\n",
      "FAKE LOVE\n",
      "Euphoria\n",
      "Answer : Love Myself\n",
      "전하지 못한 진심 (Feat. Steve Aoki)\n",
      "Epiphany\n",
      "Trivia 轉 : Seesaw\n",
      "Trivia 起 : Just Dance\n",
      "Trivia 承 : Love\n",
      "Anpanman\n",
      "봄날\n",
      "DNA\n",
      "Airplane pt.2\n"
     ]
    }
   ],
   "source": [
    "# 방탄소년단의 곡명만 출력해보세요.\n",
    "for 곡 in 멜론_top100_리스트:\n",
    "    if 곡['가수'] == '방탄소년단':  # filter를 통해서도 구현 가능\n",
    "        print(곡['곡명'])"
   ]
  },
  {
   "cell_type": "code",
   "execution_count": 151,
   "metadata": {},
   "outputs": [
    {
     "name": "stdout",
     "output_type": "stream",
     "text": [
      "가을 타나 봐\n",
      "가을 안부\n"
     ]
    }
   ],
   "source": [
    "# 곡명에 \"가을\"이 들어가는 곡명만 출력해보세요.\n",
    "for 곡 in 멜론_top100_리스트:\n",
    "    if \"가을\" in 곡['곡명']:  # filter를 통해서도 구현 가능\n",
    "        print(곡['곡명'])"
   ]
  },
  {
   "cell_type": "code",
   "execution_count": 158,
   "metadata": {},
   "outputs": [
    {
     "data": {
      "text/plain": [
       "96"
      ]
     },
     "execution_count": 158,
     "metadata": {},
     "output_type": "execute_result"
    }
   ],
   "source": [
    "# 좋아요 수가 20000 이 넘는 곡수는?\n",
    "cnt = 0\n",
    "for 곡 in 멜론_top100_리스트:\n",
    "    if int(곡['좋아요']) >= 20000:\n",
    "        cnt += 1\n",
    "cnt"
   ]
  },
  {
   "cell_type": "code",
   "execution_count": 162,
   "metadata": {
    "collapsed": true
   },
   "outputs": [
    {
     "data": {
      "text/plain": [
       "{'아이유': 2,\n",
       " '로꼬': 2,\n",
       " 'pH-1': 1,\n",
       " '임창정': 1,\n",
       " '방탄소년단': 14,\n",
       " 'iKON': 3,\n",
       " 'Coogie': 1,\n",
       " '로이킴': 2,\n",
       " '바이브': 2,\n",
       " '펀치 (Punch)': 1,\n",
       " '폴킴': 2,\n",
       " '백현 (BAEKHYUN)': 1,\n",
       " '선미': 1,\n",
       " '벤': 1,\n",
       " '숀 (SHAUN)': 1,\n",
       " 'EXO': 3,\n",
       " '찬열': 1,\n",
       " '기리보이': 1,\n",
       " 'EXO-CBX (첸백시)': 1,\n",
       " '저스디스 (JUSTHIS)': 1,\n",
       " '레이 (LAY)': 1,\n",
       " 'BLACKPINK': 2,\n",
       " '닐로 (Nilo)': 2,\n",
       " 'TWICE (트와이스)': 2,\n",
       " '박원': 1,\n",
       " 'Wanna One (워너원)': 5,\n",
       " 'Red Velvet (레드벨벳)': 1,\n",
       " '임한별': 1,\n",
       " '볼빨간사춘기': 1,\n",
       " 'Wanna One (워너원) - 트리플포지션': 1,\n",
       " '마마무(Mamamoo)': 2,\n",
       " '양다일': 1,\n",
       " '먼데이 키즈 (Monday Kiz)': 1,\n",
       " '비투비': 2,\n",
       " '멜로망스': 4,\n",
       " '승리': 1,\n",
       " 'Apink (에이핑크)': 1,\n",
       " '지코 (ZICO)': 1,\n",
       " '세븐틴': 2,\n",
       " '장덕철': 1,\n",
       " 'Wanna One (워너원) - 더힐': 1,\n",
       " '10cm': 2,\n",
       " 'nafla': 1,\n",
       " '(여자)아이들': 1,\n",
       " '뉴이스트 W': 8,\n",
       " '김효은': 1,\n",
       " '모트 (Motte)': 1,\n",
       " '이수 (엠씨 더 맥스)': 1,\n",
       " 'Wanna One (워너원) - 린온미': 1,\n",
       " '용준형': 1,\n",
       " 'Wanna One (워너원) - 남바완': 1,\n",
       " 'NU`EST': 1,\n",
       " '정승환': 1,\n",
       " 'Fitz & The Tantrums': 1,\n",
       " '여자친구 (GFRIEND)': 1,\n",
       " '청하': 1,\n",
       " '소녀시대-Oh!GG': 1}"
      ]
     },
     "execution_count": 162,
     "metadata": {},
     "output_type": "execute_result"
    }
   ],
   "source": [
    "# 가수 별 곡수를 출력해보세요\n",
    "곡수_사전 = {}\n",
    "\n",
    "for 곡 in 멜론_top100_리스트:\n",
    "    가수 = 곡['가수']\n",
    "    if 가수 not in 곡수_사전:\n",
    "        곡수_사전[가수] = 0\n",
    "    곡수_사전[가수] = 곡수_사전[가수] + 1\n",
    "    \n",
    "곡수_사전"
   ]
  },
  {
   "cell_type": "code",
   "execution_count": 165,
   "metadata": {
    "collapsed": true
   },
   "outputs": [
    {
     "data": {
      "text/plain": [
       "defaultdict(int,\n",
       "            {'아이유': 2,\n",
       "             '로꼬': 2,\n",
       "             'pH-1': 1,\n",
       "             '임창정': 1,\n",
       "             '방탄소년단': 14,\n",
       "             'iKON': 3,\n",
       "             'Coogie': 1,\n",
       "             '로이킴': 2,\n",
       "             '바이브': 2,\n",
       "             '펀치 (Punch)': 1,\n",
       "             '폴킴': 2,\n",
       "             '백현 (BAEKHYUN)': 1,\n",
       "             '선미': 1,\n",
       "             '벤': 1,\n",
       "             '숀 (SHAUN)': 1,\n",
       "             'EXO': 3,\n",
       "             '찬열': 1,\n",
       "             '기리보이': 1,\n",
       "             'EXO-CBX (첸백시)': 1,\n",
       "             '저스디스 (JUSTHIS)': 1,\n",
       "             '레이 (LAY)': 1,\n",
       "             'BLACKPINK': 2,\n",
       "             '닐로 (Nilo)': 2,\n",
       "             'TWICE (트와이스)': 2,\n",
       "             '박원': 1,\n",
       "             'Wanna One (워너원)': 5,\n",
       "             'Red Velvet (레드벨벳)': 1,\n",
       "             '임한별': 1,\n",
       "             '볼빨간사춘기': 1,\n",
       "             'Wanna One (워너원) - 트리플포지션': 1,\n",
       "             '마마무(Mamamoo)': 2,\n",
       "             '양다일': 1,\n",
       "             '먼데이 키즈 (Monday Kiz)': 1,\n",
       "             '비투비': 2,\n",
       "             '멜로망스': 4,\n",
       "             '승리': 1,\n",
       "             'Apink (에이핑크)': 1,\n",
       "             '지코 (ZICO)': 1,\n",
       "             '세븐틴': 2,\n",
       "             '장덕철': 1,\n",
       "             'Wanna One (워너원) - 더힐': 1,\n",
       "             '10cm': 2,\n",
       "             'nafla': 1,\n",
       "             '(여자)아이들': 1,\n",
       "             '뉴이스트 W': 8,\n",
       "             '김효은': 1,\n",
       "             '모트 (Motte)': 1,\n",
       "             '이수 (엠씨 더 맥스)': 1,\n",
       "             'Wanna One (워너원) - 린온미': 1,\n",
       "             '용준형': 1,\n",
       "             'Wanna One (워너원) - 남바완': 1,\n",
       "             'NU`EST': 1,\n",
       "             '정승환': 1,\n",
       "             'Fitz & The Tantrums': 1,\n",
       "             '여자친구 (GFRIEND)': 1,\n",
       "             '청하': 1,\n",
       "             '소녀시대-Oh!GG': 1})"
      ]
     },
     "execution_count": 165,
     "metadata": {},
     "output_type": "execute_result"
    }
   ],
   "source": [
    "from collections import defaultdict\n",
    "\n",
    "곡수_사전 = defaultdict(int)\n",
    "\n",
    "for 곡 in 멜론_top100_리스트:\n",
    "    가수 = 곡['가수']\n",
    "    곡수_사전[가수] += 1\n",
    "    \n",
    "곡수_사전"
   ]
  },
  {
   "cell_type": "code",
   "execution_count": 168,
   "metadata": {
    "collapsed": true
   },
   "outputs": [
    {
     "data": {
      "text/plain": [
       "Counter({'아이유': 2,\n",
       "         '로꼬': 2,\n",
       "         'pH-1': 1,\n",
       "         '임창정': 1,\n",
       "         '방탄소년단': 14,\n",
       "         'iKON': 3,\n",
       "         'Coogie': 1,\n",
       "         '로이킴': 2,\n",
       "         '바이브': 2,\n",
       "         '펀치 (Punch)': 1,\n",
       "         '폴킴': 2,\n",
       "         '백현 (BAEKHYUN)': 1,\n",
       "         '선미': 1,\n",
       "         '벤': 1,\n",
       "         '숀 (SHAUN)': 1,\n",
       "         'EXO': 3,\n",
       "         '찬열': 1,\n",
       "         '기리보이': 1,\n",
       "         'EXO-CBX (첸백시)': 1,\n",
       "         '저스디스 (JUSTHIS)': 1,\n",
       "         '레이 (LAY)': 1,\n",
       "         'BLACKPINK': 2,\n",
       "         '닐로 (Nilo)': 2,\n",
       "         'TWICE (트와이스)': 2,\n",
       "         '박원': 1,\n",
       "         'Wanna One (워너원)': 5,\n",
       "         'Red Velvet (레드벨벳)': 1,\n",
       "         '임한별': 1,\n",
       "         '볼빨간사춘기': 1,\n",
       "         'Wanna One (워너원) - 트리플포지션': 1,\n",
       "         '마마무(Mamamoo)': 2,\n",
       "         '양다일': 1,\n",
       "         '먼데이 키즈 (Monday Kiz)': 1,\n",
       "         '비투비': 2,\n",
       "         '멜로망스': 4,\n",
       "         '승리': 1,\n",
       "         'Apink (에이핑크)': 1,\n",
       "         '지코 (ZICO)': 1,\n",
       "         '세븐틴': 2,\n",
       "         '장덕철': 1,\n",
       "         'Wanna One (워너원) - 더힐': 1,\n",
       "         '10cm': 2,\n",
       "         'nafla': 1,\n",
       "         '(여자)아이들': 1,\n",
       "         '뉴이스트 W': 8,\n",
       "         '김효은': 1,\n",
       "         '모트 (Motte)': 1,\n",
       "         '이수 (엠씨 더 맥스)': 1,\n",
       "         'Wanna One (워너원) - 린온미': 1,\n",
       "         '용준형': 1,\n",
       "         'Wanna One (워너원) - 남바완': 1,\n",
       "         'NU`EST': 1,\n",
       "         '정승환': 1,\n",
       "         'Fitz & The Tantrums': 1,\n",
       "         '여자친구 (GFRIEND)': 1,\n",
       "         '청하': 1,\n",
       "         '소녀시대-Oh!GG': 1})"
      ]
     },
     "execution_count": 168,
     "metadata": {},
     "output_type": "execute_result"
    }
   ],
   "source": [
    "from collections import Counter\n",
    "\n",
    "가수_리스트 = []\n",
    "for 곡 in 멜론_top100_리스트:\n",
    "    가수_리스트.append(곡['가수'])\n",
    "Counter(가수_리스트)"
   ]
  },
  {
   "cell_type": "code",
   "execution_count": null,
   "metadata": {},
   "outputs": [],
   "source": []
  },
  {
   "cell_type": "code",
   "execution_count": 173,
   "metadata": {},
   "outputs": [
    {
     "name": "stdout",
     "output_type": "stream",
     "text": [
      "IDOL\n",
      "I`m Fine\n",
      "FAKE LOVE\n",
      "Euphoria\n",
      "Answer : Love Myself\n",
      "전하지 못한 진심 (Feat. Steve Aoki)\n",
      "Epiphany\n",
      "Trivia 轉 : Seesaw\n",
      "Trivia 起 : Just Dance\n",
      "Trivia 承 : Love\n",
      "Anpanman\n",
      "봄날\n",
      "DNA\n",
      "Airplane pt.2\n"
     ]
    }
   ],
   "source": [
    "# 방탄소년단의 곡명만 출력해보세요.\n",
    "\n",
    "# def filter_fn(곡):\n",
    "#     if 곡['가수'] == '방탄소년단':\n",
    "#         return True\n",
    "#     return False\n",
    "\n",
    "# def filter_fn(곡):\n",
    "#     return 곡['가수'] == '방탄소년단'\n",
    "\n",
    "filter_fn = lambda 곡: 곡['가수'] == '방탄소년단'\n",
    "\n",
    "for 곡 in filter(filter_fn, 멜론_top100_리스트):\n",
    "    print(곡['곡명'])"
   ]
  },
  {
   "cell_type": "code",
   "execution_count": 171,
   "metadata": {},
   "outputs": [
    {
     "data": {
      "text/plain": [
       "<filter at 0x11b97e240>"
      ]
     },
     "execution_count": 171,
     "metadata": {},
     "output_type": "execute_result"
    }
   ],
   "source": [
    "filter(filter_fn, 멜론_top100_리스트)"
   ]
  },
  {
   "cell_type": "code",
   "execution_count": 174,
   "metadata": {},
   "outputs": [
    {
     "name": "stdout",
     "output_type": "stream",
     "text": [
      "가을 타나 봐\n",
      "가을 안부\n"
     ]
    }
   ],
   "source": [
    "# 곡명에 \"가을\"이 들어가는 곡명만 출력해보세요.\n",
    "filter_fn = lambda 곡: \"가을\" in 곡['곡명']\n",
    "\n",
    "for 곡 in filter(filter_fn, 멜론_top100_리스트):\n",
    "    print(곡['곡명'])"
   ]
  },
  {
   "cell_type": "code",
   "execution_count": 180,
   "metadata": {
    "collapsed": true
   },
   "outputs": [
    {
     "data": {
      "text/plain": [
       "['삐삐',\n",
       " '시간이',\n",
       " 'Good',\n",
       " '하루도',\n",
       " 'IDOL',\n",
       " '이별길',\n",
       " '사임사임',\n",
       " 'I`m',\n",
       " '우리',\n",
       " 'FAKE',\n",
       " '가을',\n",
       " 'Euphoria',\n",
       " '헤어지는',\n",
       " 'Answer',\n",
       " '전하지',\n",
       " 'Epiphany',\n",
       " 'Trivia',\n",
       " '모든',\n",
       " 'YOUNG',\n",
       " 'Trivia',\n",
       " '사이렌',\n",
       " 'Trivia',\n",
       " '열애중',\n",
       " 'Way',\n",
       " 'Anpanman',\n",
       " '봄날',\n",
       " 'DNA',\n",
       " 'Airplane',\n",
       " 'Universe',\n",
       " 'We',\n",
       " 'flex',\n",
       " '花요일',\n",
       " 'IndiGO',\n",
       " 'Sheep',\n",
       " '뚜두뚜두',\n",
       " '지나오다',\n",
       " 'Dance',\n",
       " '나',\n",
       " '켜줘',\n",
       " 'Power',\n",
       " '에너제틱',\n",
       " '사랑을',\n",
       " '이별하러',\n",
       " 'BOOMERANG',\n",
       " 'Beautiful',\n",
       " '여행',\n",
       " '캥거루',\n",
       " '너나',\n",
       " '그때',\n",
       " '미안해',\n",
       " '죽겠다',\n",
       " '비',\n",
       " '가을',\n",
       " '너',\n",
       " 'Not',\n",
       " '동화',\n",
       " '셋',\n",
       " '1도',\n",
       " '밤편지',\n",
       " 'SoulMate',\n",
       " '어쩌나',\n",
       " 'A-TEEN',\n",
       " '그날처럼',\n",
       " '모래시계',\n",
       " '그리워하다',\n",
       " '넋두리',\n",
       " '약속해요',\n",
       " '매트리스',\n",
       " '공상과학기술',\n",
       " 'Forever',\n",
       " '한(一)',\n",
       " '주지마',\n",
       " 'Dejavu',\n",
       " 'You',\n",
       " '패',\n",
       " '도망가지마',\n",
       " 'My',\n",
       " '선물',\n",
       " '좋은',\n",
       " '영원+1',\n",
       " 'AND',\n",
       " 'I',\n",
       " '북극성',\n",
       " '소나기',\n",
       " '11',\n",
       " '여보세요',\n",
       " '잘',\n",
       " '지나갈',\n",
       " 'Perfect',\n",
       " 'HandClap',\n",
       " 'WHERE',\n",
       " 'What',\n",
       " '밤',\n",
       " 'Love',\n",
       " 'Signal',\n",
       " '별이',\n",
       " 'ylenoL',\n",
       " '몰랐니',\n",
       " '중력달',\n",
       " 'Stay']"
      ]
     },
     "execution_count": 180,
     "metadata": {},
     "output_type": "execute_result"
    }
   ],
   "source": [
    "# 멜론 TOP100 리스트에서 “곡명\" 단어수 출력\n",
    "# for 곡 in 멜론_top100_리스트:\n",
    "#     print(len(곡['곡명']))\n",
    "\n",
    "# map_fn = lambda 곡: len(곡['곡명'])\n",
    "map_fn = lambda 곡: 곡['곡명'].split()[0]\n",
    "\n",
    "list(map(map_fn, 멜론_top100_리스트))"
   ]
  },
  {
   "cell_type": "code",
   "execution_count": 188,
   "metadata": {},
   "outputs": [
    {
     "name": "stdout",
     "output_type": "stream",
     "text": [
      "봄날 - 359130\n",
      "DNA - 323911\n",
      "밤편지 - 283167\n",
      "에너제틱 (Energetic) - 268394\n",
      "사랑을 했다 (LOVE SCENARIO) - 267692\n",
      "선물 - 266869\n",
      "FAKE LOVE - 253847\n",
      "Way Back Home - 225308\n",
      "Beautiful - 216065\n",
      "그날처럼 - 208427\n",
      "그리워하다 - 203463\n",
      "뚜두뚜두 (DDU-DU DDU-DU) - 192831\n",
      "여행 - 190489\n",
      "모든 날, 모든 순간 (Every day, Every Moment) - 185706\n",
      "지나오다 - 178367\n",
      "전하지 못한 진심 (Feat. Steve Aoki) - 176653\n",
      "그때 헤어지면 돼 - 176025\n",
      "IDOL - 173279\n",
      "비 - 156761\n",
      "HandClap - 156476\n",
      "Universe - 155809\n",
      "주지마 - 154263\n",
      "별이 빛나는 밤 - 145494\n",
      "You - 141103\n",
      "Anpanman - 138694\n",
      "약속해요 (I.P.U.) - 137141\n",
      "I`m Fine - 132847\n",
      "너 없인 안 된다 - 132726\n",
      "Power Up - 130949\n",
      "소나기 (Feat. 10cm) - 130935\n",
      "Euphoria - 129017\n",
      "Airplane pt.2 - 127355\n",
      "Dance The Night Away - 127052\n",
      "여보세요 - 126064\n",
      "밤 (Time for the moon night) - 125760\n",
      "BOOMERANG (부메랑) - 124968\n",
      "What is Love? - 121530\n",
      "My Way - 119657\n",
      "Forever Young - 119422\n",
      "미안해 - 115955\n",
      "열애중 - 115805\n",
      "SoulMate (Feat. 아이유) - 113443\n",
      "켜줘 (Light) - 112878\n",
      "花요일 (Blooming Day) - 110311\n",
      "가을 안부 - 109447\n",
      "Answer : Love Myself - 108151\n",
      "캥거루 (Kangaroo) (Prod. ZICO) - 104852\n",
      "Epiphany - 101011\n",
      "Trivia 轉 : Seesaw - 98436\n",
      "하루도 그대를 사랑하지 않은 적이 없었다 - 97984\n",
      "우리 그만하자 - 95771\n",
      "너나 해 (Egotistic) - 94861\n",
      "WHERE YOU AT - 92753\n",
      "사이렌 (Siren) - 91516\n",
      "YOUNG - 91106\n",
      "Trivia 起 : Just Dance - 88970\n",
      "지나갈 테니 (Been Through) - 88331\n",
      "1도 없어 - 88037\n",
      "Trivia 承 : Love - 83610\n",
      "모래시계 (Prod. 헤이즈) - 83296\n",
      "Stay - 81556\n",
      "동화 - 81522\n",
      "넋두리 - 81028\n",
      "셋 셀테니 (1, 2, 3!) - 78381\n",
      "헤어지는 중 - 77050\n",
      "영원+1 (Prod. NELL) - 76313\n",
      "A-TEEN - 75932\n",
      "flex (Prod. By 기리보이) - 72135\n",
      "한(一) - 69062\n",
      "11 (Prod. 다이나믹듀오) - 67211\n",
      "죽겠다 (KILLING ME) - 66253\n",
      "어쩌나 - 64770\n",
      "매트리스 - 62312\n",
      "Love U - 61670\n",
      "삐삐 - 61528\n",
      "이별길 (GOODBYE ROAD) - 55396\n",
      "Good Day (Feat. 팔로알토) (Prod. 코드 쿤스트) - 54022\n",
      "We Young - 53852\n",
      "Dejavu - 53081\n",
      "도망가지마 - 48716\n",
      "시간이 들겠지 (Feat. Colde) - 48331\n",
      "IndiGO - 46739\n",
      "몰랐니 (Lil` Touch) - 42853\n",
      "좋은 날 - 33146\n",
      "북극성 (Polaris) - 32098\n",
      "Sheep (Alan Walker Relift) - 30411\n",
      "가을 타나 봐 - 28056\n",
      "사임사임 (Feat. CHANGMO) - 27564\n",
      "Signal - 27270\n",
      "나 - 26696\n",
      "ylenoL - 26136\n",
      "중력달 (Gravity&Moon;) - 26091\n",
      "이별하러 가는 길 - 25182\n",
      "잘 지내요 - 25169\n",
      "Perfect - 24732\n",
      "AND I - 20736\n",
      "I Don’t Care (with 스푼즈) - 13544\n",
      "공상과학기술 (Feat. 기리보이, 스윙스) - 13148\n",
      "패 (Feat. 넉살, 딥플로우) - 10536\n",
      "Not A Love - 2508\n"
     ]
    }
   ],
   "source": [
    "# 좋아요 수로, TOP10 구하기 => map, sorted\n",
    "\n",
    "def map_fn(곡):\n",
    "    곡['좋아요'] = int(곡['좋아요'])\n",
    "    return 곡\n",
    "    \n",
    "def sort_fn(곡):\n",
    "    return 곡['좋아요']\n",
    "\n",
    "map_obj = map(map_fn, 멜론_top100_리스트)\n",
    "정렬결과_리스트 = sorted(map_obj, key=sort_fn, reverse=True)\n",
    "\n",
    "for 곡 in 정렬결과_리스트:\n",
    "#     print('{} - {}'.format(곡['곡명'], 곡['좋아요']))\n",
    "    print('{곡명} - {좋아요}'.format(**곡))"
   ]
  },
  {
   "cell_type": "code",
   "execution_count": null,
   "metadata": {},
   "outputs": [],
   "source": []
  },
  {
   "cell_type": "code",
   "execution_count": null,
   "metadata": {},
   "outputs": [],
   "source": []
  },
  {
   "cell_type": "code",
   "execution_count": null,
   "metadata": {},
   "outputs": [],
   "source": []
  },
  {
   "cell_type": "markdown",
   "metadata": {},
   "source": [
    "### Pandas로 풀이"
   ]
  },
  {
   "cell_type": "code",
   "execution_count": 117,
   "metadata": {},
   "outputs": [
    {
     "name": "stdout",
     "output_type": "stream",
     "text": [
      "(100, 6)\n"
     ]
    },
    {
     "data": {
      "text/html": [
       "<div>\n",
       "<style scoped>\n",
       "    .dataframe tbody tr th:only-of-type {\n",
       "        vertical-align: middle;\n",
       "    }\n",
       "\n",
       "    .dataframe tbody tr th {\n",
       "        vertical-align: top;\n",
       "    }\n",
       "\n",
       "    .dataframe thead th {\n",
       "        text-align: right;\n",
       "    }\n",
       "</style>\n",
       "<table border=\"1\" class=\"dataframe\">\n",
       "  <thead>\n",
       "    <tr style=\"text-align: right;\">\n",
       "      <th></th>\n",
       "      <th>순위</th>\n",
       "      <th>앨범</th>\n",
       "      <th>곡명</th>\n",
       "      <th>가수</th>\n",
       "      <th>커버이미지_주소</th>\n",
       "      <th>좋아요</th>\n",
       "    </tr>\n",
       "    <tr>\n",
       "      <th>곡일련번호</th>\n",
       "      <th></th>\n",
       "      <th></th>\n",
       "      <th></th>\n",
       "      <th></th>\n",
       "      <th></th>\n",
       "      <th></th>\n",
       "    </tr>\n",
       "  </thead>\n",
       "  <tbody>\n",
       "    <tr>\n",
       "      <th>31346009</th>\n",
       "      <td>1</td>\n",
       "      <td>삐삐</td>\n",
       "      <td>삐삐</td>\n",
       "      <td>아이유</td>\n",
       "      <td>https://cdnimg.melon.co.kr/cm/album/images/102...</td>\n",
       "      <td>61528</td>\n",
       "    </tr>\n",
       "    <tr>\n",
       "      <th>31344113</th>\n",
       "      <td>2</td>\n",
       "      <td>시간이 들겠지</td>\n",
       "      <td>시간이 들겠지 (Feat. Colde)</td>\n",
       "      <td>로꼬</td>\n",
       "      <td>https://cdnimg.melon.co.kr/cm/album/images/102...</td>\n",
       "      <td>48331</td>\n",
       "    </tr>\n",
       "    <tr>\n",
       "      <th>31340985</th>\n",
       "      <td>3</td>\n",
       "      <td>쇼미더머니 777 Episode 1</td>\n",
       "      <td>Good Day (Feat. 팔로알토) (Prod. 코드 쿤스트)</td>\n",
       "      <td>pH-1</td>\n",
       "      <td>https://cdnimg.melon.co.kr/cm/album/images/102...</td>\n",
       "      <td>54022</td>\n",
       "    </tr>\n",
       "    <tr>\n",
       "      <th>31316695</th>\n",
       "      <td>4</td>\n",
       "      <td>하루도 그대를 사랑하지 않은 적이 없었다</td>\n",
       "      <td>하루도 그대를 사랑하지 않은 적이 없었다</td>\n",
       "      <td>임창정</td>\n",
       "      <td>https://cdnimg.melon.co.kr/cm/album/images/102...</td>\n",
       "      <td>97984</td>\n",
       "    </tr>\n",
       "    <tr>\n",
       "      <th>31266290</th>\n",
       "      <td>5</td>\n",
       "      <td>LOVE YOURSELF 結 `Answer`</td>\n",
       "      <td>IDOL</td>\n",
       "      <td>방탄소년단</td>\n",
       "      <td>https://cdnimg.melon.co.kr/cm/album/images/101...</td>\n",
       "      <td>173279</td>\n",
       "    </tr>\n",
       "  </tbody>\n",
       "</table>\n",
       "</div>"
      ],
      "text/plain": [
       "         순위                        앨범                                    곡명  \\\n",
       "곡일련번호                                                                         \n",
       "31346009  1                        삐삐                                    삐삐   \n",
       "31344113  2                   시간이 들겠지                 시간이 들겠지 (Feat. Colde)   \n",
       "31340985  3       쇼미더머니 777 Episode 1  Good Day (Feat. 팔로알토) (Prod. 코드 쿤스트)   \n",
       "31316695  4    하루도 그대를 사랑하지 않은 적이 없었다                하루도 그대를 사랑하지 않은 적이 없었다   \n",
       "31266290  5  LOVE YOURSELF 結 `Answer`                                  IDOL   \n",
       "\n",
       "             가수                                           커버이미지_주소     좋아요  \n",
       "곡일련번호                                                                       \n",
       "31346009    아이유  https://cdnimg.melon.co.kr/cm/album/images/102...   61528  \n",
       "31344113     로꼬  https://cdnimg.melon.co.kr/cm/album/images/102...   48331  \n",
       "31340985   pH-1  https://cdnimg.melon.co.kr/cm/album/images/102...   54022  \n",
       "31316695    임창정  https://cdnimg.melon.co.kr/cm/album/images/102...   97984  \n",
       "31266290  방탄소년단  https://cdnimg.melon.co.kr/cm/album/images/101...  173279  "
      ]
     },
     "execution_count": 117,
     "metadata": {},
     "output_type": "execute_result"
    }
   ],
   "source": [
    "import pandas as pd\n",
    "\n",
    "df = pd.DataFrame(멜론_top100_리스트).set_index('곡일련번호')\n",
    "print(df.shape)\n",
    "df.head()"
   ]
  },
  {
   "cell_type": "code",
   "execution_count": 118,
   "metadata": {},
   "outputs": [
    {
     "data": {
      "text/plain": [
       "곡일련번호\n",
       "31266290                            IDOL\n",
       "31266289                        I`m Fine\n",
       "31085237                       FAKE LOVE\n",
       "31266282                        Euphoria\n",
       "31266291            Answer : Love Myself\n",
       "31085238    전하지 못한 진심 (Feat. Steve Aoki)\n",
       "31266288                        Epiphany\n",
       "31266286               Trivia 轉 : Seesaw\n",
       "31266292           Trivia 起 : Just Dance\n",
       "31266300                 Trivia 承 : Love\n",
       "31085244                        Anpanman\n",
       "30244931                              봄날\n",
       "30637982                             DNA\n",
       "31085243                   Airplane pt.2\n",
       "Name: 곡명, dtype: object"
      ]
     },
     "execution_count": 118,
     "metadata": {},
     "output_type": "execute_result"
    }
   ],
   "source": [
    "# 방탄소년단의 곡명\n",
    "mask = df['가수'] == '방탄소년단'\n",
    "df.loc[mask, '곡명']"
   ]
  },
  {
   "cell_type": "code",
   "execution_count": 120,
   "metadata": {},
   "outputs": [
    {
     "data": {
      "text/html": [
       "<div>\n",
       "<style scoped>\n",
       "    .dataframe tbody tr th:only-of-type {\n",
       "        vertical-align: middle;\n",
       "    }\n",
       "\n",
       "    .dataframe tbody tr th {\n",
       "        vertical-align: top;\n",
       "    }\n",
       "\n",
       "    .dataframe thead th {\n",
       "        text-align: right;\n",
       "    }\n",
       "</style>\n",
       "<table border=\"1\" class=\"dataframe\">\n",
       "  <thead>\n",
       "    <tr style=\"text-align: right;\">\n",
       "      <th></th>\n",
       "      <th>순위</th>\n",
       "      <th>앨범</th>\n",
       "      <th>곡명</th>\n",
       "      <th>가수</th>\n",
       "      <th>커버이미지_주소</th>\n",
       "      <th>좋아요</th>\n",
       "    </tr>\n",
       "    <tr>\n",
       "      <th>곡일련번호</th>\n",
       "      <th></th>\n",
       "      <th></th>\n",
       "      <th></th>\n",
       "      <th></th>\n",
       "      <th></th>\n",
       "      <th></th>\n",
       "    </tr>\n",
       "  </thead>\n",
       "  <tbody>\n",
       "    <tr>\n",
       "      <th>31314144</th>\n",
       "      <td>11</td>\n",
       "      <td>가을 타나 봐</td>\n",
       "      <td>가을 타나 봐</td>\n",
       "      <td>바이브</td>\n",
       "      <td>https://cdnimg.melon.co.kr/cm/album/images/102...</td>\n",
       "      <td>28056</td>\n",
       "    </tr>\n",
       "    <tr>\n",
       "      <th>30669593</th>\n",
       "      <td>53</td>\n",
       "      <td>가을 안부</td>\n",
       "      <td>가을 안부</td>\n",
       "      <td>먼데이 키즈 (Monday Kiz)</td>\n",
       "      <td>https://cdnimg.melon.co.kr/cm/album/images/101...</td>\n",
       "      <td>109447</td>\n",
       "    </tr>\n",
       "  </tbody>\n",
       "</table>\n",
       "</div>"
      ],
      "text/plain": [
       "          순위       앨범       곡명                   가수  \\\n",
       "곡일련번호                                                 \n",
       "31314144  11  가을 타나 봐  가을 타나 봐                  바이브   \n",
       "30669593  53    가을 안부    가을 안부  먼데이 키즈 (Monday Kiz)   \n",
       "\n",
       "                                                   커버이미지_주소     좋아요  \n",
       "곡일련번호                                                                \n",
       "31314144  https://cdnimg.melon.co.kr/cm/album/images/102...   28056  \n",
       "30669593  https://cdnimg.melon.co.kr/cm/album/images/101...  109447  "
      ]
     },
     "execution_count": 120,
     "metadata": {},
     "output_type": "execute_result"
    }
   ],
   "source": [
    "# 곡명에 \"가을\"이 들어가는 노래\n",
    "mask = df['곡명'].str.contains('가을')\n",
    "df.loc[mask]"
   ]
  },
  {
   "cell_type": "code",
   "execution_count": 128,
   "metadata": {},
   "outputs": [
    {
     "data": {
      "text/plain": [
       "(96, 6)"
      ]
     },
     "execution_count": 128,
     "metadata": {},
     "output_type": "execute_result"
    }
   ],
   "source": [
    "# 좋아요 수가 20000 이 넘는 곡수는?\n",
    "mask = df['좋아요'].astype('int') >= 20000\n",
    "df.loc[mask].shape"
   ]
  },
  {
   "cell_type": "code",
   "execution_count": 139,
   "metadata": {},
   "outputs": [
    {
     "data": {
      "text/plain": [
       "가수\n",
       "방탄소년단                       14\n",
       "뉴이스트 W                       8\n",
       "Wanna One (워너원)              5\n",
       "멜로망스                         4\n",
       "EXO                          3\n",
       "iKON                         3\n",
       "세븐틴                          2\n",
       "10cm                         2\n",
       "BLACKPINK                    2\n",
       "TWICE (트와이스)                 2\n",
       "닐로 (Nilo)                    2\n",
       "로꼬                           2\n",
       "로이킴                          2\n",
       "마마무(Mamamoo)                 2\n",
       "바이브                          2\n",
       "비투비                          2\n",
       "폴킴                           2\n",
       "아이유                          2\n",
       "소녀시대-Oh!GG                   1\n",
       "Red Velvet (레드벨벳)            1\n",
       "장덕철                          1\n",
       "Wanna One (워너원) - 트리플포지션     1\n",
       "Wanna One (워너원) - 린온미        1\n",
       "Wanna One (워너원) - 더힐         1\n",
       "Wanna One (워너원) - 남바완        1\n",
       "저스디스 (JUSTHIS)               1\n",
       "정승환                          1\n",
       "NU`EST                       1\n",
       "pH-1                         1\n",
       "Fitz & The Tantrums          1\n",
       "EXO-CBX (첸백시)                1\n",
       "지코 (ZICO)                    1\n",
       "Coogie                       1\n",
       "찬열                           1\n",
       "Apink (에이핑크)                 1\n",
       "청하                           1\n",
       "nafla                        1\n",
       "기리보이                         1\n",
       "숀 (SHAUN)                    1\n",
       "모트 (Motte)                   1\n",
       "선미                           1\n",
       "승리                           1\n",
       "볼빨간사춘기                       1\n",
       "벤                            1\n",
       "백현 (BAEKHYUN)                1\n",
       "박원                           1\n",
       "양다일                          1\n",
       "펀치 (Punch)                   1\n",
       "김효은                          1\n",
       "먼데이 키즈 (Monday Kiz)          1\n",
       "여자친구 (GFRIEND)               1\n",
       "용준형                          1\n",
       "이수 (엠씨 더 맥스)                 1\n",
       "레이 (LAY)                     1\n",
       "임창정                          1\n",
       "임한별                          1\n",
       "(여자)아이들                      1\n",
       "Name: 곡명, dtype: int64"
      ]
     },
     "execution_count": 139,
     "metadata": {},
     "output_type": "execute_result"
    }
   ],
   "source": [
    "# 가수별 곡수는?\n",
    "곡_count_series = df.groupby('가수')['곡명'].agg('count')\n",
    "곡_count_series.sort_values(ascending=False)"
   ]
  },
  {
   "cell_type": "code",
   "execution_count": 140,
   "metadata": {},
   "outputs": [
    {
     "data": {
      "text/plain": [
       "가수\n",
       "방탄소년단              14\n",
       "뉴이스트 W              8\n",
       "Wanna One (워너원)     5\n",
       "멜로망스                4\n",
       "EXO                 3\n",
       "iKON                3\n",
       "세븐틴                 2\n",
       "10cm                2\n",
       "BLACKPINK           2\n",
       "TWICE (트와이스)        2\n",
       "Name: 곡명, dtype: int64"
      ]
     },
     "execution_count": 140,
     "metadata": {},
     "output_type": "execute_result"
    }
   ],
   "source": [
    "곡_count_series.sort_values(ascending=False)[:10]"
   ]
  },
  {
   "cell_type": "code",
   "execution_count": 142,
   "metadata": {},
   "outputs": [
    {
     "data": {
      "text/plain": [
       "<matplotlib.axes._subplots.AxesSubplot at 0x11b895128>"
      ]
     },
     "execution_count": 142,
     "metadata": {},
     "output_type": "execute_result"
    },
    {
     "data": {
      "image/png": "[encoded data removed]",
      "text/plain": [
       "<Figure size 432x288 with 1 Axes>"
      ]
     },
     "metadata": {},
     "output_type": "display_data"
    }
   ],
   "source": [
    "%matplotlib inline\n",
    "곡_count_series.sort_values(ascending=False)[:10].plot(kind='pie')"
   ]
  },
  {
   "cell_type": "code",
   "execution_count": null,
   "metadata": {},
   "outputs": [],
   "source": []
  }
 ],
 "metadata": {
  "kernelspec": {
   "display_name": "Python 3",
   "language": "python",
   "name": "python3"
  },
  "language_info": {
   "codemirror_mode": {
    "name": "ipython",
    "version": 3
   },
   "file_extension": ".py",
   "mimetype": "text/x-python",
   "name": "python",
   "nbconvert_exporter": "python",
   "pygments_lexer": "ipython3",
   "version": "3.6.6"
  }
 },
 "nbformat": 4,
 "nbformat_minor": 2
}
