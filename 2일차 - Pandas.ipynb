{
 "cells": [
  {
   "cell_type": "code",
   "execution_count": null,
   "metadata": {},
   "outputs": [],
   "source": [
    "name = input(\"Enter your name :\")"
   ]
  },
  {
   "cell_type": "code",
   "execution_count": null,
   "metadata": {},
   "outputs": [],
   "source": [
    "name"
   ]
  },
  {
   "cell_type": "code",
   "execution_count": null,
   "metadata": {},
   "outputs": [],
   "source": [
    "from getpass import getpass\n",
    "\n",
    "pw = getpass('Enter your password :')"
   ]
  },
  {
   "cell_type": "code",
   "execution_count": null,
   "metadata": {},
   "outputs": [],
   "source": [
    "pw"
   ]
  },
  {
   "cell_type": "code",
   "execution_count": 2,
   "metadata": {},
   "outputs": [
    {
     "name": "stdout",
     "output_type": "stream",
     "text": [
      "구구단 숫자 ? 3\n",
      "3 * 1 = 3\n",
      "3 * 2 = 6\n",
      "3 * 3 = 9\n",
      "3 * 4 = 12\n",
      "3 * 5 = 15\n",
      "3 * 6 = 18\n",
      "3 * 7 = 21\n",
      "3 * 8 = 24\n",
      "3 * 9 = 27\n"
     ]
    }
   ],
   "source": [
    "number = int(input(\"구구단 숫자 ? \"))\n",
    "\n",
    "for i in range(1, 10):\n",
    "    print('{} * {} = {}'.format(number, i, number * i))"
   ]
  },
  {
   "cell_type": "markdown",
   "metadata": {},
   "source": [
    "## EP01"
   ]
  },
  {
   "cell_type": "code",
   "execution_count": 3,
   "metadata": {},
   "outputs": [
    {
     "name": "stdout",
     "output_type": "stream",
     "text": [
      "(44, 6)\n"
     ]
    },
    {
     "data": {
      "text/html": [
       "<div>\n",
       "<style scoped>\n",
       "    .dataframe tbody tr th:only-of-type {\n",
       "        vertical-align: middle;\n",
       "    }\n",
       "\n",
       "    .dataframe tbody tr th {\n",
       "        vertical-align: top;\n",
       "    }\n",
       "\n",
       "    .dataframe thead th {\n",
       "        text-align: right;\n",
       "    }\n",
       "</style>\n",
       "<table border=\"1\" class=\"dataframe\">\n",
       "  <thead>\n",
       "    <tr style=\"text-align: right;\">\n",
       "      <th></th>\n",
       "      <th>매매기준율</th>\n",
       "      <th>현찰 - 사실 때</th>\n",
       "      <th>현찰 - 파실 때</th>\n",
       "      <th>송금 - 보내실 때</th>\n",
       "      <th>송금 - 받으실 때</th>\n",
       "      <th>미화환산율</th>\n",
       "    </tr>\n",
       "    <tr>\n",
       "      <th>통화명</th>\n",
       "      <th></th>\n",
       "      <th></th>\n",
       "      <th></th>\n",
       "      <th></th>\n",
       "      <th></th>\n",
       "      <th></th>\n",
       "    </tr>\n",
       "  </thead>\n",
       "  <tbody>\n",
       "    <tr>\n",
       "      <th>미국 USD</th>\n",
       "      <td>1133.80</td>\n",
       "      <td>1153.64</td>\n",
       "      <td>1113.96</td>\n",
       "      <td>1144.90</td>\n",
       "      <td>1122.70</td>\n",
       "      <td>1.000</td>\n",
       "    </tr>\n",
       "    <tr>\n",
       "      <th>유럽연합 EUR</th>\n",
       "      <td>1280.00</td>\n",
       "      <td>1305.47</td>\n",
       "      <td>1254.53</td>\n",
       "      <td>1292.80</td>\n",
       "      <td>1267.20</td>\n",
       "      <td>1.129</td>\n",
       "    </tr>\n",
       "    <tr>\n",
       "      <th>일본 JPY (100엔)</th>\n",
       "      <td>995.13</td>\n",
       "      <td>1012.54</td>\n",
       "      <td>977.72</td>\n",
       "      <td>1004.88</td>\n",
       "      <td>985.38</td>\n",
       "      <td>0.878</td>\n",
       "    </tr>\n",
       "    <tr>\n",
       "      <th>중국 CNY</th>\n",
       "      <td>163.20</td>\n",
       "      <td>171.36</td>\n",
       "      <td>155.04</td>\n",
       "      <td>164.83</td>\n",
       "      <td>161.57</td>\n",
       "      <td>0.144</td>\n",
       "    </tr>\n",
       "    <tr>\n",
       "      <th>홍콩 HKD</th>\n",
       "      <td>144.77</td>\n",
       "      <td>147.62</td>\n",
       "      <td>141.92</td>\n",
       "      <td>146.21</td>\n",
       "      <td>143.33</td>\n",
       "      <td>0.128</td>\n",
       "    </tr>\n",
       "  </tbody>\n",
       "</table>\n",
       "</div>"
      ],
      "text/plain": [
       "                 매매기준율  현찰 - 사실 때  현찰 - 파실 때  송금 - 보내실 때  송금 - 받으실 때  미화환산율\n",
       "통화명                                                                        \n",
       "미국 USD         1133.80    1153.64    1113.96     1144.90     1122.70  1.000\n",
       "유럽연합 EUR       1280.00    1305.47    1254.53     1292.80     1267.20  1.129\n",
       "일본 JPY (100엔)   995.13    1012.54     977.72     1004.88      985.38  0.878\n",
       "중국 CNY          163.20     171.36     155.04      164.83      161.57  0.144\n",
       "홍콩 HKD          144.77     147.62     141.92      146.21      143.33  0.128"
      ]
     },
     "execution_count": 3,
     "metadata": {},
     "output_type": "execute_result"
    }
   ],
   "source": [
    "import pandas as pd\n",
    "\n",
    "url = \"https://finance.naver.com/marketindex/exchangeList.nhn\"\n",
    "\n",
    "df = pd.read_html(url)[0]\n",
    "df.columns = [\n",
    "    '통화명', '매매기준율', '현찰 - 사실 때', '현찰 - 파실 때',\n",
    "    '송금 - 보내실 때', '송금 - 받으실 때', '미화환산율',\n",
    "]\n",
    "df = df.set_index('통화명')\n",
    "\n",
    "print(df.shape)\n",
    "df.head()"
   ]
  },
  {
   "cell_type": "code",
   "execution_count": 4,
   "metadata": {},
   "outputs": [],
   "source": [
    "df.to_excel('환율-날짜지정.xlsx')  # 엑셀로 저장"
   ]
  },
  {
   "cell_type": "code",
   "execution_count": null,
   "metadata": {},
   "outputs": [],
   "source": []
  }
 ],
 "metadata": {
  "kernelspec": {
   "display_name": "Python 3",
   "language": "python",
   "name": "python3"
  },
  "language_info": {
   "codemirror_mode": {
    "name": "ipython",
    "version": 3
   },
   "file_extension": ".py",
   "mimetype": "text/x-python",
   "name": "python",
   "nbconvert_exporter": "python",
   "pygments_lexer": "ipython3",
   "version": "3.6.6"
  }
 },
 "nbformat": 4,
 "nbformat_minor": 2
}
